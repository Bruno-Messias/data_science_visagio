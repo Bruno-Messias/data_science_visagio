{
  "nbformat": 4,
  "nbformat_minor": 0,
  "metadata": {
    "kernelspec": {
      "display_name": "Python 3",
      "language": "python",
      "name": "python3"
    },
    "language_info": {
      "codemirror_mode": {
        "name": "ipython",
        "version": 3
      },
      "file_extension": ".py",
      "mimetype": "text/x-python",
      "name": "python",
      "nbconvert_exporter": "python",
      "pygments_lexer": "ipython3",
      "version": "3.7.3-final"
    },
    "toc": {
      "base_numbering": 1,
      "nav_menu": {},
      "number_sections": true,
      "sideBar": true,
      "skip_h1_title": true,
      "title_cell": "Table of Contents",
      "title_sidebar": "Contents",
      "toc_cell": false,
      "toc_position": {
        "height": "calc(100% - 180px)",
        "left": "10px",
        "top": "150px",
        "width": "207px"
      },
      "toc_section_display": true,
      "toc_window_display": true
    },
    "varInspector": {
      "cols": {
        "lenName": 16,
        "lenType": 16,
        "lenVar": 40
      },
      "kernels_config": {
        "python": {
          "delete_cmd_postfix": "",
          "delete_cmd_prefix": "del ",
          "library": "var_list.py",
          "varRefreshCmd": "print(var_dic_list())"
        },
        "r": {
          "delete_cmd_postfix": ") ",
          "delete_cmd_prefix": "rm(",
          "library": "var_list.r",
          "varRefreshCmd": "cat(var_dic_list()) "
        }
      },
      "types_to_exclude": [
        "module",
        "function",
        "builtin_function_or_method",
        "instance",
        "_Feature"
      ],
      "window_display": false
    },
    "colab": {
      "name": "Series_Temporais_Teoria.ipynb",
      "provenance": [],
      "collapsed_sections": [],
      "include_colab_link": true
    },
    "accelerator": "GPU"
  },
  "cells": [
    {
      "cell_type": "markdown",
      "metadata": {
        "id": "view-in-github",
        "colab_type": "text"
      },
      "source": [
        "<a href=\"https://colab.research.google.com/github/Bruno-Messias/data_science_visagio/blob/main/Series_Temporais_Teoria.ipynb\" target=\"_parent\"><img src=\"https://colab.research.google.com/assets/colab-badge.svg\" alt=\"Open In Colab\"/></a>"
      ]
    },
    {
      "cell_type": "markdown",
      "metadata": {
        "id": "yU3OiZ77lIqq"
      },
      "source": [
        "# <center>Modelos de séries temporais - Teoria</center>\n",
        "___"
      ]
    },
    {
      "cell_type": "markdown",
      "metadata": {
        "id": "KF-wok70JBf0"
      },
      "source": [
        "## Conteúdo\n",
        "1. [Definição do problema](#intro) <br>\n",
        "2. [Séries temporais e Pandas](#ts_pandas) <br>\n",
        "3. [Divisão de treino/validação/teste](#data_split) <br>\n",
        "4. [Relembrando: métricas de avaliação do modelo](#metrics)\n",
        "5. [Modelagem](#models) <br>\n",
        "[Saiba Mais](#digdeeper)\n",
        "\n",
        "<a id=\"dsprecap\"></a>\n",
        "## Data Science Pipeline (DSP) recap\n",
        "1. Definição do Problema / Definição do Escopo\n",
        "2. Definição das Métricas de Sucesso\n",
        "3. Definição dos Dados Necessários\n",
        "4. Aquisição de Dados\n",
        "5. Pré-processamento de Dados\n",
        "6. Análise Exploratória de Dados (E.D.A.)\n",
        "7. <i>Feature Engineering</i>\n",
        "8. Construção e Avaliação do Modelo\n",
        "9. Comunicação dos Resultados\n",
        "10. Implantação\n",
        "11. Monitoramento e Manutenção\n",
        "\n",
        "**Essa aula tratará principalmente do passo 8, para os casos de modelos de séries temporais.**"
      ]
    },
    {
      "cell_type": "markdown",
      "metadata": {
        "id": "SKIz9cN-lIqt"
      },
      "source": [
        "<a id=\"intro\"></a>\n",
        "## 1. Definição do problema"
      ]
    },
    {
      "cell_type": "markdown",
      "metadata": {
        "id": "mPiNLq8elIqx"
      },
      "source": [
        "Na aula passada, estudamos como usar inteligência artificial para resolver problemas de regressão, prevendo variáveis de valor contínuo. \n",
        "\n",
        "Agora imagine uma situação hipotética em que você é um jovem cientista de dados e que seu sonho é comprar uma bela casa em Boston. Você já aprendeu como prever os preços desses bens, mas você ainda não possui todo o dinheiro necessário para comprá-los. Então nada de casa ou carro por enquanto!\n",
        "\n",
        "Mesmo assim, você está ansioso para realizar seu sonho no futuro e você se lembra que existe uma coisa chamada **tempo**, que nem os físicos conseguem descrever com precisão sua causa, mas que tem influência em tudo. Nada resiste ao tempo, não é?\n",
        "\n",
        "Então, como você pode usar o tempo a seu favor nesse caso? Você pode esperar até que o preço da sua casa dos sonhos de Boston caia e você tenha dinheiro pra comprar! Mas pensando bem, talvez não seja a melhor ideia.\n",
        "\n",
        "E que tal se você construir um modelo de machine learning para prever quando e se o preço dos imóveis vai cair até você ter o dinheiro pra comprar? É melhor, mas existe uma coisa chamada inflação que pode te deixar frustrado.\n",
        "\n",
        "Finalmente, você tem uma revelação: \"é, talvez seja melhor se eu ficar rico primeiro\". Essa é uma excelente ideia! Você pode até estar se perguntando como? ~Bom, se descobrir, me avisa~ Pff, essa é fácil! É só aplicar todo seu conhecimento recentemente adquirido para participar de um concurso de ciência de dados e conseguir esse dinheiro!\n",
        "\n",
        "<img src=\"https://media.giphy.com/media/lptjRBxFKCJmFoibP3/giphy.gif\" alt=\"drawing\" width=\"300\"/>"
      ]
    },
    {
      "cell_type": "markdown",
      "metadata": {
        "id": "RR7KfoaKJ0-R"
      },
      "source": [
        "### 1.1 Séries temporais x outros modelos"
      ]
    },
    {
      "cell_type": "markdown",
      "metadata": {
        "id": "JrK386TbJze0"
      },
      "source": [
        "Diferentemente dos modelos de classificação e regressão que vimos anteriormente, em um problema de série temporal, as nossas variáveis agora também variam ao longo do tempo e nosso objetivo em geral é prever resultados ao longo do tempo. Portanto, há diferenças na maneira como treinamos nosso modelo, pois o próprio tempo pode explicar parcialmente o comportamento da variável objetivo.\n",
        "\n",
        "Existem algumas maneiras pelas quais as variáveis ​​podem exibir padrões ao longo do tempo:\n",
        "\n",
        "**Autocorrelação:** pode ser vista como a semelhança entre as observações do conjunto de dados com relação a intervalos de tempo anteriores. Basicamente, ela é a correlação entre observações da mesma variável sobrepostas em diferentes valores de tempo.\n",
        "\n",
        "**Sazonalidade:** refere-se a flutuações periódicas. Essa característica pode ser identificado por meio de coeficientes de autocorrelação. Por exemplo, o consumo de eletricidade é alto durante o dia e baixo durante a noite, ou as vendas online aumentam durante o Natal antes de desacelerar novamente, ou a temperatura atmosférica, que é maior no verão do que no inverno.\n",
        "\n",
        "<img src=\"https://i.imgur.com/RZmaNlb.png\" alt=\"drawing\" height=\"400\"/>\n",
        "\n",
        "(OBS: iremos aprender mais para frente na aula como fazer a plotagem desse tipo de gráfico)\n",
        "\n",
        "**Estacionariedade:** é uma característica importante de algumas séries temporais, que são chamadas estacionárias quando suas propriedades estatísticas são estáveis. Isso significa que sua média e variância são constantes e sua covariância é independente do tempo. Idealmente desejamos que os dados que trabalhamos sejam estacionários para o desenvolvimento de modelos, porém isso nem sempre ocorre, como por exemplo, para variáveis ​​que mudam tendências globais. Tomemos, por exemplo, o preço dos alimentos: na medida em que a inflação incorpora a depreciação da moeda, o preço dos produtos tende a subir em média.\n",
        "\n",
        "Ainda assim, podemos aplicar algumas transformações para tornar as nossas séries estacionárias."
      ]
    },
    {
      "cell_type": "markdown",
      "metadata": {
        "id": "MNZph7BllIqy"
      },
      "source": [
        "<a id=\"ts_pandas\"></a>\n",
        "## 2. Séries Temporais e Pandas"
      ]
    },
    {
      "cell_type": "markdown",
      "metadata": {
        "id": "agDuv2C6lIqz"
      },
      "source": [
        "Nesse capítulo, vamos fazer algumas análises e manipulações de séries temporais. Ao longo do curso, já usamos muito a biblioteca Pandas, mas nessa aula veremos que o Pandas é também uma ótima ferramenta para lidar com séries temporais, porque tem diversas funções e métodos construídos para facilitar algumas operações comuns utilizadas."
      ]
    },
    {
      "cell_type": "markdown",
      "metadata": {
        "id": "vCSErXcGj44D"
      },
      "source": [
        "### 2.1. Leitura e visualização inicial\n",
        "\n",
        "Primeiro, temos que dizer ao Pandas que estamos de fato trabalhando com séries temporais. Para fazer isso, precisamos referenciar o índice do DataFrame para uma coluna de data. Abaixo, temos duas maneiras diferentes de fazer isso lendo os dados de uma série temporal de um csv.\n",
        "\n",
        "Para esta primeira parte da aula, vamos usar a série histórica do preço de fechamento das ações do Google, que foi disponibilizado nos dados para o exercício.\n",
        "\n",
        "Você também pode encontrar os dados históricos financeiros de outras empresas no site [Yahoo! Finance](https://finance.yahoo.com/quote/GOOG/history?period1=1468119600&period2=1562727600&interval=1d&filter=history&frequency=1d)."
      ]
    },
    {
      "cell_type": "code",
      "metadata": {
        "id": "tFs1NtlslIq0"
      },
      "source": [
        "# importando bibliotecas utilizadas\n",
        "import pandas as pd\n",
        "import numpy as np\n",
        "from datetime import datetime\n",
        "import matplotlib.pyplot as plt"
      ],
      "execution_count": null,
      "outputs": []
    },
    {
      "cell_type": "code",
      "metadata": {
        "colab": {
          "base_uri": "https://localhost:8080/"
        },
        "id": "V1gBKR9SG_qW",
        "outputId": "2e4af88f-0919-409e-d550-35ef0971297a"
      },
      "source": [
        "# Usando outro caminho para obter os csv do google drive\n",
        "from google.colab import drive\n",
        "drive.mount('/content/drive')"
      ],
      "execution_count": null,
      "outputs": [
        {
          "output_type": "stream",
          "text": [
            "Mounted at /content/drive\n"
          ],
          "name": "stdout"
        }
      ]
    },
    {
      "cell_type": "code",
      "metadata": {
        "colab": {
          "base_uri": "https://localhost:8080/"
        },
        "id": "cUsT9Xf6HKIe",
        "outputId": "581b7591-4a84-498d-dcca-4456f66aca7f"
      },
      "source": [
        "!ln -s /content/drive/MyDrive/Data\\ Science/Entrega6 /mydrive\n",
        "!ls /mydrive"
      ],
      "execution_count": null,
      "outputs": [
        {
          "output_type": "stream",
          "text": [
            "dados  Series_Temporais_Exercicio.ipynb\n"
          ],
          "name": "stdout"
        }
      ]
    },
    {
      "cell_type": "code",
      "metadata": {
        "id": "jNJ-eDatlIq6",
        "colab": {
          "base_uri": "https://localhost:8080/",
          "height": 453
        },
        "outputId": "5b842d56-b22a-4f4d-85a9-c8fe1f613bda"
      },
      "source": [
        "# carrega dados da série histórica do csv\n",
        "google = pd.read_csv('/mydrive/dados/GOOG.csv')\n",
        "\n",
        "# transforma coluna 'Date' para datetime, de modo que o Pandas possa reconhecê-la\n",
        "google.Date = pd.to_datetime(google.Date)\n",
        "\n",
        "# define coluna Date como indice\n",
        "google.set_index('Date', inplace=True)\n",
        "google.info()\n",
        "google.head()"
      ],
      "execution_count": null,
      "outputs": [
        {
          "output_type": "stream",
          "text": [
            "<class 'pandas.core.frame.DataFrame'>\n",
            "DatetimeIndex: 1258 entries, 2014-07-10 to 2019-07-09\n",
            "Data columns (total 6 columns):\n",
            " #   Column     Non-Null Count  Dtype  \n",
            "---  ------     --------------  -----  \n",
            " 0   Open       1258 non-null   float64\n",
            " 1   High       1258 non-null   float64\n",
            " 2   Low        1258 non-null   float64\n",
            " 3   Close      1258 non-null   float64\n",
            " 4   Adj Close  1258 non-null   float64\n",
            " 5   Volume     1258 non-null   int64  \n",
            "dtypes: float64(5), int64(1)\n",
            "memory usage: 68.8 KB\n"
          ],
          "name": "stdout"
        },
        {
          "output_type": "execute_result",
          "data": {
            "text/html": [
              "<div>\n",
              "<style scoped>\n",
              "    .dataframe tbody tr th:only-of-type {\n",
              "        vertical-align: middle;\n",
              "    }\n",
              "\n",
              "    .dataframe tbody tr th {\n",
              "        vertical-align: top;\n",
              "    }\n",
              "\n",
              "    .dataframe thead th {\n",
              "        text-align: right;\n",
              "    }\n",
              "</style>\n",
              "<table border=\"1\" class=\"dataframe\">\n",
              "  <thead>\n",
              "    <tr style=\"text-align: right;\">\n",
              "      <th></th>\n",
              "      <th>Open</th>\n",
              "      <th>High</th>\n",
              "      <th>Low</th>\n",
              "      <th>Close</th>\n",
              "      <th>Adj Close</th>\n",
              "      <th>Volume</th>\n",
              "    </tr>\n",
              "    <tr>\n",
              "      <th>Date</th>\n",
              "      <th></th>\n",
              "      <th></th>\n",
              "      <th></th>\n",
              "      <th></th>\n",
              "      <th></th>\n",
              "      <th></th>\n",
              "    </tr>\n",
              "  </thead>\n",
              "  <tbody>\n",
              "    <tr>\n",
              "      <th>2014-07-10</th>\n",
              "      <td>564.360535</td>\n",
              "      <td>575.011292</td>\n",
              "      <td>563.463013</td>\n",
              "      <td>569.536316</td>\n",
              "      <td>569.536316</td>\n",
              "      <td>1356700</td>\n",
              "    </tr>\n",
              "    <tr>\n",
              "      <th>2014-07-11</th>\n",
              "      <td>570.344116</td>\n",
              "      <td>579.259644</td>\n",
              "      <td>569.855469</td>\n",
              "      <td>577.594238</td>\n",
              "      <td>577.594238</td>\n",
              "      <td>1621700</td>\n",
              "    </tr>\n",
              "    <tr>\n",
              "      <th>2014-07-14</th>\n",
              "      <td>581.004822</td>\n",
              "      <td>583.607727</td>\n",
              "      <td>576.447388</td>\n",
              "      <td>583.268616</td>\n",
              "      <td>583.268616</td>\n",
              "      <td>1854000</td>\n",
              "    </tr>\n",
              "    <tr>\n",
              "      <th>2014-07-15</th>\n",
              "      <td>584.136230</td>\n",
              "      <td>584.201050</td>\n",
              "      <td>574.981384</td>\n",
              "      <td>583.178894</td>\n",
              "      <td>583.178894</td>\n",
              "      <td>1623000</td>\n",
              "    </tr>\n",
              "    <tr>\n",
              "      <th>2014-07-16</th>\n",
              "      <td>586.390076</td>\n",
              "      <td>586.788940</td>\n",
              "      <td>580.605957</td>\n",
              "      <td>581.064697</td>\n",
              "      <td>581.064697</td>\n",
              "      <td>1397100</td>\n",
              "    </tr>\n",
              "  </tbody>\n",
              "</table>\n",
              "</div>"
            ],
            "text/plain": [
              "                  Open        High         Low       Close   Adj Close   Volume\n",
              "Date                                                                           \n",
              "2014-07-10  564.360535  575.011292  563.463013  569.536316  569.536316  1356700\n",
              "2014-07-11  570.344116  579.259644  569.855469  577.594238  577.594238  1621700\n",
              "2014-07-14  581.004822  583.607727  576.447388  583.268616  583.268616  1854000\n",
              "2014-07-15  584.136230  584.201050  574.981384  583.178894  583.178894  1623000\n",
              "2014-07-16  586.390076  586.788940  580.605957  581.064697  581.064697  1397100"
            ]
          },
          "metadata": {
            "tags": []
          },
          "execution_count": 9
        }
      ]
    },
    {
      "cell_type": "markdown",
      "metadata": {
        "id": "voLUYDnVlIq_"
      },
      "source": [
        "Como você pode ver, o DataFrame tem um índice de tipo `DatetimeIndex`, com dados de 10/07/2014 a 09/07/2019. E voilá! Isso é o suficiente para o Pandas entender que estamos lidando com séries temporais. Na verdade, cada coluna pode ser considerada uma série temporal; elas apenas estão no mesmo DataFrame com um índice comum.\n",
        "\n",
        "A segunda forma de ler os dados de uma série temporal é diretamente pelo método `pd.read_csv ()`, como consta abaixo:"
      ]
    },
    {
      "cell_type": "code",
      "metadata": {
        "id": "asLHwuEdlIrA",
        "colab": {
          "base_uri": "https://localhost:8080/",
          "height": 453
        },
        "outputId": "f8744d75-d020-414a-f8f3-e43fc0153985"
      },
      "source": [
        "# lê o csv indicando que a coluna Date deve ser carregada com tipo data e usada como índice\n",
        "google = pd.read_csv('/mydrive/dados/GOOG.csv', parse_dates=['Date'], index_col='Date')\n",
        "google.info()\n",
        "google.head()"
      ],
      "execution_count": null,
      "outputs": [
        {
          "output_type": "stream",
          "text": [
            "<class 'pandas.core.frame.DataFrame'>\n",
            "DatetimeIndex: 1258 entries, 2014-07-10 to 2019-07-09\n",
            "Data columns (total 6 columns):\n",
            " #   Column     Non-Null Count  Dtype  \n",
            "---  ------     --------------  -----  \n",
            " 0   Open       1258 non-null   float64\n",
            " 1   High       1258 non-null   float64\n",
            " 2   Low        1258 non-null   float64\n",
            " 3   Close      1258 non-null   float64\n",
            " 4   Adj Close  1258 non-null   float64\n",
            " 5   Volume     1258 non-null   int64  \n",
            "dtypes: float64(5), int64(1)\n",
            "memory usage: 68.8 KB\n"
          ],
          "name": "stdout"
        },
        {
          "output_type": "execute_result",
          "data": {
            "text/html": [
              "<div>\n",
              "<style scoped>\n",
              "    .dataframe tbody tr th:only-of-type {\n",
              "        vertical-align: middle;\n",
              "    }\n",
              "\n",
              "    .dataframe tbody tr th {\n",
              "        vertical-align: top;\n",
              "    }\n",
              "\n",
              "    .dataframe thead th {\n",
              "        text-align: right;\n",
              "    }\n",
              "</style>\n",
              "<table border=\"1\" class=\"dataframe\">\n",
              "  <thead>\n",
              "    <tr style=\"text-align: right;\">\n",
              "      <th></th>\n",
              "      <th>Open</th>\n",
              "      <th>High</th>\n",
              "      <th>Low</th>\n",
              "      <th>Close</th>\n",
              "      <th>Adj Close</th>\n",
              "      <th>Volume</th>\n",
              "    </tr>\n",
              "    <tr>\n",
              "      <th>Date</th>\n",
              "      <th></th>\n",
              "      <th></th>\n",
              "      <th></th>\n",
              "      <th></th>\n",
              "      <th></th>\n",
              "      <th></th>\n",
              "    </tr>\n",
              "  </thead>\n",
              "  <tbody>\n",
              "    <tr>\n",
              "      <th>2014-07-10</th>\n",
              "      <td>564.360535</td>\n",
              "      <td>575.011292</td>\n",
              "      <td>563.463013</td>\n",
              "      <td>569.536316</td>\n",
              "      <td>569.536316</td>\n",
              "      <td>1356700</td>\n",
              "    </tr>\n",
              "    <tr>\n",
              "      <th>2014-07-11</th>\n",
              "      <td>570.344116</td>\n",
              "      <td>579.259644</td>\n",
              "      <td>569.855469</td>\n",
              "      <td>577.594238</td>\n",
              "      <td>577.594238</td>\n",
              "      <td>1621700</td>\n",
              "    </tr>\n",
              "    <tr>\n",
              "      <th>2014-07-14</th>\n",
              "      <td>581.004822</td>\n",
              "      <td>583.607727</td>\n",
              "      <td>576.447388</td>\n",
              "      <td>583.268616</td>\n",
              "      <td>583.268616</td>\n",
              "      <td>1854000</td>\n",
              "    </tr>\n",
              "    <tr>\n",
              "      <th>2014-07-15</th>\n",
              "      <td>584.136230</td>\n",
              "      <td>584.201050</td>\n",
              "      <td>574.981384</td>\n",
              "      <td>583.178894</td>\n",
              "      <td>583.178894</td>\n",
              "      <td>1623000</td>\n",
              "    </tr>\n",
              "    <tr>\n",
              "      <th>2014-07-16</th>\n",
              "      <td>586.390076</td>\n",
              "      <td>586.788940</td>\n",
              "      <td>580.605957</td>\n",
              "      <td>581.064697</td>\n",
              "      <td>581.064697</td>\n",
              "      <td>1397100</td>\n",
              "    </tr>\n",
              "  </tbody>\n",
              "</table>\n",
              "</div>"
            ],
            "text/plain": [
              "                  Open        High         Low       Close   Adj Close   Volume\n",
              "Date                                                                           \n",
              "2014-07-10  564.360535  575.011292  563.463013  569.536316  569.536316  1356700\n",
              "2014-07-11  570.344116  579.259644  569.855469  577.594238  577.594238  1621700\n",
              "2014-07-14  581.004822  583.607727  576.447388  583.268616  583.268616  1854000\n",
              "2014-07-15  584.136230  584.201050  574.981384  583.178894  583.178894  1623000\n",
              "2014-07-16  586.390076  586.788940  580.605957  581.064697  581.064697  1397100"
            ]
          },
          "metadata": {
            "tags": []
          },
          "execution_count": 14
        }
      ]
    },
    {
      "cell_type": "markdown",
      "metadata": {
        "id": "pMjC3JMblIrE"
      },
      "source": [
        "Como você pode ver, obtivemos os mesmos resultados fazendo isso em apenas uma linha de código.\n",
        "\n",
        "Agora vamos tentar visualizar nossos dados. É muito simples fazer isso agora, basta chamar o método `.plot` diretamente do DataFrame."
      ]
    },
    {
      "cell_type": "code",
      "metadata": {
        "scrolled": false,
        "id": "6bLuwBBblIrF",
        "colab": {
          "base_uri": "https://localhost:8080/",
          "height": 566
        },
        "outputId": "1739166c-4c1f-4645-92b6-8af5da6f81d1"
      },
      "source": [
        "# plota duas séries temporias em mesmo plot\n",
        "google[['Close', 'Volume']].plot(title='Google Open/Close Stock Price')\n",
        "\n",
        "# plota duas séries temporais em plots distintos\n",
        "google[['Close', 'Volume']].plot(title='Google Open/Close Stock Price', subplots=True)\n",
        "\n",
        "# imprime plots\n",
        "plt.show()"
      ],
      "execution_count": null,
      "outputs": [
        {
          "output_type": "display_data",
          "data": {
            "image/png": "[encoded data removed]",
            "text/plain": [
              "<Figure size 432x288 with 1 Axes>"
            ]
          },
          "metadata": {
            "tags": [],
            "needs_background": "light"
          }
        },
        {
          "output_type": "display_data",
          "data": {
            "image/png": "[encoded data removed]",
            "text/plain": [
              "<Figure size 432x288 with 2 Axes>"
            ]
          },
          "metadata": {
            "tags": [],
            "needs_background": "light"
          }
        }
      ]
    },
    {
      "cell_type": "markdown",
      "metadata": {
        "id": "Ner3if7vlIrK"
      },
      "source": [
        "Traçar duas séries no mesmo gráfico pode ser ruim se as duas séries têm magnitude diferente, como aconteceu no primeiro caso. A coluna Close acaba sendo uma linha reta já que o Volume é muito maior. Por causa disso, podemos separar os dois apenas adicionando o parâmetro ```subplots = True``` à instrução plot."
      ]
    },
    {
      "cell_type": "markdown",
      "metadata": {
        "id": "yK6HMj0YlIrL"
      },
      "source": [
        "### 2.2. Frequências\n",
        "\n",
        "Uma propriedade importante de séries temporais é a sua frequência. A frequência é o que define o intervalo de tempo entre dois registros consecutivos de uma série temporal, definindo o nível de refinamento da série temporal.\n",
        "\n",
        "Ao definir uma frequência para a série temporal, o pandas cria automáticamente todas as datas que correspondem a essa frequência no intervalo de seus dados. As frequências podem ser:\n",
        "- H para Horário\n",
        "- D para Diário\n",
        "- B para Dias Úteis\n",
        "- W para Semanal\n",
        "- M para Mensal\n",
        "- Q para Trimestral\n",
        "- A para Anual\n",
        "\n",
        "Vamos ver como isso funciona."
      ]
    },
    {
      "cell_type": "code",
      "metadata": {
        "id": "8icRIP7RlIrM",
        "colab": {
          "base_uri": "https://localhost:8080/",
          "height": 384
        },
        "outputId": "da9b1a37-ec80-4598-9907-aa972f03aa5e"
      },
      "source": [
        "# define frequência diária\n",
        "google_daily = google[['Close']].asfreq('D')\n",
        "google_daily.info()\n",
        "google_daily.head()"
      ],
      "execution_count": null,
      "outputs": [
        {
          "output_type": "stream",
          "text": [
            "<class 'pandas.core.frame.DataFrame'>\n",
            "DatetimeIndex: 1826 entries, 2014-07-10 to 2019-07-09\n",
            "Freq: D\n",
            "Data columns (total 1 columns):\n",
            " #   Column  Non-Null Count  Dtype  \n",
            "---  ------  --------------  -----  \n",
            " 0   Close   1258 non-null   float64\n",
            "dtypes: float64(1)\n",
            "memory usage: 28.5 KB\n"
          ],
          "name": "stdout"
        },
        {
          "output_type": "execute_result",
          "data": {
            "text/html": [
              "<div>\n",
              "<style scoped>\n",
              "    .dataframe tbody tr th:only-of-type {\n",
              "        vertical-align: middle;\n",
              "    }\n",
              "\n",
              "    .dataframe tbody tr th {\n",
              "        vertical-align: top;\n",
              "    }\n",
              "\n",
              "    .dataframe thead th {\n",
              "        text-align: right;\n",
              "    }\n",
              "</style>\n",
              "<table border=\"1\" class=\"dataframe\">\n",
              "  <thead>\n",
              "    <tr style=\"text-align: right;\">\n",
              "      <th></th>\n",
              "      <th>Close</th>\n",
              "    </tr>\n",
              "    <tr>\n",
              "      <th>Date</th>\n",
              "      <th></th>\n",
              "    </tr>\n",
              "  </thead>\n",
              "  <tbody>\n",
              "    <tr>\n",
              "      <th>2014-07-10</th>\n",
              "      <td>569.536316</td>\n",
              "    </tr>\n",
              "    <tr>\n",
              "      <th>2014-07-11</th>\n",
              "      <td>577.594238</td>\n",
              "    </tr>\n",
              "    <tr>\n",
              "      <th>2014-07-12</th>\n",
              "      <td>NaN</td>\n",
              "    </tr>\n",
              "    <tr>\n",
              "      <th>2014-07-13</th>\n",
              "      <td>NaN</td>\n",
              "    </tr>\n",
              "    <tr>\n",
              "      <th>2014-07-14</th>\n",
              "      <td>583.268616</td>\n",
              "    </tr>\n",
              "  </tbody>\n",
              "</table>\n",
              "</div>"
            ],
            "text/plain": [
              "                 Close\n",
              "Date                  \n",
              "2014-07-10  569.536316\n",
              "2014-07-11  577.594238\n",
              "2014-07-12         NaN\n",
              "2014-07-13         NaN\n",
              "2014-07-14  583.268616"
            ]
          },
          "metadata": {
            "tags": []
          },
          "execution_count": 16
        }
      ]
    },
    {
      "cell_type": "markdown",
      "metadata": {
        "id": "dp31LtcAlIrR"
      },
      "source": [
        "Como você pode ver, as linhas das datas de `2014-07-12` e `2014-07-12` foram inseridos pelo Pandas para termos os dados de todos os dias, já que definimos a frequência para diária. Mas pesquisando quais dias da semana foram esses, descobre-se que eles são sábado e domingo, o que era de se esperar, pois não há informações da bolsa para esses dias! Na verdade, existem quase 600 observações nulas por causa disso. Sabendo disso, é melhor usarmos a frequência dos dias úteis.\n",
        "\n",
        "Apenas por curiosidade, vamos ver como é a frequência anual."
      ]
    },
    {
      "cell_type": "code",
      "metadata": {
        "id": "v-rfr8DRlIrS",
        "colab": {
          "base_uri": "https://localhost:8080/"
        },
        "outputId": "5a4536c9-54df-4380-d503-e5bf32fc2f69"
      },
      "source": [
        "# define frequência de dias uteis\n",
        "google_bdaily = google[['Close']].asfreq('B')\n",
        "google_bdaily.info()\n",
        "\n",
        "# define frequencia anual\n",
        "google_annually = google[['Close']].asfreq('A')\n",
        "print(google_annually.head())\n",
        "\n",
        "# define frequencia anual com preenchimento com ultimo valor nulo\n",
        "google_annually_ffill = google[['Close']].asfreq('A', method='ffill')\n",
        "print(google_annually_ffill.head())\n",
        "\n",
        "# define frequencia anual com preenchimento com zeros\n",
        "google_annually_fvalue = google[['Close']].asfreq('A', fill_value=0)\n",
        "print(google_annually_fvalue.head())"
      ],
      "execution_count": null,
      "outputs": [
        {
          "output_type": "stream",
          "text": [
            "<class 'pandas.core.frame.DataFrame'>\n",
            "DatetimeIndex: 1304 entries, 2014-07-10 to 2019-07-09\n",
            "Freq: B\n",
            "Data columns (total 1 columns):\n",
            " #   Column  Non-Null Count  Dtype  \n",
            "---  ------  --------------  -----  \n",
            " 0   Close   1258 non-null   float64\n",
            "dtypes: float64(1)\n",
            "memory usage: 20.4 KB\n",
            "                  Close\n",
            "Date                   \n",
            "2014-12-31   524.958740\n",
            "2015-12-31   758.880005\n",
            "2016-12-31          NaN\n",
            "2017-12-31          NaN\n",
            "2018-12-31  1035.609985\n",
            "                  Close\n",
            "Date                   \n",
            "2014-12-31   524.958740\n",
            "2015-12-31   758.880005\n",
            "2016-12-31   771.820007\n",
            "2017-12-31  1046.400024\n",
            "2018-12-31  1035.609985\n",
            "                  Close\n",
            "Date                   \n",
            "2014-12-31   524.958740\n",
            "2015-12-31   758.880005\n",
            "2016-12-31     0.000000\n",
            "2017-12-31     0.000000\n",
            "2018-12-31  1035.609985\n"
          ],
          "name": "stdout"
        }
      ]
    },
    {
      "cell_type": "markdown",
      "metadata": {
        "id": "r0PUhDsTlIrW"
      },
      "source": [
        "Bem melhor, agora, como podemos ver, a frequência de dias úteis deixou apenas cerca de 50 valores nulos que devem estar relacionados a feriados.\n",
        "\n",
        "No caso de frequência anual, podemos ver que por padrão obtém o último dia de cada, gerando também alguns valores nulos. Mas podemos definir o atributo `method` para preencher os valores nulos com o último valor não nulo com `'ffill'` ou com o próximo valor não nulo com `'bfill'`. Se você quiser preencher com um valor, passe-o com o `'fill_value'` como fizemos."
      ]
    },
    {
      "cell_type": "markdown",
      "metadata": {
        "id": "8PLLxdaPlIrX"
      },
      "source": [
        "### 2.3. Interpolação\n",
        "\n",
        "Como acabamos de ver, a mudança de frequências produz alguns valores nulos nos dados, uma vez que cria observações para alguns dias que não tinham valores anteriormente.\n",
        "\n",
        "Também aprendemos que podemos usar os parâmetros `'fill_value'` e `' method'` do método `DataFrame.asfreq ()` para imputar um valor fixo ou o último/próximo valor não nulo aos NAs, respectivamente.\n",
        "\n",
        "Outra operação que podemos fazer para lidar com os NAs é interpolar. Basicamente, o que a interpolação faz é fornecer valores para NAs seguindo uma determinada regra e usando os valores não nulos mais próximos antes e depois de NA.\n",
        "\n",
        "Por exemplo, digamos que temos esta lista com quatro valores: $[2, NaN, NaN, 8]$. Podemos substituir esses NAs por uma *interpolação linear*, ou seja, assumindo que todos os valores seguem uma linha de 2 a 8. Com isso, terminamos com a lista $[2, 4, 6, 8]$.\n",
        "\n",
        "Existem difersos tipos diferentes de interpolação, que podem usar mais ou menos valores anteriores para estimar o valor nulo, e utilizar diferentes funções. No Pandas, podemos especificar o tipo desejado com o parâmetro `method`, da função `DataFrame.interpolate()`, como usamos na célula abaixo. Você pode ver todos os métodos disponíveis na [documentação da função interpolate](https://pandas.pydata.org/pandas-docs/stable/reference/api/pandas.DataFrame.interpolate.html)."
      ]
    },
    {
      "cell_type": "code",
      "metadata": {
        "id": "3DRXsLIslIrY",
        "colab": {
          "base_uri": "https://localhost:8080/",
          "height": 368
        },
        "outputId": "f1520d63-1997-471c-ed96-e997bb07a330"
      },
      "source": [
        "# interpolação com método linear\n",
        "google_daily['interpolation_linear'] = google_daily.Close.interpolate(method='linear')\n",
        "\n",
        "# interpolação com método polinomial\n",
        "google_daily['interpolation_poly3'] = google_daily.Close.interpolate(method='polynomial', order=3)\n",
        "\n",
        "# imprime resultados\n",
        "google_daily[['Close','interpolation_linear','interpolation_poly3']].loc['2019-05'].plot(subplots=True)"
      ],
      "execution_count": null,
      "outputs": [
        {
          "output_type": "execute_result",
          "data": {
            "text/plain": [
              "array([<matplotlib.axes._subplots.AxesSubplot object at 0x7f5767a052d0>,\n",
              "       <matplotlib.axes._subplots.AxesSubplot object at 0x7f5764877e10>,\n",
              "       <matplotlib.axes._subplots.AxesSubplot object at 0x7f57668c4490>],\n",
              "      dtype=object)"
            ]
          },
          "metadata": {
            "tags": []
          },
          "execution_count": 18
        },
        {
          "output_type": "display_data",
          "data": {
            "image/png": "[encoded data removed]",
            "text/plain": [
              "<Figure size 432x288 with 3 Axes>"
            ]
          },
          "metadata": {
            "tags": [],
            "needs_background": "light"
          }
        }
      ]
    },
    {
      "cell_type": "markdown",
      "metadata": {
        "id": "grYwBhNglIrc"
      },
      "source": [
        "Como mostra o gráfico, na série temporal `google_daily` tínhamos alguns NAs. Em seguida, aplicamos uma interpolação com dois métodos diferentes, o que nos dá duas novas séries ligeiramente diferentes.\n",
        "\n",
        "Não existe uma regra de ouro para escolher o método ao aplicar a interpolação. É importante entender cada método e pensar qual ajustaria melhor seus dados e, acima de tudo, experimentar!"
      ]
    },
    {
      "cell_type": "markdown",
      "metadata": {
        "id": "KpFgMYr8lIrd"
      },
      "source": [
        "### 2.4. Slicing\n",
        "\n",
        "Uma prática muito frequente quando manipulamos dados de séries temporais é o corte do data frame, denominado 'slicing'. Com o Pandas, essa atividade é simplificada, de modo que pode-se simplesmente passar um ano, ano-mês ou intervalo entre colchetes para filtrar os dados. Você ainda pode usar ```.loc[]``` para selecionar uma data específica. Dê uma olhada abaixo.\n"
      ]
    },
    {
      "cell_type": "code",
      "metadata": {
        "id": "-J_yef_tlIre",
        "colab": {
          "base_uri": "https://localhost:8080/",
          "height": 555
        },
        "outputId": "0e2c2ae8-47d2-482c-b259-0657191ab9f8"
      },
      "source": [
        "# copia a série\n",
        "google_close = google[['Close']].copy()\n",
        "\n",
        "# seleciona apenas dados de 2015\n",
        "google_close['2015'].plot()\n",
        "\n",
        "# seleciona os de março/2016 a fevereiro/2017. Note que é um intervalo fechado (inclusivo nas pontas)\n",
        "google_close['2016-3': '2017-1'].plot()\n",
        "\n",
        "# seleciona dados de uma data específica\n",
        "print(google.loc['2016-6-1', 'Close'])\n",
        "\n",
        "plt.show()"
      ],
      "execution_count": null,
      "outputs": [
        {
          "output_type": "stream",
          "text": [
            "734.150024\n"
          ],
          "name": "stdout"
        },
        {
          "output_type": "display_data",
          "data": {
            "image/png": "[encoded data removed]",
            "text/plain": [
              "<Figure size 432x288 with 1 Axes>"
            ]
          },
          "metadata": {
            "tags": [],
            "needs_background": "light"
          }
        },
        {
          "output_type": "display_data",
          "data": {
            "image/png": "[encoded data removed]",
            "text/plain": [
              "<Figure size 432x288 with 1 Axes>"
            ]
          },
          "metadata": {
            "tags": [],
            "needs_background": "light"
          }
        }
      ]
    },
    {
      "cell_type": "markdown",
      "metadata": {
        "id": "HcQjxqqzlIrj"
      },
      "source": [
        "### 2.5. Deslocamento - _Shifting_\n",
        "\n",
        "Frequentemente, ao usar séries temporais, precisamos comparar um valor com relação a outro. Por exemplo: se eu quisesse saber quanto mudou o preço das ações de um dia para o outro? Aqui comumente deslocamos as séries temporais para facilitar a operação.\n",
        "\n",
        "Basicamente, o deslocamento (no Pandas com a função [`DataFrame.shift()`](https://pandas.pydata.org/pandas-docs/stable/reference/api/pandas.DataFrame.shift.html)) move todos os valores da série temporal em uma dada direção. Para nosso exemplo, poderíamos deslocar todos os valores em uma posição e, em seguida, usar operações para comparar esses valores. Abaixo, fazemos exatamente isso."
      ]
    },
    {
      "cell_type": "code",
      "metadata": {
        "id": "sKfeWov1lIrk",
        "colab": {
          "base_uri": "https://localhost:8080/",
          "height": 168
        },
        "outputId": "af6078b2-26c9-4de5-df99-ed1168788f53"
      },
      "source": [
        "# move valores um período pra frente\n",
        "google_close['shifted'] = google_close.Close.shift() # default: periods=1\n",
        "\n",
        "google_close.head(3)"
      ],
      "execution_count": null,
      "outputs": [
        {
          "output_type": "execute_result",
          "data": {
            "text/html": [
              "<div>\n",
              "<style scoped>\n",
              "    .dataframe tbody tr th:only-of-type {\n",
              "        vertical-align: middle;\n",
              "    }\n",
              "\n",
              "    .dataframe tbody tr th {\n",
              "        vertical-align: top;\n",
              "    }\n",
              "\n",
              "    .dataframe thead th {\n",
              "        text-align: right;\n",
              "    }\n",
              "</style>\n",
              "<table border=\"1\" class=\"dataframe\">\n",
              "  <thead>\n",
              "    <tr style=\"text-align: right;\">\n",
              "      <th></th>\n",
              "      <th>Close</th>\n",
              "      <th>shifted</th>\n",
              "    </tr>\n",
              "    <tr>\n",
              "      <th>Date</th>\n",
              "      <th></th>\n",
              "      <th></th>\n",
              "    </tr>\n",
              "  </thead>\n",
              "  <tbody>\n",
              "    <tr>\n",
              "      <th>2014-07-10</th>\n",
              "      <td>569.536316</td>\n",
              "      <td>NaN</td>\n",
              "    </tr>\n",
              "    <tr>\n",
              "      <th>2014-07-11</th>\n",
              "      <td>577.594238</td>\n",
              "      <td>569.536316</td>\n",
              "    </tr>\n",
              "    <tr>\n",
              "      <th>2014-07-14</th>\n",
              "      <td>583.268616</td>\n",
              "      <td>577.594238</td>\n",
              "    </tr>\n",
              "  </tbody>\n",
              "</table>\n",
              "</div>"
            ],
            "text/plain": [
              "                 Close     shifted\n",
              "Date                              \n",
              "2014-07-10  569.536316         NaN\n",
              "2014-07-11  577.594238  569.536316\n",
              "2014-07-14  583.268616  577.594238"
            ]
          },
          "metadata": {
            "tags": []
          },
          "execution_count": 20
        }
      ]
    },
    {
      "cell_type": "markdown",
      "metadata": {
        "id": "QW7rwBPdlIro"
      },
      "source": [
        "Como você pode ver, o primeiro valor dos dados deslocados é NaN, pois não havia nenhum registro anterior para ser colocado naquele local. E se quiséssemos deslocar para outra direção?"
      ]
    },
    {
      "cell_type": "code",
      "metadata": {
        "id": "JbJbNnmXlIrp",
        "colab": {
          "base_uri": "https://localhost:8080/",
          "height": 168
        },
        "outputId": "bd69186a-4eb8-4755-a37f-8838e69eb7c1"
      },
      "source": [
        "# move valores um período para trás \n",
        "google_close['lagged'] = google_close.Close.shift(periods=-1)\n",
        "\n",
        "google_close.tail(3)"
      ],
      "execution_count": null,
      "outputs": [
        {
          "output_type": "execute_result",
          "data": {
            "text/html": [
              "<div>\n",
              "<style scoped>\n",
              "    .dataframe tbody tr th:only-of-type {\n",
              "        vertical-align: middle;\n",
              "    }\n",
              "\n",
              "    .dataframe tbody tr th {\n",
              "        vertical-align: top;\n",
              "    }\n",
              "\n",
              "    .dataframe thead th {\n",
              "        text-align: right;\n",
              "    }\n",
              "</style>\n",
              "<table border=\"1\" class=\"dataframe\">\n",
              "  <thead>\n",
              "    <tr style=\"text-align: right;\">\n",
              "      <th></th>\n",
              "      <th>Close</th>\n",
              "      <th>shifted</th>\n",
              "      <th>lagged</th>\n",
              "    </tr>\n",
              "    <tr>\n",
              "      <th>Date</th>\n",
              "      <th></th>\n",
              "      <th></th>\n",
              "      <th></th>\n",
              "    </tr>\n",
              "  </thead>\n",
              "  <tbody>\n",
              "    <tr>\n",
              "      <th>2019-07-05</th>\n",
              "      <td>1131.589966</td>\n",
              "      <td>1121.579956</td>\n",
              "      <td>1116.349976</td>\n",
              "    </tr>\n",
              "    <tr>\n",
              "      <th>2019-07-08</th>\n",
              "      <td>1116.349976</td>\n",
              "      <td>1131.589966</td>\n",
              "      <td>1124.829956</td>\n",
              "    </tr>\n",
              "    <tr>\n",
              "      <th>2019-07-09</th>\n",
              "      <td>1124.829956</td>\n",
              "      <td>1116.349976</td>\n",
              "      <td>NaN</td>\n",
              "    </tr>\n",
              "  </tbody>\n",
              "</table>\n",
              "</div>"
            ],
            "text/plain": [
              "                  Close      shifted       lagged\n",
              "Date                                             \n",
              "2019-07-05  1131.589966  1121.579956  1116.349976\n",
              "2019-07-08  1116.349976  1131.589966  1124.829956\n",
              "2019-07-09  1124.829956  1116.349976          NaN"
            ]
          },
          "metadata": {
            "tags": []
          },
          "execution_count": 21
        }
      ]
    },
    {
      "cell_type": "markdown",
      "metadata": {
        "id": "en0Xv48llIrt"
      },
      "source": [
        "Mais uma vez, o último valor dos dados defasados é NaN porque não houve registros depois disso.\n",
        "\n",
        "Agora podemos calcular a mudança entre um dia e outro com os dados deslocados."
      ]
    },
    {
      "cell_type": "code",
      "metadata": {
        "id": "_aJo9OmHlIru",
        "colab": {
          "base_uri": "https://localhost:8080/",
          "height": 228
        },
        "outputId": "654b77d4-dbff-41ee-eb86-239d5f6c41d8"
      },
      "source": [
        "# divide preço de fechamento pela coluna deslocada para obter a variação\n",
        "google_close['change'] = google_close.Close.div(google_close.shifted)\n",
        "\n",
        "# subtrai 1 e multiplica por 100 para obter retorno percentual\n",
        "google_close['return_pct'] = google_close.change.sub(1).mul(100)\n",
        "\n",
        "google_close.head()"
      ],
      "execution_count": null,
      "outputs": [
        {
          "output_type": "execute_result",
          "data": {
            "text/html": [
              "<div>\n",
              "<style scoped>\n",
              "    .dataframe tbody tr th:only-of-type {\n",
              "        vertical-align: middle;\n",
              "    }\n",
              "\n",
              "    .dataframe tbody tr th {\n",
              "        vertical-align: top;\n",
              "    }\n",
              "\n",
              "    .dataframe thead th {\n",
              "        text-align: right;\n",
              "    }\n",
              "</style>\n",
              "<table border=\"1\" class=\"dataframe\">\n",
              "  <thead>\n",
              "    <tr style=\"text-align: right;\">\n",
              "      <th></th>\n",
              "      <th>Close</th>\n",
              "      <th>shifted</th>\n",
              "      <th>lagged</th>\n",
              "      <th>change</th>\n",
              "      <th>return_pct</th>\n",
              "    </tr>\n",
              "    <tr>\n",
              "      <th>Date</th>\n",
              "      <th></th>\n",
              "      <th></th>\n",
              "      <th></th>\n",
              "      <th></th>\n",
              "      <th></th>\n",
              "    </tr>\n",
              "  </thead>\n",
              "  <tbody>\n",
              "    <tr>\n",
              "      <th>2014-07-10</th>\n",
              "      <td>569.536316</td>\n",
              "      <td>NaN</td>\n",
              "      <td>577.594238</td>\n",
              "      <td>NaN</td>\n",
              "      <td>NaN</td>\n",
              "    </tr>\n",
              "    <tr>\n",
              "      <th>2014-07-11</th>\n",
              "      <td>577.594238</td>\n",
              "      <td>569.536316</td>\n",
              "      <td>583.268616</td>\n",
              "      <td>1.014148</td>\n",
              "      <td>1.414821</td>\n",
              "    </tr>\n",
              "    <tr>\n",
              "      <th>2014-07-14</th>\n",
              "      <td>583.268616</td>\n",
              "      <td>577.594238</td>\n",
              "      <td>583.178894</td>\n",
              "      <td>1.009824</td>\n",
              "      <td>0.982416</td>\n",
              "    </tr>\n",
              "    <tr>\n",
              "      <th>2014-07-15</th>\n",
              "      <td>583.178894</td>\n",
              "      <td>583.268616</td>\n",
              "      <td>581.064697</td>\n",
              "      <td>0.999846</td>\n",
              "      <td>-0.015383</td>\n",
              "    </tr>\n",
              "    <tr>\n",
              "      <th>2014-07-16</th>\n",
              "      <td>581.064697</td>\n",
              "      <td>583.178894</td>\n",
              "      <td>572.159119</td>\n",
              "      <td>0.996375</td>\n",
              "      <td>-0.362530</td>\n",
              "    </tr>\n",
              "  </tbody>\n",
              "</table>\n",
              "</div>"
            ],
            "text/plain": [
              "                 Close     shifted      lagged    change  return_pct\n",
              "Date                                                                \n",
              "2014-07-10  569.536316         NaN  577.594238       NaN         NaN\n",
              "2014-07-11  577.594238  569.536316  583.268616  1.014148    1.414821\n",
              "2014-07-14  583.268616  577.594238  583.178894  1.009824    0.982416\n",
              "2014-07-15  583.178894  583.268616  581.064697  0.999846   -0.015383\n",
              "2014-07-16  581.064697  583.178894  572.159119  0.996375   -0.362530"
            ]
          },
          "metadata": {
            "tags": []
          },
          "execution_count": 22
        }
      ]
    },
    {
      "cell_type": "markdown",
      "metadata": {
        "id": "yGHOnC3TlIrz"
      },
      "source": [
        "Fácil, não é? Na verdade, para diferença e mudança percentual, existem métodos predefinidos. Você só precisa passar por quantos períodos deseja que seus dados sejam deslocados. Dê uma olhada abaixo."
      ]
    },
    {
      "cell_type": "code",
      "metadata": {
        "id": "HlXBn0VTlIr0",
        "colab": {
          "base_uri": "https://localhost:8080/",
          "height": 228
        },
        "outputId": "f7657770-b9dc-44b8-9461-c6ca061f72fc"
      },
      "source": [
        "# diferença absoluta entre dois dias adjacentes\n",
        "google_close['diff'] = google_close.Close.diff()\n",
        "\n",
        "# diferença absoluta para dois dias com distancia de 3 dias entre si\n",
        "google_close['diff_3d'] = google_close.Close.diff(3)\n",
        "\n",
        "# variação percentual entre dois dias adjacentes\n",
        "google_close['pct_change'] = google_close.Close.pct_change().mul(100)\n",
        "\n",
        "# variação percentual para dois dias com distancia de 3 dias entre si\n",
        "google_close['return_3d'] = google_close.Close.pct_change(3).mul(100)\n",
        "\n",
        "google_close[['Close', 'diff', 'diff_3d', 'return_pct', 'pct_change', 'return_3d']].head()"
      ],
      "execution_count": null,
      "outputs": [
        {
          "output_type": "execute_result",
          "data": {
            "text/html": [
              "<div>\n",
              "<style scoped>\n",
              "    .dataframe tbody tr th:only-of-type {\n",
              "        vertical-align: middle;\n",
              "    }\n",
              "\n",
              "    .dataframe tbody tr th {\n",
              "        vertical-align: top;\n",
              "    }\n",
              "\n",
              "    .dataframe thead th {\n",
              "        text-align: right;\n",
              "    }\n",
              "</style>\n",
              "<table border=\"1\" class=\"dataframe\">\n",
              "  <thead>\n",
              "    <tr style=\"text-align: right;\">\n",
              "      <th></th>\n",
              "      <th>Close</th>\n",
              "      <th>diff</th>\n",
              "      <th>diff_3d</th>\n",
              "      <th>return_pct</th>\n",
              "      <th>pct_change</th>\n",
              "      <th>return_3d</th>\n",
              "    </tr>\n",
              "    <tr>\n",
              "      <th>Date</th>\n",
              "      <th></th>\n",
              "      <th></th>\n",
              "      <th></th>\n",
              "      <th></th>\n",
              "      <th></th>\n",
              "      <th></th>\n",
              "    </tr>\n",
              "  </thead>\n",
              "  <tbody>\n",
              "    <tr>\n",
              "      <th>2014-07-10</th>\n",
              "      <td>569.536316</td>\n",
              "      <td>NaN</td>\n",
              "      <td>NaN</td>\n",
              "      <td>NaN</td>\n",
              "      <td>NaN</td>\n",
              "      <td>NaN</td>\n",
              "    </tr>\n",
              "    <tr>\n",
              "      <th>2014-07-11</th>\n",
              "      <td>577.594238</td>\n",
              "      <td>8.057922</td>\n",
              "      <td>NaN</td>\n",
              "      <td>1.414821</td>\n",
              "      <td>1.414821</td>\n",
              "      <td>NaN</td>\n",
              "    </tr>\n",
              "    <tr>\n",
              "      <th>2014-07-14</th>\n",
              "      <td>583.268616</td>\n",
              "      <td>5.674378</td>\n",
              "      <td>NaN</td>\n",
              "      <td>0.982416</td>\n",
              "      <td>0.982416</td>\n",
              "      <td>NaN</td>\n",
              "    </tr>\n",
              "    <tr>\n",
              "      <th>2014-07-15</th>\n",
              "      <td>583.178894</td>\n",
              "      <td>-0.089722</td>\n",
              "      <td>13.642578</td>\n",
              "      <td>-0.015383</td>\n",
              "      <td>-0.015383</td>\n",
              "      <td>2.395383</td>\n",
              "    </tr>\n",
              "    <tr>\n",
              "      <th>2014-07-16</th>\n",
              "      <td>581.064697</td>\n",
              "      <td>-2.114197</td>\n",
              "      <td>3.470459</td>\n",
              "      <td>-0.362530</td>\n",
              "      <td>-0.362530</td>\n",
              "      <td>0.600847</td>\n",
              "    </tr>\n",
              "  </tbody>\n",
              "</table>\n",
              "</div>"
            ],
            "text/plain": [
              "                 Close      diff    diff_3d  return_pct  pct_change  return_3d\n",
              "Date                                                                          \n",
              "2014-07-10  569.536316       NaN        NaN         NaN         NaN        NaN\n",
              "2014-07-11  577.594238  8.057922        NaN    1.414821    1.414821        NaN\n",
              "2014-07-14  583.268616  5.674378        NaN    0.982416    0.982416        NaN\n",
              "2014-07-15  583.178894 -0.089722  13.642578   -0.015383   -0.015383   2.395383\n",
              "2014-07-16  581.064697 -2.114197   3.470459   -0.362530   -0.362530   0.600847"
            ]
          },
          "metadata": {
            "tags": []
          },
          "execution_count": 23
        }
      ]
    },
    {
      "cell_type": "markdown",
      "metadata": {
        "id": "xSfsxi3alIr4"
      },
      "source": [
        "### 2.6. Resample\n",
        "\n",
        "Resample é a operação de alterar a frequência de seus dados para uma frequência inferior (*downsampling*) ou superior (*upsampling*).\n",
        "\n",
        "Em geral, *upsampling* não é muito comum, e geralmente envolve interpolação ou outros métodos mais complexos de preenchimento, que envolvem um maior entendimento do problema.\n",
        "\n",
        "Nessa aula, vamos nos concentrar na redução da resolução que é comumente usada com alguma função de agregação, como uma forma de agrupamento para uma série temporal.\n",
        "\n",
        "O que acontece é que você passa uma frequência para o método [`.resample ()`](https://pandas.pydata.org/pandas-docs/stable/reference/api/pandas.DataFrame.resample.html) e ele agrupa todos os valores naquele novo período, então você pode aplicar uma função a ele, criando um único valor a partir deles. Isso geralmente é usado para fazer uma versão mais suave de sua série. Fora as frenquências que já vimos, algumas frequências que aceitam resampling são:\n",
        "- M por mês\n",
        "- MS para início do mês\n",
        "- BM para o mês comercial\n",
        "- BMS para início do mês comercial\n",
        "\n",
        "Em geral, as funções de agregação mais usadas são funções estatísticas (como valor máximo, mínimo, média ou mediana) que descrevem em apenas um valor o conjunto de dados que desejamos reduzir.\n",
        "\n",
        "Veja a seguir onde calculamos a mediana de um período da semana e a média de um período que começa no primeiro dia útil do mês."
      ]
    },
    {
      "cell_type": "code",
      "metadata": {
        "id": "xbXrj5bglIr4",
        "colab": {
          "base_uri": "https://localhost:8080/",
          "height": 277
        },
        "outputId": "3d62038b-a7eb-4566-b205-050641056a04"
      },
      "source": [
        "# apenas dados de 2018\n",
        "google_18 = google[['Close']]['2018']\n",
        "\n",
        "# aplica média e mediana\n",
        "monthly_median = google_18.resample('W').median().add_suffix('_weekly_median')\n",
        "monthly_mean = google_18.resample('BMS').mean().add_suffix('_monthly_mean')\n",
        "\n",
        "# plota no mesmo eixo\n",
        "axes = google_18.plot()\n",
        "monthly_median.plot(ax=axes)\n",
        "monthly_mean.plot(ax=axes)\n",
        "\n",
        "plt.show()"
      ],
      "execution_count": null,
      "outputs": [
        {
          "output_type": "display_data",
          "data": {
            "image/png": "[encoded data removed]",
            "text/plain": [
              "<Figure size 432x288 with 1 Axes>"
            ]
          },
          "metadata": {
            "tags": [],
            "needs_background": "light"
          }
        }
      ]
    },
    {
      "cell_type": "markdown",
      "metadata": {
        "id": "ftypy76wTNbh"
      },
      "source": [
        "Podemos notar que, quando fazemos o *downsampling* de uma série temporal, estamos diminuindo a \"resolução\" dos dados, que consequentemente apresenta menos detalhes do que os dados originais.\n",
        "\n",
        "Você pode estar se perguntando: \"mas, se um modelo de predição tem melhor desempenho com uma maior quantidade de dados, para que eu quero reduzir a resolução dos meus dados?\". Bom, na maioria das vezes, aplicamos o downsample na visualização da série temporal, para uma melhor visão geral do seu comportamento. Ainda assim, alguns modelos de séries temporais não performam tão bem quando os dados apresentam muito ruído, ou variam muito em um curto intervalo de tempo, então alguns modelos se beneficiam de treinar com dados com menor resolução."
      ]
    },
    {
      "cell_type": "markdown",
      "metadata": {
        "id": "eVMxQY5DlIr_"
      },
      "source": [
        "### 2.7. Funções de Janela (_Window Functions_)\n",
        "\n",
        "A função de janela é uma funcionalidade muito útil ao trabalhar com séries temporais. Basicamente, o que ele faz é, realizar uma agregação dos dados sobre uma partição de valores (janela) da série temporal que desliza ao longo de todos os dados.\n",
        "\n",
        "\n",
        "Para cada amostra da série temporal, a seguinte operação é realizada:\n",
        "1. identificar a partição da série temporal daquela amostra (janela)\n",
        "2. calcular métricas de agregação para a janela\n",
        "3. criar uma nova série temporal das métricas\n",
        "\n",
        "A ideia é semelhante à redução da resolução (*downsampling*), com a diferença de que, nas funções de janela, um registro pode influenciar em várias janelas (dependendo do tamanho da janela), enquanto no *downsampling*, cada registro aparece em um e apenas um compartimento, pois não há referência móvel na redução da resolução.\n",
        "\n",
        "Com isso, existem dois tipos de janelas:\n",
        "- Janelas Rolantes (ou _Rolling Windows_): janela de tamanho fixo do registro atual que 'rola' conforme a referência muda\n",
        "- Janelas de Expansão (ou _Expanding Windows_): a janela contém todos os registros até a referência"
      ]
    },
    {
      "cell_type": "markdown",
      "metadata": {
        "id": "kYkoJegf6LG_"
      },
      "source": [
        "#### 2.7.1. Janelas Rolantes (_Rolling Windows_)\n",
        "As janelas rolantes (ou deslizantes) aplicam uma função de agregação a uma janela de tamanho fixo que desliza pela série. A imagem abaixo mostra uma visualização de como funciona uma janela deslizante, onde a cada iteração uma parte da série temporal é coberta pela janela.\n",
        "\n",
        "<img src=\"https://docs.wavefront.com/images/5sec_moving_window.png\" alt=\"drawing\" width=\"600\"/>\n",
        "\n",
        "Imagine que a cada iteração, uma operação é feita sobre a janela, como por exemplo o cálculo da média.\n",
        "\n",
        "Vamos entender como isso é feito na prática com a função [`DataFrame.rolling()`](https://pandas.pydata.org/pandas-docs/stable/reference/api/pandas.DataFrame.rolling.html). Para cada observação, calcularemos o valor médio das últimas 3 observações e também, separadamente, o valor médio dos últimos 3 dias."
      ]
    },
    {
      "cell_type": "code",
      "metadata": {
        "id": "IQuUIKJklIsA",
        "colab": {
          "base_uri": "https://localhost:8080/",
          "height": 551
        },
        "outputId": "6e681f53-d4a0-41f6-cd63-572676ba9371"
      },
      "source": [
        "obs_window = google.Close.rolling(window=3).mean() # número fixo de observações (janela de observação)\n",
        "\n",
        "period_window = google.Close.rolling(window='3D').mean() # período fixo (janela de período)\n",
        "\n",
        "# agregando as duas séries em um DataFrame para visualização do head\n",
        "window = pd.concat([google.Close, obs_window.to_frame().add_suffix('_obs_mean'), period_window.to_frame().add_suffix('_per_mean')], axis=1)\n",
        "window.info()\n",
        "window.head(10)"
      ],
      "execution_count": null,
      "outputs": [
        {
          "output_type": "stream",
          "text": [
            "<class 'pandas.core.frame.DataFrame'>\n",
            "DatetimeIndex: 1258 entries, 2014-07-10 to 2019-07-09\n",
            "Data columns (total 3 columns):\n",
            " #   Column          Non-Null Count  Dtype  \n",
            "---  ------          --------------  -----  \n",
            " 0   Close           1258 non-null   float64\n",
            " 1   Close_obs_mean  1256 non-null   float64\n",
            " 2   Close_per_mean  1258 non-null   float64\n",
            "dtypes: float64(3)\n",
            "memory usage: 79.3 KB\n"
          ],
          "name": "stdout"
        },
        {
          "output_type": "execute_result",
          "data": {
            "text/html": [
              "<div>\n",
              "<style scoped>\n",
              "    .dataframe tbody tr th:only-of-type {\n",
              "        vertical-align: middle;\n",
              "    }\n",
              "\n",
              "    .dataframe tbody tr th {\n",
              "        vertical-align: top;\n",
              "    }\n",
              "\n",
              "    .dataframe thead th {\n",
              "        text-align: right;\n",
              "    }\n",
              "</style>\n",
              "<table border=\"1\" class=\"dataframe\">\n",
              "  <thead>\n",
              "    <tr style=\"text-align: right;\">\n",
              "      <th></th>\n",
              "      <th>Close</th>\n",
              "      <th>Close_obs_mean</th>\n",
              "      <th>Close_per_mean</th>\n",
              "    </tr>\n",
              "    <tr>\n",
              "      <th>Date</th>\n",
              "      <th></th>\n",
              "      <th></th>\n",
              "      <th></th>\n",
              "    </tr>\n",
              "  </thead>\n",
              "  <tbody>\n",
              "    <tr>\n",
              "      <th>2014-07-10</th>\n",
              "      <td>569.536316</td>\n",
              "      <td>NaN</td>\n",
              "      <td>569.536316</td>\n",
              "    </tr>\n",
              "    <tr>\n",
              "      <th>2014-07-11</th>\n",
              "      <td>577.594238</td>\n",
              "      <td>NaN</td>\n",
              "      <td>573.565277</td>\n",
              "    </tr>\n",
              "    <tr>\n",
              "      <th>2014-07-14</th>\n",
              "      <td>583.268616</td>\n",
              "      <td>576.799723</td>\n",
              "      <td>583.268616</td>\n",
              "    </tr>\n",
              "    <tr>\n",
              "      <th>2014-07-15</th>\n",
              "      <td>583.178894</td>\n",
              "      <td>581.347249</td>\n",
              "      <td>583.223755</td>\n",
              "    </tr>\n",
              "    <tr>\n",
              "      <th>2014-07-16</th>\n",
              "      <td>581.064697</td>\n",
              "      <td>582.504069</td>\n",
              "      <td>582.504069</td>\n",
              "    </tr>\n",
              "    <tr>\n",
              "      <th>2014-07-17</th>\n",
              "      <td>572.159119</td>\n",
              "      <td>578.800903</td>\n",
              "      <td>578.800903</td>\n",
              "    </tr>\n",
              "    <tr>\n",
              "      <th>2014-07-18</th>\n",
              "      <td>593.450684</td>\n",
              "      <td>582.224833</td>\n",
              "      <td>582.224833</td>\n",
              "    </tr>\n",
              "    <tr>\n",
              "      <th>2014-07-21</th>\n",
              "      <td>587.856018</td>\n",
              "      <td>584.488607</td>\n",
              "      <td>587.856018</td>\n",
              "    </tr>\n",
              "    <tr>\n",
              "      <th>2014-07-22</th>\n",
              "      <td>593.111633</td>\n",
              "      <td>591.472778</td>\n",
              "      <td>590.483825</td>\n",
              "    </tr>\n",
              "    <tr>\n",
              "      <th>2014-07-23</th>\n",
              "      <td>594.348206</td>\n",
              "      <td>591.771952</td>\n",
              "      <td>591.771952</td>\n",
              "    </tr>\n",
              "  </tbody>\n",
              "</table>\n",
              "</div>"
            ],
            "text/plain": [
              "                 Close  Close_obs_mean  Close_per_mean\n",
              "Date                                                  \n",
              "2014-07-10  569.536316             NaN      569.536316\n",
              "2014-07-11  577.594238             NaN      573.565277\n",
              "2014-07-14  583.268616      576.799723      583.268616\n",
              "2014-07-15  583.178894      581.347249      583.223755\n",
              "2014-07-16  581.064697      582.504069      582.504069\n",
              "2014-07-17  572.159119      578.800903      578.800903\n",
              "2014-07-18  593.450684      582.224833      582.224833\n",
              "2014-07-21  587.856018      584.488607      587.856018\n",
              "2014-07-22  593.111633      591.472778      590.483825\n",
              "2014-07-23  594.348206      591.771952      591.771952"
            ]
          },
          "metadata": {
            "tags": []
          },
          "execution_count": 25
        }
      ]
    },
    {
      "cell_type": "markdown",
      "metadata": {
        "id": "b3ILUuqDlIsE"
      },
      "source": [
        "Como podemos ver, o uso da janela de observação produz NAs até que tenhamos pelo menos o tamanho da janela para aplicar a média, enquanto a janela do período se ajusta até ter a janela do buraco para calcular a média.\n",
        "\n",
        "Pode-se notar que existem algumas observações que possuem os mesmos valores para ```Close_obs_mean``` e ``` Close_per_mean``` e outras que não. A razão para isso são os dias sem informações de fechamento, já que a janela de observação pula esses dias enquanto a janela de período os conta. Portanto, se não houver dias sem negociação (finais de semana ou feriados) na janela do período, os dois valores serão iguais.\n",
        "\n",
        "Podemos calcular múltiplas métricas com a mesma janela rolante usando ```agg``` ou armazenando a janela rolante em uma variável e usando-a várias vezes. Mostramos os duas formas:"
      ]
    },
    {
      "cell_type": "code",
      "metadata": {
        "id": "aMYTt_ZtlIsF",
        "colab": {
          "base_uri": "https://localhost:8080/",
          "height": 538
        },
        "outputId": "8bc411ca-e127-4afe-a06f-12c8c0537a3b"
      },
      "source": [
        "# Método 1\n",
        "r = google.Close.rolling('90D').agg(['mean', 'std'])    # calculo de média e desvio padrao\n",
        "r.plot(subplots = True)                                 # plot separadamente\n",
        "\n",
        "# Método 2\n",
        "rolling = google.Close.rolling('360D')                  # armazena janela em variavel\n",
        "q10 = rolling.quantile(.1).to_frame('q10')              # calculo do 10 quartil (q10)\n",
        "median = rolling.median().to_frame('median')            # cálculo da mediana\n",
        "q90 = rolling.quantile(.9).to_frame('q90')              # calculo do 90 quartil (q90)\n",
        "pd.concat([q10, median, q90], axis=1).plot()            # plot"
      ],
      "execution_count": null,
      "outputs": [
        {
          "output_type": "execute_result",
          "data": {
            "text/plain": [
              "<matplotlib.axes._subplots.AxesSubplot at 0x7f5763138450>"
            ]
          },
          "metadata": {
            "tags": []
          },
          "execution_count": 26
        },
        {
          "output_type": "display_data",
          "data": {
            "image/png": "[encoded data removed]",
            "text/plain": [
              "<Figure size 432x288 with 2 Axes>"
            ]
          },
          "metadata": {
            "tags": [],
            "needs_background": "light"
          }
        },
        {
          "output_type": "display_data",
          "data": {
            "image/png": "[encoded data removed]",
            "text/plain": [
              "<Figure size 432x288 with 1 Axes>"
            ]
          },
          "metadata": {
            "tags": [],
            "needs_background": "light"
          }
        }
      ]
    },
    {
      "cell_type": "markdown",
      "metadata": {
        "id": "PUaHBiBzlIsJ"
      },
      "source": [
        "#### 2.7.2. Janelas de Expansão - _Expanding Windows_\n",
        "\n",
        "As janelas de expansão levam todas as observações até a referência para calcular as métricas. Funciona com o método [`expanding`](](https://pandas.pydata.org/pandas-docs/stable/reference/api/pandas.DataFrame.expanding.html)) que é semelhante ao `rolling`, mas não precisa do tamanho da janela. \n",
        "\n",
        "Abaixo, usamos a janela de expansão para somar os valores em um DataFrame com dados inteiros de 1 a 10. Observe que fazemos isso de duas formas: com o método de expansão e com `.cumsum()` que serve como o agregação de `.expanding()` e ```.sum()```. Também temos ```.cumprod()```, ```.cummin()``` e ```.cummax()``` que seguem a mesma idéia."
      ]
    },
    {
      "cell_type": "code",
      "metadata": {
        "id": "z0A1l9EIlIsJ",
        "colab": {
          "base_uri": "https://localhost:8080/",
          "height": 198
        },
        "outputId": "eb2e253d-12e0-4929-8638-023366875a86"
      },
      "source": [
        "df = pd.DataFrame({'data': range(1, 11)})          # cria dataframe\n",
        "df['expanding sum'] = df.data.expanding().sum()    # expanding()\n",
        "df['cumulative sum'] = df.data.cumsum()            # cumsum()\n",
        "df.head()"
      ],
      "execution_count": null,
      "outputs": [
        {
          "output_type": "execute_result",
          "data": {
            "text/html": [
              "<div>\n",
              "<style scoped>\n",
              "    .dataframe tbody tr th:only-of-type {\n",
              "        vertical-align: middle;\n",
              "    }\n",
              "\n",
              "    .dataframe tbody tr th {\n",
              "        vertical-align: top;\n",
              "    }\n",
              "\n",
              "    .dataframe thead th {\n",
              "        text-align: right;\n",
              "    }\n",
              "</style>\n",
              "<table border=\"1\" class=\"dataframe\">\n",
              "  <thead>\n",
              "    <tr style=\"text-align: right;\">\n",
              "      <th></th>\n",
              "      <th>data</th>\n",
              "      <th>expanding sum</th>\n",
              "      <th>cumulative sum</th>\n",
              "    </tr>\n",
              "  </thead>\n",
              "  <tbody>\n",
              "    <tr>\n",
              "      <th>0</th>\n",
              "      <td>1</td>\n",
              "      <td>1.0</td>\n",
              "      <td>1</td>\n",
              "    </tr>\n",
              "    <tr>\n",
              "      <th>1</th>\n",
              "      <td>2</td>\n",
              "      <td>3.0</td>\n",
              "      <td>3</td>\n",
              "    </tr>\n",
              "    <tr>\n",
              "      <th>2</th>\n",
              "      <td>3</td>\n",
              "      <td>6.0</td>\n",
              "      <td>6</td>\n",
              "    </tr>\n",
              "    <tr>\n",
              "      <th>3</th>\n",
              "      <td>4</td>\n",
              "      <td>10.0</td>\n",
              "      <td>10</td>\n",
              "    </tr>\n",
              "    <tr>\n",
              "      <th>4</th>\n",
              "      <td>5</td>\n",
              "      <td>15.0</td>\n",
              "      <td>15</td>\n",
              "    </tr>\n",
              "  </tbody>\n",
              "</table>\n",
              "</div>"
            ],
            "text/plain": [
              "   data  expanding sum  cumulative sum\n",
              "0     1            1.0               1\n",
              "1     2            3.0               3\n",
              "2     3            6.0               6\n",
              "3     4           10.0              10\n",
              "4     5           15.0              15"
            ]
          },
          "metadata": {
            "tags": []
          },
          "execution_count": 27
        }
      ]
    },
    {
      "cell_type": "markdown",
      "metadata": {
        "id": "T8ZmWLrMlIsN"
      },
      "source": [
        "Em outro exemplo, podemos calcular os valores máximo e mínimo para o preço das ações do Google até esse ponto, como fazemos abaixo."
      ]
    },
    {
      "cell_type": "code",
      "metadata": {
        "id": "a6TO0IpNlIsO",
        "colab": {
          "base_uri": "https://localhost:8080/",
          "height": 286
        },
        "outputId": "aed5760f-eb7a-4d0f-ce35-efbb4d2e5a7f"
      },
      "source": [
        "google['running_min'] = google.Close.expanding().min()\n",
        "google['running_max'] = google.Close.expanding().max()\n",
        "google[['Close', 'running_min', 'running_max']].plot()"
      ],
      "execution_count": null,
      "outputs": [
        {
          "output_type": "execute_result",
          "data": {
            "text/plain": [
              "<matplotlib.axes._subplots.AxesSubplot at 0x7f576302ce50>"
            ]
          },
          "metadata": {
            "tags": []
          },
          "execution_count": 28
        },
        {
          "output_type": "display_data",
          "data": {
            "image/png": "[encoded data removed]",
            "text/plain": [
              "<Figure size 432x288 with 1 Axes>"
            ]
          },
          "metadata": {
            "tags": [],
            "needs_background": "light"
          }
        }
      ]
    },
    {
      "cell_type": "markdown",
      "metadata": {
        "id": "iu1DJrjhlIsS"
      },
      "source": [
        "<a id=\"data_split\"></a>\n",
        "## 3. Divisão de treino/validação/teste\n",
        "Embora esta seção já tenha sido apresentada nas duas últimas lições, aqui apresentamos algumas novas ideias para que possamos explicar a influência do tempo nas divisões de sets de treino, validação e teste.\n"
      ]
    },
    {
      "cell_type": "markdown",
      "metadata": {
        "id": "_IpLHA5U6Xbc"
      },
      "source": [
        "### 3.1. Divisão Temporal\n",
        "O impacto do tempo no comportamento dos dados é algo que devemos considerar para cada modelo, portanto, podemos (e devemos) aplicar o que discutiremos aqui aos problemas de classificação e regressão também. Só deixamos essa discussão para esta aula porque as séries temporais, como o nome diz, exibem comportamentos influenciados pelo tempo.\n",
        "\n",
        "O principal problema com a divisão treino/teste que usamos antes é que ela é aleatória. Isso significa que escolhemos aleatoriamente um subconjunto de nossos dados para treinar e outro no qual testamos nosso modelo. Este método é baseado em uma forte suposição de que as observações são independentes entre si, o que significa que o resultado de uma observação não está correlacionado ao resultado de outras.\n",
        "\n",
        "Mas ao usar a série temporal, isso deixa de ser verdade. Por exemplo, pegue o último gráfico que fizemos na seção anterior e tente informar o preço das ações do Google em 17/10/2018. Você não pode dizer o valor exato porque o gráfico é muito pequeno, mas o que você pode dizer é que está mais próximo de 1100 do que de 600 apenas porque o valor médio para o final de 2018 está em torno de 1100, enquanto o valor 600 não acontecia desde 2015. Os valores dos dados das séries temporais tendem a estar mais próximos dos valores das observações próximas em termos de tempo.\n",
        "\n",
        "Nesse caso, usarmos uma divisão aleatória dos dados de treino e teste, quando o modelo tenta prever uma observação de 2017 que caiu no conjunto de teste, ele conseguiria uma estimativa mais enviesada, pois viu os dados de 2014 a 2019 no conjunto de treinamento e os usou como uma pista, ficando boas as métricas de acurácia para esse modelo. Contudo, quando colocamos esse modelo em produção, ele provavelmente terá métricas de acurácia piores, uma vez que o modelo não possui dados futuros para usar como pista e será mais difícil de realizar uma boa previsão.\n",
        "\n",
        "É por isso que devemos usar uma divisão temporal para separar os conjuntos de treino e teste. Em geral, escolhemos uma data de referência e usamos as amostras anteriores a ela para treinar e depois dela para testar. Fazendo isso, podemos assegurar que o modelo nunca viu no treinamento uma observação que ocorre depois daquela com que está sendo testado, como acontecerá na vida real."
      ]
    },
    {
      "cell_type": "code",
      "metadata": {
        "id": "qabjWWoElIsS",
        "colab": {
          "base_uri": "https://localhost:8080/",
          "height": 286
        },
        "outputId": "2dbee0d8-3bea-45af-d306-5202c88d2210"
      },
      "source": [
        "train = google[:'2018-12']\n",
        "test = google['2019-01':]\n",
        "\n",
        "pd.concat([train.add_suffix('_train').Close_train, test.add_suffix('_test').Close_test], axis=1, sort=False).plot()"
      ],
      "execution_count": null,
      "outputs": [
        {
          "output_type": "execute_result",
          "data": {
            "text/plain": [
              "<matplotlib.axes._subplots.AxesSubplot at 0x7f5763116d50>"
            ]
          },
          "metadata": {
            "tags": []
          },
          "execution_count": 29
        },
        {
          "output_type": "display_data",
          "data": {
            "image/png": "[encoded data removed]",
            "text/plain": [
              "<Figure size 432x288 with 1 Axes>"
            ]
          },
          "metadata": {
            "tags": [],
            "needs_background": "light"
          }
        }
      ]
    },
    {
      "cell_type": "markdown",
      "metadata": {
        "id": "vnyMqxQ1lIsW"
      },
      "source": [
        "### 3.2. Validação Cruzada (_Cross Validation_)\n",
        "\n",
        "Assim que tivermos nosso conjunto de treino, precisamos usar um conjunto de validação ou validação cruzada para fazer o ajuste de hiperparâmetros, como fizemos em outras lições. <br>\n",
        "No caso de um conjunto de validação, precisamos dividir os dados temporariamente mais uma vez.\n",
        "\n",
        "Quando falamos sobre validação cruzada para séries temporais, temos dois métodos que são mais utilizados, assim como vimos nas funções de janela: rolar ou expandir. A ideia é exatamente a mesma, rolando usaremos um teste de tamanho fixo e rolaremos pelos dados, enquanto a expansão usará todos os dados anteriores. A imagem abaixo deve facilitar o entendimento.\n",
        "\n",
        "<img src=\"https://i.imgur.com/d24PIiL.png\" height=\"250\"/>\n",
        "\n",
        "\n",
        "Você pode aprender como realizar os dois métodos de validação cruzada nas células a seguir, onde usamos a função [`TimeSeriesSplit`](https://scikit-learn.org/stable/modules/generated/sklearn.model_selection.TimeSeriesSplit.html) da biblioteca `scikit-learn`."
      ]
    },
    {
      "cell_type": "code",
      "metadata": {
        "id": "NPLn9GfClIsX",
        "colab": {
          "base_uri": "https://localhost:8080/",
          "height": 350
        },
        "outputId": "c4f9268d-af51-4e3e-a3b0-6844263e29d5"
      },
      "source": [
        "# janela rolante\n",
        "# utiliza histórico fixo para treino\n",
        "from sklearn.model_selection import TimeSeriesSplit\n",
        "cv = TimeSeriesSplit(n_splits=10, max_train_size=400)\n",
        "\n",
        "fig, ax = plt.subplots(figsize=(10, 5))\n",
        "for index, (train, test) in enumerate(cv.split(google)):\n",
        "    # Plota índices de treino e teste\n",
        "    l1 = ax.scatter(train, [index] * len(train), c=[plt.cm.coolwarm(.1)], marker='_', lw=6)\n",
        "    l2 = ax.scatter(test, [index] * len(test), c=[plt.cm.coolwarm(.9)], marker='_', lw=6)\n",
        "    ax.set(ylim=[10, -1], title='TimeSeriesSplit behavior', xlabel='data index', ylabel='CV iteration')\n",
        "    ax.legend([l1, l2], ['Training', 'Validation'])"
      ],
      "execution_count": null,
      "outputs": [
        {
          "output_type": "display_data",
          "data": {
            "image/png": "[encoded data removed]",
            "text/plain": [
              "<Figure size 720x360 with 1 Axes>"
            ]
          },
          "metadata": {
            "tags": [],
            "needs_background": "light"
          }
        }
      ]
    },
    {
      "cell_type": "code",
      "metadata": {
        "scrolled": true,
        "id": "PmiWolO7lIsc",
        "colab": {
          "base_uri": "https://localhost:8080/",
          "height": 350
        },
        "outputId": "bbf29fd2-f69f-4555-e59b-df950df55fd2"
      },
      "source": [
        "# métodp de janela de expansão\n",
        "# using all history to train\n",
        "from sklearn.model_selection import TimeSeriesSplit\n",
        "cv = TimeSeriesSplit(n_splits=10)\n",
        "\n",
        "fig, ax = plt.subplots(figsize=(10, 5))\n",
        "for index, (train, test) in enumerate(cv.split(google)):\n",
        "    # Plota índices de treino e teste\n",
        "    l1 = ax.scatter(train, [index] * len(train), c=[plt.cm.coolwarm(.1)], marker='_', lw=6)\n",
        "    l2 = ax.scatter(test, [index] * len(test), c=[plt.cm.coolwarm(.9)], marker='_', lw=6)\n",
        "    ax.set(ylim=[10, -1], title='TimeSeriesSplit behavior', xlabel='data index', ylabel='CV iteration')\n",
        "    ax.legend([l1, l2], ['Training', 'Validation'])"
      ],
      "execution_count": null,
      "outputs": [
        {
          "output_type": "display_data",
          "data": {
            "image/png": "[encoded data removed]",
            "text/plain": [
              "<Figure size 720x360 with 1 Axes>"
            ]
          },
          "metadata": {
            "tags": [],
            "needs_background": "light"
          }
        }
      ]
    },
    {
      "cell_type": "markdown",
      "metadata": {
        "id": "w9HSnmDClIsh"
      },
      "source": [
        "O método da janela de expansão é usado com mais frequência, principalmente pois os modelos se beneficiam com a adição de uma maior quantidade de dados para treino. Contudo, o método da janela rolante pode ser utilizado quando a quantidade de dados for muito grande, para que o treinamento seja mais rápido, ou de acordo com restrições do problema.\n",
        "\n",
        "Imagine que gostaríamos de prever o tempo de entrega de um pedido. E temos um dataset onde cada linha representa um pedido, representado por diversas variáveis. Como um requisito do negócio, deseja-se construir um modelo baseado nos pedidos do mês passado, e depois aplicá-lo para prever o tempo de entrega dos pedidos da próxima semana.\n",
        "\n",
        "A fim de melhor representar o mundo real do modelo em produção, devemos utilizar uma janela deslizante de um mês para treinar nossos modelos e depois testá-los em novos dados capturados na semana seguinte."
      ]
    },
    {
      "cell_type": "markdown",
      "metadata": {
        "id": "NdmcnQ2wlIsi"
      },
      "source": [
        "<a id=\"metrics\"></a>\n",
        "## 4. Relembrando: métricas de avaliação do modelo\n",
        "\n",
        "Como você pode imaginar, as métricas para avaliar um modelo de série temporal são semelhantes daquelas usadas para avaliar modelos de regressão, uma vez que os modelos continuam sendo regressivos, mas com o tempo passando a fazer parte do modelo. Para modelos de série temporal, geralmente usamos uma das seguintes métricas:\n",
        "* MAPE (*Mean Absolute Percentage Error*)\n",
        "* MAE (*Mean Absolute Error*)\n",
        "* MSE (*Mean Squared Error*)\n",
        "* RMSE (*Root Mean Squared Error*)\n",
        "* R² (*R Squared*)\n",
        "\n",
        "\n",
        "#### MAE (*Mean Absolute Error*, ou erro absoluto médio)\n",
        "\n",
        "MAE é a média da diferença absoluta entre os valores previstos e o valor observado. O MAE é uma pontuação linear, o que significa que todas as diferenças individuais são ponderadas igualmente na média. Por exemplo, a diferença entre 10 e 0 será o dobro da diferença entre 5 e 0 (o mesmo não é verdade para RMSE, apresentado abaixo). Matematicamente, é calculado usando a seguinte fórmula:\n",
        "\n",
        "<img src=\"https://i.imgur.com/4pawj0n.png\" height=\"100\"/>\n",
        "\n",
        "\n",
        "#### RMSE (Root Mean Squared Error, ou raiz do erro quadrático médio)\n",
        "\n",
        "A raíz do erro quadrático médio (RMSE) é uma métrica que também mede a magnitude média do erro. Porém, como os erros são elevados ao quadrado antes de serem calculados, o RMSE atribui um peso relativamente alto aos erros maiores. Isso significa que o RMSE é mais útil quando erros grandes (outliers) são particularmente indesejáveis. Ele também tem a vantagem de ter a mesma unidade da variável resposta, ao contrário do MSE, o que torna ele mais fácil de ser interpretado.\n",
        "\n",
        "<img src=\"https://i.imgur.com/0DuRiEK.png\" height=\"100\"/>\n",
        "\n",
        "\n",
        "#### MAPE (Mean Absolute Percentage Error ou erro percentual médio absoluto)\n",
        "\n",
        "O erro percentual médio absoluto (MAPE) é uma medida de acurácia de previsão. Ela expressa a precisão como uma porcentagem, e é definida pela fórmula:\n",
        "\n",
        "O erro percentual médio absoluto (MAPE) é uma medida de acurácia de previsão. Ele é uma medida de erro relativo que usa valores absolutos. O MAPE tem duas vantagens: primeiro, os valores absolutos evitam que os erros positivos e negativos se anulem. Em segundo lugar, como os erros relativos não dependem da escala da variável dependente, essa medida permite comparar a acurácia da previsão entre dados de séries temporais com escalas diferentes.\n",
        "\n",
        "Ele expressa a acurácia como uma porcentagem e é definido pela fórmula:\n",
        "\n",
        "<img src=\"https://i.imgur.com/SVsaNJM.png\" height=\"100\"/>\n",
        "\n",
        "A seguir há algumas páginas para melhor entendimento desses conceitos, mas lembre-se que a escolha da métrica de erro é de extrema importância para a modelagem!\n",
        "\n",
        "1. [Medium](https://towardsdatascience.com/how-to-select-the-right-evaluation-metric-for-machine-learning-models-part-1-regrression-metrics-3606e25beae0): How to select the Right Evaluation Metric for Machine Learning Models\n",
        "2. [Dataquest](https://www.dataquest.io/blog/understanding-regression-error-metrics/): Understanding Regression Error Metrics in Python"
      ]
    },
    {
      "cell_type": "markdown",
      "metadata": {
        "id": "agSMuAL6lIsi"
      },
      "source": [
        "<a id=\"models\"></a>\n",
        "## 5. Modelagem"
      ]
    },
    {
      "cell_type": "markdown",
      "metadata": {
        "id": "x1ocjDuElIsj"
      },
      "source": [
        "### 5.1. Métodos Clássicos"
      ]
    },
    {
      "cell_type": "markdown",
      "metadata": {
        "id": "pn57LeHklIsk"
      },
      "source": [
        "Antes de explorar os métodos de aprendizado de máquina para séries temporais, é uma boa ideia garantir que você tenha experimentado os métodos clássicos de previsão de séries temporais lineares. Os métodos clássicos de previsão de séries temporais podem ser focados em relações lineares, no entanto, eles são sofisticados e têm um bom desempenho em uma ampla gama de problemas, assumindo que seus dados estão adequadamente preparados e o método está bem configurado.\n",
        "\n",
        "![img](https://media.giphy.com/media/zZeCRfPyXi9UI/giphy.gif)\n",
        "\n",
        "Os chamados métodos clássicos são diversas técnicas de previsão baseadas não só em valores previamente observados, mas também estatísticas significativas e outras características de dados anteriores. Ao contrário das técnicas de aprendizado de máquina, os métodos apresentados a seguir não usam fatores externos para explicar a previsão. Em vez disso, eles identificam padrões nos valores observados, como os componentes apresentados na seção a seguir.\n",
        "\n",
        "Nesta aula, falaremos sobre três dos métodos mais conhecidos de previsão. Embora pareçam simples, eles podem fornecer resultados razoáveis a depender da série temporal em questão.\n",
        "\n",
        "Por último, usaremos a biblioteca `Prophet`, a ferramenta de previsão de código aberto do Facebook disponível em Python e R. Essa ferramenta permite que especialistas e não especialistas produzam previsões com o mínimo de esforço.\n",
        "\n",
        "Mas primeiro vamos preparar nossos dados. Usaremos os dados de preços de fechamento de ações do Google para realizar as previsões."
      ]
    },
    {
      "cell_type": "markdown",
      "metadata": {
        "id": "pVc0AGcYlIsq"
      },
      "source": [
        "#### 5.1.1. Data Prep"
      ]
    },
    {
      "cell_type": "code",
      "metadata": {
        "id": "00fpVcMelIsq",
        "colab": {
          "base_uri": "https://localhost:8080/",
          "height": 228
        },
        "outputId": "8f05a8d8-6897-4e12-cf79-ee4979130d9d"
      },
      "source": [
        "# visualização inicial dos dados\n",
        "google_daily.head()"
      ],
      "execution_count": null,
      "outputs": [
        {
          "output_type": "execute_result",
          "data": {
            "text/html": [
              "<div>\n",
              "<style scoped>\n",
              "    .dataframe tbody tr th:only-of-type {\n",
              "        vertical-align: middle;\n",
              "    }\n",
              "\n",
              "    .dataframe tbody tr th {\n",
              "        vertical-align: top;\n",
              "    }\n",
              "\n",
              "    .dataframe thead th {\n",
              "        text-align: right;\n",
              "    }\n",
              "</style>\n",
              "<table border=\"1\" class=\"dataframe\">\n",
              "  <thead>\n",
              "    <tr style=\"text-align: right;\">\n",
              "      <th></th>\n",
              "      <th>Close</th>\n",
              "      <th>interpolation_linear</th>\n",
              "      <th>interpolation_poly3</th>\n",
              "    </tr>\n",
              "    <tr>\n",
              "      <th>Date</th>\n",
              "      <th></th>\n",
              "      <th></th>\n",
              "      <th></th>\n",
              "    </tr>\n",
              "  </thead>\n",
              "  <tbody>\n",
              "    <tr>\n",
              "      <th>2014-07-10</th>\n",
              "      <td>569.536316</td>\n",
              "      <td>569.536316</td>\n",
              "      <td>569.536316</td>\n",
              "    </tr>\n",
              "    <tr>\n",
              "      <th>2014-07-11</th>\n",
              "      <td>577.594238</td>\n",
              "      <td>577.594238</td>\n",
              "      <td>577.594238</td>\n",
              "    </tr>\n",
              "    <tr>\n",
              "      <th>2014-07-12</th>\n",
              "      <td>NaN</td>\n",
              "      <td>579.485697</td>\n",
              "      <td>581.831569</td>\n",
              "    </tr>\n",
              "    <tr>\n",
              "      <th>2014-07-13</th>\n",
              "      <td>NaN</td>\n",
              "      <td>581.377157</td>\n",
              "      <td>583.354349</td>\n",
              "    </tr>\n",
              "    <tr>\n",
              "      <th>2014-07-14</th>\n",
              "      <td>583.268616</td>\n",
              "      <td>583.268616</td>\n",
              "      <td>583.268616</td>\n",
              "    </tr>\n",
              "  </tbody>\n",
              "</table>\n",
              "</div>"
            ],
            "text/plain": [
              "                 Close  interpolation_linear  interpolation_poly3\n",
              "Date                                                             \n",
              "2014-07-10  569.536316            569.536316           569.536316\n",
              "2014-07-11  577.594238            577.594238           577.594238\n",
              "2014-07-12         NaN            579.485697           581.831569\n",
              "2014-07-13         NaN            581.377157           583.354349\n",
              "2014-07-14  583.268616            583.268616           583.268616"
            ]
          },
          "metadata": {
            "tags": []
          },
          "execution_count": 32
        }
      ]
    },
    {
      "cell_type": "code",
      "metadata": {
        "id": "bfbfdPVWlIsu",
        "colab": {
          "base_uri": "https://localhost:8080/"
        },
        "outputId": "f5450572-1ddb-4d92-da77-bd91feaf3215"
      },
      "source": [
        "# existem valores faltantes devido a finais de semana e feriados\n",
        "google_bdaily.isnull().values.any()"
      ],
      "execution_count": null,
      "outputs": [
        {
          "output_type": "execute_result",
          "data": {
            "text/plain": [
              "True"
            ]
          },
          "metadata": {
            "tags": []
          },
          "execution_count": 33
        }
      ]
    },
    {
      "cell_type": "code",
      "metadata": {
        "scrolled": true,
        "id": "uR0eEIk1lIsz",
        "colab": {
          "base_uri": "https://localhost:8080/"
        },
        "outputId": "a13f6925-a53d-47c3-aa4b-02838b91432a"
      },
      "source": [
        "# vamos preencher os valores faltantes com registros anteriores, dado que podemos assumir que o preço da ação não muda durante os feriados e finais de semana\n",
        "google_daily_fill = google[['Close']].asfreq('D', method='bfill')\n",
        "google_daily_fill = google_daily_fill.rename({'Close': 'y'}, axis=1)  # renomeando nossa variável de interesse para 'y'\n",
        "\n",
        "google_daily_fill.isnull().values.any()                               # verificando se os dados possuem valores nulos após o preenchimento"
      ],
      "execution_count": null,
      "outputs": [
        {
          "output_type": "execute_result",
          "data": {
            "text/plain": [
              "False"
            ]
          },
          "metadata": {
            "tags": []
          },
          "execution_count": 34
        }
      ]
    },
    {
      "cell_type": "code",
      "metadata": {
        "id": "csIhdz8_lIs6"
      },
      "source": [
        "# vamos fazer o split entre série de treino e teste\n",
        "train_ts = google_daily_fill[:'2018-12']\n",
        "test_ts = google_daily_fill['2019-01':]"
      ],
      "execution_count": null,
      "outputs": []
    },
    {
      "cell_type": "code",
      "metadata": {
        "id": "GZJV_hD4lIs_",
        "colab": {
          "base_uri": "https://localhost:8080/",
          "height": 263
        },
        "outputId": "ef1296b1-76aa-4c13-de4c-3a564edcf8cb"
      },
      "source": [
        "# tamanho da divisão:\n",
        "print(\"Tamanho do conjunto de treino: \", train_ts.shape)\n",
        "print(\"Tamanho do conjunto de teste:  \", test_ts.shape)\n",
        "# visualização do set de treino\n",
        "train_ts.head()"
      ],
      "execution_count": null,
      "outputs": [
        {
          "output_type": "stream",
          "text": [
            "Tamanho do conjunto de treino:  (1636, 1)\n",
            "Tamanho do conjunto de teste:   (190, 1)\n"
          ],
          "name": "stdout"
        },
        {
          "output_type": "execute_result",
          "data": {
            "text/html": [
              "<div>\n",
              "<style scoped>\n",
              "    .dataframe tbody tr th:only-of-type {\n",
              "        vertical-align: middle;\n",
              "    }\n",
              "\n",
              "    .dataframe tbody tr th {\n",
              "        vertical-align: top;\n",
              "    }\n",
              "\n",
              "    .dataframe thead th {\n",
              "        text-align: right;\n",
              "    }\n",
              "</style>\n",
              "<table border=\"1\" class=\"dataframe\">\n",
              "  <thead>\n",
              "    <tr style=\"text-align: right;\">\n",
              "      <th></th>\n",
              "      <th>y</th>\n",
              "    </tr>\n",
              "    <tr>\n",
              "      <th>Date</th>\n",
              "      <th></th>\n",
              "    </tr>\n",
              "  </thead>\n",
              "  <tbody>\n",
              "    <tr>\n",
              "      <th>2014-07-10</th>\n",
              "      <td>569.536316</td>\n",
              "    </tr>\n",
              "    <tr>\n",
              "      <th>2014-07-11</th>\n",
              "      <td>577.594238</td>\n",
              "    </tr>\n",
              "    <tr>\n",
              "      <th>2014-07-12</th>\n",
              "      <td>583.268616</td>\n",
              "    </tr>\n",
              "    <tr>\n",
              "      <th>2014-07-13</th>\n",
              "      <td>583.268616</td>\n",
              "    </tr>\n",
              "    <tr>\n",
              "      <th>2014-07-14</th>\n",
              "      <td>583.268616</td>\n",
              "    </tr>\n",
              "  </tbody>\n",
              "</table>\n",
              "</div>"
            ],
            "text/plain": [
              "                     y\n",
              "Date                  \n",
              "2014-07-10  569.536316\n",
              "2014-07-11  577.594238\n",
              "2014-07-12  583.268616\n",
              "2014-07-13  583.268616\n",
              "2014-07-14  583.268616"
            ]
          },
          "metadata": {
            "tags": []
          },
          "execution_count": 36
        }
      ]
    },
    {
      "cell_type": "markdown",
      "metadata": {
        "id": "OL23WacNlItC"
      },
      "source": [
        "#### 5.1.2. Média Móvel"
      ]
    },
    {
      "cell_type": "markdown",
      "metadata": {
        "id": "oojnDWrNlItD"
      },
      "source": [
        "A média móvel é uma das técnicas de previsão mais simples e amplamente utilizada para se ter uma ideia geral das tendências em um conjunto de dados. A média móvel é extremamente útil para __prever tendências de longo prazo__. Por exemplo, os analistas do mercado de ações costumam usar uma média móvel de 50 ou 200 dias para ajudá-los a ver as tendências no mercado de ações e prever para onde as ações estão indo.\n",
        "\n",
        "A média móvel também é muito utilizada para suavizar dados temporais que possuem grande variação ao longo do tempo e, assim, facilitar a sua visualização e análise. Um exemplo disso tem sido o período da pandemia do Covid-19, em que a média móvel de uma semana tem sido muito utilizada para analisar o comportamento recente da doença e as suas tendências, como os números de casos ou até mesmo a quantidade de vacinados.\n",
        "\n",
        "Vamos a um exemplo:"
      ]
    },
    {
      "cell_type": "code",
      "metadata": {
        "scrolled": true,
        "id": "SM8jQKBplItD",
        "colab": {
          "base_uri": "https://localhost:8080/",
          "height": 282
        },
        "outputId": "d80224ba-4a63-4961-f550-66b1d2dd3150"
      },
      "source": [
        "# média móvel dos últimos 200 dias\n",
        "moving_avg = train_ts.rolling(window=200).mean()\n",
        "plt.plot(train_ts)\n",
        "plt.plot(moving_avg, color='red')\n",
        "plt.plot(test_ts, color='orange')"
      ],
      "execution_count": null,
      "outputs": [
        {
          "output_type": "execute_result",
          "data": {
            "text/plain": [
              "[<matplotlib.lines.Line2D at 0x7f31053712d0>]"
            ]
          },
          "metadata": {
            "tags": []
          },
          "execution_count": 32
        },
        {
          "output_type": "display_data",
          "data": {
            "image/png": "[encoded data removed]",
            "text/plain": [
              "<Figure size 432x288 with 1 Axes>"
            ]
          },
          "metadata": {
            "tags": [],
            "needs_background": "light"
          }
        }
      ]
    },
    {
      "cell_type": "markdown",
      "metadata": {
        "id": "NZTmPRNxlIsl"
      },
      "source": [
        "#### 5.1.3. Decomposição de Séries Temporais"
      ]
    },
    {
      "cell_type": "markdown",
      "metadata": {
        "id": "VSYYHQLqlIsl"
      },
      "source": [
        "Para um melhor entendimento da série temporal, é possível derivar diversos componentes que ajudam a descrever os vários fatores ou forças que afetam os valores de uma observação em uma série temporal. As quatro principais categorias dos componentes de séries temporais são:\n",
        "\n",
        "- Tendência\n",
        "- Sazonalidade\n",
        "- Ciclicidade\n",
        "- Movimentos aleatórios ou irregulares\n",
        "\n",
        "Assim, é possível realizar a decomposição da série temporal principalmente para análise do seu comportamento e, como uma ferramenta de análise, pode ser usada como *feature* para informar os modelos de previsão sobre o seu problema.\n",
        "\n",
        "A decomposição fornece uma maneira estruturada de pensar sobre um problema de previsão de série temporal, geralmente em termos de complexidade de modelagem e, especificamente, em termos de como melhor capturar cada um desses componentes em um determinado modelo."
      ]
    },
    {
      "cell_type": "markdown",
      "metadata": {
        "id": "Lf_FWZvPlIsm"
      },
      "source": [
        "##### Tendência (*trend*)"
      ]
    },
    {
      "cell_type": "markdown",
      "metadata": {
        "id": "6eWKpdePlIsn"
      },
      "source": [
        "Os dados têm uma inclinação consistente para cima ou para baixo?\n",
        "\n",
        "<img src = \"https://i.imgur.com/QnqrSOo.png\" width = 400>"
      ]
    },
    {
      "cell_type": "markdown",
      "metadata": {
        "id": "1cs9DR5hlIsn"
      },
      "source": [
        "##### Sazonalidade"
      ]
    },
    {
      "cell_type": "markdown",
      "metadata": {
        "id": "xawxhXBSlIso"
      },
      "source": [
        "O dado possui algum tipo de padrão sazonal?\n",
        "\n",
        "<img src = \"https://i.imgur.com/Izg45uj.png\" width = 400>"
      ]
    },
    {
      "cell_type": "markdown",
      "metadata": {
        "id": "eQ2OvuCZlIsp"
      },
      "source": [
        "##### Ciclicidade"
      ]
    },
    {
      "cell_type": "markdown",
      "metadata": {
        "id": "JXoOyNx4lIsp"
      },
      "source": [
        "Os dados possuem alguma ciclicidade aperiódica?\n",
        "\n",
        "<img src = \"https://i.imgur.com/fHrJaFl.png\" width = 400>"
      ]
    },
    {
      "cell_type": "markdown",
      "metadata": {
        "id": "xQnHB5sSlItH"
      },
      "source": [
        "A biblioteca `statsmodels` fornece uma implementação do método de decomposição clássica, em uma função chamada\n",
        "[`seasonal_decompose`](https://www.statsmodels.org/stable/generated/statsmodels.tsa.seasonal.seasonal_decompose.html).\n",
        "\n",
        "A biblioteca requer que você especifique se o modelo é aditivo ou multiplicativo. A principal diferença entre os dois modelos é que:\n",
        "- Modelo aditivo: y(t) = Média + Tendência + Sazonalidade + Resíduo\n",
        "- Modelo multiplicativo: y(t) = Média * Tendência * Sazonalidade * Resíduo\n",
        "\n",
        "Veja como aplicar a decomposição de componentes nas células abaixo."
      ]
    },
    {
      "cell_type": "code",
      "metadata": {
        "scrolled": true,
        "id": "zQct90fHlItI",
        "colab": {
          "base_uri": "https://localhost:8080/",
          "height": 480
        },
        "outputId": "9f0a528f-c7e9-42d8-f238-c918625be85a"
      },
      "source": [
        "from statsmodels.tsa.seasonal import seasonal_decompose\n",
        "\n",
        "# cria modelo\n",
        "decomposition = seasonal_decompose(train_ts, model='multiplicative')  \n",
        "# teste tambem com model='additive' e veja se você nota alguma diferença\n",
        "\n",
        "# define os componentes\n",
        "trend = decomposition.trend\n",
        "seasonal = decomposition.seasonal\n",
        "residual = decomposition.resid\n",
        "\n",
        "# plots\n",
        "plt.subplots(figsize=(10, 7))\n",
        "plt.subplot(411)\n",
        "plt.plot(train_ts, label='Original')\n",
        "plt.legend(loc='best')\n",
        "\n",
        "plt.subplot(412)\n",
        "plt.plot(trend, label='Trend')\n",
        "plt.legend(loc='best')\n",
        "\n",
        "plt.subplot(413)\n",
        "plt.plot(seasonal, label='Seasonality')\n",
        "plt.legend(loc='best')\n",
        "\n",
        "plt.subplot(414)\n",
        "plt.plot(residual, label='Residuals')\n",
        "plt.legend(loc='best')"
      ],
      "execution_count": null,
      "outputs": [
        {
          "output_type": "stream",
          "text": [
            "/usr/local/lib/python3.7/dist-packages/statsmodels/tools/_testing.py:19: FutureWarning: pandas.util.testing is deprecated. Use the functions in the public API at pandas.testing instead.\n",
            "  import pandas.util.testing as tm\n"
          ],
          "name": "stderr"
        },
        {
          "output_type": "execute_result",
          "data": {
            "text/plain": [
              "<matplotlib.legend.Legend at 0x7f575c421a90>"
            ]
          },
          "metadata": {
            "tags": []
          },
          "execution_count": 37
        },
        {
          "output_type": "display_data",
          "data": {
            "image/png": "[encoded data removed]",
            "text/plain": [
              "<Figure size 720x504 with 4 Axes>"
            ]
          },
          "metadata": {
            "tags": [],
            "needs_background": "light"
          }
        }
      ]
    },
    {
      "cell_type": "code",
      "metadata": {
        "colab": {
          "base_uri": "https://localhost:8080/",
          "height": 301
        },
        "id": "GwhDEtWXbHsl",
        "outputId": "61826580-7673-4b52-b995-e51ccc9a91fd"
      },
      "source": [
        "# Outra forma possível de plotar a decomposição\n",
        "decomposition.plot()\n",
        "plt.show()"
      ],
      "execution_count": null,
      "outputs": [
        {
          "output_type": "display_data",
          "data": {
            "image/png": "[encoded data removed]",
            "text/plain": [
              "<Figure size 432x288 with 4 Axes>"
            ]
          },
          "metadata": {
            "tags": [],
            "needs_background": "light"
          }
        }
      ]
    },
    {
      "cell_type": "markdown",
      "metadata": {
        "id": "4H9pO2pClItM"
      },
      "source": [
        "#### 5.1.4. Amortecimento Exponencial"
      ]
    },
    {
      "cell_type": "markdown",
      "metadata": {
        "id": "EnMmLd5mlItN"
      },
      "source": [
        "O amortecimento exponencial é um método de previsão de série temporal para dados univariados (apenas uma variável) que pode ser estendido para dar suporte a dados com uma tendência sistemática ou componente sazonal. Os métodos de amortecimento exponencial são apropriados para dados não estacionários (ou seja, dados com tendência e dados sazonais).\n",
        "\n",
        "> As previsões produzidas usando métodos de amortecimento exponencial são médias ponderadas de observações anteriores, com os pesos decaindo exponencialmente à medida que as observações envelhecem. Em outras palavras, quanto mais recente a observação, maior o peso associado.\n",
        "\n",
        "— Página 171, [Forecasting: principles and practice](https://amzn.to/2xlJsfV), 2013.\n",
        "\n",
        "A biblioteca `statsmodels` possui a implementação dessa técnica com o método [ExponentialSmoothing](https://www.statsmodels.org/dev/generated/statsmodels.tsa.holtwinters.ExponentialSmoothing.html).\n",
        "\n",
        "Para se aprofundar nos diferentes parâmetros desse modelo e quando utilizá-lo, recomendamos a leitura desse artigos:\n",
        "- [A Gentle Introduction to Exponential Smoothing for Time Series Forecasting in Python](https://machinelearningmastery.com/exponential-smoothing-for-time-series-forecasting-in-python/)\n",
        "- [Time Series in Python — Exponential Smoothing and ARIMA processes](https://towardsdatascience.com/time-series-in-python-exponential-smoothing-and-arima-processes-2c67f2a52788)"
      ]
    },
    {
      "cell_type": "code",
      "metadata": {
        "id": "401P5SVslItO"
      },
      "source": [
        "# importa biblioteca\n",
        "from statsmodels.tsa.holtwinters import ExponentialSmoothing\n",
        "\n",
        "# cria classe\n",
        "expsmoothing = ExponentialSmoothing(train_ts)\n",
        "\n",
        "# fit do modelo\n",
        "expsmoothing_fit = expsmoothing.fit()\n",
        "\n",
        "# previsao\n",
        "expsmoothing_yhat = expsmoothing_fit.predict(start=test_ts.index[0], end=test_ts.index[-1])"
      ],
      "execution_count": null,
      "outputs": []
    },
    {
      "cell_type": "code",
      "metadata": {
        "colab": {
          "base_uri": "https://localhost:8080/",
          "height": 285
        },
        "id": "EHyd2SSYiPhE",
        "outputId": "e73ce87a-2126-41e8-9fb8-b635ba05fbf7"
      },
      "source": [
        "# plot dos resultados nos dados de treino:\n",
        "plt.plot(train_ts, color='blue')\n",
        "plt.plot(expsmoothing_fit.predict(start=train_ts.index[0], end=train_ts.index[-1]), color='green')"
      ],
      "execution_count": null,
      "outputs": [
        {
          "output_type": "execute_result",
          "data": {
            "text/plain": [
              "[<matplotlib.lines.Line2D at 0x7f5751e0c210>]"
            ]
          },
          "metadata": {
            "tags": []
          },
          "execution_count": 40
        },
        {
          "output_type": "display_data",
          "data": {
            "image/png": "[encoded data removed]",
            "text/plain": [
              "<Figure size 432x288 with 1 Axes>"
            ]
          },
          "metadata": {
            "tags": [],
            "needs_background": "light"
          }
        }
      ]
    },
    {
      "cell_type": "code",
      "metadata": {
        "id": "j09Jcs-pK-0p",
        "colab": {
          "base_uri": "https://localhost:8080/"
        },
        "outputId": "bbb9bb01-9e8e-4cb3-c6ad-3898845000f3"
      },
      "source": [
        "expsmoothing_yhat"
      ],
      "execution_count": null,
      "outputs": [
        {
          "output_type": "execute_result",
          "data": {
            "text/plain": [
              "2019-01-01    1035.609985\n",
              "2019-01-02    1035.609985\n",
              "2019-01-03    1035.609985\n",
              "2019-01-04    1035.609985\n",
              "2019-01-05    1035.609985\n",
              "                 ...     \n",
              "2019-07-05    1035.609985\n",
              "2019-07-06    1035.609985\n",
              "2019-07-07    1035.609985\n",
              "2019-07-08    1035.609985\n",
              "2019-07-09    1035.609985\n",
              "Freq: D, Length: 190, dtype: float64"
            ]
          },
          "metadata": {
            "tags": []
          },
          "execution_count": 41
        }
      ]
    },
    {
      "cell_type": "code",
      "metadata": {
        "id": "ppmh-xfYlItS",
        "colab": {
          "base_uri": "https://localhost:8080/",
          "height": 285
        },
        "outputId": "63b20efb-de21-4e3d-b105-819f4f9d370e"
      },
      "source": [
        "# Plot da previsão nos dados de teste\n",
        "plt.plot(test_ts, color='orange')\n",
        "plt.plot(expsmoothing_yhat, color='red')"
      ],
      "execution_count": null,
      "outputs": [
        {
          "output_type": "execute_result",
          "data": {
            "text/plain": [
              "[<matplotlib.lines.Line2D at 0x7f5751d8cc10>]"
            ]
          },
          "metadata": {
            "tags": []
          },
          "execution_count": 42
        },
        {
          "output_type": "display_data",
          "data": {
            "image/png": "[encoded data removed]",
            "text/plain": [
              "<Figure size 432x288 with 1 Axes>"
            ]
          },
          "metadata": {
            "tags": [],
            "needs_background": "light"
          }
        }
      ]
    },
    {
      "cell_type": "code",
      "metadata": {
        "id": "U-hbB_nGlItW",
        "colab": {
          "base_uri": "https://localhost:8080/",
          "height": 228
        },
        "outputId": "a5ad6a3c-8cf4-450b-8dc2-6ecb95f99c03"
      },
      "source": [
        "# dataset para medir erro\n",
        "exp_forecast = pd.concat([train_ts.append(test_ts),\n",
        "                          expsmoothing_yhat.rename('yhat')], axis=1, sort=False)\n",
        "\n",
        "exp_forecast.tail()"
      ],
      "execution_count": null,
      "outputs": [
        {
          "output_type": "execute_result",
          "data": {
            "text/html": [
              "<div>\n",
              "<style scoped>\n",
              "    .dataframe tbody tr th:only-of-type {\n",
              "        vertical-align: middle;\n",
              "    }\n",
              "\n",
              "    .dataframe tbody tr th {\n",
              "        vertical-align: top;\n",
              "    }\n",
              "\n",
              "    .dataframe thead th {\n",
              "        text-align: right;\n",
              "    }\n",
              "</style>\n",
              "<table border=\"1\" class=\"dataframe\">\n",
              "  <thead>\n",
              "    <tr style=\"text-align: right;\">\n",
              "      <th></th>\n",
              "      <th>y</th>\n",
              "      <th>yhat</th>\n",
              "    </tr>\n",
              "    <tr>\n",
              "      <th>Date</th>\n",
              "      <th></th>\n",
              "      <th></th>\n",
              "    </tr>\n",
              "  </thead>\n",
              "  <tbody>\n",
              "    <tr>\n",
              "      <th>2019-07-05</th>\n",
              "      <td>1131.589966</td>\n",
              "      <td>1035.609985</td>\n",
              "    </tr>\n",
              "    <tr>\n",
              "      <th>2019-07-06</th>\n",
              "      <td>1116.349976</td>\n",
              "      <td>1035.609985</td>\n",
              "    </tr>\n",
              "    <tr>\n",
              "      <th>2019-07-07</th>\n",
              "      <td>1116.349976</td>\n",
              "      <td>1035.609985</td>\n",
              "    </tr>\n",
              "    <tr>\n",
              "      <th>2019-07-08</th>\n",
              "      <td>1116.349976</td>\n",
              "      <td>1035.609985</td>\n",
              "    </tr>\n",
              "    <tr>\n",
              "      <th>2019-07-09</th>\n",
              "      <td>1124.829956</td>\n",
              "      <td>1035.609985</td>\n",
              "    </tr>\n",
              "  </tbody>\n",
              "</table>\n",
              "</div>"
            ],
            "text/plain": [
              "                      y         yhat\n",
              "Date                                \n",
              "2019-07-05  1131.589966  1035.609985\n",
              "2019-07-06  1116.349976  1035.609985\n",
              "2019-07-07  1116.349976  1035.609985\n",
              "2019-07-08  1116.349976  1035.609985\n",
              "2019-07-09  1124.829956  1035.609985"
            ]
          },
          "metadata": {
            "tags": []
          },
          "execution_count": 43
        }
      ]
    },
    {
      "cell_type": "code",
      "metadata": {
        "id": "O6it-V2flItb"
      },
      "source": [
        "# função reutilizável para cálculo de erros\n",
        "def calculate_forecast_errors(df, prediction_size):\n",
        "    \n",
        "    df = df.copy()\n",
        "    \n",
        "    df['e'] = df['y'] - df['yhat']\n",
        "    df['p'] = 100 * df['e'] / df['y']\n",
        "    \n",
        "    predicted_part = df[-prediction_size:]\n",
        "    \n",
        "    error_mean = lambda error_name: np.mean(np.abs(predicted_part[error_name]))\n",
        "    \n",
        "    return {'MAPE': error_mean('p'), 'MAE': error_mean('e')}"
      ],
      "execution_count": null,
      "outputs": []
    },
    {
      "cell_type": "code",
      "metadata": {
        "id": "D1B6Uj7MlItf",
        "colab": {
          "base_uri": "https://localhost:8080/"
        },
        "outputId": "32cf45d3-3264-4008-96a3-202423677856"
      },
      "source": [
        "# métricas de erro\n",
        "for err_name, err_value in calculate_forecast_errors(exp_forecast, len(test_ts)).items():\n",
        "    print(err_name, err_value)"
      ],
      "execution_count": null,
      "outputs": [
        {
          "output_type": "stream",
          "text": [
            "MAPE 8.678738937720926\n",
            "MAE 101.4019628421052\n"
          ],
          "name": "stdout"
        }
      ]
    },
    {
      "cell_type": "markdown",
      "metadata": {
        "id": "DLta3s-1lItm"
      },
      "source": [
        "#### 5.1.5. ARIMA"
      ]
    },
    {
      "cell_type": "markdown",
      "metadata": {
        "id": "8qiZZVqBlIto"
      },
      "source": [
        "A classe de modelos ARIMA (*Autoregressive Integrated Moving Average*) modelam a previsão como uma função linear das observações diferenciadas e erros residuais em observações anteriores.\n",
        "\n",
        "O ARIMA combina os modelos de Autorregressão (AR) e Média Móvel (MA), bem como uma etapa de pré-processamento de diferenciação da sequência para tornar a sequência estacionária, chamada integração (I).\n",
        "\n",
        "De forma geral, os modelos ARIMA são caracterizados três parâmetros principais que devem serem ajustados, chamados de \"ordem\" do modelo:\n",
        "- **Parâmetro d**: é um número inteiro que indica a ordem de diferenciação do modelo. É usado para retirar a estacionariedade dos dados\n",
        "- **Parâmetro p**: é um número inteiro (ou uma lista de inteiros) que indica a ordem do termo AR (autorregressivo) do modelo\n",
        "- **Parâmetro q**: é um número inteiro (ou uma lista de inteiros) que indica a ordem do termo de MA (média móvel) do modelo\n",
        "\n",
        "Além disso, se a série temporal tem tendências sazonais, então é possível acrescentar termos sazonais e o modelo se torna SARIMA (abreviação para \"*Seasonal ARIMA*\").\n",
        "\n",
        "Para maiores detalhes de como ajustar a ordem (p,d,q) de um modelo ARIMA, recomenda-se a leitura do artigo abaixo:\n",
        "- [ARIMA Model – Complete Guide to Time Series Forecasting in Python](https://www.machinelearningplus.com/time-series/arima-model-time-series-forecasting-python/)\n",
        "\n",
        "Os modelos ARIMA são mais flexíveis do que outros modelos estatísticos, tais como amortecimento exponencial ou uma simples regressão linear. Na verdade, alguns modelos de amortecimento exponencial são casos especiais dos modelos ARIMA. Por exemplo, um modelo simples de suavização exponencial é equivalente a um modelo ARIMA(0,1,1).\n",
        "\n",
        "Assim, os modelos ARIMA são modelos relativamente mais simples do que modelos de *machine learning*, mas que conseguem ser flexíveis e capturar diversas relações complexas nos dados, apesar de não performarem muito bem com dados com grande oscilação em um curto intervalo de tempo.\n",
        "\n",
        "Uma observação importante é que modelos ARIMA devem ser usados somente em séries estacionárias. Assim, deve-se remover a tendência dos dados antes de analisar a série. Para detalhes de como remover a estacionariedade de séries temporais, recomendamos essa leitura:\n",
        "- [How to Make a Time Series Stationary in Python](https://analyzingalpha.com/make-time-series-stationary-python)\n",
        "\n",
        "Em Python, a biblioteca `statsmodels` possui uma implemetação de modelos [`ARIMA`](https://www.statsmodels.org/stable/generated/statsmodels.tsa.arima.model.ARIMA.html), que pode ser usada da seguinte forma:"
      ]
    },
    {
      "cell_type": "code",
      "metadata": {
        "id": "s0kN_oFHlItq"
      },
      "source": [
        "# importando a biblioteca\n",
        "from statsmodels.tsa.arima_model import ARIMA\n",
        "\n",
        "# fit do modelo\n",
        "ar_model = ARIMA(train_ts, order=(1, 1, 1))  # especificando a ordem do ARIMA: order=(p, d, q)\n",
        "ar_fit = ar_model.fit(disp=False)\n",
        "\n",
        "# previsão\n",
        "ar_yhat = ar_fit.predict(test_ts.index[0], test_ts.index[-1], typ='levels')"
      ],
      "execution_count": null,
      "outputs": []
    },
    {
      "cell_type": "code",
      "metadata": {
        "scrolled": true,
        "id": "eRXoSEUilItw",
        "colab": {
          "base_uri": "https://localhost:8080/",
          "height": 285
        },
        "outputId": "0dcc93e0-2ec5-456b-e87a-a4a974ed2225"
      },
      "source": [
        "# plot results\n",
        "plt.plot(test_ts, color='orange')\n",
        "plt.plot(ar_yhat, color='red')"
      ],
      "execution_count": null,
      "outputs": [
        {
          "output_type": "execute_result",
          "data": {
            "text/plain": [
              "[<matplotlib.lines.Line2D at 0x7f5751a34850>]"
            ]
          },
          "metadata": {
            "tags": []
          },
          "execution_count": 47
        },
        {
          "output_type": "display_data",
          "data": {
            "image/png": "[encoded data removed]",
            "text/plain": [
              "<Figure size 432x288 with 1 Axes>"
            ]
          },
          "metadata": {
            "tags": [],
            "needs_background": "light"
          }
        }
      ]
    },
    {
      "cell_type": "code",
      "metadata": {
        "id": "vtapByoYlIt1",
        "colab": {
          "base_uri": "https://localhost:8080/",
          "height": 228
        },
        "outputId": "41d2122f-d57f-43db-efea-219ec6d3c6bf"
      },
      "source": [
        "# dataset para medir erro\n",
        "arima_forecast = pd.concat([train_ts.append(test_ts),\n",
        "                            ar_yhat.rename('yhat')], axis=1, sort=False)\n",
        "\n",
        "arima_forecast.tail()"
      ],
      "execution_count": null,
      "outputs": [
        {
          "output_type": "execute_result",
          "data": {
            "text/html": [
              "<div>\n",
              "<style scoped>\n",
              "    .dataframe tbody tr th:only-of-type {\n",
              "        vertical-align: middle;\n",
              "    }\n",
              "\n",
              "    .dataframe tbody tr th {\n",
              "        vertical-align: top;\n",
              "    }\n",
              "\n",
              "    .dataframe thead th {\n",
              "        text-align: right;\n",
              "    }\n",
              "</style>\n",
              "<table border=\"1\" class=\"dataframe\">\n",
              "  <thead>\n",
              "    <tr style=\"text-align: right;\">\n",
              "      <th></th>\n",
              "      <th>y</th>\n",
              "      <th>yhat</th>\n",
              "    </tr>\n",
              "    <tr>\n",
              "      <th>Date</th>\n",
              "      <th></th>\n",
              "      <th></th>\n",
              "    </tr>\n",
              "  </thead>\n",
              "  <tbody>\n",
              "    <tr>\n",
              "      <th>2019-07-05</th>\n",
              "      <td>1131.589966</td>\n",
              "      <td>1088.719932</td>\n",
              "    </tr>\n",
              "    <tr>\n",
              "      <th>2019-07-06</th>\n",
              "      <td>1116.349976</td>\n",
              "      <td>1089.005170</td>\n",
              "    </tr>\n",
              "    <tr>\n",
              "      <th>2019-07-07</th>\n",
              "      <td>1116.349976</td>\n",
              "      <td>1089.290408</td>\n",
              "    </tr>\n",
              "    <tr>\n",
              "      <th>2019-07-08</th>\n",
              "      <td>1116.349976</td>\n",
              "      <td>1089.575646</td>\n",
              "    </tr>\n",
              "    <tr>\n",
              "      <th>2019-07-09</th>\n",
              "      <td>1124.829956</td>\n",
              "      <td>1089.860884</td>\n",
              "    </tr>\n",
              "  </tbody>\n",
              "</table>\n",
              "</div>"
            ],
            "text/plain": [
              "                      y         yhat\n",
              "Date                                \n",
              "2019-07-05  1131.589966  1088.719932\n",
              "2019-07-06  1116.349976  1089.005170\n",
              "2019-07-07  1116.349976  1089.290408\n",
              "2019-07-08  1116.349976  1089.575646\n",
              "2019-07-09  1124.829956  1089.860884"
            ]
          },
          "metadata": {
            "tags": []
          },
          "execution_count": 48
        }
      ]
    },
    {
      "cell_type": "code",
      "metadata": {
        "id": "g4WVbGoLlIt5",
        "colab": {
          "base_uri": "https://localhost:8080/"
        },
        "outputId": "381832e1-afd6-49d0-9101-5e8f45421bd0"
      },
      "source": [
        "# métricas de erro\n",
        "for err_name, err_value in calculate_forecast_errors(arima_forecast, len(test_ts)).items():\n",
        "    print(err_name, err_value)"
      ],
      "execution_count": null,
      "outputs": [
        {
          "output_type": "stream",
          "text": [
            "MAPE 6.563933779576808\n",
            "MAE 77.04669292606819\n"
          ],
          "name": "stdout"
        }
      ]
    },
    {
      "cell_type": "markdown",
      "metadata": {
        "id": "oPPIJY9jlIt8"
      },
      "source": [
        "#### 5.1.6. Prophet"
      ]
    },
    {
      "cell_type": "markdown",
      "metadata": {
        "id": "NrX3wlgjlIt9"
      },
      "source": [
        "Como mencionado acima, o [Prophet](https://facebook.github.io/prophet/docs/quick_start.html) é uma ferramenta que foi construída pelo Facebook para lidar com séries temporais e fornece uma abordagem prática para previsões \"em escala\". O intuito da ferramenta é automatizar os recursos comuns de séries temporais de negócios, fornecendo métodos simples e ajustáveis para a análise e predição de séries temporais.\n",
        "\n",
        "Dessa forma, o Prophet permite que analistas com diferentes níveis de conhecimento em Data Science consigam realizar mais previsões do que manualmente."
      ]
    },
    {
      "cell_type": "markdown",
      "metadata": {
        "id": "8JAy9nJclIt-"
      },
      "source": [
        "O pacote `Prophet` possui algumas maneiras específicas de lidar com os dados. Por exemplo, os dados de entrada devem ter apenas duas colunas chamadas `ds` e `y`."
      ]
    },
    {
      "cell_type": "code",
      "metadata": {
        "scrolled": true,
        "id": "v6CRJBMhlIt_",
        "colab": {
          "base_uri": "https://localhost:8080/",
          "height": 198
        },
        "outputId": "5a32f0b3-d901-4893-8ec3-4e155661192e"
      },
      "source": [
        "# ajuste do dataset de treino\n",
        "train_prophet = train_ts.reset_index()\n",
        "train_prophet.columns = ['ds', 'y']\n",
        "train_prophet.head()"
      ],
      "execution_count": null,
      "outputs": [
        {
          "output_type": "execute_result",
          "data": {
            "text/html": [
              "<div>\n",
              "<style scoped>\n",
              "    .dataframe tbody tr th:only-of-type {\n",
              "        vertical-align: middle;\n",
              "    }\n",
              "\n",
              "    .dataframe tbody tr th {\n",
              "        vertical-align: top;\n",
              "    }\n",
              "\n",
              "    .dataframe thead th {\n",
              "        text-align: right;\n",
              "    }\n",
              "</style>\n",
              "<table border=\"1\" class=\"dataframe\">\n",
              "  <thead>\n",
              "    <tr style=\"text-align: right;\">\n",
              "      <th></th>\n",
              "      <th>ds</th>\n",
              "      <th>y</th>\n",
              "    </tr>\n",
              "  </thead>\n",
              "  <tbody>\n",
              "    <tr>\n",
              "      <th>0</th>\n",
              "      <td>2014-07-10</td>\n",
              "      <td>569.536316</td>\n",
              "    </tr>\n",
              "    <tr>\n",
              "      <th>1</th>\n",
              "      <td>2014-07-11</td>\n",
              "      <td>577.594238</td>\n",
              "    </tr>\n",
              "    <tr>\n",
              "      <th>2</th>\n",
              "      <td>2014-07-12</td>\n",
              "      <td>583.268616</td>\n",
              "    </tr>\n",
              "    <tr>\n",
              "      <th>3</th>\n",
              "      <td>2014-07-13</td>\n",
              "      <td>583.268616</td>\n",
              "    </tr>\n",
              "    <tr>\n",
              "      <th>4</th>\n",
              "      <td>2014-07-14</td>\n",
              "      <td>583.268616</td>\n",
              "    </tr>\n",
              "  </tbody>\n",
              "</table>\n",
              "</div>"
            ],
            "text/plain": [
              "          ds           y\n",
              "0 2014-07-10  569.536316\n",
              "1 2014-07-11  577.594238\n",
              "2 2014-07-12  583.268616\n",
              "3 2014-07-13  583.268616\n",
              "4 2014-07-14  583.268616"
            ]
          },
          "metadata": {
            "tags": []
          },
          "execution_count": 50
        }
      ]
    },
    {
      "cell_type": "code",
      "metadata": {
        "id": "lnbQAmualIuC",
        "colab": {
          "base_uri": "https://localhost:8080/",
          "height": 198
        },
        "outputId": "54582556-ef02-4e1e-b72e-e63a0075cefb"
      },
      "source": [
        "# adjust do dataset de teste\n",
        "test_prophet = test_ts.reset_index()\n",
        "test_prophet.columns = ['ds', 'y']\n",
        "test_prophet.head()"
      ],
      "execution_count": null,
      "outputs": [
        {
          "output_type": "execute_result",
          "data": {
            "text/html": [
              "<div>\n",
              "<style scoped>\n",
              "    .dataframe tbody tr th:only-of-type {\n",
              "        vertical-align: middle;\n",
              "    }\n",
              "\n",
              "    .dataframe tbody tr th {\n",
              "        vertical-align: top;\n",
              "    }\n",
              "\n",
              "    .dataframe thead th {\n",
              "        text-align: right;\n",
              "    }\n",
              "</style>\n",
              "<table border=\"1\" class=\"dataframe\">\n",
              "  <thead>\n",
              "    <tr style=\"text-align: right;\">\n",
              "      <th></th>\n",
              "      <th>ds</th>\n",
              "      <th>y</th>\n",
              "    </tr>\n",
              "  </thead>\n",
              "  <tbody>\n",
              "    <tr>\n",
              "      <th>0</th>\n",
              "      <td>2019-01-01</td>\n",
              "      <td>1045.849976</td>\n",
              "    </tr>\n",
              "    <tr>\n",
              "      <th>1</th>\n",
              "      <td>2019-01-02</td>\n",
              "      <td>1045.849976</td>\n",
              "    </tr>\n",
              "    <tr>\n",
              "      <th>2</th>\n",
              "      <td>2019-01-03</td>\n",
              "      <td>1016.059998</td>\n",
              "    </tr>\n",
              "    <tr>\n",
              "      <th>3</th>\n",
              "      <td>2019-01-04</td>\n",
              "      <td>1070.709961</td>\n",
              "    </tr>\n",
              "    <tr>\n",
              "      <th>4</th>\n",
              "      <td>2019-01-05</td>\n",
              "      <td>1068.390015</td>\n",
              "    </tr>\n",
              "  </tbody>\n",
              "</table>\n",
              "</div>"
            ],
            "text/plain": [
              "          ds            y\n",
              "0 2019-01-01  1045.849976\n",
              "1 2019-01-02  1045.849976\n",
              "2 2019-01-03  1016.059998\n",
              "3 2019-01-04  1070.709961\n",
              "4 2019-01-05  1068.390015"
            ]
          },
          "metadata": {
            "tags": []
          },
          "execution_count": 51
        }
      ]
    },
    {
      "cell_type": "code",
      "metadata": {
        "id": "Ewyyts40lIuF"
      },
      "source": [
        "# imports\n",
        "from fbprophet import Prophet"
      ],
      "execution_count": null,
      "outputs": []
    },
    {
      "cell_type": "code",
      "metadata": {
        "id": "lbt5nB2llIuJ",
        "colab": {
          "base_uri": "https://localhost:8080/"
        },
        "outputId": "75c95866-f7ad-49b4-d1c9-0a1a69238fec"
      },
      "source": [
        "# instancia prophet e treina\n",
        "m = Prophet()\n",
        "m.fit(train_prophet)"
      ],
      "execution_count": null,
      "outputs": [
        {
          "output_type": "stream",
          "text": [
            "INFO:fbprophet:Disabling daily seasonality. Run prophet with daily_seasonality=True to override this.\n"
          ],
          "name": "stderr"
        },
        {
          "output_type": "execute_result",
          "data": {
            "text/plain": [
              "<fbprophet.forecaster.Prophet at 0x7f57519e0b10>"
            ]
          },
          "metadata": {
            "tags": []
          },
          "execution_count": 53
        }
      ]
    },
    {
      "cell_type": "code",
      "metadata": {
        "id": "djEHYtBBlIuM"
      },
      "source": [
        "# construção do dataset de teste para alimentar o modelo\n",
        "future = m.make_future_dataframe(periods=len(test_prophet))\n",
        "\n",
        "# realiza previsão\n",
        "forecast = m.predict(future)"
      ],
      "execution_count": null,
      "outputs": []
    },
    {
      "cell_type": "code",
      "metadata": {
        "id": "aQIQUh3vlIuR",
        "colab": {
          "base_uri": "https://localhost:8080/",
          "height": 441
        },
        "outputId": "5d50b303-5d62-4462-b966-e7b9d3caa1fe"
      },
      "source": [
        "# plot dos resultados\n",
        "m.plot(forecast);"
      ],
      "execution_count": null,
      "outputs": [
        {
          "output_type": "display_data",
          "data": {
            "image/png": "[encoded data removed]",
            "text/plain": [
              "<Figure size 720x432 with 1 Axes>"
            ]
          },
          "metadata": {
            "tags": []
          }
        }
      ]
    },
    {
      "cell_type": "code",
      "metadata": {
        "id": "d3CmV9aVlIuZ",
        "colab": {
          "base_uri": "https://localhost:8080/",
          "height": 657
        },
        "outputId": "134e8cd8-fa74-4f22-b09a-d16ea6ad542e"
      },
      "source": [
        "# plot das componentes da série\n",
        "m.plot_components(forecast);"
      ],
      "execution_count": null,
      "outputs": [
        {
          "output_type": "display_data",
          "data": {
            "image/png": "[encoded data removed]",
            "text/plain": [
              "<Figure size 648x648 with 3 Axes>"
            ]
          },
          "metadata": {
            "tags": []
          }
        }
      ]
    },
    {
      "cell_type": "code",
      "metadata": {
        "id": "237RvPPllIuc"
      },
      "source": [
        "# função para construir dataset com valores históricos e previsão realizada\n",
        "def make_comparison_dataframe(historical, forecast):\n",
        "    return forecast.set_index('ds')[['yhat', 'yhat_lower', 'yhat_upper']].join(historical.set_index('ds'))"
      ],
      "execution_count": null,
      "outputs": []
    },
    {
      "cell_type": "code",
      "metadata": {
        "id": "eDFoj79MlIuk",
        "colab": {
          "base_uri": "https://localhost:8080/",
          "height": 228
        },
        "outputId": "6459842d-caf1-4252-d500-40857f4470c6"
      },
      "source": [
        "# usa função para construir dataset\n",
        "prophet_forecast = make_comparison_dataframe(train_prophet.append(test_prophet), forecast)\n",
        "\n",
        "prophet_forecast.tail()"
      ],
      "execution_count": null,
      "outputs": [
        {
          "output_type": "execute_result",
          "data": {
            "text/html": [
              "<div>\n",
              "<style scoped>\n",
              "    .dataframe tbody tr th:only-of-type {\n",
              "        vertical-align: middle;\n",
              "    }\n",
              "\n",
              "    .dataframe tbody tr th {\n",
              "        vertical-align: top;\n",
              "    }\n",
              "\n",
              "    .dataframe thead th {\n",
              "        text-align: right;\n",
              "    }\n",
              "</style>\n",
              "<table border=\"1\" class=\"dataframe\">\n",
              "  <thead>\n",
              "    <tr style=\"text-align: right;\">\n",
              "      <th></th>\n",
              "      <th>yhat</th>\n",
              "      <th>yhat_lower</th>\n",
              "      <th>yhat_upper</th>\n",
              "      <th>y</th>\n",
              "    </tr>\n",
              "    <tr>\n",
              "      <th>ds</th>\n",
              "      <th></th>\n",
              "      <th></th>\n",
              "      <th></th>\n",
              "      <th></th>\n",
              "    </tr>\n",
              "  </thead>\n",
              "  <tbody>\n",
              "    <tr>\n",
              "      <th>2019-07-05</th>\n",
              "      <td>1034.969029</td>\n",
              "      <td>842.839096</td>\n",
              "      <td>1221.988218</td>\n",
              "      <td>1131.589966</td>\n",
              "    </tr>\n",
              "    <tr>\n",
              "      <th>2019-07-06</th>\n",
              "      <td>1038.056639</td>\n",
              "      <td>853.784066</td>\n",
              "      <td>1215.578565</td>\n",
              "      <td>1116.349976</td>\n",
              "    </tr>\n",
              "    <tr>\n",
              "      <th>2019-07-07</th>\n",
              "      <td>1041.302952</td>\n",
              "      <td>845.811811</td>\n",
              "      <td>1224.109591</td>\n",
              "      <td>1116.349976</td>\n",
              "    </tr>\n",
              "    <tr>\n",
              "      <th>2019-07-08</th>\n",
              "      <td>1044.832143</td>\n",
              "      <td>850.045357</td>\n",
              "      <td>1227.349816</td>\n",
              "      <td>1116.349976</td>\n",
              "    </tr>\n",
              "    <tr>\n",
              "      <th>2019-07-09</th>\n",
              "      <td>1049.276231</td>\n",
              "      <td>850.608340</td>\n",
              "      <td>1231.624834</td>\n",
              "      <td>1124.829956</td>\n",
              "    </tr>\n",
              "  </tbody>\n",
              "</table>\n",
              "</div>"
            ],
            "text/plain": [
              "                   yhat  yhat_lower   yhat_upper            y\n",
              "ds                                                           \n",
              "2019-07-05  1034.969029  842.839096  1221.988218  1131.589966\n",
              "2019-07-06  1038.056639  853.784066  1215.578565  1116.349976\n",
              "2019-07-07  1041.302952  845.811811  1224.109591  1116.349976\n",
              "2019-07-08  1044.832143  850.045357  1227.349816  1116.349976\n",
              "2019-07-09  1049.276231  850.608340  1231.624834  1124.829956"
            ]
          },
          "metadata": {
            "tags": []
          },
          "execution_count": 58
        }
      ]
    },
    {
      "cell_type": "code",
      "metadata": {
        "id": "0lLXeKzElIun",
        "colab": {
          "base_uri": "https://localhost:8080/"
        },
        "outputId": "fd22b1ef-2318-4167-b285-d19b46da4ebc"
      },
      "source": [
        "# cálculo de erros\n",
        "for err_name, err_value in calculate_forecast_errors(prophet_forecast, len(test_ts)).items():\n",
        "    print(err_name, err_value)"
      ],
      "execution_count": null,
      "outputs": [
        {
          "output_type": "stream",
          "text": [
            "MAPE 10.959555309432357\n",
            "MAE 128.1155924361191\n"
          ],
          "name": "stdout"
        }
      ]
    },
    {
      "cell_type": "code",
      "metadata": {
        "id": "jro4QcH1lIur",
        "colab": {
          "base_uri": "https://localhost:8080/",
          "height": 282
        },
        "outputId": "14d11811-4635-4722-bc67-8e750eb39c4c"
      },
      "source": [
        "# plot dos resultados\n",
        "plt.plot(train_ts)\n",
        "plt.plot(test_ts, color='orange')\n",
        "plt.plot(prophet_forecast['yhat'], color='red')"
      ],
      "execution_count": null,
      "outputs": [
        {
          "output_type": "execute_result",
          "data": {
            "text/plain": [
              "[<matplotlib.lines.Line2D at 0x7f574df79750>]"
            ]
          },
          "metadata": {
            "tags": []
          },
          "execution_count": 60
        },
        {
          "output_type": "display_data",
          "data": {
            "image/png": "[encoded data removed]",
            "text/plain": [
              "<Figure size 432x288 with 1 Axes>"
            ]
          },
          "metadata": {
            "tags": [],
            "needs_background": "light"
          }
        }
      ]
    },
    {
      "cell_type": "markdown",
      "metadata": {
        "id": "2rC8uVrzlIuu"
      },
      "source": [
        "E aí, que modelo você usaria? ARIMA, Amortecimento Exponencial ou os recursos do `Prophet`?"
      ]
    },
    {
      "cell_type": "markdown",
      "metadata": {
        "id": "f0MbhIg0lIuu"
      },
      "source": [
        "### 5.2. Métodos de Machine Learning\n",
        "\n",
        "Até agora, aprendemos como realizar uma previsão apenas analisando os padrões da própria série temporal. No entanto, apesar de os modelos estatísticos, quando bem ajustados, conseguirem apresentar uma relativamente boa acurácia em muitas situações, eles apresentam limitações quando os dados apresentam um comporttamento mais complexo.\n",
        "\n",
        "Além disso, se a série temporal que você deseja prever é fortemente influenciada por fatores externos (expressos na forma de variaveis causais), você deve utilizar outras técnicas que consigam levar em consideração essas relações de causalidade. Caso você tenha esquecido da diferença entre causalidade e correlação:\n",
        "\n",
        "* **Correlação**: refere-se ao grau de associação entre duas variáveis aleatórias. Portanto, a correlação entre dois conjuntos de dados é o quanto eles se parecem. por exemplo: como o preço da ação de hoje está associada à de ontem?\n",
        "* **Causalidade**: implica que A e B têm uma relação de causa e efeito um com o outro. Você está dizendo que A causa B. Por exemplo: como o crescimento da população afeta o preço da ação do google?\n",
        "\n",
        "Assim, existem diversos modelos mais complexos que utilizam Machine Learning para realizar a previsão de dados com comportamentos mais complexos, ou até mesmo considerando diversas variáveis de entrada para a previsão."
      ]
    },
    {
      "cell_type": "markdown",
      "metadata": {
        "id": "BxbupEPClIuv"
      },
      "source": [
        "#### 5.2.1. Modelos de regressão\n",
        "\n",
        "Como vimos nessa aula, modelos de séries temporais consistem em problemas de regressão, mas com o tempo sendo uma variável do meu problema. Mesmo assim, a grande maioria de modelos de regressão vistos nas aulas passadas também são aplicáveis nos problemas de séries temporais desconsiderando o tempo.\n",
        "\n",
        "A desvantagem dessa abordagem, como falamos, é que o tempo possui uma grande relevância com relação às séries temporais, uma vez que os dados de hoje em geral possuem forte correlação com os dados de ontem ou de períodos próximos, e menor correlação com tempos mais distantes.\n",
        "\n",
        "Assim, os modelos de regressão que utilizamos vão tentar prever a variável de interesse com base nas variáveis de entrada, mas não vão considerar os dados de forma sequencial, onde os resultados de um dia influenciam nos resultados dos dias seguintes.\n",
        "\n",
        "Para contornar isso, podemos adicionar features que representam alguma noção de tempo para ajudar no aprendizado dos modelos, como o dia da semana, se é final de semana ou não, qual é o período do dia, ... "
      ]
    },
    {
      "cell_type": "markdown",
      "metadata": {
        "id": "pHrp-VhXlIuv"
      },
      "source": [
        "##### Exemplo\n",
        "\n",
        "Vamos considerar o seguinte problema: você foi convidado por uma empresa de transporte queniana para construir um modelo para prever quantos passageiros vão estar em cada viagem de ônibus com destino a Nairóbi em sua programação.\n",
        "\n",
        "Este é um concurso real de ciência de dados da [Zindi](https://zindi.africa/competitions/traffic-jam-predicting-peoples-movement-into-nairobi), uma plataforma de competição de ciência de dados com a missão de construir um ecossistema de ciência de dados na África. O dois conjuntos de dados usados neste notebook estão na pasta /data:\n",
        "\n",
        "- [Nairobi Raw] \n",
        "- [Nairóbi Treated]\n",
        "\n",
        "**Vamos utilizar um modelo de floresta aleatório (Random Forest)**, como aprendemos em aulas anteriores, para ver como ele performa nesse problema."
      ]
    },
    {
      "cell_type": "markdown",
      "metadata": {
        "id": "5VuZqWYslIuw"
      },
      "source": [
        "O dataset inicial fornecido pela companhia é o seguinte:"
      ]
    },
    {
      "cell_type": "code",
      "metadata": {
        "scrolled": true,
        "id": "kiAs4t7vlIux",
        "colab": {
          "base_uri": "https://localhost:8080/",
          "height": 215
        },
        "outputId": "b3cfc4e7-addb-4f33-d74d-a0b30a9401f7"
      },
      "source": [
        "# imports de blibliotecas\n",
        "import pandas as pd\n",
        "import numpy as np\n",
        "import matplotlib.pyplot as plt\n",
        "\n",
        "# carga dos dados\n",
        "nairobi_raw = pd.read_csv(\"/mydrive/dados/nairobi_raw.csv\", delimiter = \";\", decimal = \",\")\n",
        "print(nairobi_raw.shape)\n",
        "nairobi_raw.head()"
      ],
      "execution_count": null,
      "outputs": [
        {
          "output_type": "stream",
          "text": [
            "(51645, 7)\n"
          ],
          "name": "stdout"
        },
        {
          "output_type": "execute_result",
          "data": {
            "text/html": [
              "<div>\n",
              "<style scoped>\n",
              "    .dataframe tbody tr th:only-of-type {\n",
              "        vertical-align: middle;\n",
              "    }\n",
              "\n",
              "    .dataframe tbody tr th {\n",
              "        vertical-align: top;\n",
              "    }\n",
              "\n",
              "    .dataframe thead th {\n",
              "        text-align: right;\n",
              "    }\n",
              "</style>\n",
              "<table border=\"1\" class=\"dataframe\">\n",
              "  <thead>\n",
              "    <tr style=\"text-align: right;\">\n",
              "      <th></th>\n",
              "      <th>ride_id</th>\n",
              "      <th>travel_date</th>\n",
              "      <th>travel_time</th>\n",
              "      <th>travel_from</th>\n",
              "      <th>travel_to</th>\n",
              "      <th>car_type</th>\n",
              "      <th>max_capacity</th>\n",
              "    </tr>\n",
              "  </thead>\n",
              "  <tbody>\n",
              "    <tr>\n",
              "      <th>0</th>\n",
              "      <td>1442</td>\n",
              "      <td>17/10/2017</td>\n",
              "      <td>07:15</td>\n",
              "      <td>Migori</td>\n",
              "      <td>Nairobi</td>\n",
              "      <td>Bus</td>\n",
              "      <td>49</td>\n",
              "    </tr>\n",
              "    <tr>\n",
              "      <th>1</th>\n",
              "      <td>14304</td>\n",
              "      <td>14/11/2017</td>\n",
              "      <td>05:10</td>\n",
              "      <td>Kisii</td>\n",
              "      <td>Nairobi</td>\n",
              "      <td>Bus</td>\n",
              "      <td>49</td>\n",
              "    </tr>\n",
              "    <tr>\n",
              "      <th>2</th>\n",
              "      <td>5437</td>\n",
              "      <td>19/11/2017</td>\n",
              "      <td>07:12</td>\n",
              "      <td>Migori</td>\n",
              "      <td>Nairobi</td>\n",
              "      <td>Bus</td>\n",
              "      <td>49</td>\n",
              "    </tr>\n",
              "    <tr>\n",
              "      <th>3</th>\n",
              "      <td>5710</td>\n",
              "      <td>26/11/2017</td>\n",
              "      <td>07:05</td>\n",
              "      <td>Keroka</td>\n",
              "      <td>Nairobi</td>\n",
              "      <td>Bus</td>\n",
              "      <td>49</td>\n",
              "    </tr>\n",
              "    <tr>\n",
              "      <th>4</th>\n",
              "      <td>5777</td>\n",
              "      <td>27/11/2017</td>\n",
              "      <td>07:10</td>\n",
              "      <td>Homa Bay</td>\n",
              "      <td>Nairobi</td>\n",
              "      <td>Bus</td>\n",
              "      <td>49</td>\n",
              "    </tr>\n",
              "  </tbody>\n",
              "</table>\n",
              "</div>"
            ],
            "text/plain": [
              "   ride_id travel_date travel_time travel_from travel_to car_type  max_capacity\n",
              "0     1442  17/10/2017       07:15      Migori   Nairobi      Bus            49\n",
              "1    14304  14/11/2017       05:10       Kisii   Nairobi      Bus            49\n",
              "2     5437  19/11/2017       07:12      Migori   Nairobi      Bus            49\n",
              "3     5710  26/11/2017       07:05      Keroka   Nairobi      Bus            49\n",
              "4     5777  27/11/2017       07:10    Homa Bay   Nairobi      Bus            49"
            ]
          },
          "metadata": {
            "tags": []
          },
          "execution_count": 62
        }
      ]
    },
    {
      "cell_type": "markdown",
      "metadata": {
        "id": "CCJKwisylIu0"
      },
      "source": [
        "Como nosso conjunto de dados claramente não está pronto para ser utilizado por nosso algoritmo de aprendizado de máquina, faremos a preparação de alguns dados nele.\n",
        "\n",
        "Podemos ver que temos mais de 50 mil observações e 7 variáveis. Mas onde está a variável que devemos prever, a quantidade de passageiros em cada viagem de ônibus? Cada viagem de ônibus tem um ID de viagem e cada observação neste conjunto de dados é o registro de um passageiro que comprou uma passagem para estar naquele ônibus. Portanto, vamos apenas agrupar os passageiros pelo ID da viagem! Problema resolvido? Quase lá.\n",
        "\n",
        "Vamos remover a variável _travel_to_, pois todas as viagens são para Nairóbi. Além disso, vamos ajudar nosso **modelo de árvore de decisão** e criar algumas variáveis que indicam 4 intervalos de tempo diferentes para as viagens acontecerem. Esses intervalos foram criados mais ou menos com base na quantidade de viagens em cada hora do dia.\n",
        "\n",
        "Portanto, este é nosso novo conjunto de dados após alguma transformação:"
      ]
    },
    {
      "cell_type": "code",
      "metadata": {
        "id": "XMVWp8gqlIu1",
        "colab": {
          "base_uri": "https://localhost:8080/",
          "height": 245
        },
        "outputId": "32675d11-061c-4b57-ab24-1218901709ab"
      },
      "source": [
        "# import da base de dados transformada\n",
        "nairobi_treated = pd.read_csv(\"/mydrive/dados/nairobi_raw.csv\", delimiter = \";\", decimal = \",\")\n",
        "\n",
        "# vamos definir a data como o indide do dataset\n",
        "nairobi_treated.index = nairobi_treated['travel_date']\n",
        "nairobi_treated = nairobi_treated.iloc[:, 1:]\n",
        "\n",
        "# prints das características do dataset\n",
        "print(nairobi_treated.shape)\n",
        "nairobi_treated.head()"
      ],
      "execution_count": null,
      "outputs": [
        {
          "output_type": "stream",
          "text": [
            "(51645, 6)\n"
          ],
          "name": "stdout"
        },
        {
          "output_type": "execute_result",
          "data": {
            "text/html": [
              "<div>\n",
              "<style scoped>\n",
              "    .dataframe tbody tr th:only-of-type {\n",
              "        vertical-align: middle;\n",
              "    }\n",
              "\n",
              "    .dataframe tbody tr th {\n",
              "        vertical-align: top;\n",
              "    }\n",
              "\n",
              "    .dataframe thead th {\n",
              "        text-align: right;\n",
              "    }\n",
              "</style>\n",
              "<table border=\"1\" class=\"dataframe\">\n",
              "  <thead>\n",
              "    <tr style=\"text-align: right;\">\n",
              "      <th></th>\n",
              "      <th>travel_date</th>\n",
              "      <th>travel_time</th>\n",
              "      <th>travel_from</th>\n",
              "      <th>travel_to</th>\n",
              "      <th>car_type</th>\n",
              "      <th>max_capacity</th>\n",
              "    </tr>\n",
              "    <tr>\n",
              "      <th>travel_date</th>\n",
              "      <th></th>\n",
              "      <th></th>\n",
              "      <th></th>\n",
              "      <th></th>\n",
              "      <th></th>\n",
              "      <th></th>\n",
              "    </tr>\n",
              "  </thead>\n",
              "  <tbody>\n",
              "    <tr>\n",
              "      <th>17/10/2017</th>\n",
              "      <td>17/10/2017</td>\n",
              "      <td>07:15</td>\n",
              "      <td>Migori</td>\n",
              "      <td>Nairobi</td>\n",
              "      <td>Bus</td>\n",
              "      <td>49</td>\n",
              "    </tr>\n",
              "    <tr>\n",
              "      <th>14/11/2017</th>\n",
              "      <td>14/11/2017</td>\n",
              "      <td>05:10</td>\n",
              "      <td>Kisii</td>\n",
              "      <td>Nairobi</td>\n",
              "      <td>Bus</td>\n",
              "      <td>49</td>\n",
              "    </tr>\n",
              "    <tr>\n",
              "      <th>19/11/2017</th>\n",
              "      <td>19/11/2017</td>\n",
              "      <td>07:12</td>\n",
              "      <td>Migori</td>\n",
              "      <td>Nairobi</td>\n",
              "      <td>Bus</td>\n",
              "      <td>49</td>\n",
              "    </tr>\n",
              "    <tr>\n",
              "      <th>26/11/2017</th>\n",
              "      <td>26/11/2017</td>\n",
              "      <td>07:05</td>\n",
              "      <td>Keroka</td>\n",
              "      <td>Nairobi</td>\n",
              "      <td>Bus</td>\n",
              "      <td>49</td>\n",
              "    </tr>\n",
              "    <tr>\n",
              "      <th>27/11/2017</th>\n",
              "      <td>27/11/2017</td>\n",
              "      <td>07:10</td>\n",
              "      <td>Homa Bay</td>\n",
              "      <td>Nairobi</td>\n",
              "      <td>Bus</td>\n",
              "      <td>49</td>\n",
              "    </tr>\n",
              "  </tbody>\n",
              "</table>\n",
              "</div>"
            ],
            "text/plain": [
              "            travel_date travel_time  ... car_type max_capacity\n",
              "travel_date                          ...                      \n",
              "17/10/2017   17/10/2017       07:15  ...      Bus           49\n",
              "14/11/2017   14/11/2017       05:10  ...      Bus           49\n",
              "19/11/2017   19/11/2017       07:12  ...      Bus           49\n",
              "26/11/2017   26/11/2017       07:05  ...      Bus           49\n",
              "27/11/2017   27/11/2017       07:10  ...      Bus           49\n",
              "\n",
              "[5 rows x 6 columns]"
            ]
          },
          "metadata": {
            "tags": []
          },
          "execution_count": 64
        }
      ]
    },
    {
      "cell_type": "markdown",
      "metadata": {
        "id": "AAaTuaX2lIu5"
      },
      "source": [
        "Agora que importamos e tratamos nosso dataset, vamos separar a variável objetivo das demais variávels. Nossa variável objetivo será `'nb_passengers'`, que é o número de passageiros em cada viagem."
      ]
    },
    {
      "cell_type": "code",
      "metadata": {
        "scrolled": true,
        "id": "Z4unEz_PlIu6",
        "colab": {
          "base_uri": "https://localhost:8080/"
        },
        "outputId": "1a6710e0-2b93-49bf-cfb2-75f60452cd66"
      },
      "source": [
        "# separando variável objetivo\n",
        "X, y = nairobi_treated.iloc[:, :-1], nairobi_treated.iloc[:, -1]\n",
        "\n",
        "print(\"X\", X.shape)\n",
        "print(X.head())\n",
        "print(\"y\", y.shape)\n",
        "print(y.head)"
      ],
      "execution_count": null,
      "outputs": [
        {
          "output_type": "stream",
          "text": [
            "X (51645, 5)\n",
            "            travel_date travel_time travel_from travel_to car_type\n",
            "travel_date                                                       \n",
            "17/10/2017   17/10/2017       07:15      Migori   Nairobi      Bus\n",
            "14/11/2017   14/11/2017       05:10       Kisii   Nairobi      Bus\n",
            "19/11/2017   19/11/2017       07:12      Migori   Nairobi      Bus\n",
            "26/11/2017   26/11/2017       07:05      Keroka   Nairobi      Bus\n",
            "27/11/2017   27/11/2017       07:10    Homa Bay   Nairobi      Bus\n",
            "y (51645,)\n",
            "<bound method NDFrame.head of travel_date\n",
            "17/10/2017    49\n",
            "14/11/2017    49\n",
            "19/11/2017    49\n",
            "26/11/2017    49\n",
            "27/11/2017    49\n",
            "              ..\n",
            "20/04/2018    49\n",
            "20/04/2018    49\n",
            "20/04/2018    49\n",
            "20/04/2018    49\n",
            "20/04/2018    49\n",
            "Name: max_capacity, Length: 51645, dtype: int64>\n"
          ],
          "name": "stdout"
        }
      ]
    },
    {
      "cell_type": "markdown",
      "metadata": {
        "id": "MYyb7E_8lIu9"
      },
      "source": [
        "Como nós temos variáveis categóricas, vamos transformá-las em dummy:"
      ]
    },
    {
      "cell_type": "code",
      "metadata": {
        "id": "mLLsaIpplIu-",
        "colab": {
          "base_uri": "https://localhost:8080/"
        },
        "outputId": "311f625f-fcbd-4a51-8d6a-b4ef3d97511f"
      },
      "source": [
        "X = pd.get_dummies(X)\n",
        "X.columns"
      ],
      "execution_count": null,
      "outputs": [
        {
          "output_type": "execute_result",
          "data": {
            "text/plain": [
              "Index(['travel_date_01/01/2018', 'travel_date_01/02/2018',\n",
              "       'travel_date_01/03/2018', 'travel_date_01/04/2018',\n",
              "       'travel_date_01/12/2017', 'travel_date_02/01/2018',\n",
              "       'travel_date_02/02/2018', 'travel_date_02/03/2018',\n",
              "       'travel_date_02/04/2018', 'travel_date_02/12/2017',\n",
              "       ...\n",
              "       'travel_from_Ndhiwa', 'travel_from_Nyachenge', 'travel_from_Oyugis',\n",
              "       'travel_from_Rodi', 'travel_from_Rongo', 'travel_from_Sirare',\n",
              "       'travel_from_Sori', 'travel_to_Nairobi', 'car_type_Bus',\n",
              "       'car_type_shuttle'],\n",
              "      dtype='object', length=247)"
            ]
          },
          "metadata": {
            "tags": []
          },
          "execution_count": 66
        }
      ]
    },
    {
      "cell_type": "markdown",
      "metadata": {
        "id": "293UONfElIvB"
      },
      "source": [
        "Agora vamos dividir nosso conjunto de dados em conjuntos de treinamento e teste. Definir _shuffle = False_ significa que dividiremos o treinamento e o teste seguindo a ordem das observações, que são classificadas por data."
      ]
    },
    {
      "cell_type": "code",
      "metadata": {
        "scrolled": true,
        "id": "lopifLgflIvC",
        "colab": {
          "base_uri": "https://localhost:8080/"
        },
        "outputId": "260c1a01-d1c9-4c55-a9c8-77d2f46b7da4"
      },
      "source": [
        "# import função train_test_split\n",
        "from sklearn.model_selection import train_test_split\n",
        "\n",
        "# usamos a função train_test_split para criar os sets de treino e teste\n",
        "# define o tamanho do set de teste. Pode ser um inteiro (número de observações) ou então uma fração, correspondendo à proporção treino/teste\n",
        "# suffle = False significa que a separação obedecerá a sequencia da data\n",
        "X_training, X_test, y_training, y_test = train_test_split(X, y, \n",
        "                                                          test_size = 0.25, \n",
        "                                                          shuffle = False)\n",
        "\n",
        "print(\"Train set X\", X_training.shape)\n",
        "print(\"Train set y\", y_training.shape)\n",
        "print(\"Test set X\", X_test.shape)\n",
        "print(\"Test set y\", y_test.shape)\n",
        "X_test.head()\n",
        "X_test_backup = X_test"
      ],
      "execution_count": null,
      "outputs": [
        {
          "output_type": "stream",
          "text": [
            "Train set X (38733, 247)\n",
            "Train set y (38733,)\n",
            "Test set X (12912, 247)\n",
            "Test set y (12912,)\n"
          ],
          "name": "stdout"
        }
      ]
    },
    {
      "cell_type": "code",
      "metadata": {
        "colab": {
          "base_uri": "https://localhost:8080/",
          "height": 371
        },
        "id": "F2JS5ew78Gys",
        "outputId": "d7dbe52d-4218-47de-bf36-4a3362879ddb"
      },
      "source": [
        "# plot dos dados\n",
        "plt.plot(y_training)\n",
        "plt.plot(y_test, color='orange')"
      ],
      "execution_count": null,
      "outputs": [
        {
          "output_type": "stream",
          "text": [
            "INFO:matplotlib.category:Using categorical units to plot a list of strings that are all parsable as floats or dates. If these strings should be plotted as numbers, cast to the appropriate data type before plotting.\n",
            "INFO:matplotlib.category:Using categorical units to plot a list of strings that are all parsable as floats or dates. If these strings should be plotted as numbers, cast to the appropriate data type before plotting.\n",
            "INFO:matplotlib.category:Using categorical units to plot a list of strings that are all parsable as floats or dates. If these strings should be plotted as numbers, cast to the appropriate data type before plotting.\n",
            "INFO:matplotlib.category:Using categorical units to plot a list of strings that are all parsable as floats or dates. If these strings should be plotted as numbers, cast to the appropriate data type before plotting.\n"
          ],
          "name": "stderr"
        },
        {
          "output_type": "execute_result",
          "data": {
            "text/plain": [
              "[<matplotlib.lines.Line2D at 0x7f574ddce790>]"
            ]
          },
          "metadata": {
            "tags": []
          },
          "execution_count": 68
        },
        {
          "output_type": "display_data",
          "data": {
            "image/png": "[encoded data removed]",
            "text/plain": [
              "<Figure size 432x288 with 1 Axes>"
            ]
          },
          "metadata": {
            "tags": [],
            "needs_background": "light"
          }
        }
      ]
    },
    {
      "cell_type": "markdown",
      "metadata": {
        "id": "rqpYOTI18QxF"
      },
      "source": [
        "Para esse dataset, visualmente pode-se inferir que não existe muita correlação temporal entre os dados de passageiros ao longo do tempo. Então o uso de um modelo de regressão que não considera o tempo é justificável."
      ]
    },
    {
      "cell_type": "markdown",
      "metadata": {
        "id": "IpctDWGplIvF"
      },
      "source": [
        "Agora, para realizar a validação cruzada, vamos explorar a técnica de divisão que aprendemos anteriormente nesta lição, usando a função TimeSeriesSplit. Nosso número de divisões será 10 e usaremos todo o histórico disponível para o conjunto de dados de treinamento."
      ]
    },
    {
      "cell_type": "code",
      "metadata": {
        "scrolled": false,
        "id": "HMeIBPOXlIvF",
        "colab": {
          "base_uri": "https://localhost:8080/",
          "height": 350
        },
        "outputId": "de023bcf-07d8-44f9-99cc-ed9b7516a61f"
      },
      "source": [
        "# usando uma janela expansiva para a validação cruzada\n",
        "from sklearn.model_selection import TimeSeriesSplit\n",
        "cv = TimeSeriesSplit(n_splits=10)\n",
        "\n",
        "# agrora plotando os conjuntos de dados da validação cruzada\n",
        "fig, ax = plt.subplots(figsize=(10, 5))\n",
        "for index, (X_train, X_test) in enumerate(cv.split(X)):\n",
        "    # Plot training and test indices\n",
        "    l1 = ax.scatter(X_train, [index] * len(X_train), c=[plt.cm.coolwarm(.1)], marker='_', lw=6)\n",
        "    l2 = ax.scatter(X_test, [index] * len(X_test), c=[plt.cm.coolwarm(.9)], marker='_', lw=6)\n",
        "    ax.set(ylim=[10, -1], title='TimeSeriesSplit behavior', xlabel='data index', ylabel='CV iteration')\n",
        "    ax.legend([l1, l2], ['Training', 'Validation'])"
      ],
      "execution_count": null,
      "outputs": [
        {
          "output_type": "display_data",
          "data": {
            "image/png": "[encoded data removed]",
            "text/plain": [
              "<Figure size 720x360 with 1 Axes>"
            ]
          },
          "metadata": {
            "tags": [],
            "needs_background": "light"
          }
        }
      ]
    },
    {
      "cell_type": "markdown",
      "metadata": {
        "id": "nqu2L5NHlIvI"
      },
      "source": [
        "Agora vamos treinar nosso modelo de árvore com `GridSearchCV` e a técnica de validação cruzada de divisão de série temporal. Como nosso conjunto de dados é relativamente grande e o `GridSearchCV` demoraria para ser executado (e demorou), já definimos os melhores parâmetros para você!"
      ]
    },
    {
      "cell_type": "code",
      "metadata": {
        "id": "Gf3UVeJalIvI"
      },
      "source": [
        "# Importando as bibliotecas que vamos utilizar no modelo\n",
        "from sklearn.ensemble import RandomForestRegressor\n",
        "from sklearn.datasets import make_regression\n",
        "from sklearn.metrics import (explained_variance_score, \n",
        "                             mean_absolute_error, \n",
        "                             mean_squared_error, \n",
        "                             mean_squared_log_error,\n",
        "                             r2_score)\n",
        "from sklearn.model_selection import GridSearchCV"
      ],
      "execution_count": null,
      "outputs": []
    },
    {
      "cell_type": "code",
      "metadata": {
        "scrolled": false,
        "id": "L2pFL5rNlIvK",
        "colab": {
          "base_uri": "https://localhost:8080/",
          "height": 475
        },
        "outputId": "fa138f6f-bb02-48c9-b1f6-04cc22758a3a"
      },
      "source": [
        "# Random Forest com Validação cruzada e Grid Search para Séries temporais\n",
        "\n",
        "# define os valores possíveis para os parâmetros a serem testados\n",
        "params = {'n_estimators': [100, 500],\n",
        "          'max_features': [3, 5],\n",
        "          'max_depth': [5, 10]}\n",
        "\n",
        "# cria modelo\n",
        "rf_model_cv_gs = RandomForestRegressor()\n",
        "\n",
        "# objeto para grid search com GridSearchCV\n",
        "grid_search = GridSearchCV(rf_model_cv_gs, \n",
        "                           param_grid = params, \n",
        "                           return_train_score = True, \n",
        "                           cv = cv)\n",
        "\n",
        "# treina modelo com Grid Search\n",
        "grid_search.fit(X_training, y_training)\n",
        "\n",
        "# imprime melhor combinação de hiperparâmetros\n",
        "print('\\n Best hyperparameters:')\n",
        "print(grid_search.best_params_)\n",
        "\n",
        "# resultados do cv\n",
        "cv_results = pd.DataFrame(grid_search.cv_results_)\n",
        "\n",
        "# print score médio nos sets de treino\n",
        "print(\"Pontuação média nos dados de treino: {:.3f} +/- {:.3f}\".format(cv_results[cv_results.rank_test_score == 1].mean_train_score.values[0],\n",
        "                                                                     cv_results[cv_results.rank_test_score == 1].std_train_score.values[0]))\n",
        "# print score médio nos sets de validação\n",
        "print(\"Pontuação média nos dados de validação: {:.3f} +/- {:.3f}\".format(cv_results[cv_results.rank_test_score == 1].mean_test_score.values[0],\n",
        "                                                                     cv_results[cv_results.rank_test_score == 1].std_test_score.values[0])) \n",
        "\n",
        "y = [cv_results[cv_results.rank_test_score == 1].mean_train_score.values[0], \n",
        "     cv_results[cv_results.rank_test_score == 1].mean_test_score.values[0]]\n",
        "x = [\"Train Score\", \"Test Score\"]\n",
        "width = 1/2\n",
        "plt.bar(x, y, width, color=\"blue\")  \n",
        "\n",
        "# seta melhor opção baseada nos hiperparâmetros\n",
        "# utiliza as melhores opções de hiperparâmetros encontrados\n",
        "rf_model_cv_gs.set_params(n_estimators = grid_search.best_params_['n_estimators'],\n",
        "                           max_features = grid_search.best_params_['max_features'],\n",
        "                           max_depth = grid_search.best_params_['max_depth'])\n",
        "\n",
        "# treina modelo com todos os dados de treino disponíveis e com os melhores hiperparâmetros encontrados\n",
        "rf_model_cv_gs.fit(X_training, y_training)"
      ],
      "execution_count": null,
      "outputs": [
        {
          "output_type": "stream",
          "text": [
            "\n",
            " Best hyperparameters:\n",
            "{'max_depth': 10, 'max_features': 5, 'n_estimators': 500}\n",
            "Pontuação média nos dados de treino: 0.769 +/- 0.014\n",
            "Pontuação média nos dados de validação: 0.756 +/- 0.021\n"
          ],
          "name": "stdout"
        },
        {
          "output_type": "execute_result",
          "data": {
            "text/plain": [
              "RandomForestRegressor(bootstrap=True, ccp_alpha=0.0, criterion='mse',\n",
              "                      max_depth=10, max_features=5, max_leaf_nodes=None,\n",
              "                      max_samples=None, min_impurity_decrease=0.0,\n",
              "                      min_impurity_split=None, min_samples_leaf=1,\n",
              "                      min_samples_split=2, min_weight_fraction_leaf=0.0,\n",
              "                      n_estimators=500, n_jobs=None, oob_score=False,\n",
              "                      random_state=None, verbose=0, warm_start=False)"
            ]
          },
          "metadata": {
            "tags": []
          },
          "execution_count": 71
        },
        {
          "output_type": "display_data",
          "data": {
            "image/png": "[encoded data removed]",
            "text/plain": [
              "<Figure size 432x288 with 1 Axes>"
            ]
          },
          "metadata": {
            "tags": [],
            "needs_background": "light"
          }
        }
      ]
    },
    {
      "cell_type": "markdown",
      "metadata": {
        "id": "irsnnwVilIvN"
      },
      "source": [
        "Vamos calcular o MAE para treino e teste:"
      ]
    },
    {
      "cell_type": "code",
      "metadata": {
        "scrolled": true,
        "id": "yYq5bH45lIvO",
        "colab": {
          "base_uri": "https://localhost:8080/"
        },
        "outputId": "290e9356-e18b-4298-ade8-395248bd25e1"
      },
      "source": [
        "print(\"MAE train:\", mean_absolute_error(y_training, rf_model_cv_gs.predict(X_training)))\n",
        "print(\"MAE test:\", mean_absolute_error(y_test, rf_model_cv_gs.predict(X_test_backup)))"
      ],
      "execution_count": null,
      "outputs": [
        {
          "output_type": "stream",
          "text": [
            "MAE train: 8.859880247355859\n",
            "MAE test: 8.451818128184426\n"
          ],
          "name": "stdout"
        }
      ]
    },
    {
      "cell_type": "markdown",
      "metadata": {
        "id": "W2PlQtGnt8qa"
      },
      "source": [
        "#### 5.2.2 RNN e LSTM (Redes neurais recorrentes, ou *Recurrent neural networks*)\n",
        "\n",
        "Em aulas anteriores vimos o funcionamento de modelos de redes neurais, que imitam o funcionamento do cérebro e, por meio de camadas com \"neurônios\" e pesos entre suas conexões, conseguem aprender e prever o resultado de tereminado input de dados.\n",
        "\n",
        "Contudo, as redes neurais clássicas não consideram a relação sequencial que existem entre alguns tipos de dados, como séries temporais. Para resolver esse problema, foram criadas as Redes neurais recorrentes (ou RNNs).\n",
        "\n",
        "Uma RNN pode ser imaginada como uma classe de redes neurais onde os nós são interligados e a saída de um nó é usada como entrada para o nó seguinte, em conjunto com a nova variável de input. Dessa forma, as RNNs podem armazenar informações ao processar novas entradas e essa capacidade de memória as torna ideais para tarefas de processamento onde as entradas anteriores devem ser consideradas (como dados de séries temporais).\n",
        "\n",
        "<img src=\"https://i.imgur.com/nuiGgr6.png\" width = 600>\n",
        "\n",
        "Porém, percebeu-se que as RNNs clássiscas possuiam uma série de limitações, como a dificuldade de lembrar de características muito antigas. Para superar alguns dos problemas das RNNs, surgiram diversas variações. Uma delas é chamada LSTM ou Redes de memória de curto e longo prazo (*Long-Short Term Memory*), um tipo especial de RNN capaz de aprender dependências tanto de curto prazo quanto de longo prazo.\n",
        "\n",
        "As LSTMs funcionam significativamente bem em uma grande variedade de problemas de dados sequenciais e são amplamente usados para a análise de séries temporais, análise de textos com NLP (*Natural Language Processing*), ou processamento de áudios.\n",
        "\n",
        "Essa é uma breve introdução da ideia de redes neurais recorrentes. Para melhor entendimento do funcionamento das redes, sugerimos as fontes a seguir:\n",
        "1. [Recurrent Neural Network Model](https://www.coursera.org/lecture/nlp-sequence-models/recurrent-neural-network-model-ftkzt): vídeo de 16 minutos que explica a teoria por trás das RNNs\n",
        "2. [Understanding RNN and LSTM](https://aditi-mittal.medium.com/understanding-rnn-and-lstm-f7cdf6dfc14e): artigo do Medium explicando os conceitos básicos e matemáticos de uma RNN\n",
        "3. [Prevendo valores de ações com LSTM](https://medium.com/neuronio-br/prevendo-valores-de-a%C3%A7%C3%B5es-com-lstm-b7b3a737aa4): artigo do Medium explicando a aplicação prática de LSTM em Python"
      ]
    },
    {
      "cell_type": "markdown",
      "metadata": {
        "id": "l5RlwVVBlIwe"
      },
      "source": [
        "<a id=\"digdeeper\"></a>\n",
        "## Saiba mais\n",
        "- [An Overview of Autocorrelation, Seasonality and Stationarity in Time Series Data](https://analyticsindiamag.com/an-overview-of-autocorrelation-seasonality-and-stationarity-in-time-series-data/)\n",
        "- [Forecasting: Principles and Practice](https://otexts.com/fpp3/)\n",
        "- [Time Series Databases are Exploding in Popularity](https://www.techrepublic.com/article/why-time-series-databases-are-exploding-in-popularity/)\n",
        "- [Application of Different Long Short-Term Memory Algorithms](https://machinelearningmastery.com/how-to-develop-lstm-models-for-time-series-forecasting/)\n",
        "- [How (not) to use Machine Learning for time series forecasting: Avoiding the pitfalls](https://towardsdatascience.com/how-not-to-use-machine-learning-for-time-series-forecasting-avoiding-the-pitfalls-19f9d7adf424)\n",
        "- [Applied Forecasting for Business and Economics](https://robjhyndman.com/teaching/)\n",
        "- [Time Series Forecast: A Basic Introduction Using Python](https://medium.com/@stallonejacob/time-series-forecast-a-basic-introduction-using-python-414fcb963000)\n",
        "- [The Complete Guide to Time Series Analysis and Forecasting](https://towardsdatascience.com/the-complete-guide-to-time-series-analysis-and-forecasting-70d476bfe775)\n",
        "- [A Complete Guide to Time Series Data Visualization in Python](https://towardsdatascience.com/a-complete-guide-to-time-series-data-visualization-in-python-da0ddd2cfb01)\n",
        "- [Time Series Forecast with Prophet](https://towardsdatascience.com/time-series-forecasting-with-prophet-54f2ac5e722e)\n",
        "- [Facebook Prophet Webpage](https://research.fb.com/prophet-forecasting-at-scale/)\n",
        "- [How to Rock Your Next Time Series Forecasting Project](https://medium.com/free-code-camp/how-to-rock-your-next-time-series-forecasting-project-3930d589f704)\n",
        "- [An End-to-end Project on Time Series Forecasting](https://towardsdatascience.com/an-end-to-end-project-on-time-series-analysis-and-forecasting-with-python-4835e6bf050b)"
      ]
    }
  ]
}