{
  "nbformat": 4,
  "nbformat_minor": 0,
  "metadata": {
    "celltoolbar": "Edit Metadata",
    "colab": {
      "name": "Regressao - Exercicio.ipynb",
      "provenance": [],
      "collapsed_sections": [],
      "include_colab_link": true
    },
    "kernelspec": {
      "display_name": "Python 3",
      "language": "python",
      "name": "python3"
    },
    "language_info": {
      "codemirror_mode": {
        "name": "ipython",
        "version": 3
      },
      "file_extension": ".py",
      "mimetype": "text/x-python",
      "name": "python",
      "nbconvert_exporter": "python",
      "pygments_lexer": "ipython3",
      "version": "3.8.5"
    },
    "toc": {
      "base_numbering": 1,
      "nav_menu": {},
      "number_sections": true,
      "sideBar": true,
      "skip_h1_title": true,
      "title_cell": "Table of Contents",
      "title_sidebar": "Contents",
      "toc_cell": false,
      "toc_position": {
        "height": "calc(100% - 180px)",
        "left": "10px",
        "top": "150px",
        "width": "207px"
      },
      "toc_section_display": true,
      "toc_window_display": true
    },
    "varInspector": {
      "cols": {
        "lenName": 16,
        "lenType": 16,
        "lenVar": 40
      },
      "kernels_config": {
        "python": {
          "delete_cmd_postfix": "",
          "delete_cmd_prefix": "del ",
          "library": "var_list.py",
          "varRefreshCmd": "print(var_dic_list())"
        },
        "r": {
          "delete_cmd_postfix": ") ",
          "delete_cmd_prefix": "rm(",
          "library": "var_list.r",
          "varRefreshCmd": "cat(var_dic_list()) "
        }
      },
      "types_to_exclude": [
        "module",
        "function",
        "builtin_function_or_method",
        "instance",
        "_Feature"
      ],
      "window_display": false
    }
  },
  "cells": [
    {
      "cell_type": "markdown",
      "metadata": {
        "id": "view-in-github",
        "colab_type": "text"
      },
      "source": [
        "<a href=\"https://colab.research.google.com/github/Bruno-Messias/data_science_visagio/blob/main/Regressao_Exercicio.ipynb\" target=\"_parent\"><img src=\"https://colab.research.google.com/assets/colab-badge.svg\" alt=\"Open In Colab\"/></a>"
      ]
    },
    {
      "cell_type": "markdown",
      "metadata": {
        "id": "gTh4frkWbKmm"
      },
      "source": [
        "# <center>Regressão - Exercício</center>\n",
        "___"
      ]
    },
    {
      "cell_type": "markdown",
      "metadata": {
        "id": "6ZTb_gkObKpE"
      },
      "source": [
        "<a id=\"exercicio\"></a>\n",
        "## 6. Exercícios\n",
        "\n",
        "Esse notebook contém os exercícios da aula de regressão. Siga as instruções para aplicar o que foi aprendido nessa aula para outra base de dados para tentar prever os preços de carros. Essa base de dados foi disponibilizada junto com o notebook.\n",
        "\n",
        "Vamos começasr lendo os dados."
      ]
    },
    {
      "cell_type": "code",
      "metadata": {
        "id": "quiT1EFyHNHO"
      },
      "source": [
        "import pandas as pd\n",
        "import numpy as np\n",
        "import math\n",
        "import matplotlib.pyplot as plt\n",
        "from sklearn.model_selection import train_test_split\n",
        "from sklearn.model_selection import GridSearchCV\n",
        "from sklearn.ensemble import RandomForestRegressor\n",
        "from sklearn.metrics import mean_squared_error\n",
        "import lightgbm as lgb"
      ],
      "execution_count": null,
      "outputs": []
    },
    {
      "cell_type": "code",
      "metadata": {
        "colab": {
          "base_uri": "https://localhost:8080/"
        },
        "id": "8mTKjOIc2FHu",
        "outputId": "bd90b646-94dc-4ec9-d2c4-a2049ca619ec"
      },
      "source": [
        "# Usando outro caminho para obter os csv do google drive\n",
        "from google.colab import drive\n",
        "drive.mount('/content/drive')"
      ],
      "execution_count": null,
      "outputs": [
        {
          "output_type": "stream",
          "text": [
            "Mounted at /content/drive\n"
          ],
          "name": "stdout"
        }
      ]
    },
    {
      "cell_type": "code",
      "metadata": {
        "colab": {
          "base_uri": "https://localhost:8080/"
        },
        "id": "_VFIqCHB2OTH",
        "outputId": "73bc36bd-bf67-4465-ce68-2a491501ba1e"
      },
      "source": [
        "!ln -s /content/drive/MyDrive/Data\\ Science/Entrega5 /mydrive\n",
        "!ls /mydrive"
      ],
      "execution_count": null,
      "outputs": [
        {
          "output_type": "stream",
          "text": [
            " dados\t'Regressao - Exercicio.ipynb'\n"
          ],
          "name": "stdout"
        }
      ]
    },
    {
      "cell_type": "code",
      "metadata": {
        "id": "La9W9UKwbKpF",
        "colab": {
          "base_uri": "https://localhost:8080/",
          "height": 390
        },
        "outputId": "fd787990-563c-4703-e8f1-ec0e35a693aa"
      },
      "source": [
        "cars_df = pd.read_csv(\"/mydrive/dados/OLX_Car_Data.csv\", encoding = 'unicode_escape')\n",
        "\n",
        "cars_df.describe(include='all')"
      ],
      "execution_count": null,
      "outputs": [
        {
          "output_type": "execute_result",
          "data": {
            "text/html": [
              "<div>\n",
              "<style scoped>\n",
              "    .dataframe tbody tr th:only-of-type {\n",
              "        vertical-align: middle;\n",
              "    }\n",
              "\n",
              "    .dataframe tbody tr th {\n",
              "        vertical-align: top;\n",
              "    }\n",
              "\n",
              "    .dataframe thead th {\n",
              "        text-align: right;\n",
              "    }\n",
              "</style>\n",
              "<table border=\"1\" class=\"dataframe\">\n",
              "  <thead>\n",
              "    <tr style=\"text-align: right;\">\n",
              "      <th></th>\n",
              "      <th>Brand</th>\n",
              "      <th>Condition</th>\n",
              "      <th>Fuel</th>\n",
              "      <th>KMs Driven</th>\n",
              "      <th>Model</th>\n",
              "      <th>Price</th>\n",
              "      <th>Registered City</th>\n",
              "      <th>Transaction Type</th>\n",
              "      <th>Year</th>\n",
              "    </tr>\n",
              "  </thead>\n",
              "  <tbody>\n",
              "    <tr>\n",
              "      <th>count</th>\n",
              "      <td>22836</td>\n",
              "      <td>22837</td>\n",
              "      <td>22528</td>\n",
              "      <td>2.268700e+04</td>\n",
              "      <td>22525</td>\n",
              "      <td>2.497300e+04</td>\n",
              "      <td>20337</td>\n",
              "      <td>22528</td>\n",
              "      <td>22689.000000</td>\n",
              "    </tr>\n",
              "    <tr>\n",
              "      <th>unique</th>\n",
              "      <td>23</td>\n",
              "      <td>2</td>\n",
              "      <td>5</td>\n",
              "      <td>NaN</td>\n",
              "      <td>303</td>\n",
              "      <td>NaN</td>\n",
              "      <td>61</td>\n",
              "      <td>2</td>\n",
              "      <td>NaN</td>\n",
              "    </tr>\n",
              "    <tr>\n",
              "      <th>top</th>\n",
              "      <td>Suzuki</td>\n",
              "      <td>Used</td>\n",
              "      <td>Petrol</td>\n",
              "      <td>NaN</td>\n",
              "      <td>Cultus VXR</td>\n",
              "      <td>NaN</td>\n",
              "      <td>Karachi</td>\n",
              "      <td>Cash</td>\n",
              "      <td>NaN</td>\n",
              "    </tr>\n",
              "    <tr>\n",
              "      <th>freq</th>\n",
              "      <td>9773</td>\n",
              "      <td>18472</td>\n",
              "      <td>14309</td>\n",
              "      <td>NaN</td>\n",
              "      <td>1775</td>\n",
              "      <td>NaN</td>\n",
              "      <td>16599</td>\n",
              "      <td>21513</td>\n",
              "      <td>NaN</td>\n",
              "    </tr>\n",
              "    <tr>\n",
              "      <th>mean</th>\n",
              "      <td>NaN</td>\n",
              "      <td>NaN</td>\n",
              "      <td>NaN</td>\n",
              "      <td>1.278112e+05</td>\n",
              "      <td>NaN</td>\n",
              "      <td>9.128953e+05</td>\n",
              "      <td>NaN</td>\n",
              "      <td>NaN</td>\n",
              "      <td>2005.901626</td>\n",
              "    </tr>\n",
              "    <tr>\n",
              "      <th>std</th>\n",
              "      <td>NaN</td>\n",
              "      <td>NaN</td>\n",
              "      <td>NaN</td>\n",
              "      <td>5.996726e+05</td>\n",
              "      <td>NaN</td>\n",
              "      <td>1.537134e+06</td>\n",
              "      <td>NaN</td>\n",
              "      <td>NaN</td>\n",
              "      <td>9.563804</td>\n",
              "    </tr>\n",
              "    <tr>\n",
              "      <th>min</th>\n",
              "      <td>NaN</td>\n",
              "      <td>NaN</td>\n",
              "      <td>NaN</td>\n",
              "      <td>1.000000e+00</td>\n",
              "      <td>NaN</td>\n",
              "      <td>5.000000e+04</td>\n",
              "      <td>NaN</td>\n",
              "      <td>NaN</td>\n",
              "      <td>1915.000000</td>\n",
              "    </tr>\n",
              "    <tr>\n",
              "      <th>25%</th>\n",
              "      <td>NaN</td>\n",
              "      <td>NaN</td>\n",
              "      <td>NaN</td>\n",
              "      <td>1.600000e+04</td>\n",
              "      <td>NaN</td>\n",
              "      <td>3.800000e+05</td>\n",
              "      <td>NaN</td>\n",
              "      <td>NaN</td>\n",
              "      <td>2002.000000</td>\n",
              "    </tr>\n",
              "    <tr>\n",
              "      <th>50%</th>\n",
              "      <td>NaN</td>\n",
              "      <td>NaN</td>\n",
              "      <td>NaN</td>\n",
              "      <td>6.651000e+04</td>\n",
              "      <td>NaN</td>\n",
              "      <td>6.500000e+05</td>\n",
              "      <td>NaN</td>\n",
              "      <td>NaN</td>\n",
              "      <td>2008.000000</td>\n",
              "    </tr>\n",
              "    <tr>\n",
              "      <th>75%</th>\n",
              "      <td>NaN</td>\n",
              "      <td>NaN</td>\n",
              "      <td>NaN</td>\n",
              "      <td>1.000000e+05</td>\n",
              "      <td>NaN</td>\n",
              "      <td>1.145000e+06</td>\n",
              "      <td>NaN</td>\n",
              "      <td>NaN</td>\n",
              "      <td>2013.000000</td>\n",
              "    </tr>\n",
              "    <tr>\n",
              "      <th>max</th>\n",
              "      <td>NaN</td>\n",
              "      <td>NaN</td>\n",
              "      <td>NaN</td>\n",
              "      <td>1.000000e+07</td>\n",
              "      <td>NaN</td>\n",
              "      <td>8.765432e+07</td>\n",
              "      <td>NaN</td>\n",
              "      <td>NaN</td>\n",
              "      <td>2020.000000</td>\n",
              "    </tr>\n",
              "  </tbody>\n",
              "</table>\n",
              "</div>"
            ],
            "text/plain": [
              "         Brand Condition    Fuel  ...  Registered City Transaction Type          Year\n",
              "count    22836     22837   22528  ...            20337            22528  22689.000000\n",
              "unique      23         2       5  ...               61                2           NaN\n",
              "top     Suzuki      Used  Petrol  ...          Karachi             Cash           NaN\n",
              "freq      9773     18472   14309  ...            16599            21513           NaN\n",
              "mean       NaN       NaN     NaN  ...              NaN              NaN   2005.901626\n",
              "std        NaN       NaN     NaN  ...              NaN              NaN      9.563804\n",
              "min        NaN       NaN     NaN  ...              NaN              NaN   1915.000000\n",
              "25%        NaN       NaN     NaN  ...              NaN              NaN   2002.000000\n",
              "50%        NaN       NaN     NaN  ...              NaN              NaN   2008.000000\n",
              "75%        NaN       NaN     NaN  ...              NaN              NaN   2013.000000\n",
              "max        NaN       NaN     NaN  ...              NaN              NaN   2020.000000\n",
              "\n",
              "[11 rows x 9 columns]"
            ]
          },
          "metadata": {
            "tags": []
          },
          "execution_count": 5
        }
      ]
    },
    {
      "cell_type": "markdown",
      "metadata": {
        "id": "cOiFmnJfbKpK"
      },
      "source": [
        "Utilizando o método ```describe``` conseguimos ver algumas informações necessárias para fazer uma limpeza básica nos nossos dados. Veja abaixo."
      ]
    },
    {
      "cell_type": "code",
      "metadata": {
        "id": "VxzMk5VgbKpK",
        "colab": {
          "base_uri": "https://localhost:8080/",
          "height": 363
        },
        "outputId": "2cb14b8a-9b79-424c-c4a5-26117ec37b83"
      },
      "source": [
        "# renomeando as colunas para remover os espaços\n",
        "cars_df.rename(columns = {'KMs Driven':'KMs_Driven', \n",
        "                          'Registered City':'Registered_City', \n",
        "                          'Transaction Type':'Transaction_Type'},\n",
        "               inplace = True)\n",
        "\n",
        "# Já que a coluna Model tem muitas categorias, vamos nomear todas com menos de 400 observações de 'Outros'\n",
        "models = ['Alto', 'Corolla GLI', 'Mehran VX', 'Mehran VXR', 'Vitz', 'Bolan', 'Cuore', 'Corolla XLI', 'Mira']\n",
        "cars_df.loc[~cars_df['Model'].isin(models),'Model'] = 'Outros'\n",
        "\n",
        "# removendo valores nulos\n",
        "cars_df.dropna(axis=0, inplace=True)\n",
        "\n",
        "# removendo outliers\n",
        "low = 0.05\n",
        "high = 0.95\n",
        "quant_df = cars_df.quantile([low, high])\n",
        "cars_df = cars_df[(cars_df.KMs_Driven < quant_df.loc[high, \"KMs_Driven\"]) & \n",
        "                  (cars_df.KMs_Driven > quant_df.loc[low, \"KMs_Driven\"]) &\n",
        "                  (cars_df.Price < quant_df.loc[high, \"Price\"]) & \n",
        "                  (cars_df.Price > quant_df.loc[low, \"Price\"]) &\n",
        "                  (cars_df.Year < quant_df.loc[high, \"Year\"]) & \n",
        "                  (cars_df.Year > quant_df.loc[low, \"Year\"])]\n",
        "\n",
        "# transformando as variáveis binárias\n",
        "cars_df['is_new'] = 1\n",
        "cars_df.loc[cars_df.Condition == 'Used', 'is_new'] = 0\n",
        "cars_df.drop(['Condition'], axis=1, inplace=True)\n",
        "\n",
        "cars_df['is_cash'] = 0\n",
        "cars_df.loc[cars_df.Transaction_Type=='Cash', 'is_cash'] = 1\n",
        "cars_df.drop('Transaction_Type', axis=1, inplace=True)\n",
        "\n",
        "# aplicando o One Hot Encoding\n",
        "cars_df = pd.concat([cars_df.drop(\"Brand\", axis=1), pd.get_dummies(cars_df.Brand, prefix='Brand')], axis=1)\n",
        "cars_df = pd.concat([cars_df.drop(\"Fuel\", axis=1), pd.get_dummies(cars_df.Fuel, prefix='Fuel')], axis=1)\n",
        "cars_df = pd.concat([cars_df.drop(\"Registered_City\", axis=1), pd.get_dummies(cars_df.Registered_City, prefix='RCity')], axis=1)\n",
        "cars_df = pd.concat([cars_df.drop(\"Model\", axis=1), pd.get_dummies(cars_df.Model, prefix='Model')], axis=1)\n",
        "\n",
        "cars_df.describe(include='all')"
      ],
      "execution_count": null,
      "outputs": [
        {
          "output_type": "execute_result",
          "data": {
            "text/html": [
              "<div>\n",
              "<style scoped>\n",
              "    .dataframe tbody tr th:only-of-type {\n",
              "        vertical-align: middle;\n",
              "    }\n",
              "\n",
              "    .dataframe tbody tr th {\n",
              "        vertical-align: top;\n",
              "    }\n",
              "\n",
              "    .dataframe thead th {\n",
              "        text-align: right;\n",
              "    }\n",
              "</style>\n",
              "<table border=\"1\" class=\"dataframe\">\n",
              "  <thead>\n",
              "    <tr style=\"text-align: right;\">\n",
              "      <th></th>\n",
              "      <th>KMs_Driven</th>\n",
              "      <th>Price</th>\n",
              "      <th>Year</th>\n",
              "      <th>is_new</th>\n",
              "      <th>is_cash</th>\n",
              "      <th>Brand_Audi</th>\n",
              "      <th>Brand_BMW</th>\n",
              "      <th>Brand_Changan</th>\n",
              "      <th>Brand_Chevrolet</th>\n",
              "      <th>Brand_Classic &amp; Antiques</th>\n",
              "      <th>Brand_Daewoo</th>\n",
              "      <th>Brand_Daihatsu</th>\n",
              "      <th>Brand_FAW</th>\n",
              "      <th>Brand_Honda</th>\n",
              "      <th>Brand_Hyundai</th>\n",
              "      <th>Brand_KIA</th>\n",
              "      <th>Brand_Land Rover</th>\n",
              "      <th>Brand_Lexus</th>\n",
              "      <th>Brand_Mazda</th>\n",
              "      <th>Brand_Mercedes</th>\n",
              "      <th>Brand_Mitsubishi</th>\n",
              "      <th>Brand_Nissan</th>\n",
              "      <th>Brand_Other Brands</th>\n",
              "      <th>Brand_Porsche</th>\n",
              "      <th>Brand_Range Rover</th>\n",
              "      <th>Brand_Subaru</th>\n",
              "      <th>Brand_Suzuki</th>\n",
              "      <th>Brand_Toyota</th>\n",
              "      <th>Fuel_CNG</th>\n",
              "      <th>Fuel_Diesel</th>\n",
              "      <th>Fuel_Hybrid</th>\n",
              "      <th>Fuel_LPG</th>\n",
              "      <th>Fuel_Petrol</th>\n",
              "      <th>RCity_Abbottabad</th>\n",
              "      <th>RCity_Ali Masjid</th>\n",
              "      <th>RCity_Askoley</th>\n",
              "      <th>RCity_Attock</th>\n",
              "      <th>RCity_Badin</th>\n",
              "      <th>RCity_Bagh</th>\n",
              "      <th>RCity_Bahawalnagar</th>\n",
              "      <th>...</th>\n",
              "      <th>RCity_Kasur</th>\n",
              "      <th>RCity_Khairpur</th>\n",
              "      <th>RCity_Khanewal</th>\n",
              "      <th>RCity_Khanpur</th>\n",
              "      <th>RCity_Khaplu</th>\n",
              "      <th>RCity_Khushab</th>\n",
              "      <th>RCity_Kohat</th>\n",
              "      <th>RCity_Lahore</th>\n",
              "      <th>RCity_Larkana</th>\n",
              "      <th>RCity_Mandi Bahauddin</th>\n",
              "      <th>RCity_Mardan</th>\n",
              "      <th>RCity_Mirpur</th>\n",
              "      <th>RCity_Multan</th>\n",
              "      <th>RCity_Nawabshah</th>\n",
              "      <th>RCity_Nowshera</th>\n",
              "      <th>RCity_Okara</th>\n",
              "      <th>RCity_Pakpattan</th>\n",
              "      <th>RCity_Peshawar</th>\n",
              "      <th>RCity_Quetta</th>\n",
              "      <th>RCity_Rahimyar Khan</th>\n",
              "      <th>RCity_Rawalpindi</th>\n",
              "      <th>RCity_Sahiwal</th>\n",
              "      <th>RCity_Sargodha</th>\n",
              "      <th>RCity_Sheikhüpura</th>\n",
              "      <th>RCity_Sialkot</th>\n",
              "      <th>RCity_Sukkar</th>\n",
              "      <th>RCity_Sukkur</th>\n",
              "      <th>RCity_Tank</th>\n",
              "      <th>RCity_Vehari</th>\n",
              "      <th>RCity_Wah</th>\n",
              "      <th>Model_Alto</th>\n",
              "      <th>Model_Bolan</th>\n",
              "      <th>Model_Corolla GLI</th>\n",
              "      <th>Model_Corolla XLI</th>\n",
              "      <th>Model_Cuore</th>\n",
              "      <th>Model_Mehran VX</th>\n",
              "      <th>Model_Mehran VXR</th>\n",
              "      <th>Model_Mira</th>\n",
              "      <th>Model_Outros</th>\n",
              "      <th>Model_Vitz</th>\n",
              "    </tr>\n",
              "  </thead>\n",
              "  <tbody>\n",
              "    <tr>\n",
              "      <th>count</th>\n",
              "      <td>14498.000000</td>\n",
              "      <td>1.449800e+04</td>\n",
              "      <td>14498.000000</td>\n",
              "      <td>14498.000000</td>\n",
              "      <td>14498.000000</td>\n",
              "      <td>14498.000000</td>\n",
              "      <td>14498.000000</td>\n",
              "      <td>14498.000000</td>\n",
              "      <td>14498.000000</td>\n",
              "      <td>14498.000000</td>\n",
              "      <td>14498.000000</td>\n",
              "      <td>14498.000000</td>\n",
              "      <td>14498.000000</td>\n",
              "      <td>14498.000000</td>\n",
              "      <td>14498.000000</td>\n",
              "      <td>14498.000000</td>\n",
              "      <td>14498.000000</td>\n",
              "      <td>14498.000000</td>\n",
              "      <td>14498.000000</td>\n",
              "      <td>14498.000000</td>\n",
              "      <td>14498.000000</td>\n",
              "      <td>14498.000000</td>\n",
              "      <td>14498.000000</td>\n",
              "      <td>14498.000000</td>\n",
              "      <td>14498.000000</td>\n",
              "      <td>14498.000000</td>\n",
              "      <td>14498.000000</td>\n",
              "      <td>14498.000000</td>\n",
              "      <td>14498.000000</td>\n",
              "      <td>14498.000000</td>\n",
              "      <td>14498.000000</td>\n",
              "      <td>14498.000000</td>\n",
              "      <td>14498.000000</td>\n",
              "      <td>14498.000000</td>\n",
              "      <td>14498.000000</td>\n",
              "      <td>14498.000000</td>\n",
              "      <td>14498.000000</td>\n",
              "      <td>14498.000000</td>\n",
              "      <td>14498.000000</td>\n",
              "      <td>14498.000000</td>\n",
              "      <td>...</td>\n",
              "      <td>14498.000000</td>\n",
              "      <td>14498.000000</td>\n",
              "      <td>14498.000000</td>\n",
              "      <td>14498.000000</td>\n",
              "      <td>14498.000000</td>\n",
              "      <td>14498.000000</td>\n",
              "      <td>14498.000000</td>\n",
              "      <td>14498.000000</td>\n",
              "      <td>14498.000000</td>\n",
              "      <td>14498.000000</td>\n",
              "      <td>14498.000000</td>\n",
              "      <td>14498.000000</td>\n",
              "      <td>14498.000000</td>\n",
              "      <td>14498.000000</td>\n",
              "      <td>14498.000000</td>\n",
              "      <td>14498.000000</td>\n",
              "      <td>14498.000000</td>\n",
              "      <td>14498.000000</td>\n",
              "      <td>14498.000000</td>\n",
              "      <td>14498.000000</td>\n",
              "      <td>14498.000000</td>\n",
              "      <td>14498.000000</td>\n",
              "      <td>14498.000000</td>\n",
              "      <td>14498.000000</td>\n",
              "      <td>14498.000000</td>\n",
              "      <td>14498.000000</td>\n",
              "      <td>14498.000000</td>\n",
              "      <td>14498.000000</td>\n",
              "      <td>14498.000000</td>\n",
              "      <td>14498.000000</td>\n",
              "      <td>14498.000000</td>\n",
              "      <td>14498.000000</td>\n",
              "      <td>14498.000000</td>\n",
              "      <td>14498.000000</td>\n",
              "      <td>14498.000000</td>\n",
              "      <td>14498.000000</td>\n",
              "      <td>14498.000000</td>\n",
              "      <td>14498.000000</td>\n",
              "      <td>14498.000000</td>\n",
              "      <td>14498.000000</td>\n",
              "    </tr>\n",
              "    <tr>\n",
              "      <th>mean</th>\n",
              "      <td>76730.142847</td>\n",
              "      <td>7.807886e+05</td>\n",
              "      <td>2006.757622</td>\n",
              "      <td>0.139743</td>\n",
              "      <td>0.972824</td>\n",
              "      <td>0.000345</td>\n",
              "      <td>0.000828</td>\n",
              "      <td>0.000345</td>\n",
              "      <td>0.002621</td>\n",
              "      <td>0.000069</td>\n",
              "      <td>0.002966</td>\n",
              "      <td>0.095806</td>\n",
              "      <td>0.001586</td>\n",
              "      <td>0.155125</td>\n",
              "      <td>0.014278</td>\n",
              "      <td>0.005932</td>\n",
              "      <td>0.000069</td>\n",
              "      <td>0.000621</td>\n",
              "      <td>0.004414</td>\n",
              "      <td>0.002345</td>\n",
              "      <td>0.018899</td>\n",
              "      <td>0.026969</td>\n",
              "      <td>0.004001</td>\n",
              "      <td>0.000069</td>\n",
              "      <td>0.000138</td>\n",
              "      <td>0.000897</td>\n",
              "      <td>0.455097</td>\n",
              "      <td>0.206580</td>\n",
              "      <td>0.301214</td>\n",
              "      <td>0.009932</td>\n",
              "      <td>0.031729</td>\n",
              "      <td>0.000483</td>\n",
              "      <td>0.656642</td>\n",
              "      <td>0.000621</td>\n",
              "      <td>0.000207</td>\n",
              "      <td>0.000138</td>\n",
              "      <td>0.000276</td>\n",
              "      <td>0.000138</td>\n",
              "      <td>0.000207</td>\n",
              "      <td>0.000069</td>\n",
              "      <td>...</td>\n",
              "      <td>0.000276</td>\n",
              "      <td>0.000207</td>\n",
              "      <td>0.000276</td>\n",
              "      <td>0.000207</td>\n",
              "      <td>0.000069</td>\n",
              "      <td>0.000069</td>\n",
              "      <td>0.000207</td>\n",
              "      <td>0.104083</td>\n",
              "      <td>0.000138</td>\n",
              "      <td>0.000069</td>\n",
              "      <td>0.000276</td>\n",
              "      <td>0.000207</td>\n",
              "      <td>0.006208</td>\n",
              "      <td>0.000207</td>\n",
              "      <td>0.000207</td>\n",
              "      <td>0.000276</td>\n",
              "      <td>0.000069</td>\n",
              "      <td>0.002897</td>\n",
              "      <td>0.000759</td>\n",
              "      <td>0.000690</td>\n",
              "      <td>0.007656</td>\n",
              "      <td>0.000138</td>\n",
              "      <td>0.000414</td>\n",
              "      <td>0.000069</td>\n",
              "      <td>0.002000</td>\n",
              "      <td>0.000138</td>\n",
              "      <td>0.000276</td>\n",
              "      <td>0.000069</td>\n",
              "      <td>0.000207</td>\n",
              "      <td>0.000069</td>\n",
              "      <td>0.087529</td>\n",
              "      <td>0.031315</td>\n",
              "      <td>0.050697</td>\n",
              "      <td>0.029452</td>\n",
              "      <td>0.030211</td>\n",
              "      <td>0.049041</td>\n",
              "      <td>0.038626</td>\n",
              "      <td>0.028280</td>\n",
              "      <td>0.623327</td>\n",
              "      <td>0.031522</td>\n",
              "    </tr>\n",
              "    <tr>\n",
              "      <th>std</th>\n",
              "      <td>48129.383137</td>\n",
              "      <td>4.369079e+05</td>\n",
              "      <td>6.702141</td>\n",
              "      <td>0.346733</td>\n",
              "      <td>0.162602</td>\n",
              "      <td>0.018568</td>\n",
              "      <td>0.028759</td>\n",
              "      <td>0.018568</td>\n",
              "      <td>0.051131</td>\n",
              "      <td>0.008305</td>\n",
              "      <td>0.054381</td>\n",
              "      <td>0.294336</td>\n",
              "      <td>0.039800</td>\n",
              "      <td>0.362036</td>\n",
              "      <td>0.118638</td>\n",
              "      <td>0.076792</td>\n",
              "      <td>0.008305</td>\n",
              "      <td>0.024908</td>\n",
              "      <td>0.066296</td>\n",
              "      <td>0.048372</td>\n",
              "      <td>0.136174</td>\n",
              "      <td>0.161999</td>\n",
              "      <td>0.063125</td>\n",
              "      <td>0.008305</td>\n",
              "      <td>0.011745</td>\n",
              "      <td>0.029932</td>\n",
              "      <td>0.497997</td>\n",
              "      <td>0.404866</td>\n",
              "      <td>0.458801</td>\n",
              "      <td>0.099169</td>\n",
              "      <td>0.175282</td>\n",
              "      <td>0.021969</td>\n",
              "      <td>0.474846</td>\n",
              "      <td>0.024908</td>\n",
              "      <td>0.014384</td>\n",
              "      <td>0.011745</td>\n",
              "      <td>0.016609</td>\n",
              "      <td>0.011745</td>\n",
              "      <td>0.014384</td>\n",
              "      <td>0.008305</td>\n",
              "      <td>...</td>\n",
              "      <td>0.016609</td>\n",
              "      <td>0.014384</td>\n",
              "      <td>0.016609</td>\n",
              "      <td>0.014384</td>\n",
              "      <td>0.008305</td>\n",
              "      <td>0.008305</td>\n",
              "      <td>0.014384</td>\n",
              "      <td>0.305379</td>\n",
              "      <td>0.011745</td>\n",
              "      <td>0.008305</td>\n",
              "      <td>0.016609</td>\n",
              "      <td>0.014384</td>\n",
              "      <td>0.078547</td>\n",
              "      <td>0.014384</td>\n",
              "      <td>0.014384</td>\n",
              "      <td>0.016609</td>\n",
              "      <td>0.008305</td>\n",
              "      <td>0.053747</td>\n",
              "      <td>0.027535</td>\n",
              "      <td>0.026255</td>\n",
              "      <td>0.087167</td>\n",
              "      <td>0.011745</td>\n",
              "      <td>0.020340</td>\n",
              "      <td>0.008305</td>\n",
              "      <td>0.044681</td>\n",
              "      <td>0.011745</td>\n",
              "      <td>0.016609</td>\n",
              "      <td>0.008305</td>\n",
              "      <td>0.014384</td>\n",
              "      <td>0.008305</td>\n",
              "      <td>0.282619</td>\n",
              "      <td>0.174173</td>\n",
              "      <td>0.219385</td>\n",
              "      <td>0.169077</td>\n",
              "      <td>0.171174</td>\n",
              "      <td>0.215962</td>\n",
              "      <td>0.192709</td>\n",
              "      <td>0.165777</td>\n",
              "      <td>0.484568</td>\n",
              "      <td>0.174729</td>\n",
              "    </tr>\n",
              "    <tr>\n",
              "      <th>min</th>\n",
              "      <td>2.000000</td>\n",
              "      <td>1.550000e+05</td>\n",
              "      <td>1987.000000</td>\n",
              "      <td>0.000000</td>\n",
              "      <td>0.000000</td>\n",
              "      <td>0.000000</td>\n",
              "      <td>0.000000</td>\n",
              "      <td>0.000000</td>\n",
              "      <td>0.000000</td>\n",
              "      <td>0.000000</td>\n",
              "      <td>0.000000</td>\n",
              "      <td>0.000000</td>\n",
              "      <td>0.000000</td>\n",
              "      <td>0.000000</td>\n",
              "      <td>0.000000</td>\n",
              "      <td>0.000000</td>\n",
              "      <td>0.000000</td>\n",
              "      <td>0.000000</td>\n",
              "      <td>0.000000</td>\n",
              "      <td>0.000000</td>\n",
              "      <td>0.000000</td>\n",
              "      <td>0.000000</td>\n",
              "      <td>0.000000</td>\n",
              "      <td>0.000000</td>\n",
              "      <td>0.000000</td>\n",
              "      <td>0.000000</td>\n",
              "      <td>0.000000</td>\n",
              "      <td>0.000000</td>\n",
              "      <td>0.000000</td>\n",
              "      <td>0.000000</td>\n",
              "      <td>0.000000</td>\n",
              "      <td>0.000000</td>\n",
              "      <td>0.000000</td>\n",
              "      <td>0.000000</td>\n",
              "      <td>0.000000</td>\n",
              "      <td>0.000000</td>\n",
              "      <td>0.000000</td>\n",
              "      <td>0.000000</td>\n",
              "      <td>0.000000</td>\n",
              "      <td>0.000000</td>\n",
              "      <td>...</td>\n",
              "      <td>0.000000</td>\n",
              "      <td>0.000000</td>\n",
              "      <td>0.000000</td>\n",
              "      <td>0.000000</td>\n",
              "      <td>0.000000</td>\n",
              "      <td>0.000000</td>\n",
              "      <td>0.000000</td>\n",
              "      <td>0.000000</td>\n",
              "      <td>0.000000</td>\n",
              "      <td>0.000000</td>\n",
              "      <td>0.000000</td>\n",
              "      <td>0.000000</td>\n",
              "      <td>0.000000</td>\n",
              "      <td>0.000000</td>\n",
              "      <td>0.000000</td>\n",
              "      <td>0.000000</td>\n",
              "      <td>0.000000</td>\n",
              "      <td>0.000000</td>\n",
              "      <td>0.000000</td>\n",
              "      <td>0.000000</td>\n",
              "      <td>0.000000</td>\n",
              "      <td>0.000000</td>\n",
              "      <td>0.000000</td>\n",
              "      <td>0.000000</td>\n",
              "      <td>0.000000</td>\n",
              "      <td>0.000000</td>\n",
              "      <td>0.000000</td>\n",
              "      <td>0.000000</td>\n",
              "      <td>0.000000</td>\n",
              "      <td>0.000000</td>\n",
              "      <td>0.000000</td>\n",
              "      <td>0.000000</td>\n",
              "      <td>0.000000</td>\n",
              "      <td>0.000000</td>\n",
              "      <td>0.000000</td>\n",
              "      <td>0.000000</td>\n",
              "      <td>0.000000</td>\n",
              "      <td>0.000000</td>\n",
              "      <td>0.000000</td>\n",
              "      <td>0.000000</td>\n",
              "    </tr>\n",
              "    <tr>\n",
              "      <th>25%</th>\n",
              "      <td>44000.000000</td>\n",
              "      <td>4.450000e+05</td>\n",
              "      <td>2004.000000</td>\n",
              "      <td>0.000000</td>\n",
              "      <td>1.000000</td>\n",
              "      <td>0.000000</td>\n",
              "      <td>0.000000</td>\n",
              "      <td>0.000000</td>\n",
              "      <td>0.000000</td>\n",
              "      <td>0.000000</td>\n",
              "      <td>0.000000</td>\n",
              "      <td>0.000000</td>\n",
              "      <td>0.000000</td>\n",
              "      <td>0.000000</td>\n",
              "      <td>0.000000</td>\n",
              "      <td>0.000000</td>\n",
              "      <td>0.000000</td>\n",
              "      <td>0.000000</td>\n",
              "      <td>0.000000</td>\n",
              "      <td>0.000000</td>\n",
              "      <td>0.000000</td>\n",
              "      <td>0.000000</td>\n",
              "      <td>0.000000</td>\n",
              "      <td>0.000000</td>\n",
              "      <td>0.000000</td>\n",
              "      <td>0.000000</td>\n",
              "      <td>0.000000</td>\n",
              "      <td>0.000000</td>\n",
              "      <td>0.000000</td>\n",
              "      <td>0.000000</td>\n",
              "      <td>0.000000</td>\n",
              "      <td>0.000000</td>\n",
              "      <td>0.000000</td>\n",
              "      <td>0.000000</td>\n",
              "      <td>0.000000</td>\n",
              "      <td>0.000000</td>\n",
              "      <td>0.000000</td>\n",
              "      <td>0.000000</td>\n",
              "      <td>0.000000</td>\n",
              "      <td>0.000000</td>\n",
              "      <td>...</td>\n",
              "      <td>0.000000</td>\n",
              "      <td>0.000000</td>\n",
              "      <td>0.000000</td>\n",
              "      <td>0.000000</td>\n",
              "      <td>0.000000</td>\n",
              "      <td>0.000000</td>\n",
              "      <td>0.000000</td>\n",
              "      <td>0.000000</td>\n",
              "      <td>0.000000</td>\n",
              "      <td>0.000000</td>\n",
              "      <td>0.000000</td>\n",
              "      <td>0.000000</td>\n",
              "      <td>0.000000</td>\n",
              "      <td>0.000000</td>\n",
              "      <td>0.000000</td>\n",
              "      <td>0.000000</td>\n",
              "      <td>0.000000</td>\n",
              "      <td>0.000000</td>\n",
              "      <td>0.000000</td>\n",
              "      <td>0.000000</td>\n",
              "      <td>0.000000</td>\n",
              "      <td>0.000000</td>\n",
              "      <td>0.000000</td>\n",
              "      <td>0.000000</td>\n",
              "      <td>0.000000</td>\n",
              "      <td>0.000000</td>\n",
              "      <td>0.000000</td>\n",
              "      <td>0.000000</td>\n",
              "      <td>0.000000</td>\n",
              "      <td>0.000000</td>\n",
              "      <td>0.000000</td>\n",
              "      <td>0.000000</td>\n",
              "      <td>0.000000</td>\n",
              "      <td>0.000000</td>\n",
              "      <td>0.000000</td>\n",
              "      <td>0.000000</td>\n",
              "      <td>0.000000</td>\n",
              "      <td>0.000000</td>\n",
              "      <td>0.000000</td>\n",
              "      <td>0.000000</td>\n",
              "    </tr>\n",
              "    <tr>\n",
              "      <th>50%</th>\n",
              "      <td>77000.000000</td>\n",
              "      <td>6.800000e+05</td>\n",
              "      <td>2008.000000</td>\n",
              "      <td>0.000000</td>\n",
              "      <td>1.000000</td>\n",
              "      <td>0.000000</td>\n",
              "      <td>0.000000</td>\n",
              "      <td>0.000000</td>\n",
              "      <td>0.000000</td>\n",
              "      <td>0.000000</td>\n",
              "      <td>0.000000</td>\n",
              "      <td>0.000000</td>\n",
              "      <td>0.000000</td>\n",
              "      <td>0.000000</td>\n",
              "      <td>0.000000</td>\n",
              "      <td>0.000000</td>\n",
              "      <td>0.000000</td>\n",
              "      <td>0.000000</td>\n",
              "      <td>0.000000</td>\n",
              "      <td>0.000000</td>\n",
              "      <td>0.000000</td>\n",
              "      <td>0.000000</td>\n",
              "      <td>0.000000</td>\n",
              "      <td>0.000000</td>\n",
              "      <td>0.000000</td>\n",
              "      <td>0.000000</td>\n",
              "      <td>0.000000</td>\n",
              "      <td>0.000000</td>\n",
              "      <td>0.000000</td>\n",
              "      <td>0.000000</td>\n",
              "      <td>0.000000</td>\n",
              "      <td>0.000000</td>\n",
              "      <td>1.000000</td>\n",
              "      <td>0.000000</td>\n",
              "      <td>0.000000</td>\n",
              "      <td>0.000000</td>\n",
              "      <td>0.000000</td>\n",
              "      <td>0.000000</td>\n",
              "      <td>0.000000</td>\n",
              "      <td>0.000000</td>\n",
              "      <td>...</td>\n",
              "      <td>0.000000</td>\n",
              "      <td>0.000000</td>\n",
              "      <td>0.000000</td>\n",
              "      <td>0.000000</td>\n",
              "      <td>0.000000</td>\n",
              "      <td>0.000000</td>\n",
              "      <td>0.000000</td>\n",
              "      <td>0.000000</td>\n",
              "      <td>0.000000</td>\n",
              "      <td>0.000000</td>\n",
              "      <td>0.000000</td>\n",
              "      <td>0.000000</td>\n",
              "      <td>0.000000</td>\n",
              "      <td>0.000000</td>\n",
              "      <td>0.000000</td>\n",
              "      <td>0.000000</td>\n",
              "      <td>0.000000</td>\n",
              "      <td>0.000000</td>\n",
              "      <td>0.000000</td>\n",
              "      <td>0.000000</td>\n",
              "      <td>0.000000</td>\n",
              "      <td>0.000000</td>\n",
              "      <td>0.000000</td>\n",
              "      <td>0.000000</td>\n",
              "      <td>0.000000</td>\n",
              "      <td>0.000000</td>\n",
              "      <td>0.000000</td>\n",
              "      <td>0.000000</td>\n",
              "      <td>0.000000</td>\n",
              "      <td>0.000000</td>\n",
              "      <td>0.000000</td>\n",
              "      <td>0.000000</td>\n",
              "      <td>0.000000</td>\n",
              "      <td>0.000000</td>\n",
              "      <td>0.000000</td>\n",
              "      <td>0.000000</td>\n",
              "      <td>0.000000</td>\n",
              "      <td>0.000000</td>\n",
              "      <td>1.000000</td>\n",
              "      <td>0.000000</td>\n",
              "    </tr>\n",
              "    <tr>\n",
              "      <th>75%</th>\n",
              "      <td>100000.000000</td>\n",
              "      <td>1.060000e+06</td>\n",
              "      <td>2012.000000</td>\n",
              "      <td>0.000000</td>\n",
              "      <td>1.000000</td>\n",
              "      <td>0.000000</td>\n",
              "      <td>0.000000</td>\n",
              "      <td>0.000000</td>\n",
              "      <td>0.000000</td>\n",
              "      <td>0.000000</td>\n",
              "      <td>0.000000</td>\n",
              "      <td>0.000000</td>\n",
              "      <td>0.000000</td>\n",
              "      <td>0.000000</td>\n",
              "      <td>0.000000</td>\n",
              "      <td>0.000000</td>\n",
              "      <td>0.000000</td>\n",
              "      <td>0.000000</td>\n",
              "      <td>0.000000</td>\n",
              "      <td>0.000000</td>\n",
              "      <td>0.000000</td>\n",
              "      <td>0.000000</td>\n",
              "      <td>0.000000</td>\n",
              "      <td>0.000000</td>\n",
              "      <td>0.000000</td>\n",
              "      <td>0.000000</td>\n",
              "      <td>1.000000</td>\n",
              "      <td>0.000000</td>\n",
              "      <td>1.000000</td>\n",
              "      <td>0.000000</td>\n",
              "      <td>0.000000</td>\n",
              "      <td>0.000000</td>\n",
              "      <td>1.000000</td>\n",
              "      <td>0.000000</td>\n",
              "      <td>0.000000</td>\n",
              "      <td>0.000000</td>\n",
              "      <td>0.000000</td>\n",
              "      <td>0.000000</td>\n",
              "      <td>0.000000</td>\n",
              "      <td>0.000000</td>\n",
              "      <td>...</td>\n",
              "      <td>0.000000</td>\n",
              "      <td>0.000000</td>\n",
              "      <td>0.000000</td>\n",
              "      <td>0.000000</td>\n",
              "      <td>0.000000</td>\n",
              "      <td>0.000000</td>\n",
              "      <td>0.000000</td>\n",
              "      <td>0.000000</td>\n",
              "      <td>0.000000</td>\n",
              "      <td>0.000000</td>\n",
              "      <td>0.000000</td>\n",
              "      <td>0.000000</td>\n",
              "      <td>0.000000</td>\n",
              "      <td>0.000000</td>\n",
              "      <td>0.000000</td>\n",
              "      <td>0.000000</td>\n",
              "      <td>0.000000</td>\n",
              "      <td>0.000000</td>\n",
              "      <td>0.000000</td>\n",
              "      <td>0.000000</td>\n",
              "      <td>0.000000</td>\n",
              "      <td>0.000000</td>\n",
              "      <td>0.000000</td>\n",
              "      <td>0.000000</td>\n",
              "      <td>0.000000</td>\n",
              "      <td>0.000000</td>\n",
              "      <td>0.000000</td>\n",
              "      <td>0.000000</td>\n",
              "      <td>0.000000</td>\n",
              "      <td>0.000000</td>\n",
              "      <td>0.000000</td>\n",
              "      <td>0.000000</td>\n",
              "      <td>0.000000</td>\n",
              "      <td>0.000000</td>\n",
              "      <td>0.000000</td>\n",
              "      <td>0.000000</td>\n",
              "      <td>0.000000</td>\n",
              "      <td>0.000000</td>\n",
              "      <td>1.000000</td>\n",
              "      <td>0.000000</td>\n",
              "    </tr>\n",
              "    <tr>\n",
              "      <th>max</th>\n",
              "      <td>222211.000000</td>\n",
              "      <td>2.055000e+06</td>\n",
              "      <td>2016.000000</td>\n",
              "      <td>1.000000</td>\n",
              "      <td>1.000000</td>\n",
              "      <td>1.000000</td>\n",
              "      <td>1.000000</td>\n",
              "      <td>1.000000</td>\n",
              "      <td>1.000000</td>\n",
              "      <td>1.000000</td>\n",
              "      <td>1.000000</td>\n",
              "      <td>1.000000</td>\n",
              "      <td>1.000000</td>\n",
              "      <td>1.000000</td>\n",
              "      <td>1.000000</td>\n",
              "      <td>1.000000</td>\n",
              "      <td>1.000000</td>\n",
              "      <td>1.000000</td>\n",
              "      <td>1.000000</td>\n",
              "      <td>1.000000</td>\n",
              "      <td>1.000000</td>\n",
              "      <td>1.000000</td>\n",
              "      <td>1.000000</td>\n",
              "      <td>1.000000</td>\n",
              "      <td>1.000000</td>\n",
              "      <td>1.000000</td>\n",
              "      <td>1.000000</td>\n",
              "      <td>1.000000</td>\n",
              "      <td>1.000000</td>\n",
              "      <td>1.000000</td>\n",
              "      <td>1.000000</td>\n",
              "      <td>1.000000</td>\n",
              "      <td>1.000000</td>\n",
              "      <td>1.000000</td>\n",
              "      <td>1.000000</td>\n",
              "      <td>1.000000</td>\n",
              "      <td>1.000000</td>\n",
              "      <td>1.000000</td>\n",
              "      <td>1.000000</td>\n",
              "      <td>1.000000</td>\n",
              "      <td>...</td>\n",
              "      <td>1.000000</td>\n",
              "      <td>1.000000</td>\n",
              "      <td>1.000000</td>\n",
              "      <td>1.000000</td>\n",
              "      <td>1.000000</td>\n",
              "      <td>1.000000</td>\n",
              "      <td>1.000000</td>\n",
              "      <td>1.000000</td>\n",
              "      <td>1.000000</td>\n",
              "      <td>1.000000</td>\n",
              "      <td>1.000000</td>\n",
              "      <td>1.000000</td>\n",
              "      <td>1.000000</td>\n",
              "      <td>1.000000</td>\n",
              "      <td>1.000000</td>\n",
              "      <td>1.000000</td>\n",
              "      <td>1.000000</td>\n",
              "      <td>1.000000</td>\n",
              "      <td>1.000000</td>\n",
              "      <td>1.000000</td>\n",
              "      <td>1.000000</td>\n",
              "      <td>1.000000</td>\n",
              "      <td>1.000000</td>\n",
              "      <td>1.000000</td>\n",
              "      <td>1.000000</td>\n",
              "      <td>1.000000</td>\n",
              "      <td>1.000000</td>\n",
              "      <td>1.000000</td>\n",
              "      <td>1.000000</td>\n",
              "      <td>1.000000</td>\n",
              "      <td>1.000000</td>\n",
              "      <td>1.000000</td>\n",
              "      <td>1.000000</td>\n",
              "      <td>1.000000</td>\n",
              "      <td>1.000000</td>\n",
              "      <td>1.000000</td>\n",
              "      <td>1.000000</td>\n",
              "      <td>1.000000</td>\n",
              "      <td>1.000000</td>\n",
              "      <td>1.000000</td>\n",
              "    </tr>\n",
              "  </tbody>\n",
              "</table>\n",
              "<p>8 rows × 97 columns</p>\n",
              "</div>"
            ],
            "text/plain": [
              "          KMs_Driven         Price  ...  Model_Outros    Model_Vitz\n",
              "count   14498.000000  1.449800e+04  ...  14498.000000  14498.000000\n",
              "mean    76730.142847  7.807886e+05  ...      0.623327      0.031522\n",
              "std     48129.383137  4.369079e+05  ...      0.484568      0.174729\n",
              "min         2.000000  1.550000e+05  ...      0.000000      0.000000\n",
              "25%     44000.000000  4.450000e+05  ...      0.000000      0.000000\n",
              "50%     77000.000000  6.800000e+05  ...      1.000000      0.000000\n",
              "75%    100000.000000  1.060000e+06  ...      1.000000      0.000000\n",
              "max    222211.000000  2.055000e+06  ...      1.000000      1.000000\n",
              "\n",
              "[8 rows x 97 columns]"
            ]
          },
          "metadata": {
            "tags": []
          },
          "execution_count": 6
        }
      ]
    },
    {
      "cell_type": "code",
      "metadata": {
        "id": "cxdwDWukbKpM",
        "colab": {
          "base_uri": "https://localhost:8080/"
        },
        "outputId": "6fe498bf-05fb-4f6b-c062-3d7f34491e0e"
      },
      "source": [
        "y, X = cars_df.Price, cars_df.drop('Price', axis=1)\n",
        "\n",
        "print(\"X\", X.shape)\n",
        "print(\"y\", y.shape)"
      ],
      "execution_count": null,
      "outputs": [
        {
          "output_type": "stream",
          "text": [
            "X (14498, 96)\n",
            "y (14498,)\n"
          ],
          "name": "stdout"
        }
      ]
    },
    {
      "cell_type": "code",
      "metadata": {
        "id": "HayLh69ebKpP",
        "scrolled": true,
        "colab": {
          "base_uri": "https://localhost:8080/"
        },
        "outputId": "91cce4a7-d7d4-44c9-937f-a40ea0f4a8a4"
      },
      "source": [
        "seed = 1\n",
        "\n",
        "# separando treino e teste\n",
        "X_training, X_test, y_training, y_test = train_test_split(X, y, random_state=seed, test_size=0.25) #, stratify=y)\n",
        "print(\"Test set X\", X_test.shape)\n",
        "print(\"Test set y\", y_test.shape)\n",
        "\n",
        "# separando treino e validação\n",
        "X_train, X_val, y_train, y_val = train_test_split(X_training, y_training, random_state=seed,\n",
        "                                                  test_size=0.33) #, stratify=y_training)\n",
        "\n",
        "print(\"Train set X\", X_train.shape)\n",
        "print(\"Train set y\", y_train.shape)\n",
        "print(\"Validation set X\", X_val.shape)\n",
        "print(\"Validation set y\", y_val.shape)"
      ],
      "execution_count": null,
      "outputs": [
        {
          "output_type": "stream",
          "text": [
            "Test set X (3625, 96)\n",
            "Test set y (3625,)\n",
            "Train set X (7284, 96)\n",
            "Train set y (7284,)\n",
            "Validation set X (3589, 96)\n",
            "Validation set y (3589,)\n"
          ],
          "name": "stdout"
        }
      ]
    },
    {
      "cell_type": "markdown",
      "metadata": {
        "id": "G5YWY7RfbKpU"
      },
      "source": [
        "#### Exercício 1\n",
        "\n",
        "**Substitua as lacunas** para treinar um modelo de *random forest* com validação cruzada e *grid search*. O *grid search* deve variar, pelo menos, os parâmetros *n_estimators* e *max_depth*, mas você pode incluir outros. Após o treino, crie o *dataframe* ```cv_results``` com os resultados de cada iteração e o dicionário ```cv_best_params``` com os valores da melhor combinação de parâmetros."
      ]
    },
    {
      "cell_type": "code",
      "metadata": {
        "exid": "1",
        "id": "Ky0nFCGLz_Hq",
        "colab": {
          "base_uri": "https://localhost:8080/"
        },
        "outputId": "a26c4a96-c485-4a0c-ba9f-4c4249fd72df"
      },
      "source": [
        "# Random Forest com validação cruzada e Grid Search\n",
        "\n",
        "# definindo os valores possíveis dos parâmetros a serem testados\n",
        "params = {'n_estimators': [5, 50, 100, 500],\n",
        "          'max_features': [2, 5, 9, 13],\n",
        "          'max_depth': [2, 5, 10, 50],\n",
        "          'min_samples_split': [2, 8, 15, 30],}\n",
        "\n",
        "# criando o objeto do modelo com RandomForestRegressor\n",
        "rf_model_cv_gs = RandomForestRegressor(random_state = seed)\n",
        "\n",
        "# criando o objeto do grid search com GridSearchCV\n",
        "grid_search = GridSearchCV(rf_model_cv_gs, param_grid=params, return_train_score=True, scoring='neg_root_mean_squared_error')\n",
        "\n",
        "# treinando o modelo com o grid search\n",
        "grid_search.fit(X_training, y_training)\n",
        "\n",
        "# pegando os resultados da validação cruzada (cv_results)\n",
        "cv_results = pd.DataFrame(grid_search.cv_results_)\n",
        "\n",
        "# pegando e imprimindo a melhor combinação de hiperparâmetros\n",
        "cv_best_params = grid_search.best_params_\n",
        "print('\\n Best hyperparameters:')\n",
        "print(cv_best_params)"
      ],
      "execution_count": null,
      "outputs": [
        {
          "output_type": "stream",
          "text": [
            "\n",
            " Best hyperparameters:\n",
            "{'max_depth': 50, 'max_features': 13, 'min_samples_split': 8, 'n_estimators': 500}\n"
          ],
          "name": "stdout"
        }
      ]
    },
    {
      "cell_type": "markdown",
      "metadata": {
        "id": "xoUuVKOE1MdZ"
      },
      "source": [
        "#### Exercício 2\n",
        "\n",
        "**Substitua as lacunas** para treinar o modelo final de *random forest* com os melhores parâmetros obtidos no *grid search* do exercício anterior."
      ]
    },
    {
      "cell_type": "code",
      "metadata": {
        "exid": "2",
        "id": "kl1YtSsKbKpV",
        "scrolled": false,
        "colab": {
          "base_uri": "https://localhost:8080/"
        },
        "outputId": "55c2f236-c90c-46b0-e904-4ae97111c1b6"
      },
      "source": [
        "# imprimindo o score médio nas bases de treino\n",
        "print(\"Average accuracy on train set: {:.3f} +/- {:.3f}\".format(cv_results[cv_results.rank_test_score == 1].mean_train_score.values[0],\n",
        "                                                                     cv_results[cv_results.rank_test_score == 1].std_train_score.values[0])) \n",
        "# imprimindo o score médio nas bases de validação\n",
        "print(\"Average accuracy on validation set: {:.3f} +/- {:.3f}\".format(cv_results[cv_results.rank_test_score == 1].mean_test_score.values[0],\n",
        "                                                                     cv_results[cv_results.rank_test_score == 1].std_test_score.values[0])) \n",
        "\n",
        "# configurando o modelo com a melhor combinação de hiperparâmetros\n",
        "rf_model_cv_gs.set_params(n_estimators = grid_search.best_params_['n_estimators'],\n",
        "                           max_features = grid_search.best_params_['max_features'],\n",
        "                           max_depth = grid_search.best_params_['max_depth'],\n",
        "                           min_samples_split = grid_search.best_params_['min_samples_split'])\n",
        "\n",
        "# treinando um modelo com a melhor combinação de hiperparâmetros\n",
        "rf_model_cv_gs.fit(X_training, y_training)\n",
        "best_model_params = rf_model_cv_gs.get_params()"
      ],
      "execution_count": null,
      "outputs": [
        {
          "output_type": "stream",
          "text": [
            "Average accuracy on train set: -120444.232 +/- 770.748\n",
            "Average accuracy on validation set: -173288.302 +/- 6005.583\n"
          ],
          "name": "stdout"
        }
      ]
    },
    {
      "cell_type": "markdown",
      "metadata": {
        "id": "ORZjy1W63W-9"
      },
      "source": [
        "#### Exercício 3\n",
        "\n",
        "**Substitua as lacunas** para obter um *dataframe* com a importância de cada variável do modelo de *random forest*."
      ]
    },
    {
      "cell_type": "code",
      "metadata": {
        "exid": "3",
        "id": "QKwOpM1wbKpa",
        "colab": {
          "base_uri": "https://localhost:8080/",
          "height": 295
        },
        "outputId": "89e69afc-51af-46eb-8f44-69ca294b34a6"
      },
      "source": [
        "# desenhando o gráfico de importância de variáveis\n",
        "features = X_training.columns\n",
        "importances = rf_model_cv_gs.feature_importances_\n",
        "indices = np.argsort(importances)\n",
        "\n",
        "feature_importances_df = pd.DataFrame({'features': features,\n",
        "                                       'importances': importances})\n",
        "\n",
        "plt.title('Feature Importances')\n",
        "plt.barh(range(len(importances[indices][-15:])), importances[indices][-15:], color='b', align='center')\n",
        "plt.yticks(range(len(importances[indices][-15:])), [features[i] for i in indices[-15:]])\n",
        "plt.xlabel('Relative Importance')\n",
        "plt.show()"
      ],
      "execution_count": null,
      "outputs": [
        {
          "output_type": "display_data",
          "data": {
            "image/png": "[encoded data removed]",
            "text/plain": [
              "<Figure size 432x288 with 1 Axes>"
            ]
          },
          "metadata": {
            "tags": [],
            "needs_background": "light"
          }
        }
      ]
    },
    {
      "cell_type": "markdown",
      "metadata": {
        "id": "LhsZo64LHNHU"
      },
      "source": [
        "#### Exercício 4\n",
        "\n",
        "**Substitua as lacunas** para calcular o RMSE do modelo de *random forest* final na base de teste."
      ]
    },
    {
      "cell_type": "code",
      "metadata": {
        "exid": "4",
        "id": "DVvyM-PeHNHV",
        "colab": {
          "base_uri": "https://localhost:8080/"
        },
        "outputId": "97b21660-a5f2-42a4-828c-35b0f5e27a68"
      },
      "source": [
        "y_test_pred_rf = rf_model_cv_gs.predict(X_test)\n",
        "rmse_test_rf = math.sqrt(mean_squared_error(y_test, y_test_pred_rf))\n",
        "print(rmse_test_rf)"
      ],
      "execution_count": null,
      "outputs": [
        {
          "output_type": "stream",
          "text": [
            "166742.34632465875\n"
          ],
          "name": "stdout"
        }
      ]
    },
    {
      "cell_type": "markdown",
      "metadata": {
        "id": "-ljTj09XbKpc"
      },
      "source": [
        "#### Exercício 5\n",
        "\n",
        "**Substitua as lacunas** para treinar um modelo de *Light GBM* com validação cruzada e *grid search*. O *grid search* deve variar, pelo menos, os parâmetros *learning_rate* e *n_estimators*, mas você pode incluir outros. Após o treino, crie o *dataframe* ```cv_results``` com os resultados de cada iteração e o dicionário ```cv_best_params``` com os valores da melhor combinação de parâmetros."
      ]
    },
    {
      "cell_type": "code",
      "metadata": {
        "id": "smgsMEZ7AU-j"
      },
      "source": [
        "import warnings\n",
        "warnings.filterwarnings('ignore')"
      ],
      "execution_count": null,
      "outputs": []
    },
    {
      "cell_type": "code",
      "metadata": {
        "exid": "5",
        "id": "6f4c8q32bKpd",
        "scrolled": true,
        "colab": {
          "base_uri": "https://localhost:8080/"
        },
        "outputId": "13e164cf-0189-4c3b-844c-65704ba80af6"
      },
      "source": [
        "# Light GBM com validação cruzada e Grid Search\n",
        "\n",
        "# definindo os valores possíveis dos parâmetros a serem testados\n",
        "# params = {'max_depth': [10, 50, 100],\n",
        "#           'learning_rate': [0.01, 0.03, 0.1, 0.5],\n",
        "#           'num_iterations': [100, 200, 500],\n",
        "#           'min_data_in_leaf': [20, 50],\n",
        "#           'min_gain_to_split': [0., 1, 5]}\n",
        "\n",
        "params = {'max_depth': [10, 50, 100],\n",
        "          'learning_rate': [0.01, 0.03, 0.1, 0.5],\n",
        "          'num_iterations': [100, 200, 500],\n",
        "          'min_data_in_leaf': [20, 50],\n",
        "          'min_gain_to_split': [0., 1, 5]}\n",
        "\n",
        "# criando o objeto do modelo com XGBClassifier\n",
        "lgb_model_cv_gs = lgb.LGBMRegressor(random_state = seed)\n",
        "\n",
        "# criando o objeto do grid search com GridSearchCV\n",
        "grid_search = GridSearchCV(lgb_model_cv_gs, param_grid=params, return_train_score=True, scoring='neg_root_mean_squared_error')\n",
        "\n",
        "# treinando o modelo com o grid search\n",
        "grid_search.fit(X_training, y_training)\n",
        "\n",
        "# pegando os resultados da validação cruzada (cv_results)\n",
        "cv_results = pd.DataFrame(grid_search.cv_results_)\n",
        "\n",
        "# pegando e imprimindo a melhor combinação de hiperparâmetros\n",
        "cv_best_params = grid_search.best_params_\n",
        "print('\\n Best hyperparameters:')\n",
        "print(cv_best_params)"
      ],
      "execution_count": null,
      "outputs": [
        {
          "output_type": "stream",
          "text": [
            "\n",
            " Best hyperparameters:\n",
            "{'learning_rate': 0.03, 'max_depth': 10, 'min_data_in_leaf': 20, 'min_gain_to_split': 5, 'num_iterations': 500}\n"
          ],
          "name": "stdout"
        }
      ]
    },
    {
      "cell_type": "markdown",
      "metadata": {
        "id": "Hni7HUd14BBg"
      },
      "source": [
        "#### Exercício 6\n",
        "\n",
        "**Substitua as lacunas** para treinar o modelo final de *light GBM* com os melhores parâmetros obtidos no *grid search* do exercício anterior."
      ]
    },
    {
      "cell_type": "code",
      "metadata": {
        "exid": "6",
        "id": "op7r1CM6346h",
        "colab": {
          "base_uri": "https://localhost:8080/"
        },
        "outputId": "64cab610-8225-48f9-a027-d1ada9aa86f8"
      },
      "source": [
        "# imprimindo o score médio nas bases de treino\n",
        "print(\"Average accuracy on train set: {:.3f} +/- {:.3f}\".format(cv_results[cv_results.rank_test_score == 1].mean_train_score.values[0],\n",
        "                                                                     cv_results[cv_results.rank_test_score == 1].std_train_score.values[0]))\n",
        "\n",
        "# imprimindo o score médio nas bases de validação\n",
        "print(\"Average accuracy on validation set: {:.3f} +/- {:.3f}\".format(cv_results[cv_results.rank_test_score == 1].mean_test_score.values[0],\n",
        "                                                                     cv_results[cv_results.rank_test_score == 1].std_test_score.values[0]))\n",
        "\n",
        "# configurando o modelo com a melhor combinação de hiperparâmetros\n",
        "lgb_model_cv_gs.set_params(max_depth = grid_search.best_params_['max_depth'],\n",
        "                           learning_rate = grid_search.best_params_['learning_rate'],\n",
        "                           min_data_in_leaf = grid_search.best_params_['min_data_in_leaf'],\n",
        "                           min_gain_to_split = grid_search.best_params_['min_gain_to_split'])\n",
        "\n",
        "# treinando um modelo com a melhor combinação de hiperparâmetros\n",
        "lgb_model_cv_gs.fit(X_training, y_training)\n",
        "best_model_params = lgb_model_cv_gs.get_params()"
      ],
      "execution_count": null,
      "outputs": [
        {
          "output_type": "stream",
          "text": [
            "Average accuracy on train set: -148863.359 +/- 1120.330\n",
            "Average accuracy on validation set: -171900.130 +/- 4856.291\n"
          ],
          "name": "stdout"
        }
      ]
    },
    {
      "cell_type": "markdown",
      "metadata": {
        "id": "gdhCQ7SYbKph"
      },
      "source": [
        "#### Exercício 7\n",
        "\n",
        "**Substitua as lacunas** para obter um *dataframe* com a importância de cada variável do modelo de *light GBM*."
      ]
    },
    {
      "cell_type": "code",
      "metadata": {
        "exid": "7",
        "id": "ehKrQQ7xbKpi",
        "colab": {
          "base_uri": "https://localhost:8080/",
          "height": 295
        },
        "outputId": "ac3c9b8e-5e21-4771-ad49-e48b02b4d09b"
      },
      "source": [
        "# desenhando o gráfico de impoartância de variáveis\n",
        "features = X_training.columns\n",
        "importances = lgb_model_cv_gs.feature_importances_\n",
        "indices = np.argsort(importances)\n",
        "\n",
        "feature_importances_df = pd.DataFrame({'features': features,\n",
        "                                       'importances': importances})\n",
        "\n",
        "plt.title('Feature Importances')\n",
        "plt.barh(range(len(importances[indices][-15:])), importances[indices][-15:], color='b', align='center')\n",
        "plt.yticks(range(len(importances[indices][-15:])), [features[i] for i in indices[-15:]])\n",
        "plt.xlabel('Relative Importance')\n",
        "plt.show()"
      ],
      "execution_count": null,
      "outputs": [
        {
          "output_type": "display_data",
          "data": {
            "image/png": "[encoded data removed]",
            "text/plain": [
              "<Figure size 432x288 with 1 Axes>"
            ]
          },
          "metadata": {
            "tags": [],
            "needs_background": "light"
          }
        }
      ]
    },
    {
      "cell_type": "markdown",
      "metadata": {
        "id": "UAiQT7z1HNHX"
      },
      "source": [
        "#### Exercício 8\n",
        "\n",
        "**Substitua as lacunas** para calcular o RMSE do modelo de *light GBM* final na base de teste."
      ]
    },
    {
      "cell_type": "code",
      "metadata": {
        "exid": "8",
        "id": "URuUzkA_HNHY",
        "colab": {
          "base_uri": "https://localhost:8080/"
        },
        "outputId": "0969b24c-eaac-4986-9c77-31eda323dd8b"
      },
      "source": [
        "y_test_pred_lgb = lgb_model_cv_gs.predict(X_test)\n",
        "rmse_test_lgb = math.sqrt(mean_squared_error(y_test, y_test_pred_lgb))\n",
        "print(rmse_test_lgb)"
      ],
      "execution_count": null,
      "outputs": [
        {
          "output_type": "stream",
          "text": [
            "174500.91971972145\n"
          ],
          "name": "stdout"
        }
      ]
    },
    {
      "cell_type": "markdown",
      "metadata": {
        "id": "aVpe_IBpbKpq"
      },
      "source": [
        "Os resultados dos modelos criados até aqui fazem sentido para você?\n",
        "\n",
        "Vamos desenhar gráficos para comparar as duas previsões como fizamos com os dados de **boston**, e usá-los para responder as demais perguntas:"
      ]
    },
    {
      "cell_type": "code",
      "metadata": {
        "id": "sRUpxmzZbKpr",
        "colab": {
          "base_uri": "https://localhost:8080/",
          "height": 1000
        },
        "outputId": "571b1fdb-9fcf-42ed-a8af-34e43a42bb93"
      },
      "source": [
        "# Desenhando o gráfico de valores previstos por valores reais para ambos os modelos\n",
        "\n",
        "plt.figure(figsize=(16,10))\n",
        "plt.title('Pakistan car prices - Predicted vs Real',fontsize=20)\n",
        "df = pd.DataFrame({'real':y_val,'Random Forest':rf_model_cv_gs.predict(X_val),\n",
        "                   'LGBM':lgb_model_cv_gs.predict(X_val)})\n",
        "df = df.sample(200)\n",
        "df.sort_values(by=['real'],ascending=True,inplace=True)\n",
        "df = df.reset_index(drop=True)\n",
        "plt.plot(df)\n",
        "plt.legend(['Real price','Predicted RF price','Predicted LGBM price'],fontsize=20)\n",
        "plt.ylabel('$ Price',fontsize=20)\n",
        "plt.xlabel('Observations ordered by price',fontsize=20)\n",
        "plt.show()\n",
        "\n",
        "plt.figure(figsize=(16,10))\n",
        "plt.title('Pakistan car prices - Predicted vs Real',fontsize=20)\n",
        "plt.scatter(x=df['real'],y=df['Random Forest'],c='y')\n",
        "plt.scatter(x=df['real'],y=df['LGBM'],c='g')\n",
        "plt.plot([0,1750000],[0,1750000],'k--')\n",
        "# plt.axis([0,1750000,0,1750000])\n",
        "plt.legend(['Real price','Predicted RF price','Predicted LGBM price'],fontsize=20)\n",
        "plt.xlabel('Real price',fontsize=20)\n",
        "plt.ylabel('Predicted price',fontsize=20)\n",
        "plt.show()"
      ],
      "execution_count": null,
      "outputs": [
        {
          "output_type": "display_data",
          "data": {
            "image/png": "[encoded data removed]",
            "text/plain": [
              "<Figure size 1152x720 with 1 Axes>"
            ]
          },
          "metadata": {
            "tags": [],
            "needs_background": "light"
          }
        },
        {
          "output_type": "display_data",
          "data": {
            "image/png": "[encoded data removed]",
            "text/plain": [
              "<Figure size 1152x720 with 1 Axes>"
            ]
          },
          "metadata": {
            "tags": [],
            "needs_background": "light"
          }
        }
      ]
    },
    {
      "cell_type": "markdown",
      "metadata": {
        "id": "hIsLsboObKpx"
      },
      "source": [
        "#### Exercício 9\n",
        "*(Resposta aberta, não contabilizara pontos, o objetivo é refletir sobre a questão/tópico)*\n",
        "\n",
        "Qual modelo parece ter menos *over-fitting*? Explique"
      ]
    },
    {
      "cell_type": "code",
      "metadata": {
        "id": "ffzlYuZ3bKpx"
      },
      "source": [
        "# suas respostas\n",
        "LGBM, por possuirem picos mais acentuados"
      ],
      "execution_count": null,
      "outputs": []
    },
    {
      "cell_type": "markdown",
      "metadata": {
        "id": "Cy87yOZWMvcs"
      },
      "source": [
        "#### Exercício 10\n",
        "*(Resposta aberta, não contabilizara pontos, o objetivo é refletir sobre a questão/tópico)*\n",
        "\n",
        "Qual modelo faz a melhor previsão dos preços dos carros em cada faixa de preço?"
      ]
    },
    {
      "cell_type": "code",
      "metadata": {
        "id": "KBm0QCJvM2f0"
      },
      "source": [
        "# suas respostas\n",
        "O modelo de random florest"
      ],
      "execution_count": null,
      "outputs": []
    },
    {
      "cell_type": "markdown",
      "metadata": {
        "id": "OoCEJhofM24B"
      },
      "source": [
        "#### Exercício 11\n",
        "*(Resposta aberta, não contabilizara pontos, o objetivo é refletir sobre a questão/tópico)*\n",
        "\n",
        "Qual modelo vocês utilizaria afinal? Explique"
      ]
    },
    {
      "cell_type": "code",
      "metadata": {
        "id": "VMzL5rF6M6VG"
      },
      "source": [
        "# suas respostas\n",
        "Provavelmente o modelo RF, por se adequar mais aos resultados obtidos"
      ],
      "execution_count": null,
      "outputs": []
    }
  ]
}