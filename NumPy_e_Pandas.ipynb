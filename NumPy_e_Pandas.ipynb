{
  "nbformat": 4,
  "nbformat_minor": 0,
  "metadata": {
    "kernelspec": {
      "display_name": "Python 3",
      "language": "python",
      "name": "python3"
    },
    "language_info": {
      "codemirror_mode": {
        "name": "ipython",
        "version": 3
      },
      "file_extension": ".py",
      "mimetype": "text/x-python",
      "name": "python",
      "nbconvert_exporter": "python",
      "pygments_lexer": "ipython3",
      "version": "3.7.4"
    },
    "colab": {
      "name": "NumPy e Pandas.ipynb",
      "provenance": [],
      "include_colab_link": true
    }
  },
  "cells": [
    {
      "cell_type": "markdown",
      "metadata": {
        "id": "view-in-github",
        "colab_type": "text"
      },
      "source": [
        "<a href=\"https://colab.research.google.com/github/Bruno-Messias/data_science_visagio/blob/main/NumPy_e_Pandas.ipynb\" target=\"_parent\"><img src=\"https://colab.research.google.com/assets/colab-badge.svg\" alt=\"Open In Colab\"/></a>"
      ]
    },
    {
      "cell_type": "markdown",
      "metadata": {
        "id": "_t-b8HQXI7UU"
      },
      "source": [
        "# <center> Introdução ao NumPy e Pandas</center>\n",
        "___\n",
        "\n",
        "## Conteúdo\n",
        "1. [Introdução](#intro)\n",
        "2. [Jupyter Básico](#basics)\n",
        "3. [Pacotes (Packages)](#pacotes)<br>\n",
        "4. [Encerramento](#encerramento)<br>\n",
        "\n",
        "<a name=\"intro\"></a>\n",
        "## 1. Introdução\n",
        "\n",
        "Bem-vindo a Trilha de Data Science! É um prazer tê-lo como aluno nesta jornada. O objetivo deste curso é fornecer uma introdução ao mundo de data science e machine learning de forma que você seja capaz de abordar problemas nestes domínios. Caso tenha interesse em se aprofundar ainda mais, recomendamos a inscrição em nosso curso na [VAI Academy](https://www.vai.academy/).\n",
        "\n",
        "Nesta primeira aula, vamos te introduzir a duas das bibliotecas mais importantes em análise de dados: as bibliotecas NumPy e Pandas.\n",
        "\n",
        "Utilizaremos o Jupyter Notebook para o acompanhamento da aula."
      ]
    },
    {
      "cell_type": "markdown",
      "metadata": {
        "id": "QIggjQsWI7UV"
      },
      "source": [
        "<a name=\"basics\"></a>\n",
        "## 2. Jupyter e Colab Básicos\n",
        "\n",
        "### 2.1. O que é Jupyter e Colab?\n",
        "\"Jupyter\" é uma aplicação *open source* para criar e compartilhar documentos que contém códigos executáveis, equações, visualizações e texto. O nome é um acrônimo que significa Julia, Python, and R. Essas linguagens de programação foram as primeiras utilizadas na aplicação Jupyter, mas, atualmente, o notebook também suporta  [muitas outras linguagens](https://github.com/jupyter/jupyter/wiki/Jupyter-kernels).\n",
        "\n",
        "Existem diferentes formas de abrir este tipo de arquivo. Neste curso, recomendamos o uso do Google Colab, pois ele possui algumas vantagens, como:\n",
        "* Nenhuma configuração necessária\n",
        "* Execução de código em núvem (servidores Google)\n",
        "* Ambiente isolado para instalação de bibliotecas com diversas já pré-instaladas\n",
        "* Integração com o Google Drive\n",
        "\n",
        "Caso queira se habituar com o Colab e praticar, use este [notebook introdutório](https://colab.research.google.com/notebooks/welcome.ipynb).\n",
        "\n",
        "Você pode também utilizar atalhos de teclado para agilizar a manipulação do notebook. No Google Colab, os principais são:\n",
        "* ```Ctrl+Enter```: Executar célula selecionada\n",
        "* ```Shift+Enter```: Executar célula e selecionar a célula seguinte\n",
        "* ```Ctrl+M B```: Inserir célula de código abaixo\n",
        "* ```Ctrl+M B```: Excluir célula/seleção\n",
        "* ```Ctrl+M Z``` ou ```Ctrl+Shift+Z```: Desfazer a última ação em células\n",
        "\n",
        "Para ver a lista completa de todos os atalhos, vá em Ferramentas > Atalhos do Teclado."
      ]
    },
    {
      "cell_type": "markdown",
      "metadata": {
        "id": "2lYzdj6uI7UW"
      },
      "source": [
        "### 2.2 Execução de células\n",
        "\n",
        "Não podemos aprender Data Science sem antes conhecer nossas ferramentas, né?\n",
        "\n",
        "Clique na célula abaixo e pressione ```Ctrl+Enter``` para executar o código."
      ]
    },
    {
      "cell_type": "code",
      "metadata": {
        "id": "qxyMASb-I7UW",
        "colab": {
          "base_uri": "https://localhost:8080/"
        },
        "outputId": "947d6c15-8c0a-4444-e364-e50385980125"
      },
      "source": [
        "print(\"Hello World!\") #Lembre-se que shift+enter vai executar a célula atual e selecionar a próxima célula"
      ],
      "execution_count": null,
      "outputs": [
        {
          "output_type": "stream",
          "text": [
            "Hello World!\n"
          ],
          "name": "stdout"
        }
      ]
    },
    {
      "cell_type": "markdown",
      "metadata": {
        "id": "gnzziMLFI7Ub"
      },
      "source": [
        "Parabéns!!! Você acabou de executar sua primeira linha de código no Jupyter. Foi bem fácil, né?\n",
        "\n",
        "É assim que o notebook funciona, você pode executar o documento célula a célula e observar o que está sendo realizado."
      ]
    },
    {
      "cell_type": "markdown",
      "metadata": {
        "id": "Sl6N8Dw8I7Ub"
      },
      "source": [
        "Vamos, agora, acompanhar uma seção sobre os pacotes básicos mais utilizados para análise de dados em Python: o **Numpy** e o **Pandas**!"
      ]
    },
    {
      "cell_type": "markdown",
      "metadata": {
        "id": "xDZkVGOjI7Uc"
      },
      "source": [
        "<a name=\"pacotes\"></a>\n",
        "## 3. Pacotes (Packages)\n",
        "\n",
        "Um *package* é um diretório de scripts Python, também chamados de modules, com um objetivo em comum. Isso significa que cada script é um módulo que define funções, métodos e tipos. E esse módulos estão organizados em *packages*.\n",
        "\n",
        "Quando você inicializa o Jupyter, apenas o package built-in é carregado. Para usar qualquer função, método ou objeto definido em outro módulo, você deve, primeiramente, importá-lo.\n",
        "\n",
        "Vamos tentar fazer isso com o NumPy, um pacote que lida eficientemente com arrays e matrizes, que você certamente utilizará bastante em sua vida com o Python."
      ]
    },
    {
      "cell_type": "markdown",
      "metadata": {
        "id": "FYsV7fiyI7Uc"
      },
      "source": [
        "### 3.1 NumPy\n",
        "\n",
        "NumPy é a abreviação de ‘Numerical Python’ ou ‘Numeric Python’. Ela é uma biblioteca *open-source* (ou seja, é um software cujo código original é disponibilizado livremente e pode ser distribuido e modificado) que oferece suporte à arrays e matrizes multidimensionais, provendo diversas funções matemáticas úteis em computação científica.\n",
        "\n",
        "Mas por que você deveria utilizar o NumPy? É simples! As listas do Python funcionam como as arrays, no entanto, são lentas para utilização com grandes volumes de dados. No ramo de Ciência de Dados, velocidade e recursos durante o processamento são bem importantes! Dessa forma, o NumPy nos possibilita utilizar os objetos arrays, que são bem mais rápidos que as listas tradicionais do Python.\n",
        "\n",
        "O **ndarray** é o objeto fundamental do NumPy. Este objeto é uma matriz N-dimensional, vamos entender melhor como este objeto funciona nas células abaixo."
      ]
    },
    {
      "cell_type": "markdown",
      "metadata": {
        "id": "OWBF8V3fI7Ud"
      },
      "source": [
        "#### 3.1.1 Importando o NumPy"
      ]
    },
    {
      "cell_type": "code",
      "metadata": {
        "scrolled": false,
        "id": "s2sCbGy_I7Ue",
        "colab": {
          "base_uri": "https://localhost:8080/",
          "height": 197
        },
        "outputId": "9c37cf87-7009-4aa5-cfbd-6744b8f08de5"
      },
      "source": [
        "# Primeiramente, o que você acha que aconteceria se tentássemos utilizar algumas coisa de um pacote que ainda não foi carregado?\n",
        "# Nós podemos testar isso com a função array, do módulo numpy, que retorna um array para uma lista dada\n",
        "array([1, 2, 3])"
      ],
      "execution_count": null,
      "outputs": [
        {
          "output_type": "error",
          "ename": "NameError",
          "evalue": "ignored",
          "traceback": [
            "\u001b[0;31m---------------------------------------------------------------------------\u001b[0m",
            "\u001b[0;31mNameError\u001b[0m                                 Traceback (most recent call last)",
            "\u001b[0;32m<ipython-input-2-c17dde29d94f>\u001b[0m in \u001b[0;36m<module>\u001b[0;34m()\u001b[0m\n\u001b[1;32m      1\u001b[0m \u001b[0;31m# Primeiramente, o que você acha que aconteceria se tentássemos utilizar algumas coisa de um pacote que ainda não foi carregado?\u001b[0m\u001b[0;34m\u001b[0m\u001b[0;34m\u001b[0m\u001b[0;34m\u001b[0m\u001b[0m\n\u001b[1;32m      2\u001b[0m \u001b[0;31m# Nós podemos testar isso com a função array, do módulo numpy, que retorna um array para uma lista dada\u001b[0m\u001b[0;34m\u001b[0m\u001b[0;34m\u001b[0m\u001b[0;34m\u001b[0m\u001b[0m\n\u001b[0;32m----> 3\u001b[0;31m \u001b[0marray\u001b[0m\u001b[0;34m(\u001b[0m\u001b[0;34m[\u001b[0m\u001b[0;36m1\u001b[0m\u001b[0;34m,\u001b[0m \u001b[0;36m2\u001b[0m\u001b[0;34m,\u001b[0m \u001b[0;36m3\u001b[0m\u001b[0;34m]\u001b[0m\u001b[0;34m)\u001b[0m\u001b[0;34m\u001b[0m\u001b[0;34m\u001b[0m\u001b[0m\n\u001b[0m",
            "\u001b[0;31mNameError\u001b[0m: name 'array' is not defined"
          ]
        }
      ]
    },
    {
      "cell_type": "markdown",
      "metadata": {
        "id": "OFGZy00UI7Ug"
      },
      "source": [
        "Como esperado, tivemos um erro. Nós deveríamos carregar o pacote, então.\n",
        "Para fazer isso, utilizamos a keyword 'import' seguida do nome do package."
      ]
    },
    {
      "cell_type": "code",
      "metadata": {
        "id": "f4iiqKpjI7Uh",
        "colab": {
          "base_uri": "https://localhost:8080/"
        },
        "outputId": "cae69273-2030-4bdc-99bc-689e32582432"
      },
      "source": [
        "import numpy\n",
        "numpy.array([1, 2, 3])"
      ],
      "execution_count": null,
      "outputs": [
        {
          "output_type": "execute_result",
          "data": {
            "text/plain": [
              "array([1, 2, 3])"
            ]
          },
          "metadata": {
            "tags": []
          },
          "execution_count": 3
        }
      ]
    },
    {
      "cell_type": "markdown",
      "metadata": {
        "id": "3o_VSmvBI7Uj"
      },
      "source": [
        "Repare como precisamos especificar qual é o pacote ao qual a função ```array``` pertence. Poderia ficar muito chato se você tivesse que digitar os nomes dos pacotes todas as vezes que quisesse utilizar alguma coisa deles.\n",
        "\n",
        "Para te ajudar com isso, o Python permite que você utilize um alias para o nome do pacote, através da keyword 'as', tornando seu uso um pouco mais prático, como mostrado a seguir."
      ]
    },
    {
      "cell_type": "code",
      "metadata": {
        "id": "cFPWPeT7I7Uj",
        "colab": {
          "base_uri": "https://localhost:8080/"
        },
        "outputId": "acbb044e-60cd-4e3b-8ddd-e57004327b1d"
      },
      "source": [
        "import numpy as np\n",
        "np.array([1, 2, 3])"
      ],
      "execution_count": null,
      "outputs": [
        {
          "output_type": "execute_result",
          "data": {
            "text/plain": [
              "array([1, 2, 3])"
            ]
          },
          "metadata": {
            "tags": []
          },
          "execution_count": 4
        }
      ]
    },
    {
      "cell_type": "markdown",
      "metadata": {
        "id": "_rTvJtmoI7Um"
      },
      "source": [
        "Por último, é possível carregar apenas uma parte de um pacote com a expressão  ```from ... import ...```. Fazendo isso, você estará permitido a utilizar apenas a parte que você carregou do pacote, sem a necessidade de especificar o nome do pacote posteriormente. Veja."
      ]
    },
    {
      "cell_type": "code",
      "metadata": {
        "id": "ZgxvN2tiI7Um",
        "colab": {
          "base_uri": "https://localhost:8080/"
        },
        "outputId": "9a7330bb-9969-4107-c919-c50ed5848ff7"
      },
      "source": [
        "from numpy import array\n",
        "array([1, 2, 3])"
      ],
      "execution_count": null,
      "outputs": [
        {
          "output_type": "execute_result",
          "data": {
            "text/plain": [
              "array([1, 2, 3])"
            ]
          },
          "metadata": {
            "tags": []
          },
          "execution_count": 5
        }
      ]
    },
    {
      "cell_type": "markdown",
      "metadata": {
        "id": "FqF1WpJ7I7Uq"
      },
      "source": [
        "Ótimo, você já sabe importar os pacotes que precisar!\n",
        "\n",
        "Vamos observar o porquê o NumPy é tão poderoso e preferível às listas do Python.\n",
        "\n",
        "Imagine que você tenha duas listas de dados de indivíduos, com alturas e pesos, e queira calcular o IMC (Índice de Massa Corporal) de cada um deles, como mostrado abaixo:"
      ]
    },
    {
      "cell_type": "code",
      "metadata": {
        "id": "4BxlI-C-I7Ut",
        "colab": {
          "base_uri": "https://localhost:8080/",
          "height": 197
        },
        "outputId": "c7b96a86-b732-4ac7-879f-a01a4de2b0e2"
      },
      "source": [
        "altura = [1.81, 1.77, 1.69, 1.91]\n",
        "peso = [89.0, 77.3, 55.9, 99.4]\n",
        "\n",
        "# Calculando o IMC\n",
        "imc = peso / altura ** 2"
      ],
      "execution_count": null,
      "outputs": [
        {
          "output_type": "error",
          "ename": "TypeError",
          "evalue": "ignored",
          "traceback": [
            "\u001b[0;31m---------------------------------------------------------------------------\u001b[0m",
            "\u001b[0;31mTypeError\u001b[0m                                 Traceback (most recent call last)",
            "\u001b[0;32m<ipython-input-6-6d1374b18ff3>\u001b[0m in \u001b[0;36m<module>\u001b[0;34m()\u001b[0m\n\u001b[1;32m      3\u001b[0m \u001b[0;34m\u001b[0m\u001b[0m\n\u001b[1;32m      4\u001b[0m \u001b[0;31m# Calculando o IMC\u001b[0m\u001b[0;34m\u001b[0m\u001b[0;34m\u001b[0m\u001b[0;34m\u001b[0m\u001b[0m\n\u001b[0;32m----> 5\u001b[0;31m \u001b[0mimc\u001b[0m \u001b[0;34m=\u001b[0m \u001b[0mpeso\u001b[0m \u001b[0;34m/\u001b[0m \u001b[0maltura\u001b[0m \u001b[0;34m**\u001b[0m \u001b[0;36m2\u001b[0m\u001b[0;34m\u001b[0m\u001b[0;34m\u001b[0m\u001b[0m\n\u001b[0m",
            "\u001b[0;31mTypeError\u001b[0m: unsupported operand type(s) for ** or pow(): 'list' and 'int'"
          ]
        }
      ]
    },
    {
      "cell_type": "markdown",
      "metadata": {
        "id": "qCtEhF62I7Uv"
      },
      "source": [
        "Observe que o Python nos retornou um erro porque não é possivel realizar cálculos com listas, para isso vamos utilizar o NumPy!"
      ]
    },
    {
      "cell_type": "code",
      "metadata": {
        "id": "KNMFG6iEI7Uw",
        "colab": {
          "base_uri": "https://localhost:8080/"
        },
        "outputId": "fae49f94-4708-4957-f862-f863e9c7a283"
      },
      "source": [
        "# Criando os arrays com o NumPy\n",
        "np_altura = np.array(altura)\n",
        "np_peso = np.array(peso)\n",
        "\n",
        "# Calculando o IMC\n",
        "imc = np_peso / np_altura ** 2\n",
        "imc"
      ],
      "execution_count": null,
      "outputs": [
        {
          "output_type": "execute_result",
          "data": {
            "text/plain": [
              "array([27.16644791, 24.67362508, 19.57214383, 27.24706011])"
            ]
          },
          "metadata": {
            "tags": []
          },
          "execution_count": 7
        }
      ]
    },
    {
      "cell_type": "markdown",
      "metadata": {
        "id": "w0SOdKBbI7Uy"
      },
      "source": [
        "O Numpy consegue realizar perfeitamente as operações elemento a elemento!\n",
        "\n",
        "Mas preste bem atenção, pois algumas operações podem funcionar de forma diferente do que você imagina. Veja o exemplo abaixo:"
      ]
    },
    {
      "cell_type": "code",
      "metadata": {
        "id": "tML_YhdJI7Uz",
        "colab": {
          "base_uri": "https://localhost:8080/"
        },
        "outputId": "f1e85357-1ea8-4cea-e1ea-a12272390803"
      },
      "source": [
        "# Lista do Python\n",
        "altura * 2"
      ],
      "execution_count": null,
      "outputs": [
        {
          "output_type": "execute_result",
          "data": {
            "text/plain": [
              "[1.81, 1.77, 1.69, 1.91, 1.81, 1.77, 1.69, 1.91]"
            ]
          },
          "metadata": {
            "tags": []
          },
          "execution_count": 8
        }
      ]
    },
    {
      "cell_type": "code",
      "metadata": {
        "id": "YDEKa-xFI7U1",
        "colab": {
          "base_uri": "https://localhost:8080/"
        },
        "outputId": "c6985398-42c4-468a-90a6-56e5f4403e22"
      },
      "source": [
        "# NumPy array\n",
        "np_altura * 2"
      ],
      "execution_count": null,
      "outputs": [
        {
          "output_type": "execute_result",
          "data": {
            "text/plain": [
              "array([3.62, 3.54, 3.38, 3.82])"
            ]
          },
          "metadata": {
            "tags": []
          },
          "execution_count": 9
        }
      ]
    },
    {
      "cell_type": "markdown",
      "metadata": {
        "id": "pcH2OAfDI7U3"
      },
      "source": [
        "#### 3.1.2 Selecionando subconjuntos de NumPy Arrays\n",
        "A seleção de subconjuntos de NumPy arrays funciona de forma similar à listas de Python."
      ]
    },
    {
      "cell_type": "code",
      "metadata": {
        "id": "rwniB6TNI7U3",
        "colab": {
          "base_uri": "https://localhost:8080/"
        },
        "outputId": "c39137e3-9ef4-418d-e7af-03be29daf56f"
      },
      "source": [
        "# retornando o terceiro elemento da array\n",
        "imc[2]"
      ],
      "execution_count": null,
      "outputs": [
        {
          "output_type": "execute_result",
          "data": {
            "text/plain": [
              "19.572143832498863"
            ]
          },
          "metadata": {
            "tags": []
          },
          "execution_count": 10
        }
      ]
    },
    {
      "cell_type": "markdown",
      "metadata": {
        "id": "uj--wzxrI7U5"
      },
      "source": [
        "Você também pode selecionar subconjuntos baseados em condições, de forma que apenas os valores que satisfazem as condições serão retornados."
      ]
    },
    {
      "cell_type": "code",
      "metadata": {
        "id": "RwCbDMxwI7U6",
        "colab": {
          "base_uri": "https://localhost:8080/"
        },
        "outputId": "627867fe-9130-45d6-c959-9c00bf6adf60"
      },
      "source": [
        "imc[imc > 25]"
      ],
      "execution_count": null,
      "outputs": [
        {
          "output_type": "execute_result",
          "data": {
            "text/plain": [
              "array([27.16644791, 27.24706011])"
            ]
          },
          "metadata": {
            "tags": []
          },
          "execution_count": 11
        }
      ]
    },
    {
      "cell_type": "markdown",
      "metadata": {
        "id": "2zxPjcqzI7U8"
      },
      "source": [
        "Vamos fazer um exercício para fixação."
      ]
    },
    {
      "cell_type": "markdown",
      "metadata": {
        "id": "DFgrAn-4I7U9"
      },
      "source": [
        "#### Exercício 3.1"
      ]
    },
    {
      "cell_type": "code",
      "metadata": {
        "id": "xCqSvuZKI7U9",
        "colab": {
          "base_uri": "https://localhost:8080/"
        },
        "outputId": "d6dad391-114f-4915-a7b9-4628513b69f5"
      },
      "source": [
        "# lista de pesos de castanhas\n",
        "c_peso = [0.946, 0.918, 0.906, 0.904, 0.858, 0.774, 0.652, 0.516, 0.478, 0.404, 0.396, 0.364, 0.342, 0.304, \n",
        "            0.262, 0.208, 0.134, 0.974, 0.792, 0.792, 0.628, 0.552, 0.506, 0.478, 0.462, 0.436, 0.408, 0.378, \n",
        "            0.3, 0.298, 0.268, 0.252, 0.16, 0.114, 0.092, 0.936, 0.894, 0.744, 0.706, 0.694, 0.69, 0.652, 0.518, \n",
        "            0.508, 0.502, 0.5, 0.47, 0.44, 0.39, 0.384]\n",
        "\n",
        "# Importe o numpy como np\n",
        "import numpy as np\n",
        "\n",
        "# Crie um numpy array a partir de c_peso: np_c_peso\n",
        "np_c_peso = np.array(c_peso)\n",
        "\n",
        "# Imprima o tipo de np_c_peso\n",
        "type(np_c_peso)"
      ],
      "execution_count": null,
      "outputs": [
        {
          "output_type": "execute_result",
          "data": {
            "text/plain": [
              "numpy.ndarray"
            ]
          },
          "metadata": {
            "tags": []
          },
          "execution_count": 12
        }
      ]
    },
    {
      "cell_type": "code",
      "metadata": {
        "id": "2Q3pveLOI7U_"
      },
      "source": [
        "c_kg_preco = 45.00\n",
        "\n",
        "# Crie um array a partir de c_peso com a quantia gasta em cada compra: np_c_despesa\n",
        "np_c_despesa = c_kg_preco * np_c_peso"
      ],
      "execution_count": null,
      "outputs": []
    },
    {
      "cell_type": "code",
      "metadata": {
        "id": "Xe-lvBwBI7VB",
        "colab": {
          "base_uri": "https://localhost:8080/"
        },
        "outputId": "c7955f45-5784-4583-a072-27256341113f"
      },
      "source": [
        "# Imprima o peso no indíce 20\n",
        "np_c_despesa[20]"
      ],
      "execution_count": null,
      "outputs": [
        {
          "output_type": "execute_result",
          "data": {
            "text/plain": [
              "28.26"
            ]
          },
          "metadata": {
            "tags": []
          },
          "execution_count": 23
        }
      ]
    },
    {
      "cell_type": "markdown",
      "metadata": {
        "id": "C-4-5HH1I7VD"
      },
      "source": [
        "#### 3.1.3  Array N-dimensional\n",
        "Vamos verificar o tipo dos arrays criados acima!"
      ]
    },
    {
      "cell_type": "code",
      "metadata": {
        "id": "LCgv4mtYI7VD",
        "colab": {
          "base_uri": "https://localhost:8080/"
        },
        "outputId": "1f514150-47fa-490f-e670-26992891da31"
      },
      "source": [
        "print(type(np_peso))"
      ],
      "execution_count": null,
      "outputs": [
        {
          "output_type": "stream",
          "text": [
            "<class 'numpy.ndarray'>\n"
          ],
          "name": "stdout"
        }
      ]
    },
    {
      "cell_type": "markdown",
      "metadata": {
        "id": "ACK51kB7I7VG"
      },
      "source": [
        "**ndarrays** significam arrays N-dimensionais, vamos criar um numpy array multi-dimensional a partir de listas tradicionais do Python."
      ]
    },
    {
      "cell_type": "code",
      "metadata": {
        "id": "xPyc-WqnI7VG",
        "colab": {
          "base_uri": "https://localhost:8080/"
        },
        "outputId": "32b57d8c-7cae-4f5b-ac2e-2260470a824c"
      },
      "source": [
        "np_2d = np.array([[1.81, 1.77, 1.69, 1.91],\n",
        "                  [89.0, 77.3, 55.9, 99.4]])\n",
        "np_2d"
      ],
      "execution_count": null,
      "outputs": [
        {
          "output_type": "execute_result",
          "data": {
            "text/plain": [
              "array([[ 1.81,  1.77,  1.69,  1.91],\n",
              "       [89.  , 77.3 , 55.9 , 99.4 ]])"
            ]
          },
          "metadata": {
            "tags": []
          },
          "execution_count": 25
        }
      ]
    },
    {
      "cell_type": "markdown",
      "metadata": {
        "id": "pdWHekG8I7VI"
      },
      "source": [
        "Cada sublista da lista corresponde a uma linha da array bi-dimensional criada.\n",
        "Nós podemos verificar o tamanho da array usando o atributo \"shape\"."
      ]
    },
    {
      "cell_type": "code",
      "metadata": {
        "id": "NDV2yCBVI7VI",
        "colab": {
          "base_uri": "https://localhost:8080/"
        },
        "outputId": "e93fc623-3b19-475e-b866-41ac9ac969d4"
      },
      "source": [
        "np_2d.shape"
      ],
      "execution_count": null,
      "outputs": [
        {
          "output_type": "execute_result",
          "data": {
            "text/plain": [
              "(2, 4)"
            ]
          },
          "metadata": {
            "tags": []
          },
          "execution_count": 26
        }
      ]
    },
    {
      "cell_type": "markdown",
      "metadata": {
        "id": "wlRoKTY7I7VK"
      },
      "source": [
        "Podemos ver que o np_2d tem 2 linhas e 4 colunas."
      ]
    },
    {
      "cell_type": "markdown",
      "metadata": {
        "id": "7FwtOqG0I7VK"
      },
      "source": [
        "Assim como a array unidimensional, também podemos selecionar um subconjunto de uma array multi-dimensional, usando o índice da linha e coluna como abaixo.\n",
        "![Subsetting](https://imgur.com/08EIOjy.png)\n",
        "Veja alguns exemplos abaixo."
      ]
    },
    {
      "cell_type": "code",
      "metadata": {
        "id": "wuhs2K0II7VL",
        "colab": {
          "base_uri": "https://localhost:8080/"
        },
        "outputId": "05690133-8324-45bb-e8fd-3ed478d0219a"
      },
      "source": [
        "np_2d[0]"
      ],
      "execution_count": null,
      "outputs": [
        {
          "output_type": "execute_result",
          "data": {
            "text/plain": [
              "array([1.81, 1.77, 1.69, 1.91])"
            ]
          },
          "metadata": {
            "tags": []
          },
          "execution_count": 27
        }
      ]
    },
    {
      "cell_type": "code",
      "metadata": {
        "id": "9XQL-bOLI7VN",
        "colab": {
          "base_uri": "https://localhost:8080/"
        },
        "outputId": "f848d6ad-c47b-47c1-bea5-dcad440e605a"
      },
      "source": [
        "# Selecionando a altura (primeira linha) do terceiro elemento\n",
        "np_2d[0][2]"
      ],
      "execution_count": null,
      "outputs": [
        {
          "output_type": "execute_result",
          "data": {
            "text/plain": [
              "1.69"
            ]
          },
          "metadata": {
            "tags": []
          },
          "execution_count": 28
        }
      ]
    },
    {
      "cell_type": "markdown",
      "metadata": {
        "id": "nNYPyUANI7VO"
      },
      "source": [
        "Basicamente nós selecionamos a linha, e a partir daquela linha fazemos outra seleção.\n",
        "\n",
        "Também é possível selecionar utilizando vírgulas dentro de colchetes: array[linha, coluna]"
      ]
    },
    {
      "cell_type": "code",
      "metadata": {
        "id": "JalM9A2EI7VP",
        "colab": {
          "base_uri": "https://localhost:8080/"
        },
        "outputId": "f607ff4e-7160-490d-ebf3-1a37a00b21d6"
      },
      "source": [
        "# Primeira linha e terceira colna\n",
        "np_2d[0, 2]"
      ],
      "execution_count": null,
      "outputs": [
        {
          "output_type": "execute_result",
          "data": {
            "text/plain": [
              "1.69"
            ]
          },
          "metadata": {
            "tags": []
          },
          "execution_count": 29
        }
      ]
    },
    {
      "cell_type": "code",
      "metadata": {
        "id": "ksqMjmYEI7VR",
        "colab": {
          "base_uri": "https://localhost:8080/"
        },
        "outputId": "1d79ea3e-e352-4413-8241-8a4bd1dd5ac7"
      },
      "source": [
        "# Todas as linhas e segunda e terceira colunas\n",
        "np_2d[:, 1:3] "
      ],
      "execution_count": null,
      "outputs": [
        {
          "output_type": "execute_result",
          "data": {
            "text/plain": [
              "array([[ 1.77,  1.69],\n",
              "       [77.3 , 55.9 ]])"
            ]
          },
          "metadata": {
            "tags": []
          },
          "execution_count": 30
        }
      ]
    },
    {
      "cell_type": "markdown",
      "metadata": {
        "id": "WcAa54mqI7VT"
      },
      "source": [
        "#### Exercício 3.2\n",
        "\n",
        "Abaixo temos uma lista de listas contendo informações de vendas de castanhas de uma loja. Cada lista representa uma venda que foi realizada. O primeiro elemento de cada lista é o dia que  venda foi feita, o segundo elemento representa o peso das castanhas compradas. Por fim, o terceiro elemento é a quantia paga pelas castanhas.\n",
        "\n",
        "Com isso em mente, faça os seguintes exercícios:"
      ]
    },
    {
      "cell_type": "code",
      "metadata": {
        "id": "UjZhdLusI7VU",
        "colab": {
          "base_uri": "https://localhost:8080/"
        },
        "outputId": "d7e7480b-ab20-4ad6-c057-87d8e5b365b3"
      },
      "source": [
        "castanha = [[2, 0.946, 66.1], \n",
        "          [2, 0.918, 32.96], \n",
        "          [2, 0.906, 58.76],\n",
        "          [2, 0.904, 29.14], \n",
        "          [2, 0.858, 59.96],\n",
        "          [2, 0.774, 27.77],\n",
        "          [2, 0.652, 42.3],\n",
        "          [2, 0.516, 18.51], \n",
        "          [2, 0.478, 17.15],\n",
        "          [2, 0.404, 28.22], \n",
        "          [2, 0.396, 7.88], \n",
        "          [2, 0.364, 7.24],\n",
        "          [2, 0.342, 22.18], \n",
        "          [2, 0.304, 10.91], \n",
        "          [2, 0.262, 9.41], \n",
        "          [2, 0.208, 4.13],\n",
        "          [2, 0.134, 9.36],\n",
        "          [4, 0.974, 34.95],\n",
        "          [4, 0.792, 51.38],\n",
        "          [4, 0.792, 51.38], \n",
        "          [4, 0.628, 12.48], \n",
        "          [4, 0.552, 19.81], \n",
        "          [4, 0.506, 25], \n",
        "          [4, 0.478, 31], \n",
        "          [4, 0.462, 32.24],\n",
        "          [4, 0.436, 28.28],\n",
        "          [4, 0.408, 14.64],\n",
        "          [4, 0.378, 13.56],\n",
        "          [4, 0.3, 19.46],\n",
        "          [4, 0.298, 10.69],\n",
        "          [4, 0.268, 9.62],\n",
        "          [4, 0.252, 16.34],\n",
        "          [4, 0.16, 3.18],\n",
        "          [4, 0.114, 4.09],\n",
        "          [4, 0.092, 5.97],\n",
        "          [5, 0.936, 65.33],\n",
        "          [5, 0.894, 32.07],\n",
        "          [5, 0.744, 48.28], \n",
        "          [5, 0.706, 25.34],\n",
        "          [5, 0.694, 24.91], \n",
        "          [5, 0.69, 13.72], \n",
        "          [5, 0.652, 42.32], \n",
        "          [5, 0.518, 33.6], \n",
        "          [5, 0.508, 18.23],\n",
        "          [5, 0.502, 35.09],\n",
        "          [5, 0.5, 27.45], \n",
        "          [5, 0.47, 9.35], \n",
        "          [5, 0.44, 28.54],\n",
        "          [5, 0.39, 7.76], \n",
        "          [5, 0.384, 21.08]]\n",
        "\n",
        "# Crie um numpy array 2d a partir de castanha: np_castanha\n",
        "np_castanha = np.array(castanha)\n",
        "\n",
        "# Imprima o tipo de np_castanha\n",
        "print(type(np_castanha))\n",
        "\n",
        "# Imprima a forma de np_castanha\n",
        "np_castanha.shape"
      ],
      "execution_count": null,
      "outputs": [
        {
          "output_type": "stream",
          "text": [
            "<class 'numpy.ndarray'>\n"
          ],
          "name": "stdout"
        },
        {
          "output_type": "execute_result",
          "data": {
            "text/plain": [
              "(50, 3)"
            ]
          },
          "metadata": {
            "tags": []
          },
          "execution_count": 32
        }
      ]
    },
    {
      "cell_type": "code",
      "metadata": {
        "id": "SWkISBQDI7VX",
        "colab": {
          "base_uri": "https://localhost:8080/"
        },
        "outputId": "9fd40c22-a853-4851-96a4-f3c9ea7253e6"
      },
      "source": [
        "# Selecione toda a segunda coluna de np_castanha: np_c_peso\n",
        "np_c_peso = np_castanha[:, 1]\n",
        "\n",
        "# Imprima o preço da 14 venda\n",
        "print(np_castanha[13][2])\n",
        "\n",
        "# Imprima todas as vendas feitas após o dia 2\n",
        "np_castanha[17:,:]"
      ],
      "execution_count": null,
      "outputs": [
        {
          "output_type": "stream",
          "text": [
            "10.91\n"
          ],
          "name": "stdout"
        },
        {
          "output_type": "execute_result",
          "data": {
            "text/plain": [
              "array([[ 4.   ,  0.974, 34.95 ],\n",
              "       [ 4.   ,  0.792, 51.38 ],\n",
              "       [ 4.   ,  0.792, 51.38 ],\n",
              "       [ 4.   ,  0.628, 12.48 ],\n",
              "       [ 4.   ,  0.552, 19.81 ],\n",
              "       [ 4.   ,  0.506, 25.   ],\n",
              "       [ 4.   ,  0.478, 31.   ],\n",
              "       [ 4.   ,  0.462, 32.24 ],\n",
              "       [ 4.   ,  0.436, 28.28 ],\n",
              "       [ 4.   ,  0.408, 14.64 ],\n",
              "       [ 4.   ,  0.378, 13.56 ],\n",
              "       [ 4.   ,  0.3  , 19.46 ],\n",
              "       [ 4.   ,  0.298, 10.69 ],\n",
              "       [ 4.   ,  0.268,  9.62 ],\n",
              "       [ 4.   ,  0.252, 16.34 ],\n",
              "       [ 4.   ,  0.16 ,  3.18 ],\n",
              "       [ 4.   ,  0.114,  4.09 ],\n",
              "       [ 4.   ,  0.092,  5.97 ],\n",
              "       [ 5.   ,  0.936, 65.33 ],\n",
              "       [ 5.   ,  0.894, 32.07 ],\n",
              "       [ 5.   ,  0.744, 48.28 ],\n",
              "       [ 5.   ,  0.706, 25.34 ],\n",
              "       [ 5.   ,  0.694, 24.91 ],\n",
              "       [ 5.   ,  0.69 , 13.72 ],\n",
              "       [ 5.   ,  0.652, 42.32 ],\n",
              "       [ 5.   ,  0.518, 33.6  ],\n",
              "       [ 5.   ,  0.508, 18.23 ],\n",
              "       [ 5.   ,  0.502, 35.09 ],\n",
              "       [ 5.   ,  0.5  , 27.45 ],\n",
              "       [ 5.   ,  0.47 ,  9.35 ],\n",
              "       [ 5.   ,  0.44 , 28.54 ],\n",
              "       [ 5.   ,  0.39 ,  7.76 ],\n",
              "       [ 5.   ,  0.384, 21.08 ]])"
            ]
          },
          "metadata": {
            "tags": []
          },
          "execution_count": 43
        }
      ]
    },
    {
      "cell_type": "markdown",
      "metadata": {
        "id": "YIEqkTlVI7VZ"
      },
      "source": [
        "#### 3.1.4 Estatística básica com NumPy\n",
        "Costumeiramente o primeiro passo para analisar nossos dados é conhecê-los através de estatística descritiva. O NumPy pode ser usado para obter essa visão inicial dos dados mesmo com grande quantidade de observações.\n",
        "\n",
        "Vamos usar alguns atributos do NumPy para começar a analisar nossos dados."
      ]
    },
    {
      "cell_type": "code",
      "metadata": {
        "id": "sTkUT6xzI7VZ",
        "colab": {
          "base_uri": "https://localhost:8080/"
        },
        "outputId": "75d08984-a37b-4c03-bf2d-a02dd9685ad9"
      },
      "source": [
        "np_a_p = np.array([[1.81, 89.0],\n",
        "                  [1.77, 77.3],\n",
        "                  [1.69, 55.9],\n",
        "                  [1.91, 99.4]])\n",
        "\n",
        "# Calculando a media dos pesos\n",
        "np.mean(np_a_p[:, 1])"
      ],
      "execution_count": null,
      "outputs": [
        {
          "output_type": "execute_result",
          "data": {
            "text/plain": [
              "80.4"
            ]
          },
          "metadata": {
            "tags": []
          },
          "execution_count": 44
        }
      ]
    },
    {
      "cell_type": "code",
      "metadata": {
        "id": "GFAOifpqI7Vc",
        "colab": {
          "base_uri": "https://localhost:8080/"
        },
        "outputId": "3a6bd537-db99-495e-ea2a-343888ac9527"
      },
      "source": [
        "# calculando a mediana dos pesos\n",
        "np.median(np_a_p[:, 1])"
      ],
      "execution_count": null,
      "outputs": [
        {
          "output_type": "execute_result",
          "data": {
            "text/plain": [
              "83.15"
            ]
          },
          "metadata": {
            "tags": []
          },
          "execution_count": 45
        }
      ]
    },
    {
      "cell_type": "code",
      "metadata": {
        "id": "Y3z2MNdDI7Vd",
        "colab": {
          "base_uri": "https://localhost:8080/"
        },
        "outputId": "eb7464eb-e5cc-408e-9fe3-7ae7163caa7b"
      },
      "source": [
        "# calculando os coeficientes de correlação entre pesos e alturas\n",
        "np.corrcoef(np_a_p[:, 0], np_a_p[:, 1])"
      ],
      "execution_count": null,
      "outputs": [
        {
          "output_type": "execute_result",
          "data": {
            "text/plain": [
              "array([[1.        , 0.96933562],\n",
              "       [0.96933562, 1.        ]])"
            ]
          },
          "metadata": {
            "tags": []
          },
          "execution_count": 46
        }
      ]
    },
    {
      "cell_type": "code",
      "metadata": {
        "id": "Dd8HC0onI7Vg",
        "colab": {
          "base_uri": "https://localhost:8080/"
        },
        "outputId": "eb4fc78a-8221-44dd-bc60-55459bf2a510"
      },
      "source": [
        "# calculando o desvio padrão dos pesos\n",
        "np.std(np_a_p[:, 1])"
      ],
      "execution_count": null,
      "outputs": [
        {
          "output_type": "execute_result",
          "data": {
            "text/plain": [
              "16.16183776678878"
            ]
          },
          "metadata": {
            "tags": []
          },
          "execution_count": 47
        }
      ]
    },
    {
      "cell_type": "code",
      "metadata": {
        "id": "b2taaZh6I7Vh",
        "colab": {
          "base_uri": "https://localhost:8080/"
        },
        "outputId": "3d27e0c4-66b8-4caa-e2d6-b8942694c586"
      },
      "source": [
        "# calculando a soma dos pesos\n",
        "np.sum(np_a_p[:, 1])"
      ],
      "execution_count": null,
      "outputs": [
        {
          "output_type": "execute_result",
          "data": {
            "text/plain": [
              "321.6"
            ]
          },
          "metadata": {
            "tags": []
          },
          "execution_count": 48
        }
      ]
    },
    {
      "cell_type": "markdown",
      "metadata": {
        "id": "DzNkxEpAI7Vj"
      },
      "source": [
        "Alguns desses atributos já estão disponíveis no Python, no entanto, a principal diferença entre eles é a performance. Os atributos do NumPy são mais rápidos na execução do que os básicos do Python.\n",
        "\n",
        "Lembrando que sempre que tiver dificuldade para entender algum atributo, você pode consultar a documentação do [Numpy](https://numpy.org/doc/).\n",
        "\n",
        "Agora que aprendemos como o NumPy funciona, vamos aprender sobre uma das bibliotecas mais utilizadas para manipulação de dados em Python, o **Pandas**!"
      ]
    },
    {
      "cell_type": "markdown",
      "metadata": {
        "id": "0jW-2-KjI7Vk"
      },
      "source": [
        "### 3.2 O que é o Pandas?\n",
        "\n",
        "Pandas é uma biblioteca *open source*, que proporciona estruturas de dados e ferramentas de análise de dados de alta performance e fáceis de usar para Python. Vamos entender melhor o que alguns termos significam:\n",
        " - *open source*: assim como o NumPy, seu código original é disponibilizado livremente e pode ser distribuido e modificado. Isso significa que qualquer um pode contribuir para a evolução do Pandas!\n",
        " - alta performance: Pandas é escrito em Python, Cython e C. Isso permite que os cientistas de dados consigam o utilizar para lidar com conjuntos de dados muito grandes (daqueles que o excel não conseguiria nem abrir) e fazer operações sobre esses dados com facilidade. Dessa forma, Pandas torna nosso trabalho melhor e mais fácil provendo ótima performânce.\n",
        " - estruturas de dados e análises de dados: o motivo pelo qual Pandas existe. Muitas vezes precisamos obter algo com significado de dados crus como documentos de textos, tabelas e etc. Pandas é capaz de lidar com esses tipos de dados para que possamos analisá-los.\n",
        "Em resumo, **Pandas fornece estrutura de dados especializadas e ferramentas para manipulação de dados**. Sua ótima performance, facilidade de uso e comunidade dedicada são as principais razões de sua vasta adoção entre cientistas de dados. Vamos utilizá-lo!\n",
        "\n",
        "### 3.3 Começando com Pandas\n",
        "\n",
        "#### 3.3.1 Como importá-lo?\n",
        "\n",
        "Por algum motivo, todo mundo importa o Pandas da mesma forma, como mostramos abaixo. Aproveitamos também para importar o Numpy, biblioteca que já apresentamos anteriormente."
      ]
    },
    {
      "cell_type": "code",
      "metadata": {
        "id": "D3lVTBtPI7Vk"
      },
      "source": [
        "import pandas as pd\n",
        "import numpy as np"
      ],
      "execution_count": null,
      "outputs": []
    },
    {
      "cell_type": "markdown",
      "metadata": {
        "id": "6qKrzYVYI7Vm"
      },
      "source": [
        "#### 3.3.2 Objetos do Pandas\n",
        "\n",
        "Existem 2 principais tipos de objetos no Pandas: as [*Series*](https://pandas.pydata.org/pandas-docs/stable/reference/api/pandas.Series.html#pandas.Series) e os *DataFrames*. As *Series* são sequências de uma dimensão  de elementos (pra ser mais específicos *ndarray*), todos do mesmo tipo de dados, com rótulos/índices (*labels*). São o objeto primário do Pandas, tudo vai funcionar baseado nelas. Pra criar um objeto do tipo *Series*, podemos fazer o seguinte:"
      ]
    },
    {
      "cell_type": "code",
      "metadata": {
        "id": "tlrOSdwAI7Vn",
        "colab": {
          "base_uri": "https://localhost:8080/"
        },
        "outputId": "097f4f82-70c8-4580-df5d-9545dfe2bc11"
      },
      "source": [
        "s = pd.Series([1, 3, 5, np.nan, 6, 8])\n",
        "s"
      ],
      "execution_count": null,
      "outputs": [
        {
          "output_type": "execute_result",
          "data": {
            "text/plain": [
              "0    1.0\n",
              "1    3.0\n",
              "2    5.0\n",
              "3    NaN\n",
              "4    6.0\n",
              "5    8.0\n",
              "dtype: float64"
            ]
          },
          "metadata": {
            "tags": []
          },
          "execution_count": 3
        }
      ]
    },
    {
      "cell_type": "markdown",
      "metadata": {
        "id": "XoMUtFTEI7Vp"
      },
      "source": [
        "Podemos ver acima que cada elemento da *Series* tem um rótulo relacionado. Esses rótulos podem ser tanto numéricos quanto de texto! Ao final do objeto temos a informação sobre o tipo de dados da *Series*: nesse caso, números *float64*. <br>\n",
        "O outro objeto principal do Pandas é o [*DataFrame*](https://pandas.pydata.org/pandas-docs/stable/reference/api/pandas.DataFrame.html#pandas.DataFrame), que é basicamente uma coleção de *Series* com rótulos em comum. O *DataFrame* é bem parecido com uma tabela de Excel, com seus índices e colunas. Tanto suas linhas quanto suas colunas tem rótulos, nos permitindo acessar qualquer célula pela sua coordenada. Há diversas formas de criar um *DataFrame*, vamos começar com o mais simples:"
      ]
    },
    {
      "cell_type": "code",
      "metadata": {
        "id": "vNO6qyIfI7Vq",
        "colab": {
          "base_uri": "https://localhost:8080/",
          "height": 235
        },
        "outputId": "0cc9332d-8417-4a8e-f1f7-f662d3d8f609"
      },
      "source": [
        "dates = pd.date_range('20130101', periods=6) #estamos criando uma lista de datas entre 01/01/2013 e 06/01/2013. Note que estamos usando uma função do Pandas\n",
        "df = pd.DataFrame(\n",
        "    np.random.randn(6, 4), #apenas números aleatórios nas células\n",
        "    index=dates,  #especificando quais são os índices. Eles aceitam até datas como índice! Isso é muito bom para lidar com dados seriados no tempo\n",
        "    columns=list('ABCD')) #especificando como quero que sejam os nomes das colunas passando uma lista de letras\n",
        "df"
      ],
      "execution_count": null,
      "outputs": [
        {
          "output_type": "execute_result",
          "data": {
            "text/html": [
              "<div>\n",
              "<style scoped>\n",
              "    .dataframe tbody tr th:only-of-type {\n",
              "        vertical-align: middle;\n",
              "    }\n",
              "\n",
              "    .dataframe tbody tr th {\n",
              "        vertical-align: top;\n",
              "    }\n",
              "\n",
              "    .dataframe thead th {\n",
              "        text-align: right;\n",
              "    }\n",
              "</style>\n",
              "<table border=\"1\" class=\"dataframe\">\n",
              "  <thead>\n",
              "    <tr style=\"text-align: right;\">\n",
              "      <th></th>\n",
              "      <th>A</th>\n",
              "      <th>B</th>\n",
              "      <th>C</th>\n",
              "      <th>D</th>\n",
              "    </tr>\n",
              "  </thead>\n",
              "  <tbody>\n",
              "    <tr>\n",
              "      <th>2013-01-01</th>\n",
              "      <td>-2.334633</td>\n",
              "      <td>-0.312667</td>\n",
              "      <td>-0.706345</td>\n",
              "      <td>-0.355694</td>\n",
              "    </tr>\n",
              "    <tr>\n",
              "      <th>2013-01-02</th>\n",
              "      <td>-1.568332</td>\n",
              "      <td>-0.293408</td>\n",
              "      <td>-1.527838</td>\n",
              "      <td>0.238607</td>\n",
              "    </tr>\n",
              "    <tr>\n",
              "      <th>2013-01-03</th>\n",
              "      <td>0.395196</td>\n",
              "      <td>-1.594272</td>\n",
              "      <td>0.160299</td>\n",
              "      <td>-0.384890</td>\n",
              "    </tr>\n",
              "    <tr>\n",
              "      <th>2013-01-04</th>\n",
              "      <td>0.062129</td>\n",
              "      <td>-0.143177</td>\n",
              "      <td>-1.605660</td>\n",
              "      <td>0.279885</td>\n",
              "    </tr>\n",
              "    <tr>\n",
              "      <th>2013-01-05</th>\n",
              "      <td>-0.314154</td>\n",
              "      <td>-0.397949</td>\n",
              "      <td>-0.512884</td>\n",
              "      <td>-0.246577</td>\n",
              "    </tr>\n",
              "    <tr>\n",
              "      <th>2013-01-06</th>\n",
              "      <td>1.203781</td>\n",
              "      <td>-1.595383</td>\n",
              "      <td>0.240398</td>\n",
              "      <td>0.663706</td>\n",
              "    </tr>\n",
              "  </tbody>\n",
              "</table>\n",
              "</div>"
            ],
            "text/plain": [
              "                   A         B         C         D\n",
              "2013-01-01 -2.334633 -0.312667 -0.706345 -0.355694\n",
              "2013-01-02 -1.568332 -0.293408 -1.527838  0.238607\n",
              "2013-01-03  0.395196 -1.594272  0.160299 -0.384890\n",
              "2013-01-04  0.062129 -0.143177 -1.605660  0.279885\n",
              "2013-01-05 -0.314154 -0.397949 -0.512884 -0.246577\n",
              "2013-01-06  1.203781 -1.595383  0.240398  0.663706"
            ]
          },
          "metadata": {
            "tags": []
          },
          "execution_count": 4
        }
      ]
    },
    {
      "cell_type": "markdown",
      "metadata": {
        "id": "KCFQaOxrI7Vs"
      },
      "source": [
        "Isso é um *DataFrame*! Uma coisa boa do Pandas com o Jupyter Notebook é que eles mostram o *DataFrame* de uma forma bastante amigável. Agora que sabemos sobre as duas principais estruturas de dados do Pandas, podemos aprender sobre os principais métodos e funcionalidades dessa biblioteca, e para isso vamos utilizar dados reais sobre um das marcas mais conhecidas dos desenhos e videogames :)\n",
        "\n",
        "Observação: um *DataFrame* pode ser visto como um dicionário de listas.\n",
        "\n",
        "#### 3.3.3 Carregando o conjunto de dados\n",
        "\n",
        "Um dos tipos de dados mais comuns para se guardar arquivos são os CSVs. O Pandas tem diversas funções para transformar os mais variados tipos de arquivos em *DataFrames*, como csv, excel, json e etc. Nesse exemplo, vamos usar o [leitor de csv](https://pandas.pydata.org/pandas-docs/stable/reference/api/pandas.read_csv.html).\n",
        "\n",
        "Você pode importar arquivos no Colab de duas maneiras diferentes:\n",
        "1. **Upload manual**: este método tem a desvantagem de que o arquivo é deletado quando o Colab é fechado. Para subir o arquivo, clique no ícone de pasta à esquerda. Isto vai abrir a barra lateral da sessão de arquivos. Nela, clique no primeiro ícone e selecione o arquivo do seu computador para subir\n",
        "2. **Conectando ao seu Google Drive**: este método dá acesso a todos os seus arquivos e pastas do Google Drive. Para isso, abra novamente a sessão de arquivos, clique no terceiro ícone (aquele com o logo do Drive) e siga as instruções.\n",
        "\n",
        "Para obter o caminho do arquivo, você pode encontrá-lo navegando através da sessão de arquivos na esquerda, clicar com o botão direito do mouse no arquivo desejado e clicar para copiar o caminho (path)."
      ]
    },
    {
      "cell_type": "code",
      "metadata": {
        "id": "cM-UjmFTI7Vs"
      },
      "source": [
        "# pkmn = pd.read_csv(\n",
        "#     '/dados/aula_1_pokemon.csv', #o caminho para o arquivo que se quer ler\n",
        "#     sep=',') #o caracter utilizado para separar os valores"
      ],
      "execution_count": null,
      "outputs": []
    },
    {
      "cell_type": "code",
      "metadata": {
        "colab": {
          "base_uri": "https://localhost:8080/"
        },
        "id": "MUEuXbTOqrft",
        "outputId": "50093604-3193-4944-dd3f-4224330fb524"
      },
      "source": [
        "# Usando outro caminho para obter os csv do google drive\n",
        "from google.colab import drive\n",
        "drive.mount('/content/drive')"
      ],
      "execution_count": null,
      "outputs": [
        {
          "output_type": "stream",
          "text": [
            "Mounted at /content/drive\n"
          ],
          "name": "stdout"
        }
      ]
    },
    {
      "cell_type": "code",
      "metadata": {
        "colab": {
          "base_uri": "https://localhost:8080/"
        },
        "id": "-fjQblHFqscq",
        "outputId": "47b2b84b-b27b-409e-bcc3-b20c758ed6d2"
      },
      "source": [
        "!ln -s /content/drive/MyDrive/Data\\ Science/Entrega1 /mydrive\n",
        "!ls /mydrive"
      ],
      "execution_count": null,
      "outputs": [
        {
          "output_type": "stream",
          "text": [
            " dados\t'NumPy e Pandas.ipynb'\n"
          ],
          "name": "stdout"
        }
      ]
    },
    {
      "cell_type": "code",
      "metadata": {
        "id": "T2Zpthmhq_Ny"
      },
      "source": [
        "pkmn = pd.read_csv(\n",
        "    '/mydrive/dados/aula_1_pokemon.csv', #o caminho para o arquivo que se quer ler\n",
        "    sep=',') #o caracter utilizado para separar os valores"
      ],
      "execution_count": null,
      "outputs": []
    },
    {
      "cell_type": "markdown",
      "metadata": {
        "id": "LQCKYMjYI7Vu"
      },
      "source": [
        "#### 3.3.4 Visualizações iniciais\n",
        "Ótimo! Acabamos de criar um *DataFrame* a partir de um arquivo csv. Mas como gostamos de verificar as coisas, seria interessante saber algumas coisas como o que os dados contêm, como é, se tem valores nulos e etc. O Pandas tem 4 métodos principais para isso:"
      ]
    },
    {
      "cell_type": "code",
      "metadata": {
        "id": "0H8TyInJI7Vu",
        "colab": {
          "base_uri": "https://localhost:8080/"
        },
        "outputId": "2f311498-3dce-475f-fb09-203da5e4131c"
      },
      "source": [
        "pkmn.info()"
      ],
      "execution_count": null,
      "outputs": [
        {
          "output_type": "stream",
          "text": [
            "<class 'pandas.core.frame.DataFrame'>\n",
            "RangeIndex: 800 entries, 0 to 799\n",
            "Data columns (total 13 columns):\n",
            " #   Column      Non-Null Count  Dtype \n",
            "---  ------      --------------  ----- \n",
            " 0   #           800 non-null    int64 \n",
            " 1   Name        800 non-null    object\n",
            " 2   Type 1      800 non-null    object\n",
            " 3   Type 2      414 non-null    object\n",
            " 4   Total       800 non-null    int64 \n",
            " 5   HP          800 non-null    int64 \n",
            " 6   Attack      800 non-null    int64 \n",
            " 7   Defense     800 non-null    int64 \n",
            " 8   Sp. Atk     800 non-null    int64 \n",
            " 9   Sp. Def     800 non-null    int64 \n",
            " 10  Speed       800 non-null    int64 \n",
            " 11  Generation  800 non-null    int64 \n",
            " 12  Legendary   800 non-null    bool  \n",
            "dtypes: bool(1), int64(9), object(3)\n",
            "memory usage: 75.9+ KB\n"
          ],
          "name": "stdout"
        }
      ]
    },
    {
      "cell_type": "markdown",
      "metadata": {
        "id": "jSWYqoxFI7Vw"
      },
      "source": [
        "A primeira coisa útil de fazer após ler um conjunto de dados em um *DataFrame* é utilizar o método *info()*. Ele mostra informações como:\n",
        " - a classe do objeto criado\n",
        " - o intervalo do índice e quantas linhas de dados se tem\n",
        " - as colunas, seus nomes e tipos de dado\n",
        " - quais os tipos de dados presentes no *DataFrame* e quantas colunas de cada\n",
        " - a quantidade de memória utilizada pelo computador para guardar esses dados\n",
        "\n",
        "Podemos ver que temos uma base sobre Pokémon, com 800 linhas com índices númericos de 0 a 799, 13 colunas de três tipos de dados diferentes, usando cerca de ~76kB de memória RAM. As informações presentes sobre os Pokémons são o número, o nome, o tipo (alguns tem subtipo, mas não todos, por isso dos dados faltantes na coluna *Type 2*), estatísticas de ataque, defesa e velocidade, a geração e a indicação se ele é lendário (como uma espécie mística). <br> Todas essas informações a gente conseguiu descobrir com apenas uma linha de código! Vamos então ver como o *DataFrame* realmente é. Temos dois métodos para isso:"
      ]
    },
    {
      "cell_type": "code",
      "metadata": {
        "id": "Ly2u3gbBI7Vw",
        "colab": {
          "base_uri": "https://localhost:8080/",
          "height": 204
        },
        "outputId": "c723b578-cce2-41c1-d0b6-a9210e6b67ac"
      },
      "source": [
        "pkmn.head()"
      ],
      "execution_count": null,
      "outputs": [
        {
          "output_type": "execute_result",
          "data": {
            "text/html": [
              "<div>\n",
              "<style scoped>\n",
              "    .dataframe tbody tr th:only-of-type {\n",
              "        vertical-align: middle;\n",
              "    }\n",
              "\n",
              "    .dataframe tbody tr th {\n",
              "        vertical-align: top;\n",
              "    }\n",
              "\n",
              "    .dataframe thead th {\n",
              "        text-align: right;\n",
              "    }\n",
              "</style>\n",
              "<table border=\"1\" class=\"dataframe\">\n",
              "  <thead>\n",
              "    <tr style=\"text-align: right;\">\n",
              "      <th></th>\n",
              "      <th>#</th>\n",
              "      <th>Name</th>\n",
              "      <th>Type 1</th>\n",
              "      <th>Type 2</th>\n",
              "      <th>Total</th>\n",
              "      <th>HP</th>\n",
              "      <th>Attack</th>\n",
              "      <th>Defense</th>\n",
              "      <th>Sp. Atk</th>\n",
              "      <th>Sp. Def</th>\n",
              "      <th>Speed</th>\n",
              "      <th>Generation</th>\n",
              "      <th>Legendary</th>\n",
              "    </tr>\n",
              "  </thead>\n",
              "  <tbody>\n",
              "    <tr>\n",
              "      <th>0</th>\n",
              "      <td>1</td>\n",
              "      <td>Bulbasaur</td>\n",
              "      <td>Grass</td>\n",
              "      <td>Poison</td>\n",
              "      <td>318</td>\n",
              "      <td>45</td>\n",
              "      <td>49</td>\n",
              "      <td>49</td>\n",
              "      <td>65</td>\n",
              "      <td>65</td>\n",
              "      <td>45</td>\n",
              "      <td>1</td>\n",
              "      <td>False</td>\n",
              "    </tr>\n",
              "    <tr>\n",
              "      <th>1</th>\n",
              "      <td>2</td>\n",
              "      <td>Ivysaur</td>\n",
              "      <td>Grass</td>\n",
              "      <td>Poison</td>\n",
              "      <td>405</td>\n",
              "      <td>60</td>\n",
              "      <td>62</td>\n",
              "      <td>63</td>\n",
              "      <td>80</td>\n",
              "      <td>80</td>\n",
              "      <td>60</td>\n",
              "      <td>1</td>\n",
              "      <td>False</td>\n",
              "    </tr>\n",
              "    <tr>\n",
              "      <th>2</th>\n",
              "      <td>3</td>\n",
              "      <td>Venusaur</td>\n",
              "      <td>Grass</td>\n",
              "      <td>Poison</td>\n",
              "      <td>525</td>\n",
              "      <td>80</td>\n",
              "      <td>82</td>\n",
              "      <td>83</td>\n",
              "      <td>100</td>\n",
              "      <td>100</td>\n",
              "      <td>80</td>\n",
              "      <td>1</td>\n",
              "      <td>False</td>\n",
              "    </tr>\n",
              "    <tr>\n",
              "      <th>3</th>\n",
              "      <td>3</td>\n",
              "      <td>VenusaurMega Venusaur</td>\n",
              "      <td>Grass</td>\n",
              "      <td>Poison</td>\n",
              "      <td>625</td>\n",
              "      <td>80</td>\n",
              "      <td>100</td>\n",
              "      <td>123</td>\n",
              "      <td>122</td>\n",
              "      <td>120</td>\n",
              "      <td>80</td>\n",
              "      <td>1</td>\n",
              "      <td>False</td>\n",
              "    </tr>\n",
              "    <tr>\n",
              "      <th>4</th>\n",
              "      <td>4</td>\n",
              "      <td>Charmander</td>\n",
              "      <td>Fire</td>\n",
              "      <td>NaN</td>\n",
              "      <td>309</td>\n",
              "      <td>39</td>\n",
              "      <td>52</td>\n",
              "      <td>43</td>\n",
              "      <td>60</td>\n",
              "      <td>50</td>\n",
              "      <td>65</td>\n",
              "      <td>1</td>\n",
              "      <td>False</td>\n",
              "    </tr>\n",
              "  </tbody>\n",
              "</table>\n",
              "</div>"
            ],
            "text/plain": [
              "   #                   Name Type 1  ... Speed  Generation  Legendary\n",
              "0  1              Bulbasaur  Grass  ...    45           1      False\n",
              "1  2                Ivysaur  Grass  ...    60           1      False\n",
              "2  3               Venusaur  Grass  ...    80           1      False\n",
              "3  3  VenusaurMega Venusaur  Grass  ...    80           1      False\n",
              "4  4             Charmander   Fire  ...    65           1      False\n",
              "\n",
              "[5 rows x 13 columns]"
            ]
          },
          "metadata": {
            "tags": []
          },
          "execution_count": 9
        }
      ]
    },
    {
      "cell_type": "code",
      "metadata": {
        "id": "LFDpCiTlI7Vz",
        "colab": {
          "base_uri": "https://localhost:8080/",
          "height": 204
        },
        "outputId": "e0c54c90-f745-47a3-b82e-e605b00756e9"
      },
      "source": [
        "pkmn.tail()"
      ],
      "execution_count": null,
      "outputs": [
        {
          "output_type": "execute_result",
          "data": {
            "text/html": [
              "<div>\n",
              "<style scoped>\n",
              "    .dataframe tbody tr th:only-of-type {\n",
              "        vertical-align: middle;\n",
              "    }\n",
              "\n",
              "    .dataframe tbody tr th {\n",
              "        vertical-align: top;\n",
              "    }\n",
              "\n",
              "    .dataframe thead th {\n",
              "        text-align: right;\n",
              "    }\n",
              "</style>\n",
              "<table border=\"1\" class=\"dataframe\">\n",
              "  <thead>\n",
              "    <tr style=\"text-align: right;\">\n",
              "      <th></th>\n",
              "      <th>#</th>\n",
              "      <th>Name</th>\n",
              "      <th>Type 1</th>\n",
              "      <th>Type 2</th>\n",
              "      <th>Total</th>\n",
              "      <th>HP</th>\n",
              "      <th>Attack</th>\n",
              "      <th>Defense</th>\n",
              "      <th>Sp. Atk</th>\n",
              "      <th>Sp. Def</th>\n",
              "      <th>Speed</th>\n",
              "      <th>Generation</th>\n",
              "      <th>Legendary</th>\n",
              "    </tr>\n",
              "  </thead>\n",
              "  <tbody>\n",
              "    <tr>\n",
              "      <th>795</th>\n",
              "      <td>719</td>\n",
              "      <td>Diancie</td>\n",
              "      <td>Rock</td>\n",
              "      <td>Fairy</td>\n",
              "      <td>600</td>\n",
              "      <td>50</td>\n",
              "      <td>100</td>\n",
              "      <td>150</td>\n",
              "      <td>100</td>\n",
              "      <td>150</td>\n",
              "      <td>50</td>\n",
              "      <td>6</td>\n",
              "      <td>True</td>\n",
              "    </tr>\n",
              "    <tr>\n",
              "      <th>796</th>\n",
              "      <td>719</td>\n",
              "      <td>DiancieMega Diancie</td>\n",
              "      <td>Rock</td>\n",
              "      <td>Fairy</td>\n",
              "      <td>700</td>\n",
              "      <td>50</td>\n",
              "      <td>160</td>\n",
              "      <td>110</td>\n",
              "      <td>160</td>\n",
              "      <td>110</td>\n",
              "      <td>110</td>\n",
              "      <td>6</td>\n",
              "      <td>True</td>\n",
              "    </tr>\n",
              "    <tr>\n",
              "      <th>797</th>\n",
              "      <td>720</td>\n",
              "      <td>HoopaHoopa Confined</td>\n",
              "      <td>Psychic</td>\n",
              "      <td>Ghost</td>\n",
              "      <td>600</td>\n",
              "      <td>80</td>\n",
              "      <td>110</td>\n",
              "      <td>60</td>\n",
              "      <td>150</td>\n",
              "      <td>130</td>\n",
              "      <td>70</td>\n",
              "      <td>6</td>\n",
              "      <td>True</td>\n",
              "    </tr>\n",
              "    <tr>\n",
              "      <th>798</th>\n",
              "      <td>720</td>\n",
              "      <td>HoopaHoopa Unbound</td>\n",
              "      <td>Psychic</td>\n",
              "      <td>Dark</td>\n",
              "      <td>680</td>\n",
              "      <td>80</td>\n",
              "      <td>160</td>\n",
              "      <td>60</td>\n",
              "      <td>170</td>\n",
              "      <td>130</td>\n",
              "      <td>80</td>\n",
              "      <td>6</td>\n",
              "      <td>True</td>\n",
              "    </tr>\n",
              "    <tr>\n",
              "      <th>799</th>\n",
              "      <td>721</td>\n",
              "      <td>Volcanion</td>\n",
              "      <td>Fire</td>\n",
              "      <td>Water</td>\n",
              "      <td>600</td>\n",
              "      <td>80</td>\n",
              "      <td>110</td>\n",
              "      <td>120</td>\n",
              "      <td>130</td>\n",
              "      <td>90</td>\n",
              "      <td>70</td>\n",
              "      <td>6</td>\n",
              "      <td>True</td>\n",
              "    </tr>\n",
              "  </tbody>\n",
              "</table>\n",
              "</div>"
            ],
            "text/plain": [
              "       #                 Name   Type 1  ... Speed  Generation  Legendary\n",
              "795  719              Diancie     Rock  ...    50           6       True\n",
              "796  719  DiancieMega Diancie     Rock  ...   110           6       True\n",
              "797  720  HoopaHoopa Confined  Psychic  ...    70           6       True\n",
              "798  720   HoopaHoopa Unbound  Psychic  ...    80           6       True\n",
              "799  721            Volcanion     Fire  ...    70           6       True\n",
              "\n",
              "[5 rows x 13 columns]"
            ]
          },
          "metadata": {
            "tags": []
          },
          "execution_count": 10
        }
      ]
    },
    {
      "cell_type": "markdown",
      "metadata": {
        "id": "3jMRnRWEI7V2"
      },
      "source": [
        "O método *.head()* e *.tail()* mostram, respectivamente, as primeiras e últimas n linhas do *DataFrame* (por padrão, n=5, mas você pode passar qualquer número como parâmetro) mostrando os índices e os nomes das colunas como numa tabela."
      ]
    },
    {
      "cell_type": "code",
      "metadata": {
        "id": "snLGHsfkI7V2",
        "colab": {
          "base_uri": "https://localhost:8080/",
          "height": 297
        },
        "outputId": "cc66d68d-cb20-45c4-afad-2004379dd0e4"
      },
      "source": [
        "pkmn.describe()"
      ],
      "execution_count": null,
      "outputs": [
        {
          "output_type": "execute_result",
          "data": {
            "text/html": [
              "<div>\n",
              "<style scoped>\n",
              "    .dataframe tbody tr th:only-of-type {\n",
              "        vertical-align: middle;\n",
              "    }\n",
              "\n",
              "    .dataframe tbody tr th {\n",
              "        vertical-align: top;\n",
              "    }\n",
              "\n",
              "    .dataframe thead th {\n",
              "        text-align: right;\n",
              "    }\n",
              "</style>\n",
              "<table border=\"1\" class=\"dataframe\">\n",
              "  <thead>\n",
              "    <tr style=\"text-align: right;\">\n",
              "      <th></th>\n",
              "      <th>#</th>\n",
              "      <th>Total</th>\n",
              "      <th>HP</th>\n",
              "      <th>Attack</th>\n",
              "      <th>Defense</th>\n",
              "      <th>Sp. Atk</th>\n",
              "      <th>Sp. Def</th>\n",
              "      <th>Speed</th>\n",
              "      <th>Generation</th>\n",
              "    </tr>\n",
              "  </thead>\n",
              "  <tbody>\n",
              "    <tr>\n",
              "      <th>count</th>\n",
              "      <td>800.000000</td>\n",
              "      <td>800.00000</td>\n",
              "      <td>800.000000</td>\n",
              "      <td>800.000000</td>\n",
              "      <td>800.000000</td>\n",
              "      <td>800.000000</td>\n",
              "      <td>800.000000</td>\n",
              "      <td>800.000000</td>\n",
              "      <td>800.00000</td>\n",
              "    </tr>\n",
              "    <tr>\n",
              "      <th>mean</th>\n",
              "      <td>362.813750</td>\n",
              "      <td>435.10250</td>\n",
              "      <td>69.258750</td>\n",
              "      <td>79.001250</td>\n",
              "      <td>73.842500</td>\n",
              "      <td>72.820000</td>\n",
              "      <td>71.902500</td>\n",
              "      <td>68.277500</td>\n",
              "      <td>3.32375</td>\n",
              "    </tr>\n",
              "    <tr>\n",
              "      <th>std</th>\n",
              "      <td>208.343798</td>\n",
              "      <td>119.96304</td>\n",
              "      <td>25.534669</td>\n",
              "      <td>32.457366</td>\n",
              "      <td>31.183501</td>\n",
              "      <td>32.722294</td>\n",
              "      <td>27.828916</td>\n",
              "      <td>29.060474</td>\n",
              "      <td>1.66129</td>\n",
              "    </tr>\n",
              "    <tr>\n",
              "      <th>min</th>\n",
              "      <td>1.000000</td>\n",
              "      <td>180.00000</td>\n",
              "      <td>1.000000</td>\n",
              "      <td>5.000000</td>\n",
              "      <td>5.000000</td>\n",
              "      <td>10.000000</td>\n",
              "      <td>20.000000</td>\n",
              "      <td>5.000000</td>\n",
              "      <td>1.00000</td>\n",
              "    </tr>\n",
              "    <tr>\n",
              "      <th>25%</th>\n",
              "      <td>184.750000</td>\n",
              "      <td>330.00000</td>\n",
              "      <td>50.000000</td>\n",
              "      <td>55.000000</td>\n",
              "      <td>50.000000</td>\n",
              "      <td>49.750000</td>\n",
              "      <td>50.000000</td>\n",
              "      <td>45.000000</td>\n",
              "      <td>2.00000</td>\n",
              "    </tr>\n",
              "    <tr>\n",
              "      <th>50%</th>\n",
              "      <td>364.500000</td>\n",
              "      <td>450.00000</td>\n",
              "      <td>65.000000</td>\n",
              "      <td>75.000000</td>\n",
              "      <td>70.000000</td>\n",
              "      <td>65.000000</td>\n",
              "      <td>70.000000</td>\n",
              "      <td>65.000000</td>\n",
              "      <td>3.00000</td>\n",
              "    </tr>\n",
              "    <tr>\n",
              "      <th>75%</th>\n",
              "      <td>539.250000</td>\n",
              "      <td>515.00000</td>\n",
              "      <td>80.000000</td>\n",
              "      <td>100.000000</td>\n",
              "      <td>90.000000</td>\n",
              "      <td>95.000000</td>\n",
              "      <td>90.000000</td>\n",
              "      <td>90.000000</td>\n",
              "      <td>5.00000</td>\n",
              "    </tr>\n",
              "    <tr>\n",
              "      <th>max</th>\n",
              "      <td>721.000000</td>\n",
              "      <td>780.00000</td>\n",
              "      <td>255.000000</td>\n",
              "      <td>190.000000</td>\n",
              "      <td>230.000000</td>\n",
              "      <td>194.000000</td>\n",
              "      <td>230.000000</td>\n",
              "      <td>180.000000</td>\n",
              "      <td>6.00000</td>\n",
              "    </tr>\n",
              "  </tbody>\n",
              "</table>\n",
              "</div>"
            ],
            "text/plain": [
              "                #      Total          HP  ...     Sp. Def       Speed  Generation\n",
              "count  800.000000  800.00000  800.000000  ...  800.000000  800.000000   800.00000\n",
              "mean   362.813750  435.10250   69.258750  ...   71.902500   68.277500     3.32375\n",
              "std    208.343798  119.96304   25.534669  ...   27.828916   29.060474     1.66129\n",
              "min      1.000000  180.00000    1.000000  ...   20.000000    5.000000     1.00000\n",
              "25%    184.750000  330.00000   50.000000  ...   50.000000   45.000000     2.00000\n",
              "50%    364.500000  450.00000   65.000000  ...   70.000000   65.000000     3.00000\n",
              "75%    539.250000  515.00000   80.000000  ...   90.000000   90.000000     5.00000\n",
              "max    721.000000  780.00000  255.000000  ...  230.000000  180.000000     6.00000\n",
              "\n",
              "[8 rows x 9 columns]"
            ]
          },
          "metadata": {
            "tags": []
          },
          "execution_count": 11
        }
      ]
    },
    {
      "cell_type": "markdown",
      "metadata": {
        "id": "F6pyg9YmI7V4"
      },
      "source": [
        "Por fim, o método *.describe()* mostra um resumo estatístico de todas as colunas numéricas. É um método bom para ter uma ideia inicial sobre o que ocorre nas colunas de uma perspectiva estatística.\n",
        "\n",
        "#### Exercício 3.3\n",
        "Use o arquivo de jogadores do FIFA Ultimate Team para os exercícios de Pandas. Caso você não conheça, o Ultimate Team (FUT) é um modo de jogo do FIFA onde você monta seu próprio time comprando jogadores do jogo. <br>\n",
        "Substitua os \\____ abaixo para ler o arquivo e siga as instruções para ter as visualizações iniciais."
      ]
    },
    {
      "cell_type": "code",
      "metadata": {
        "id": "K1xcUEs4I7V6",
        "colab": {
          "base_uri": "https://localhost:8080/",
          "height": 1000
        },
        "outputId": "8e1cf5e4-20ed-4c2e-b30c-b01f6bd70363"
      },
      "source": [
        "# leia o arquivo (tente abrir num editor de texto antes para verificar o separador)\n",
        "fut_players = pd.read_csv(\n",
        "    '/mydrive/dados/aula_1_fut_players.csv',\n",
        "    sep=',')\n",
        "\n",
        "# mostre as primeiras 10 linhas de dados\n",
        "fut_players.head(n=10)"
      ],
      "execution_count": null,
      "outputs": [
        {
          "output_type": "execute_result",
          "data": {
            "text/html": [
              "<div>\n",
              "<style scoped>\n",
              "    .dataframe tbody tr th:only-of-type {\n",
              "        vertical-align: middle;\n",
              "    }\n",
              "\n",
              "    .dataframe tbody tr th {\n",
              "        vertical-align: top;\n",
              "    }\n",
              "\n",
              "    .dataframe thead th {\n",
              "        text-align: right;\n",
              "    }\n",
              "</style>\n",
              "<table border=\"1\" class=\"dataframe\">\n",
              "  <thead>\n",
              "    <tr style=\"text-align: right;\">\n",
              "      <th></th>\n",
              "      <th>player_id</th>\n",
              "      <th>player_name</th>\n",
              "      <th>player_extended_name</th>\n",
              "      <th>quality</th>\n",
              "      <th>revision</th>\n",
              "      <th>origin</th>\n",
              "      <th>overall</th>\n",
              "      <th>club</th>\n",
              "      <th>league</th>\n",
              "      <th>nationality</th>\n",
              "      <th>position</th>\n",
              "      <th>age</th>\n",
              "      <th>date_of_birth</th>\n",
              "      <th>height</th>\n",
              "      <th>weight</th>\n",
              "      <th>intl_rep</th>\n",
              "      <th>added_date</th>\n",
              "      <th>pace</th>\n",
              "      <th>pace_acceleration</th>\n",
              "      <th>pace_sprint_speed</th>\n",
              "      <th>dribbling</th>\n",
              "      <th>drib_agility</th>\n",
              "      <th>drib_balance</th>\n",
              "      <th>drib_reactions</th>\n",
              "      <th>drib_ball_control</th>\n",
              "      <th>drib_dribbling</th>\n",
              "      <th>drib_composure</th>\n",
              "      <th>shooting</th>\n",
              "      <th>shoot_positioning</th>\n",
              "      <th>shoot_finishing</th>\n",
              "      <th>shoot_shot_power</th>\n",
              "      <th>shoot_long_shots</th>\n",
              "      <th>shoot_volleys</th>\n",
              "      <th>shoot_penalties</th>\n",
              "      <th>passing</th>\n",
              "      <th>pass_vision</th>\n",
              "      <th>pass_crossing</th>\n",
              "      <th>pass_free_kick</th>\n",
              "      <th>pass_short</th>\n",
              "      <th>pass_long</th>\n",
              "      <th>...</th>\n",
              "      <th>def_interceptions</th>\n",
              "      <th>def_heading</th>\n",
              "      <th>def_marking</th>\n",
              "      <th>def_stand_tackle</th>\n",
              "      <th>def_slid_tackle</th>\n",
              "      <th>physicality</th>\n",
              "      <th>phys_jumping</th>\n",
              "      <th>phys_stamina</th>\n",
              "      <th>phys_strength</th>\n",
              "      <th>phys_aggression</th>\n",
              "      <th>gk_diving</th>\n",
              "      <th>gk_reflexes</th>\n",
              "      <th>gk_handling</th>\n",
              "      <th>gk_speed</th>\n",
              "      <th>gk_kicking</th>\n",
              "      <th>gk_positoning</th>\n",
              "      <th>pref_foot</th>\n",
              "      <th>att_workrate</th>\n",
              "      <th>def_workrate</th>\n",
              "      <th>weak_foot</th>\n",
              "      <th>skill_moves</th>\n",
              "      <th>cb</th>\n",
              "      <th>rb</th>\n",
              "      <th>lb</th>\n",
              "      <th>rwb</th>\n",
              "      <th>lwb</th>\n",
              "      <th>cdm</th>\n",
              "      <th>cm</th>\n",
              "      <th>rm</th>\n",
              "      <th>lm</th>\n",
              "      <th>cam</th>\n",
              "      <th>cf</th>\n",
              "      <th>rf</th>\n",
              "      <th>lf</th>\n",
              "      <th>rw</th>\n",
              "      <th>lw</th>\n",
              "      <th>st</th>\n",
              "      <th>traits</th>\n",
              "      <th>specialities</th>\n",
              "      <th>base_id</th>\n",
              "    </tr>\n",
              "  </thead>\n",
              "  <tbody>\n",
              "    <tr>\n",
              "      <th>0</th>\n",
              "      <td>1</td>\n",
              "      <td>Pelé</td>\n",
              "      <td>Arantes Nascimento Edson</td>\n",
              "      <td>Gold - Rare</td>\n",
              "      <td>Icon</td>\n",
              "      <td>Prime</td>\n",
              "      <td>98</td>\n",
              "      <td>Icons</td>\n",
              "      <td>Icons</td>\n",
              "      <td>Brazil</td>\n",
              "      <td>CAM</td>\n",
              "      <td>78</td>\n",
              "      <td>23/10/1940</td>\n",
              "      <td>173</td>\n",
              "      <td>70</td>\n",
              "      <td>0</td>\n",
              "      <td>2018-09-19</td>\n",
              "      <td>95.0</td>\n",
              "      <td>95</td>\n",
              "      <td>95</td>\n",
              "      <td>96.0</td>\n",
              "      <td>94</td>\n",
              "      <td>93</td>\n",
              "      <td>98</td>\n",
              "      <td>97</td>\n",
              "      <td>96</td>\n",
              "      <td>98</td>\n",
              "      <td>96.0</td>\n",
              "      <td>97</td>\n",
              "      <td>98</td>\n",
              "      <td>94</td>\n",
              "      <td>94</td>\n",
              "      <td>95</td>\n",
              "      <td>93</td>\n",
              "      <td>93.0</td>\n",
              "      <td>97</td>\n",
              "      <td>90</td>\n",
              "      <td>89</td>\n",
              "      <td>96</td>\n",
              "      <td>88</td>\n",
              "      <td>...</td>\n",
              "      <td>67</td>\n",
              "      <td>94</td>\n",
              "      <td>55</td>\n",
              "      <td>53</td>\n",
              "      <td>49</td>\n",
              "      <td>76.0</td>\n",
              "      <td>88</td>\n",
              "      <td>86</td>\n",
              "      <td>76</td>\n",
              "      <td>59</td>\n",
              "      <td>NaN</td>\n",
              "      <td>NaN</td>\n",
              "      <td>NaN</td>\n",
              "      <td>NaN</td>\n",
              "      <td>NaN</td>\n",
              "      <td>NaN</td>\n",
              "      <td>Right</td>\n",
              "      <td>High</td>\n",
              "      <td>Med</td>\n",
              "      <td>4</td>\n",
              "      <td>5</td>\n",
              "      <td>70.0</td>\n",
              "      <td>77.0</td>\n",
              "      <td>77.0</td>\n",
              "      <td>79.0</td>\n",
              "      <td>79.0</td>\n",
              "      <td>77.0</td>\n",
              "      <td>91.0</td>\n",
              "      <td>95.0</td>\n",
              "      <td>95.0</td>\n",
              "      <td>96.0</td>\n",
              "      <td>96.0</td>\n",
              "      <td>96.0</td>\n",
              "      <td>96.0</td>\n",
              "      <td>96.0</td>\n",
              "      <td>96.0</td>\n",
              "      <td>95.0</td>\n",
              "      <td>Finesse Shot</td>\n",
              "      <td>Speedster, Aerial Threat, Dribbler, Play Maker...</td>\n",
              "      <td>237067</td>\n",
              "    </tr>\n",
              "    <tr>\n",
              "      <th>1</th>\n",
              "      <td>2</td>\n",
              "      <td>Maradona</td>\n",
              "      <td>Diego Maradona</td>\n",
              "      <td>Gold - Rare</td>\n",
              "      <td>Icon</td>\n",
              "      <td>Prime</td>\n",
              "      <td>97</td>\n",
              "      <td>Icons</td>\n",
              "      <td>Icons</td>\n",
              "      <td>Argentina</td>\n",
              "      <td>CAM</td>\n",
              "      <td>58</td>\n",
              "      <td>30/10/1960</td>\n",
              "      <td>165</td>\n",
              "      <td>70</td>\n",
              "      <td>0</td>\n",
              "      <td>2018-09-19</td>\n",
              "      <td>92.0</td>\n",
              "      <td>94</td>\n",
              "      <td>90</td>\n",
              "      <td>97.0</td>\n",
              "      <td>91</td>\n",
              "      <td>98</td>\n",
              "      <td>94</td>\n",
              "      <td>97</td>\n",
              "      <td>98</td>\n",
              "      <td>95</td>\n",
              "      <td>93.0</td>\n",
              "      <td>92</td>\n",
              "      <td>97</td>\n",
              "      <td>85</td>\n",
              "      <td>94</td>\n",
              "      <td>88</td>\n",
              "      <td>94</td>\n",
              "      <td>92.0</td>\n",
              "      <td>95</td>\n",
              "      <td>88</td>\n",
              "      <td>96</td>\n",
              "      <td>93</td>\n",
              "      <td>89</td>\n",
              "      <td>...</td>\n",
              "      <td>44</td>\n",
              "      <td>67</td>\n",
              "      <td>27</td>\n",
              "      <td>42</td>\n",
              "      <td>37</td>\n",
              "      <td>76.0</td>\n",
              "      <td>82</td>\n",
              "      <td>78</td>\n",
              "      <td>75</td>\n",
              "      <td>76</td>\n",
              "      <td>NaN</td>\n",
              "      <td>NaN</td>\n",
              "      <td>NaN</td>\n",
              "      <td>NaN</td>\n",
              "      <td>NaN</td>\n",
              "      <td>NaN</td>\n",
              "      <td>Left</td>\n",
              "      <td>High</td>\n",
              "      <td>Med</td>\n",
              "      <td>3</td>\n",
              "      <td>5</td>\n",
              "      <td>57.0</td>\n",
              "      <td>66.0</td>\n",
              "      <td>66.0</td>\n",
              "      <td>71.0</td>\n",
              "      <td>71.0</td>\n",
              "      <td>69.0</td>\n",
              "      <td>88.0</td>\n",
              "      <td>93.0</td>\n",
              "      <td>93.0</td>\n",
              "      <td>95.0</td>\n",
              "      <td>94.0</td>\n",
              "      <td>94.0</td>\n",
              "      <td>94.0</td>\n",
              "      <td>94.0</td>\n",
              "      <td>94.0</td>\n",
              "      <td>90.0</td>\n",
              "      <td>Avoids Using Weaker Foot, Finesse Shot, Flair,...</td>\n",
              "      <td>Speedster, Dribbler, Play Maker, Distance Shoo...</td>\n",
              "      <td>190042</td>\n",
              "    </tr>\n",
              "    <tr>\n",
              "      <th>2</th>\n",
              "      <td>3</td>\n",
              "      <td>Ronaldo</td>\n",
              "      <td>Nazário de Lima Ronaldo Luís</td>\n",
              "      <td>Gold - Rare</td>\n",
              "      <td>Icon</td>\n",
              "      <td>Prime</td>\n",
              "      <td>96</td>\n",
              "      <td>Icons</td>\n",
              "      <td>Icons</td>\n",
              "      <td>Brazil</td>\n",
              "      <td>ST</td>\n",
              "      <td>42</td>\n",
              "      <td>22/09/1976</td>\n",
              "      <td>183</td>\n",
              "      <td>78</td>\n",
              "      <td>0</td>\n",
              "      <td>2018-09-19</td>\n",
              "      <td>97.0</td>\n",
              "      <td>97</td>\n",
              "      <td>97</td>\n",
              "      <td>95.0</td>\n",
              "      <td>91</td>\n",
              "      <td>85</td>\n",
              "      <td>95</td>\n",
              "      <td>96</td>\n",
              "      <td>97</td>\n",
              "      <td>89</td>\n",
              "      <td>95.0</td>\n",
              "      <td>95</td>\n",
              "      <td>98</td>\n",
              "      <td>93</td>\n",
              "      <td>90</td>\n",
              "      <td>96</td>\n",
              "      <td>89</td>\n",
              "      <td>81.0</td>\n",
              "      <td>81</td>\n",
              "      <td>75</td>\n",
              "      <td>90</td>\n",
              "      <td>86</td>\n",
              "      <td>73</td>\n",
              "      <td>...</td>\n",
              "      <td>41</td>\n",
              "      <td>84</td>\n",
              "      <td>39</td>\n",
              "      <td>44</td>\n",
              "      <td>38</td>\n",
              "      <td>76.0</td>\n",
              "      <td>82</td>\n",
              "      <td>81</td>\n",
              "      <td>85</td>\n",
              "      <td>47</td>\n",
              "      <td>NaN</td>\n",
              "      <td>NaN</td>\n",
              "      <td>NaN</td>\n",
              "      <td>NaN</td>\n",
              "      <td>NaN</td>\n",
              "      <td>NaN</td>\n",
              "      <td>Right</td>\n",
              "      <td>Med</td>\n",
              "      <td>Med</td>\n",
              "      <td>5</td>\n",
              "      <td>5</td>\n",
              "      <td>60.0</td>\n",
              "      <td>67.0</td>\n",
              "      <td>67.0</td>\n",
              "      <td>70.0</td>\n",
              "      <td>70.0</td>\n",
              "      <td>66.0</td>\n",
              "      <td>83.0</td>\n",
              "      <td>90.0</td>\n",
              "      <td>90.0</td>\n",
              "      <td>91.0</td>\n",
              "      <td>94.0</td>\n",
              "      <td>94.0</td>\n",
              "      <td>94.0</td>\n",
              "      <td>92.0</td>\n",
              "      <td>92.0</td>\n",
              "      <td>94.0</td>\n",
              "      <td>Tries To Beat Defensive Line, Finesse Shot</td>\n",
              "      <td>Speedster, Dribbler, Distance Shooter, FK Spec...</td>\n",
              "      <td>37576</td>\n",
              "    </tr>\n",
              "    <tr>\n",
              "      <th>3</th>\n",
              "      <td>4</td>\n",
              "      <td>Pelé</td>\n",
              "      <td>Arantes Nascimento Edson</td>\n",
              "      <td>Gold - Rare</td>\n",
              "      <td>Icon</td>\n",
              "      <td>Medium</td>\n",
              "      <td>95</td>\n",
              "      <td>Icons</td>\n",
              "      <td>Icons</td>\n",
              "      <td>Brazil</td>\n",
              "      <td>CF</td>\n",
              "      <td>78</td>\n",
              "      <td>23/10/1940</td>\n",
              "      <td>173</td>\n",
              "      <td>69</td>\n",
              "      <td>0</td>\n",
              "      <td>2018-09-19</td>\n",
              "      <td>96.0</td>\n",
              "      <td>95</td>\n",
              "      <td>96</td>\n",
              "      <td>95.0</td>\n",
              "      <td>96</td>\n",
              "      <td>95</td>\n",
              "      <td>95</td>\n",
              "      <td>95</td>\n",
              "      <td>94</td>\n",
              "      <td>95</td>\n",
              "      <td>93.0</td>\n",
              "      <td>94</td>\n",
              "      <td>95</td>\n",
              "      <td>90</td>\n",
              "      <td>91</td>\n",
              "      <td>93</td>\n",
              "      <td>91</td>\n",
              "      <td>90.0</td>\n",
              "      <td>93</td>\n",
              "      <td>88</td>\n",
              "      <td>88</td>\n",
              "      <td>91</td>\n",
              "      <td>87</td>\n",
              "      <td>...</td>\n",
              "      <td>64</td>\n",
              "      <td>89</td>\n",
              "      <td>51</td>\n",
              "      <td>49</td>\n",
              "      <td>45</td>\n",
              "      <td>75.0</td>\n",
              "      <td>89</td>\n",
              "      <td>87</td>\n",
              "      <td>74</td>\n",
              "      <td>57</td>\n",
              "      <td>NaN</td>\n",
              "      <td>NaN</td>\n",
              "      <td>NaN</td>\n",
              "      <td>NaN</td>\n",
              "      <td>NaN</td>\n",
              "      <td>NaN</td>\n",
              "      <td>Right</td>\n",
              "      <td>High</td>\n",
              "      <td>Med</td>\n",
              "      <td>4</td>\n",
              "      <td>5</td>\n",
              "      <td>66.0</td>\n",
              "      <td>74.0</td>\n",
              "      <td>74.0</td>\n",
              "      <td>77.0</td>\n",
              "      <td>77.0</td>\n",
              "      <td>74.0</td>\n",
              "      <td>88.0</td>\n",
              "      <td>93.0</td>\n",
              "      <td>93.0</td>\n",
              "      <td>93.0</td>\n",
              "      <td>94.0</td>\n",
              "      <td>94.0</td>\n",
              "      <td>94.0</td>\n",
              "      <td>94.0</td>\n",
              "      <td>94.0</td>\n",
              "      <td>92.0</td>\n",
              "      <td>Finesse Shot</td>\n",
              "      <td>Speedster, Dribbler, Distance Shooter, Crosser...</td>\n",
              "      <td>237068</td>\n",
              "    </tr>\n",
              "    <tr>\n",
              "      <th>4</th>\n",
              "      <td>5</td>\n",
              "      <td>Maradona</td>\n",
              "      <td>Diego Maradona</td>\n",
              "      <td>Gold - Rare</td>\n",
              "      <td>Icon</td>\n",
              "      <td>Medium</td>\n",
              "      <td>95</td>\n",
              "      <td>Icons</td>\n",
              "      <td>Icons</td>\n",
              "      <td>Argentina</td>\n",
              "      <td>CAM</td>\n",
              "      <td>58</td>\n",
              "      <td>30/10/1960</td>\n",
              "      <td>165</td>\n",
              "      <td>72</td>\n",
              "      <td>0</td>\n",
              "      <td>2018-09-19</td>\n",
              "      <td>88.0</td>\n",
              "      <td>91</td>\n",
              "      <td>85</td>\n",
              "      <td>95.0</td>\n",
              "      <td>89</td>\n",
              "      <td>98</td>\n",
              "      <td>93</td>\n",
              "      <td>95</td>\n",
              "      <td>96</td>\n",
              "      <td>95</td>\n",
              "      <td>91.0</td>\n",
              "      <td>92</td>\n",
              "      <td>94</td>\n",
              "      <td>83</td>\n",
              "      <td>91</td>\n",
              "      <td>86</td>\n",
              "      <td>92</td>\n",
              "      <td>90.0</td>\n",
              "      <td>95</td>\n",
              "      <td>87</td>\n",
              "      <td>93</td>\n",
              "      <td>90</td>\n",
              "      <td>87</td>\n",
              "      <td>...</td>\n",
              "      <td>46</td>\n",
              "      <td>67</td>\n",
              "      <td>30</td>\n",
              "      <td>44</td>\n",
              "      <td>39</td>\n",
              "      <td>75.0</td>\n",
              "      <td>80</td>\n",
              "      <td>75</td>\n",
              "      <td>74</td>\n",
              "      <td>76</td>\n",
              "      <td>NaN</td>\n",
              "      <td>NaN</td>\n",
              "      <td>NaN</td>\n",
              "      <td>NaN</td>\n",
              "      <td>NaN</td>\n",
              "      <td>NaN</td>\n",
              "      <td>Left</td>\n",
              "      <td>High</td>\n",
              "      <td>Med</td>\n",
              "      <td>3</td>\n",
              "      <td>5</td>\n",
              "      <td>58.0</td>\n",
              "      <td>66.0</td>\n",
              "      <td>66.0</td>\n",
              "      <td>70.0</td>\n",
              "      <td>70.0</td>\n",
              "      <td>69.0</td>\n",
              "      <td>86.0</td>\n",
              "      <td>91.0</td>\n",
              "      <td>91.0</td>\n",
              "      <td>93.0</td>\n",
              "      <td>92.0</td>\n",
              "      <td>92.0</td>\n",
              "      <td>92.0</td>\n",
              "      <td>92.0</td>\n",
              "      <td>92.0</td>\n",
              "      <td>88.0</td>\n",
              "      <td>Avoids Using Weaker Foot, Finesse Shot, Flair,...</td>\n",
              "      <td>Dribbler, Play Maker, Distance Shooter, Crosse...</td>\n",
              "      <td>237074</td>\n",
              "    </tr>\n",
              "    <tr>\n",
              "      <th>5</th>\n",
              "      <td>6</td>\n",
              "      <td>Maldini</td>\n",
              "      <td>Paolo Maldini</td>\n",
              "      <td>Gold - Rare</td>\n",
              "      <td>Icon</td>\n",
              "      <td>Prime</td>\n",
              "      <td>94</td>\n",
              "      <td>Icons</td>\n",
              "      <td>Icons</td>\n",
              "      <td>Italy</td>\n",
              "      <td>CB</td>\n",
              "      <td>50</td>\n",
              "      <td>26/06/1968</td>\n",
              "      <td>186</td>\n",
              "      <td>83</td>\n",
              "      <td>0</td>\n",
              "      <td>2018-09-19</td>\n",
              "      <td>86.0</td>\n",
              "      <td>85</td>\n",
              "      <td>86</td>\n",
              "      <td>69.0</td>\n",
              "      <td>65</td>\n",
              "      <td>69</td>\n",
              "      <td>95</td>\n",
              "      <td>74</td>\n",
              "      <td>61</td>\n",
              "      <td>95</td>\n",
              "      <td>56.0</td>\n",
              "      <td>39</td>\n",
              "      <td>57</td>\n",
              "      <td>73</td>\n",
              "      <td>38</td>\n",
              "      <td>65</td>\n",
              "      <td>54</td>\n",
              "      <td>75.0</td>\n",
              "      <td>69</td>\n",
              "      <td>76</td>\n",
              "      <td>31</td>\n",
              "      <td>87</td>\n",
              "      <td>79</td>\n",
              "      <td>...</td>\n",
              "      <td>96</td>\n",
              "      <td>93</td>\n",
              "      <td>95</td>\n",
              "      <td>97</td>\n",
              "      <td>96</td>\n",
              "      <td>83.0</td>\n",
              "      <td>84</td>\n",
              "      <td>81</td>\n",
              "      <td>85</td>\n",
              "      <td>79</td>\n",
              "      <td>NaN</td>\n",
              "      <td>NaN</td>\n",
              "      <td>NaN</td>\n",
              "      <td>NaN</td>\n",
              "      <td>NaN</td>\n",
              "      <td>NaN</td>\n",
              "      <td>Right</td>\n",
              "      <td>Med</td>\n",
              "      <td>High</td>\n",
              "      <td>4</td>\n",
              "      <td>2</td>\n",
              "      <td>92.0</td>\n",
              "      <td>89.0</td>\n",
              "      <td>89.0</td>\n",
              "      <td>87.0</td>\n",
              "      <td>87.0</td>\n",
              "      <td>88.0</td>\n",
              "      <td>76.0</td>\n",
              "      <td>73.0</td>\n",
              "      <td>73.0</td>\n",
              "      <td>70.0</td>\n",
              "      <td>68.0</td>\n",
              "      <td>68.0</td>\n",
              "      <td>68.0</td>\n",
              "      <td>69.0</td>\n",
              "      <td>69.0</td>\n",
              "      <td>70.0</td>\n",
              "      <td>Team Player</td>\n",
              "      <td>Aerial Threat, Tackler, Tactician, Complete De...</td>\n",
              "      <td>238439</td>\n",
              "    </tr>\n",
              "    <tr>\n",
              "      <th>6</th>\n",
              "      <td>7</td>\n",
              "      <td>Ronaldo</td>\n",
              "      <td>Nazário de Lima Ronaldo Luís</td>\n",
              "      <td>Gold - Rare</td>\n",
              "      <td>Icon</td>\n",
              "      <td>Medium</td>\n",
              "      <td>94</td>\n",
              "      <td>Icons</td>\n",
              "      <td>Icons</td>\n",
              "      <td>Brazil</td>\n",
              "      <td>ST</td>\n",
              "      <td>42</td>\n",
              "      <td>22/09/1976</td>\n",
              "      <td>183</td>\n",
              "      <td>82</td>\n",
              "      <td>0</td>\n",
              "      <td>2018-09-19</td>\n",
              "      <td>93.0</td>\n",
              "      <td>94</td>\n",
              "      <td>93</td>\n",
              "      <td>93.0</td>\n",
              "      <td>87</td>\n",
              "      <td>81</td>\n",
              "      <td>94</td>\n",
              "      <td>94</td>\n",
              "      <td>95</td>\n",
              "      <td>91</td>\n",
              "      <td>93.0</td>\n",
              "      <td>96</td>\n",
              "      <td>96</td>\n",
              "      <td>91</td>\n",
              "      <td>89</td>\n",
              "      <td>90</td>\n",
              "      <td>90</td>\n",
              "      <td>80.0</td>\n",
              "      <td>84</td>\n",
              "      <td>72</td>\n",
              "      <td>90</td>\n",
              "      <td>84</td>\n",
              "      <td>72</td>\n",
              "      <td>...</td>\n",
              "      <td>43</td>\n",
              "      <td>81</td>\n",
              "      <td>39</td>\n",
              "      <td>46</td>\n",
              "      <td>38</td>\n",
              "      <td>80.0</td>\n",
              "      <td>81</td>\n",
              "      <td>79</td>\n",
              "      <td>89</td>\n",
              "      <td>58</td>\n",
              "      <td>NaN</td>\n",
              "      <td>NaN</td>\n",
              "      <td>NaN</td>\n",
              "      <td>NaN</td>\n",
              "      <td>NaN</td>\n",
              "      <td>NaN</td>\n",
              "      <td>Right</td>\n",
              "      <td>Med</td>\n",
              "      <td>Low</td>\n",
              "      <td>5</td>\n",
              "      <td>5</td>\n",
              "      <td>61.0</td>\n",
              "      <td>66.0</td>\n",
              "      <td>66.0</td>\n",
              "      <td>69.0</td>\n",
              "      <td>69.0</td>\n",
              "      <td>66.0</td>\n",
              "      <td>82.0</td>\n",
              "      <td>89.0</td>\n",
              "      <td>89.0</td>\n",
              "      <td>90.0</td>\n",
              "      <td>92.0</td>\n",
              "      <td>92.0</td>\n",
              "      <td>92.0</td>\n",
              "      <td>91.0</td>\n",
              "      <td>91.0</td>\n",
              "      <td>92.0</td>\n",
              "      <td>Finesse Shot</td>\n",
              "      <td>Speedster, Dribbler, Distance Shooter, FK Spec...</td>\n",
              "      <td>237064</td>\n",
              "    </tr>\n",
              "    <tr>\n",
              "      <th>7</th>\n",
              "      <td>8</td>\n",
              "      <td>Yashin</td>\n",
              "      <td>Lev Yashin</td>\n",
              "      <td>Gold - Rare</td>\n",
              "      <td>Icon</td>\n",
              "      <td>Prime</td>\n",
              "      <td>94</td>\n",
              "      <td>Icons</td>\n",
              "      <td>Icons</td>\n",
              "      <td>Russia</td>\n",
              "      <td>GK</td>\n",
              "      <td>89</td>\n",
              "      <td>22/10/1929</td>\n",
              "      <td>189</td>\n",
              "      <td>82</td>\n",
              "      <td>0</td>\n",
              "      <td>2018-09-19</td>\n",
              "      <td>NaN</td>\n",
              "      <td>65</td>\n",
              "      <td>53</td>\n",
              "      <td>NaN</td>\n",
              "      <td>79</td>\n",
              "      <td>64</td>\n",
              "      <td>92</td>\n",
              "      <td>43</td>\n",
              "      <td>25</td>\n",
              "      <td>75</td>\n",
              "      <td>NaN</td>\n",
              "      <td>32</td>\n",
              "      <td>15</td>\n",
              "      <td>36</td>\n",
              "      <td>23</td>\n",
              "      <td>23</td>\n",
              "      <td>46</td>\n",
              "      <td>NaN</td>\n",
              "      <td>79</td>\n",
              "      <td>33</td>\n",
              "      <td>30</td>\n",
              "      <td>34</td>\n",
              "      <td>33</td>\n",
              "      <td>...</td>\n",
              "      <td>43</td>\n",
              "      <td>20</td>\n",
              "      <td>21</td>\n",
              "      <td>21</td>\n",
              "      <td>20</td>\n",
              "      <td>NaN</td>\n",
              "      <td>87</td>\n",
              "      <td>45</td>\n",
              "      <td>77</td>\n",
              "      <td>61</td>\n",
              "      <td>95.0</td>\n",
              "      <td>96.0</td>\n",
              "      <td>89.0</td>\n",
              "      <td>65.0</td>\n",
              "      <td>75.0</td>\n",
              "      <td>95.0</td>\n",
              "      <td>Right</td>\n",
              "      <td>Med</td>\n",
              "      <td>Med</td>\n",
              "      <td>3</td>\n",
              "      <td>1</td>\n",
              "      <td>NaN</td>\n",
              "      <td>NaN</td>\n",
              "      <td>NaN</td>\n",
              "      <td>NaN</td>\n",
              "      <td>NaN</td>\n",
              "      <td>NaN</td>\n",
              "      <td>NaN</td>\n",
              "      <td>NaN</td>\n",
              "      <td>NaN</td>\n",
              "      <td>NaN</td>\n",
              "      <td>NaN</td>\n",
              "      <td>NaN</td>\n",
              "      <td>NaN</td>\n",
              "      <td>NaN</td>\n",
              "      <td>NaN</td>\n",
              "      <td>NaN</td>\n",
              "      <td>Puncher, Team Player</td>\n",
              "      <td>NaN</td>\n",
              "      <td>238380</td>\n",
              "    </tr>\n",
              "    <tr>\n",
              "      <th>8</th>\n",
              "      <td>9</td>\n",
              "      <td>Ronaldinho</td>\n",
              "      <td>de Assis Moreira Ronaldo</td>\n",
              "      <td>Gold - Rare</td>\n",
              "      <td>Icon</td>\n",
              "      <td>Prime</td>\n",
              "      <td>94</td>\n",
              "      <td>Icons</td>\n",
              "      <td>Icons</td>\n",
              "      <td>Brazil</td>\n",
              "      <td>LW</td>\n",
              "      <td>38</td>\n",
              "      <td>21/03/1980</td>\n",
              "      <td>180</td>\n",
              "      <td>78</td>\n",
              "      <td>0</td>\n",
              "      <td>2018-09-19</td>\n",
              "      <td>92.0</td>\n",
              "      <td>94</td>\n",
              "      <td>91</td>\n",
              "      <td>95.0</td>\n",
              "      <td>94</td>\n",
              "      <td>89</td>\n",
              "      <td>93</td>\n",
              "      <td>95</td>\n",
              "      <td>96</td>\n",
              "      <td>94</td>\n",
              "      <td>90.0</td>\n",
              "      <td>90</td>\n",
              "      <td>93</td>\n",
              "      <td>86</td>\n",
              "      <td>89</td>\n",
              "      <td>83</td>\n",
              "      <td>88</td>\n",
              "      <td>91.0</td>\n",
              "      <td>93</td>\n",
              "      <td>90</td>\n",
              "      <td>90</td>\n",
              "      <td>92</td>\n",
              "      <td>86</td>\n",
              "      <td>...</td>\n",
              "      <td>26</td>\n",
              "      <td>54</td>\n",
              "      <td>37</td>\n",
              "      <td>41</td>\n",
              "      <td>31</td>\n",
              "      <td>81.0</td>\n",
              "      <td>86</td>\n",
              "      <td>83</td>\n",
              "      <td>84</td>\n",
              "      <td>70</td>\n",
              "      <td>NaN</td>\n",
              "      <td>NaN</td>\n",
              "      <td>NaN</td>\n",
              "      <td>NaN</td>\n",
              "      <td>NaN</td>\n",
              "      <td>NaN</td>\n",
              "      <td>Right</td>\n",
              "      <td>High</td>\n",
              "      <td>Low</td>\n",
              "      <td>4</td>\n",
              "      <td>5</td>\n",
              "      <td>55.0</td>\n",
              "      <td>63.0</td>\n",
              "      <td>63.0</td>\n",
              "      <td>69.0</td>\n",
              "      <td>69.0</td>\n",
              "      <td>66.0</td>\n",
              "      <td>86.0</td>\n",
              "      <td>92.0</td>\n",
              "      <td>92.0</td>\n",
              "      <td>93.0</td>\n",
              "      <td>92.0</td>\n",
              "      <td>92.0</td>\n",
              "      <td>92.0</td>\n",
              "      <td>93.0</td>\n",
              "      <td>93.0</td>\n",
              "      <td>88.0</td>\n",
              "      <td>Finesse Shot, Flair</td>\n",
              "      <td>Speedster, Dribbler, Distance Shooter, Crosser...</td>\n",
              "      <td>28130</td>\n",
              "    </tr>\n",
              "    <tr>\n",
              "      <th>9</th>\n",
              "      <td>10</td>\n",
              "      <td>Van Basten</td>\n",
              "      <td>Marco van Basten</td>\n",
              "      <td>Gold - Rare</td>\n",
              "      <td>Icon</td>\n",
              "      <td>Prime</td>\n",
              "      <td>93</td>\n",
              "      <td>Icons</td>\n",
              "      <td>Icons</td>\n",
              "      <td>Holland</td>\n",
              "      <td>ST</td>\n",
              "      <td>54</td>\n",
              "      <td>31/10/1964</td>\n",
              "      <td>188</td>\n",
              "      <td>78</td>\n",
              "      <td>0</td>\n",
              "      <td>2018-09-19</td>\n",
              "      <td>83.0</td>\n",
              "      <td>81</td>\n",
              "      <td>85</td>\n",
              "      <td>89.0</td>\n",
              "      <td>86</td>\n",
              "      <td>74</td>\n",
              "      <td>95</td>\n",
              "      <td>93</td>\n",
              "      <td>88</td>\n",
              "      <td>92</td>\n",
              "      <td>94.0</td>\n",
              "      <td>96</td>\n",
              "      <td>97</td>\n",
              "      <td>94</td>\n",
              "      <td>88</td>\n",
              "      <td>98</td>\n",
              "      <td>90</td>\n",
              "      <td>76.0</td>\n",
              "      <td>77</td>\n",
              "      <td>74</td>\n",
              "      <td>78</td>\n",
              "      <td>80</td>\n",
              "      <td>66</td>\n",
              "      <td>...</td>\n",
              "      <td>47</td>\n",
              "      <td>90</td>\n",
              "      <td>25</td>\n",
              "      <td>32</td>\n",
              "      <td>31</td>\n",
              "      <td>75.0</td>\n",
              "      <td>85</td>\n",
              "      <td>78</td>\n",
              "      <td>82</td>\n",
              "      <td>52</td>\n",
              "      <td>NaN</td>\n",
              "      <td>NaN</td>\n",
              "      <td>NaN</td>\n",
              "      <td>NaN</td>\n",
              "      <td>NaN</td>\n",
              "      <td>NaN</td>\n",
              "      <td>Right</td>\n",
              "      <td>Med</td>\n",
              "      <td>Med</td>\n",
              "      <td>4</td>\n",
              "      <td>3</td>\n",
              "      <td>56.0</td>\n",
              "      <td>62.0</td>\n",
              "      <td>62.0</td>\n",
              "      <td>65.0</td>\n",
              "      <td>65.0</td>\n",
              "      <td>62.0</td>\n",
              "      <td>79.0</td>\n",
              "      <td>85.0</td>\n",
              "      <td>85.0</td>\n",
              "      <td>86.0</td>\n",
              "      <td>90.0</td>\n",
              "      <td>90.0</td>\n",
              "      <td>90.0</td>\n",
              "      <td>87.0</td>\n",
              "      <td>87.0</td>\n",
              "      <td>92.0</td>\n",
              "      <td>Finesse Shot, Team Player</td>\n",
              "      <td>Aerial Threat, Distance Shooter, Acrobat, Clin...</td>\n",
              "      <td>192181</td>\n",
              "    </tr>\n",
              "  </tbody>\n",
              "</table>\n",
              "<p>10 rows × 82 columns</p>\n",
              "</div>"
            ],
            "text/plain": [
              "   player_id  ... base_id\n",
              "0          1  ...  237067\n",
              "1          2  ...  190042\n",
              "2          3  ...   37576\n",
              "3          4  ...  237068\n",
              "4          5  ...  237074\n",
              "5          6  ...  238439\n",
              "6          7  ...  237064\n",
              "7          8  ...  238380\n",
              "8          9  ...   28130\n",
              "9         10  ...  192181\n",
              "\n",
              "[10 rows x 82 columns]"
            ]
          },
          "metadata": {
            "tags": []
          },
          "execution_count": 12
        }
      ]
    },
    {
      "cell_type": "code",
      "metadata": {
        "id": "nH2ejCchI7V8",
        "colab": {
          "base_uri": "https://localhost:8080/",
          "height": 646
        },
        "outputId": "09d29022-34a4-4c43-ba4a-89fe626f7faa"
      },
      "source": [
        "# mostre as últimas 10 linhas de dados\n",
        "fut_players.tail(n=10)"
      ],
      "execution_count": null,
      "outputs": [
        {
          "output_type": "execute_result",
          "data": {
            "text/html": [
              "<div>\n",
              "<style scoped>\n",
              "    .dataframe tbody tr th:only-of-type {\n",
              "        vertical-align: middle;\n",
              "    }\n",
              "\n",
              "    .dataframe tbody tr th {\n",
              "        vertical-align: top;\n",
              "    }\n",
              "\n",
              "    .dataframe thead th {\n",
              "        text-align: right;\n",
              "    }\n",
              "</style>\n",
              "<table border=\"1\" class=\"dataframe\">\n",
              "  <thead>\n",
              "    <tr style=\"text-align: right;\">\n",
              "      <th></th>\n",
              "      <th>player_id</th>\n",
              "      <th>player_name</th>\n",
              "      <th>player_extended_name</th>\n",
              "      <th>quality</th>\n",
              "      <th>revision</th>\n",
              "      <th>origin</th>\n",
              "      <th>overall</th>\n",
              "      <th>club</th>\n",
              "      <th>league</th>\n",
              "      <th>nationality</th>\n",
              "      <th>position</th>\n",
              "      <th>age</th>\n",
              "      <th>date_of_birth</th>\n",
              "      <th>height</th>\n",
              "      <th>weight</th>\n",
              "      <th>intl_rep</th>\n",
              "      <th>added_date</th>\n",
              "      <th>pace</th>\n",
              "      <th>pace_acceleration</th>\n",
              "      <th>pace_sprint_speed</th>\n",
              "      <th>dribbling</th>\n",
              "      <th>drib_agility</th>\n",
              "      <th>drib_balance</th>\n",
              "      <th>drib_reactions</th>\n",
              "      <th>drib_ball_control</th>\n",
              "      <th>drib_dribbling</th>\n",
              "      <th>drib_composure</th>\n",
              "      <th>shooting</th>\n",
              "      <th>shoot_positioning</th>\n",
              "      <th>shoot_finishing</th>\n",
              "      <th>shoot_shot_power</th>\n",
              "      <th>shoot_long_shots</th>\n",
              "      <th>shoot_volleys</th>\n",
              "      <th>shoot_penalties</th>\n",
              "      <th>passing</th>\n",
              "      <th>pass_vision</th>\n",
              "      <th>pass_crossing</th>\n",
              "      <th>pass_free_kick</th>\n",
              "      <th>pass_short</th>\n",
              "      <th>pass_long</th>\n",
              "      <th>...</th>\n",
              "      <th>def_interceptions</th>\n",
              "      <th>def_heading</th>\n",
              "      <th>def_marking</th>\n",
              "      <th>def_stand_tackle</th>\n",
              "      <th>def_slid_tackle</th>\n",
              "      <th>physicality</th>\n",
              "      <th>phys_jumping</th>\n",
              "      <th>phys_stamina</th>\n",
              "      <th>phys_strength</th>\n",
              "      <th>phys_aggression</th>\n",
              "      <th>gk_diving</th>\n",
              "      <th>gk_reflexes</th>\n",
              "      <th>gk_handling</th>\n",
              "      <th>gk_speed</th>\n",
              "      <th>gk_kicking</th>\n",
              "      <th>gk_positoning</th>\n",
              "      <th>pref_foot</th>\n",
              "      <th>att_workrate</th>\n",
              "      <th>def_workrate</th>\n",
              "      <th>weak_foot</th>\n",
              "      <th>skill_moves</th>\n",
              "      <th>cb</th>\n",
              "      <th>rb</th>\n",
              "      <th>lb</th>\n",
              "      <th>rwb</th>\n",
              "      <th>lwb</th>\n",
              "      <th>cdm</th>\n",
              "      <th>cm</th>\n",
              "      <th>rm</th>\n",
              "      <th>lm</th>\n",
              "      <th>cam</th>\n",
              "      <th>cf</th>\n",
              "      <th>rf</th>\n",
              "      <th>lf</th>\n",
              "      <th>rw</th>\n",
              "      <th>lw</th>\n",
              "      <th>st</th>\n",
              "      <th>traits</th>\n",
              "      <th>specialities</th>\n",
              "      <th>base_id</th>\n",
              "    </tr>\n",
              "  </thead>\n",
              "  <tbody>\n",
              "    <tr>\n",
              "      <th>18821</th>\n",
              "      <td>19298</td>\n",
              "      <td>Angol</td>\n",
              "      <td>Lee Angol</td>\n",
              "      <td>Bronze - Rare</td>\n",
              "      <td>Normal</td>\n",
              "      <td>Transfers</td>\n",
              "      <td>63</td>\n",
              "      <td>Lincoln City</td>\n",
              "      <td>EFL League Two</td>\n",
              "      <td>England</td>\n",
              "      <td>ST</td>\n",
              "      <td>24</td>\n",
              "      <td>04/08/1994</td>\n",
              "      <td>188</td>\n",
              "      <td>75</td>\n",
              "      <td>1</td>\n",
              "      <td>2019-02-09</td>\n",
              "      <td>82.0</td>\n",
              "      <td>80</td>\n",
              "      <td>84</td>\n",
              "      <td>60.0</td>\n",
              "      <td>73</td>\n",
              "      <td>70</td>\n",
              "      <td>55</td>\n",
              "      <td>58</td>\n",
              "      <td>59</td>\n",
              "      <td>56</td>\n",
              "      <td>61.0</td>\n",
              "      <td>58</td>\n",
              "      <td>62</td>\n",
              "      <td>65</td>\n",
              "      <td>55</td>\n",
              "      <td>53</td>\n",
              "      <td>65</td>\n",
              "      <td>55.0</td>\n",
              "      <td>57</td>\n",
              "      <td>52</td>\n",
              "      <td>61</td>\n",
              "      <td>58</td>\n",
              "      <td>49</td>\n",
              "      <td>...</td>\n",
              "      <td>30</td>\n",
              "      <td>58</td>\n",
              "      <td>30</td>\n",
              "      <td>23</td>\n",
              "      <td>24</td>\n",
              "      <td>66.0</td>\n",
              "      <td>80</td>\n",
              "      <td>76</td>\n",
              "      <td>69</td>\n",
              "      <td>42</td>\n",
              "      <td>NaN</td>\n",
              "      <td>NaN</td>\n",
              "      <td>NaN</td>\n",
              "      <td>NaN</td>\n",
              "      <td>NaN</td>\n",
              "      <td>NaN</td>\n",
              "      <td>Right</td>\n",
              "      <td>Med</td>\n",
              "      <td>Low</td>\n",
              "      <td>3</td>\n",
              "      <td>3</td>\n",
              "      <td>42.0</td>\n",
              "      <td>47.0</td>\n",
              "      <td>47.0</td>\n",
              "      <td>49.0</td>\n",
              "      <td>49.0</td>\n",
              "      <td>45.0</td>\n",
              "      <td>54.0</td>\n",
              "      <td>61.0</td>\n",
              "      <td>61.0</td>\n",
              "      <td>60.0</td>\n",
              "      <td>61.0</td>\n",
              "      <td>61.0</td>\n",
              "      <td>61.0</td>\n",
              "      <td>61.0</td>\n",
              "      <td>61.0</td>\n",
              "      <td>62.0</td>\n",
              "      <td>Finesse Shot, Flair</td>\n",
              "      <td>NaN</td>\n",
              "      <td>210244</td>\n",
              "    </tr>\n",
              "    <tr>\n",
              "      <th>18822</th>\n",
              "      <td>19299</td>\n",
              "      <td>Mendoza Hansen</td>\n",
              "      <td>Kevin Ray Mendoza Hansen</td>\n",
              "      <td>Bronze</td>\n",
              "      <td>Normal</td>\n",
              "      <td>NaN</td>\n",
              "      <td>55</td>\n",
              "      <td>AC Horsens</td>\n",
              "      <td>Superliga</td>\n",
              "      <td>Philippines</td>\n",
              "      <td>GK</td>\n",
              "      <td>24</td>\n",
              "      <td>29/09/1994</td>\n",
              "      <td>187</td>\n",
              "      <td>81</td>\n",
              "      <td>1</td>\n",
              "      <td>2019-02-09</td>\n",
              "      <td>NaN</td>\n",
              "      <td>40</td>\n",
              "      <td>44</td>\n",
              "      <td>NaN</td>\n",
              "      <td>32</td>\n",
              "      <td>55</td>\n",
              "      <td>48</td>\n",
              "      <td>24</td>\n",
              "      <td>12</td>\n",
              "      <td>37</td>\n",
              "      <td>NaN</td>\n",
              "      <td>14</td>\n",
              "      <td>14</td>\n",
              "      <td>25</td>\n",
              "      <td>15</td>\n",
              "      <td>13</td>\n",
              "      <td>20</td>\n",
              "      <td>NaN</td>\n",
              "      <td>18</td>\n",
              "      <td>13</td>\n",
              "      <td>15</td>\n",
              "      <td>30</td>\n",
              "      <td>24</td>\n",
              "      <td>...</td>\n",
              "      <td>20</td>\n",
              "      <td>14</td>\n",
              "      <td>21</td>\n",
              "      <td>15</td>\n",
              "      <td>13</td>\n",
              "      <td>NaN</td>\n",
              "      <td>52</td>\n",
              "      <td>30</td>\n",
              "      <td>54</td>\n",
              "      <td>20</td>\n",
              "      <td>58.0</td>\n",
              "      <td>57.0</td>\n",
              "      <td>54.0</td>\n",
              "      <td>40.0</td>\n",
              "      <td>55.0</td>\n",
              "      <td>52.0</td>\n",
              "      <td>Right</td>\n",
              "      <td>Med</td>\n",
              "      <td>Med</td>\n",
              "      <td>2</td>\n",
              "      <td>1</td>\n",
              "      <td>NaN</td>\n",
              "      <td>NaN</td>\n",
              "      <td>NaN</td>\n",
              "      <td>NaN</td>\n",
              "      <td>NaN</td>\n",
              "      <td>NaN</td>\n",
              "      <td>NaN</td>\n",
              "      <td>NaN</td>\n",
              "      <td>NaN</td>\n",
              "      <td>NaN</td>\n",
              "      <td>NaN</td>\n",
              "      <td>NaN</td>\n",
              "      <td>NaN</td>\n",
              "      <td>NaN</td>\n",
              "      <td>NaN</td>\n",
              "      <td>NaN</td>\n",
              "      <td>NaN</td>\n",
              "      <td>NaN</td>\n",
              "      <td>215656</td>\n",
              "    </tr>\n",
              "    <tr>\n",
              "      <th>18823</th>\n",
              "      <td>19300</td>\n",
              "      <td>Piossek</td>\n",
              "      <td>Marcus Piossek</td>\n",
              "      <td>Silver</td>\n",
              "      <td>Normal</td>\n",
              "      <td>Transfers</td>\n",
              "      <td>66</td>\n",
              "      <td>SV Meppen</td>\n",
              "      <td>3. Liga</td>\n",
              "      <td>Poland</td>\n",
              "      <td>RM</td>\n",
              "      <td>29</td>\n",
              "      <td>21/07/1989</td>\n",
              "      <td>176</td>\n",
              "      <td>73</td>\n",
              "      <td>1</td>\n",
              "      <td>2019-02-09</td>\n",
              "      <td>71.0</td>\n",
              "      <td>69</td>\n",
              "      <td>72</td>\n",
              "      <td>66.0</td>\n",
              "      <td>74</td>\n",
              "      <td>75</td>\n",
              "      <td>67</td>\n",
              "      <td>65</td>\n",
              "      <td>65</td>\n",
              "      <td>63</td>\n",
              "      <td>64.0</td>\n",
              "      <td>63</td>\n",
              "      <td>62</td>\n",
              "      <td>71</td>\n",
              "      <td>65</td>\n",
              "      <td>57</td>\n",
              "      <td>49</td>\n",
              "      <td>60.0</td>\n",
              "      <td>64</td>\n",
              "      <td>60</td>\n",
              "      <td>41</td>\n",
              "      <td>64</td>\n",
              "      <td>59</td>\n",
              "      <td>...</td>\n",
              "      <td>56</td>\n",
              "      <td>52</td>\n",
              "      <td>46</td>\n",
              "      <td>45</td>\n",
              "      <td>49</td>\n",
              "      <td>70.0</td>\n",
              "      <td>72</td>\n",
              "      <td>82</td>\n",
              "      <td>65</td>\n",
              "      <td>66</td>\n",
              "      <td>NaN</td>\n",
              "      <td>NaN</td>\n",
              "      <td>NaN</td>\n",
              "      <td>NaN</td>\n",
              "      <td>NaN</td>\n",
              "      <td>NaN</td>\n",
              "      <td>Right</td>\n",
              "      <td>High</td>\n",
              "      <td>High</td>\n",
              "      <td>4</td>\n",
              "      <td>3</td>\n",
              "      <td>55.0</td>\n",
              "      <td>59.0</td>\n",
              "      <td>59.0</td>\n",
              "      <td>61.0</td>\n",
              "      <td>61.0</td>\n",
              "      <td>59.0</td>\n",
              "      <td>63.0</td>\n",
              "      <td>65.0</td>\n",
              "      <td>65.0</td>\n",
              "      <td>65.0</td>\n",
              "      <td>65.0</td>\n",
              "      <td>65.0</td>\n",
              "      <td>65.0</td>\n",
              "      <td>65.0</td>\n",
              "      <td>65.0</td>\n",
              "      <td>64.0</td>\n",
              "      <td>NaN</td>\n",
              "      <td>NaN</td>\n",
              "      <td>197148</td>\n",
              "    </tr>\n",
              "    <tr>\n",
              "      <th>18824</th>\n",
              "      <td>19301</td>\n",
              "      <td>Bingham</td>\n",
              "      <td>Rakish Bingham</td>\n",
              "      <td>Bronze</td>\n",
              "      <td>Normal</td>\n",
              "      <td>Transfers</td>\n",
              "      <td>62</td>\n",
              "      <td>Cheltenham Town</td>\n",
              "      <td>EFL League Two</td>\n",
              "      <td>England</td>\n",
              "      <td>ST</td>\n",
              "      <td>25</td>\n",
              "      <td>25/10/1993</td>\n",
              "      <td>180</td>\n",
              "      <td>75</td>\n",
              "      <td>1</td>\n",
              "      <td>2019-02-09</td>\n",
              "      <td>81.0</td>\n",
              "      <td>83</td>\n",
              "      <td>79</td>\n",
              "      <td>62.0</td>\n",
              "      <td>69</td>\n",
              "      <td>65</td>\n",
              "      <td>56</td>\n",
              "      <td>61</td>\n",
              "      <td>63</td>\n",
              "      <td>53</td>\n",
              "      <td>58.0</td>\n",
              "      <td>57</td>\n",
              "      <td>58</td>\n",
              "      <td>62</td>\n",
              "      <td>54</td>\n",
              "      <td>44</td>\n",
              "      <td>65</td>\n",
              "      <td>47.0</td>\n",
              "      <td>48</td>\n",
              "      <td>42</td>\n",
              "      <td>45</td>\n",
              "      <td>54</td>\n",
              "      <td>36</td>\n",
              "      <td>...</td>\n",
              "      <td>16</td>\n",
              "      <td>56</td>\n",
              "      <td>17</td>\n",
              "      <td>17</td>\n",
              "      <td>18</td>\n",
              "      <td>54.0</td>\n",
              "      <td>76</td>\n",
              "      <td>34</td>\n",
              "      <td>68</td>\n",
              "      <td>38</td>\n",
              "      <td>NaN</td>\n",
              "      <td>NaN</td>\n",
              "      <td>NaN</td>\n",
              "      <td>NaN</td>\n",
              "      <td>NaN</td>\n",
              "      <td>NaN</td>\n",
              "      <td>Right</td>\n",
              "      <td>High</td>\n",
              "      <td>Med</td>\n",
              "      <td>3</td>\n",
              "      <td>2</td>\n",
              "      <td>36.0</td>\n",
              "      <td>39.0</td>\n",
              "      <td>39.0</td>\n",
              "      <td>40.0</td>\n",
              "      <td>40.0</td>\n",
              "      <td>36.0</td>\n",
              "      <td>48.0</td>\n",
              "      <td>57.0</td>\n",
              "      <td>57.0</td>\n",
              "      <td>58.0</td>\n",
              "      <td>60.0</td>\n",
              "      <td>60.0</td>\n",
              "      <td>60.0</td>\n",
              "      <td>60.0</td>\n",
              "      <td>60.0</td>\n",
              "      <td>61.0</td>\n",
              "      <td>NaN</td>\n",
              "      <td>NaN</td>\n",
              "      <td>209462</td>\n",
              "    </tr>\n",
              "    <tr>\n",
              "      <th>18825</th>\n",
              "      <td>19302</td>\n",
              "      <td>Gibson</td>\n",
              "      <td>Jordan Gibson</td>\n",
              "      <td>Bronze</td>\n",
              "      <td>Normal</td>\n",
              "      <td>Transfers</td>\n",
              "      <td>51</td>\n",
              "      <td>Stevenage</td>\n",
              "      <td>EFL League Two</td>\n",
              "      <td>England</td>\n",
              "      <td>LM</td>\n",
              "      <td>20</td>\n",
              "      <td>28/02/1998</td>\n",
              "      <td>178</td>\n",
              "      <td>80</td>\n",
              "      <td>1</td>\n",
              "      <td>2019-02-09</td>\n",
              "      <td>66.0</td>\n",
              "      <td>69</td>\n",
              "      <td>64</td>\n",
              "      <td>55.0</td>\n",
              "      <td>62</td>\n",
              "      <td>67</td>\n",
              "      <td>45</td>\n",
              "      <td>55</td>\n",
              "      <td>54</td>\n",
              "      <td>44</td>\n",
              "      <td>51.0</td>\n",
              "      <td>44</td>\n",
              "      <td>55</td>\n",
              "      <td>60</td>\n",
              "      <td>36</td>\n",
              "      <td>37</td>\n",
              "      <td>54</td>\n",
              "      <td>39.0</td>\n",
              "      <td>40</td>\n",
              "      <td>44</td>\n",
              "      <td>34</td>\n",
              "      <td>40</td>\n",
              "      <td>30</td>\n",
              "      <td>...</td>\n",
              "      <td>16</td>\n",
              "      <td>37</td>\n",
              "      <td>20</td>\n",
              "      <td>27</td>\n",
              "      <td>26</td>\n",
              "      <td>38.0</td>\n",
              "      <td>42</td>\n",
              "      <td>33</td>\n",
              "      <td>42</td>\n",
              "      <td>32</td>\n",
              "      <td>NaN</td>\n",
              "      <td>NaN</td>\n",
              "      <td>NaN</td>\n",
              "      <td>NaN</td>\n",
              "      <td>NaN</td>\n",
              "      <td>NaN</td>\n",
              "      <td>Right</td>\n",
              "      <td>Med</td>\n",
              "      <td>Med</td>\n",
              "      <td>3</td>\n",
              "      <td>2</td>\n",
              "      <td>31.0</td>\n",
              "      <td>36.0</td>\n",
              "      <td>36.0</td>\n",
              "      <td>38.0</td>\n",
              "      <td>38.0</td>\n",
              "      <td>33.0</td>\n",
              "      <td>40.0</td>\n",
              "      <td>49.0</td>\n",
              "      <td>49.0</td>\n",
              "      <td>48.0</td>\n",
              "      <td>50.0</td>\n",
              "      <td>50.0</td>\n",
              "      <td>50.0</td>\n",
              "      <td>51.0</td>\n",
              "      <td>51.0</td>\n",
              "      <td>50.0</td>\n",
              "      <td>NaN</td>\n",
              "      <td>NaN</td>\n",
              "      <td>240813</td>\n",
              "    </tr>\n",
              "    <tr>\n",
              "      <th>18826</th>\n",
              "      <td>19303</td>\n",
              "      <td>Shala</td>\n",
              "      <td>Herolind Shala</td>\n",
              "      <td>Silver</td>\n",
              "      <td>Normal</td>\n",
              "      <td>NaN</td>\n",
              "      <td>65</td>\n",
              "      <td>IK Start</td>\n",
              "      <td>Eliteserien</td>\n",
              "      <td>Norway</td>\n",
              "      <td>CM</td>\n",
              "      <td>27</td>\n",
              "      <td>01/02/1992</td>\n",
              "      <td>178</td>\n",
              "      <td>71</td>\n",
              "      <td>1</td>\n",
              "      <td>2019-02-09</td>\n",
              "      <td>75.0</td>\n",
              "      <td>74</td>\n",
              "      <td>75</td>\n",
              "      <td>71.0</td>\n",
              "      <td>80</td>\n",
              "      <td>81</td>\n",
              "      <td>62</td>\n",
              "      <td>72</td>\n",
              "      <td>69</td>\n",
              "      <td>68</td>\n",
              "      <td>62.0</td>\n",
              "      <td>61</td>\n",
              "      <td>63</td>\n",
              "      <td>66</td>\n",
              "      <td>60</td>\n",
              "      <td>62</td>\n",
              "      <td>44</td>\n",
              "      <td>61.0</td>\n",
              "      <td>69</td>\n",
              "      <td>54</td>\n",
              "      <td>41</td>\n",
              "      <td>65</td>\n",
              "      <td>58</td>\n",
              "      <td>...</td>\n",
              "      <td>56</td>\n",
              "      <td>42</td>\n",
              "      <td>40</td>\n",
              "      <td>54</td>\n",
              "      <td>57</td>\n",
              "      <td>59.0</td>\n",
              "      <td>62</td>\n",
              "      <td>65</td>\n",
              "      <td>51</td>\n",
              "      <td>71</td>\n",
              "      <td>NaN</td>\n",
              "      <td>NaN</td>\n",
              "      <td>NaN</td>\n",
              "      <td>NaN</td>\n",
              "      <td>NaN</td>\n",
              "      <td>NaN</td>\n",
              "      <td>Left</td>\n",
              "      <td>High</td>\n",
              "      <td>Low</td>\n",
              "      <td>3</td>\n",
              "      <td>3</td>\n",
              "      <td>55.0</td>\n",
              "      <td>59.0</td>\n",
              "      <td>59.0</td>\n",
              "      <td>61.0</td>\n",
              "      <td>61.0</td>\n",
              "      <td>59.0</td>\n",
              "      <td>64.0</td>\n",
              "      <td>66.0</td>\n",
              "      <td>66.0</td>\n",
              "      <td>67.0</td>\n",
              "      <td>66.0</td>\n",
              "      <td>66.0</td>\n",
              "      <td>66.0</td>\n",
              "      <td>67.0</td>\n",
              "      <td>67.0</td>\n",
              "      <td>63.0</td>\n",
              "      <td>Speed Dribbler (CPU AI Only)</td>\n",
              "      <td>NaN</td>\n",
              "      <td>205423</td>\n",
              "    </tr>\n",
              "    <tr>\n",
              "      <th>18827</th>\n",
              "      <td>19304</td>\n",
              "      <td>Boyer</td>\n",
              "      <td>Fabien Boyer</td>\n",
              "      <td>Silver</td>\n",
              "      <td>Normal</td>\n",
              "      <td>NaN</td>\n",
              "      <td>65</td>\n",
              "      <td>Grenoble Foot 38</td>\n",
              "      <td>Domino’s Ligue 2</td>\n",
              "      <td>Madagascar</td>\n",
              "      <td>LB</td>\n",
              "      <td>27</td>\n",
              "      <td>12/04/1991</td>\n",
              "      <td>187</td>\n",
              "      <td>80</td>\n",
              "      <td>1</td>\n",
              "      <td>2019-02-09</td>\n",
              "      <td>67.0</td>\n",
              "      <td>67</td>\n",
              "      <td>67</td>\n",
              "      <td>45.0</td>\n",
              "      <td>57</td>\n",
              "      <td>44</td>\n",
              "      <td>62</td>\n",
              "      <td>56</td>\n",
              "      <td>32</td>\n",
              "      <td>52</td>\n",
              "      <td>30.0</td>\n",
              "      <td>48</td>\n",
              "      <td>22</td>\n",
              "      <td>46</td>\n",
              "      <td>26</td>\n",
              "      <td>25</td>\n",
              "      <td>46</td>\n",
              "      <td>51.0</td>\n",
              "      <td>29</td>\n",
              "      <td>61</td>\n",
              "      <td>33</td>\n",
              "      <td>58</td>\n",
              "      <td>64</td>\n",
              "      <td>...</td>\n",
              "      <td>64</td>\n",
              "      <td>65</td>\n",
              "      <td>60</td>\n",
              "      <td>66</td>\n",
              "      <td>68</td>\n",
              "      <td>74.0</td>\n",
              "      <td>67</td>\n",
              "      <td>71</td>\n",
              "      <td>75</td>\n",
              "      <td>78</td>\n",
              "      <td>NaN</td>\n",
              "      <td>NaN</td>\n",
              "      <td>NaN</td>\n",
              "      <td>NaN</td>\n",
              "      <td>NaN</td>\n",
              "      <td>NaN</td>\n",
              "      <td>Left</td>\n",
              "      <td>Med</td>\n",
              "      <td>Med</td>\n",
              "      <td>3</td>\n",
              "      <td>2</td>\n",
              "      <td>66.0</td>\n",
              "      <td>64.0</td>\n",
              "      <td>64.0</td>\n",
              "      <td>62.0</td>\n",
              "      <td>62.0</td>\n",
              "      <td>62.0</td>\n",
              "      <td>52.0</td>\n",
              "      <td>52.0</td>\n",
              "      <td>52.0</td>\n",
              "      <td>46.0</td>\n",
              "      <td>46.0</td>\n",
              "      <td>46.0</td>\n",
              "      <td>46.0</td>\n",
              "      <td>48.0</td>\n",
              "      <td>48.0</td>\n",
              "      <td>48.0</td>\n",
              "      <td>Injury Prone</td>\n",
              "      <td>NaN</td>\n",
              "      <td>208832</td>\n",
              "    </tr>\n",
              "    <tr>\n",
              "      <th>18828</th>\n",
              "      <td>19305</td>\n",
              "      <td>Arias</td>\n",
              "      <td>Jafar Arias</td>\n",
              "      <td>Silver</td>\n",
              "      <td>Normal</td>\n",
              "      <td>NaN</td>\n",
              "      <td>65</td>\n",
              "      <td>FC Emmen</td>\n",
              "      <td>Eredivisie</td>\n",
              "      <td>Curaçao</td>\n",
              "      <td>ST</td>\n",
              "      <td>23</td>\n",
              "      <td>16/06/1995</td>\n",
              "      <td>191</td>\n",
              "      <td>80</td>\n",
              "      <td>1</td>\n",
              "      <td>2019-02-09</td>\n",
              "      <td>62.0</td>\n",
              "      <td>55</td>\n",
              "      <td>67</td>\n",
              "      <td>58.0</td>\n",
              "      <td>43</td>\n",
              "      <td>52</td>\n",
              "      <td>59</td>\n",
              "      <td>58</td>\n",
              "      <td>62</td>\n",
              "      <td>54</td>\n",
              "      <td>65.0</td>\n",
              "      <td>60</td>\n",
              "      <td>67</td>\n",
              "      <td>72</td>\n",
              "      <td>62</td>\n",
              "      <td>52</td>\n",
              "      <td>51</td>\n",
              "      <td>45.0</td>\n",
              "      <td>50</td>\n",
              "      <td>31</td>\n",
              "      <td>34</td>\n",
              "      <td>57</td>\n",
              "      <td>32</td>\n",
              "      <td>...</td>\n",
              "      <td>18</td>\n",
              "      <td>66</td>\n",
              "      <td>25</td>\n",
              "      <td>23</td>\n",
              "      <td>26</td>\n",
              "      <td>70.0</td>\n",
              "      <td>62</td>\n",
              "      <td>60</td>\n",
              "      <td>83</td>\n",
              "      <td>53</td>\n",
              "      <td>NaN</td>\n",
              "      <td>NaN</td>\n",
              "      <td>NaN</td>\n",
              "      <td>NaN</td>\n",
              "      <td>NaN</td>\n",
              "      <td>NaN</td>\n",
              "      <td>Right</td>\n",
              "      <td>Med</td>\n",
              "      <td>Med</td>\n",
              "      <td>2</td>\n",
              "      <td>2</td>\n",
              "      <td>42.0</td>\n",
              "      <td>41.0</td>\n",
              "      <td>41.0</td>\n",
              "      <td>42.0</td>\n",
              "      <td>42.0</td>\n",
              "      <td>42.0</td>\n",
              "      <td>51.0</td>\n",
              "      <td>55.0</td>\n",
              "      <td>55.0</td>\n",
              "      <td>57.0</td>\n",
              "      <td>60.0</td>\n",
              "      <td>60.0</td>\n",
              "      <td>60.0</td>\n",
              "      <td>57.0</td>\n",
              "      <td>57.0</td>\n",
              "      <td>64.0</td>\n",
              "      <td>NaN</td>\n",
              "      <td>NaN</td>\n",
              "      <td>226122</td>\n",
              "    </tr>\n",
              "    <tr>\n",
              "      <th>18829</th>\n",
              "      <td>19306</td>\n",
              "      <td>Moses Ekpai</td>\n",
              "      <td>Ubong Moses Ekpai</td>\n",
              "      <td>Bronze</td>\n",
              "      <td>Normal</td>\n",
              "      <td>NaN</td>\n",
              "      <td>62</td>\n",
              "      <td>Viktoria Plzeň</td>\n",
              "      <td>Česká Liga</td>\n",
              "      <td>Nigeria</td>\n",
              "      <td>RM</td>\n",
              "      <td>23</td>\n",
              "      <td>17/10/1995</td>\n",
              "      <td>176</td>\n",
              "      <td>75</td>\n",
              "      <td>1</td>\n",
              "      <td>2019-02-09</td>\n",
              "      <td>73.0</td>\n",
              "      <td>72</td>\n",
              "      <td>73</td>\n",
              "      <td>66.0</td>\n",
              "      <td>70</td>\n",
              "      <td>73</td>\n",
              "      <td>65</td>\n",
              "      <td>67</td>\n",
              "      <td>66</td>\n",
              "      <td>46</td>\n",
              "      <td>61.0</td>\n",
              "      <td>68</td>\n",
              "      <td>62</td>\n",
              "      <td>66</td>\n",
              "      <td>56</td>\n",
              "      <td>62</td>\n",
              "      <td>50</td>\n",
              "      <td>47.0</td>\n",
              "      <td>49</td>\n",
              "      <td>47</td>\n",
              "      <td>38</td>\n",
              "      <td>49</td>\n",
              "      <td>43</td>\n",
              "      <td>...</td>\n",
              "      <td>20</td>\n",
              "      <td>51</td>\n",
              "      <td>22</td>\n",
              "      <td>22</td>\n",
              "      <td>19</td>\n",
              "      <td>49.0</td>\n",
              "      <td>50</td>\n",
              "      <td>63</td>\n",
              "      <td>47</td>\n",
              "      <td>34</td>\n",
              "      <td>NaN</td>\n",
              "      <td>NaN</td>\n",
              "      <td>NaN</td>\n",
              "      <td>NaN</td>\n",
              "      <td>NaN</td>\n",
              "      <td>NaN</td>\n",
              "      <td>Right</td>\n",
              "      <td>Med</td>\n",
              "      <td>Med</td>\n",
              "      <td>3</td>\n",
              "      <td>2</td>\n",
              "      <td>35.0</td>\n",
              "      <td>43.0</td>\n",
              "      <td>43.0</td>\n",
              "      <td>45.0</td>\n",
              "      <td>45.0</td>\n",
              "      <td>40.0</td>\n",
              "      <td>53.0</td>\n",
              "      <td>61.0</td>\n",
              "      <td>61.0</td>\n",
              "      <td>60.0</td>\n",
              "      <td>63.0</td>\n",
              "      <td>63.0</td>\n",
              "      <td>63.0</td>\n",
              "      <td>62.0</td>\n",
              "      <td>62.0</td>\n",
              "      <td>62.0</td>\n",
              "      <td>NaN</td>\n",
              "      <td>NaN</td>\n",
              "      <td>244790</td>\n",
              "    </tr>\n",
              "    <tr>\n",
              "      <th>18830</th>\n",
              "      <td>19307</td>\n",
              "      <td>Diallo</td>\n",
              "      <td>Amadou Tidiane Diallo</td>\n",
              "      <td>Bronze</td>\n",
              "      <td>Normal</td>\n",
              "      <td>NaN</td>\n",
              "      <td>60</td>\n",
              "      <td>Red Star FC</td>\n",
              "      <td>Domino’s Ligue 2</td>\n",
              "      <td>Guinea</td>\n",
              "      <td>LM</td>\n",
              "      <td>24</td>\n",
              "      <td>21/06/1994</td>\n",
              "      <td>178</td>\n",
              "      <td>77</td>\n",
              "      <td>1</td>\n",
              "      <td>2019-02-09</td>\n",
              "      <td>69.0</td>\n",
              "      <td>68</td>\n",
              "      <td>69</td>\n",
              "      <td>60.0</td>\n",
              "      <td>61</td>\n",
              "      <td>70</td>\n",
              "      <td>46</td>\n",
              "      <td>60</td>\n",
              "      <td>62</td>\n",
              "      <td>51</td>\n",
              "      <td>57.0</td>\n",
              "      <td>53</td>\n",
              "      <td>58</td>\n",
              "      <td>60</td>\n",
              "      <td>55</td>\n",
              "      <td>52</td>\n",
              "      <td>57</td>\n",
              "      <td>56.0</td>\n",
              "      <td>54</td>\n",
              "      <td>60</td>\n",
              "      <td>51</td>\n",
              "      <td>60</td>\n",
              "      <td>52</td>\n",
              "      <td>...</td>\n",
              "      <td>18</td>\n",
              "      <td>50</td>\n",
              "      <td>30</td>\n",
              "      <td>29</td>\n",
              "      <td>23</td>\n",
              "      <td>60.0</td>\n",
              "      <td>56</td>\n",
              "      <td>59</td>\n",
              "      <td>64</td>\n",
              "      <td>50</td>\n",
              "      <td>NaN</td>\n",
              "      <td>NaN</td>\n",
              "      <td>NaN</td>\n",
              "      <td>NaN</td>\n",
              "      <td>NaN</td>\n",
              "      <td>NaN</td>\n",
              "      <td>Left</td>\n",
              "      <td>Med</td>\n",
              "      <td>Med</td>\n",
              "      <td>3</td>\n",
              "      <td>2</td>\n",
              "      <td>39.0</td>\n",
              "      <td>43.0</td>\n",
              "      <td>43.0</td>\n",
              "      <td>46.0</td>\n",
              "      <td>46.0</td>\n",
              "      <td>43.0</td>\n",
              "      <td>53.0</td>\n",
              "      <td>59.0</td>\n",
              "      <td>59.0</td>\n",
              "      <td>58.0</td>\n",
              "      <td>58.0</td>\n",
              "      <td>58.0</td>\n",
              "      <td>58.0</td>\n",
              "      <td>59.0</td>\n",
              "      <td>59.0</td>\n",
              "      <td>57.0</td>\n",
              "      <td>NaN</td>\n",
              "      <td>NaN</td>\n",
              "      <td>233902</td>\n",
              "    </tr>\n",
              "  </tbody>\n",
              "</table>\n",
              "<p>10 rows × 82 columns</p>\n",
              "</div>"
            ],
            "text/plain": [
              "       player_id     player_name  ... specialities base_id\n",
              "18821      19298           Angol  ...          NaN  210244\n",
              "18822      19299  Mendoza Hansen  ...          NaN  215656\n",
              "18823      19300         Piossek  ...          NaN  197148\n",
              "18824      19301         Bingham  ...          NaN  209462\n",
              "18825      19302          Gibson  ...          NaN  240813\n",
              "18826      19303           Shala  ...          NaN  205423\n",
              "18827      19304           Boyer  ...          NaN  208832\n",
              "18828      19305           Arias  ...          NaN  226122\n",
              "18829      19306     Moses Ekpai  ...          NaN  244790\n",
              "18830      19307          Diallo  ...          NaN  233902\n",
              "\n",
              "[10 rows x 82 columns]"
            ]
          },
          "metadata": {
            "tags": []
          },
          "execution_count": 13
        }
      ]
    },
    {
      "cell_type": "code",
      "metadata": {
        "id": "nel6P37gI7V-",
        "colab": {
          "base_uri": "https://localhost:8080/"
        },
        "outputId": "155dd0b2-d56a-47f4-efc6-d840df5a8ab8"
      },
      "source": [
        "# use o método .info() no DataFrame\n",
        "fut_players.info()"
      ],
      "execution_count": null,
      "outputs": [
        {
          "output_type": "stream",
          "text": [
            "<class 'pandas.core.frame.DataFrame'>\n",
            "RangeIndex: 18831 entries, 0 to 18830\n",
            "Data columns (total 82 columns):\n",
            " #   Column                Non-Null Count  Dtype  \n",
            "---  ------                --------------  -----  \n",
            " 0   player_id             18831 non-null  int64  \n",
            " 1   player_name           18831 non-null  object \n",
            " 2   player_extended_name  18831 non-null  object \n",
            " 3   quality               18831 non-null  object \n",
            " 4   revision              18826 non-null  object \n",
            " 5   origin                2478 non-null   object \n",
            " 6   overall               18831 non-null  int64  \n",
            " 7   club                  18831 non-null  object \n",
            " 8   league                18831 non-null  object \n",
            " 9   nationality           18831 non-null  object \n",
            " 10  position              18831 non-null  object \n",
            " 11  age                   18831 non-null  int64  \n",
            " 12  date_of_birth         18831 non-null  object \n",
            " 13  height                18831 non-null  int64  \n",
            " 14  weight                18831 non-null  int64  \n",
            " 15  intl_rep              18831 non-null  int64  \n",
            " 16  added_date            18831 non-null  object \n",
            " 17  pace                  16882 non-null  float64\n",
            " 18  pace_acceleration     18831 non-null  int64  \n",
            " 19  pace_sprint_speed     18831 non-null  int64  \n",
            " 20  dribbling             16882 non-null  float64\n",
            " 21  drib_agility          18831 non-null  int64  \n",
            " 22  drib_balance          18831 non-null  int64  \n",
            " 23  drib_reactions        18831 non-null  int64  \n",
            " 24  drib_ball_control     18831 non-null  int64  \n",
            " 25  drib_dribbling        18831 non-null  int64  \n",
            " 26  drib_composure        18831 non-null  int64  \n",
            " 27  shooting              16882 non-null  float64\n",
            " 28  shoot_positioning     18831 non-null  int64  \n",
            " 29  shoot_finishing       18831 non-null  int64  \n",
            " 30  shoot_shot_power      18831 non-null  int64  \n",
            " 31  shoot_long_shots      18831 non-null  int64  \n",
            " 32  shoot_volleys         18831 non-null  int64  \n",
            " 33  shoot_penalties       18831 non-null  int64  \n",
            " 34  passing               16882 non-null  float64\n",
            " 35  pass_vision           18831 non-null  int64  \n",
            " 36  pass_crossing         18831 non-null  int64  \n",
            " 37  pass_free_kick        18831 non-null  int64  \n",
            " 38  pass_short            18831 non-null  int64  \n",
            " 39  pass_long             18831 non-null  int64  \n",
            " 40  pass_curve            18831 non-null  int64  \n",
            " 41  defending             16882 non-null  float64\n",
            " 42  def_interceptions     18831 non-null  int64  \n",
            " 43  def_heading           18831 non-null  int64  \n",
            " 44  def_marking           18831 non-null  int64  \n",
            " 45  def_stand_tackle      18831 non-null  int64  \n",
            " 46  def_slid_tackle       18831 non-null  int64  \n",
            " 47  physicality           16882 non-null  float64\n",
            " 48  phys_jumping          18831 non-null  int64  \n",
            " 49  phys_stamina          18831 non-null  int64  \n",
            " 50  phys_strength         18831 non-null  int64  \n",
            " 51  phys_aggression       18831 non-null  int64  \n",
            " 52  gk_diving             1949 non-null   float64\n",
            " 53  gk_reflexes           1949 non-null   float64\n",
            " 54  gk_handling           1949 non-null   float64\n",
            " 55  gk_speed              1949 non-null   float64\n",
            " 56  gk_kicking            1949 non-null   float64\n",
            " 57  gk_positoning         1949 non-null   float64\n",
            " 58  pref_foot             18831 non-null  object \n",
            " 59  att_workrate          18831 non-null  object \n",
            " 60  def_workrate          18831 non-null  object \n",
            " 61  weak_foot             18831 non-null  int64  \n",
            " 62  skill_moves           18831 non-null  int64  \n",
            " 63  cb                    16882 non-null  float64\n",
            " 64  rb                    16882 non-null  float64\n",
            " 65  lb                    16882 non-null  float64\n",
            " 66  rwb                   16882 non-null  float64\n",
            " 67  lwb                   16882 non-null  float64\n",
            " 68  cdm                   16882 non-null  float64\n",
            " 69  cm                    16882 non-null  float64\n",
            " 70  rm                    16882 non-null  float64\n",
            " 71  lm                    16882 non-null  float64\n",
            " 72  cam                   16882 non-null  float64\n",
            " 73  cf                    16882 non-null  float64\n",
            " 74  rf                    16882 non-null  float64\n",
            " 75  lf                    16882 non-null  float64\n",
            " 76  rw                    16882 non-null  float64\n",
            " 77  lw                    16882 non-null  float64\n",
            " 78  st                    16882 non-null  float64\n",
            " 79  traits                7151 non-null   object \n",
            " 80  specialities          2380 non-null   object \n",
            " 81  base_id               18831 non-null  int64  \n",
            "dtypes: float64(28), int64(38), object(16)\n",
            "memory usage: 11.8+ MB\n"
          ],
          "name": "stdout"
        }
      ]
    },
    {
      "cell_type": "code",
      "metadata": {
        "id": "YgWsp0FAI7WA",
        "colab": {
          "base_uri": "https://localhost:8080/",
          "height": 317
        },
        "outputId": "91299d15-8e76-4e28-8fff-807ab5d16e39"
      },
      "source": [
        "# mostre o resumo estatístico das colunas numericas\n",
        "fut_players.describe()"
      ],
      "execution_count": null,
      "outputs": [
        {
          "output_type": "execute_result",
          "data": {
            "text/html": [
              "<div>\n",
              "<style scoped>\n",
              "    .dataframe tbody tr th:only-of-type {\n",
              "        vertical-align: middle;\n",
              "    }\n",
              "\n",
              "    .dataframe tbody tr th {\n",
              "        vertical-align: top;\n",
              "    }\n",
              "\n",
              "    .dataframe thead th {\n",
              "        text-align: right;\n",
              "    }\n",
              "</style>\n",
              "<table border=\"1\" class=\"dataframe\">\n",
              "  <thead>\n",
              "    <tr style=\"text-align: right;\">\n",
              "      <th></th>\n",
              "      <th>player_id</th>\n",
              "      <th>overall</th>\n",
              "      <th>age</th>\n",
              "      <th>height</th>\n",
              "      <th>weight</th>\n",
              "      <th>intl_rep</th>\n",
              "      <th>pace</th>\n",
              "      <th>pace_acceleration</th>\n",
              "      <th>pace_sprint_speed</th>\n",
              "      <th>dribbling</th>\n",
              "      <th>drib_agility</th>\n",
              "      <th>drib_balance</th>\n",
              "      <th>drib_reactions</th>\n",
              "      <th>drib_ball_control</th>\n",
              "      <th>drib_dribbling</th>\n",
              "      <th>drib_composure</th>\n",
              "      <th>shooting</th>\n",
              "      <th>shoot_positioning</th>\n",
              "      <th>shoot_finishing</th>\n",
              "      <th>shoot_shot_power</th>\n",
              "      <th>shoot_long_shots</th>\n",
              "      <th>shoot_volleys</th>\n",
              "      <th>shoot_penalties</th>\n",
              "      <th>passing</th>\n",
              "      <th>pass_vision</th>\n",
              "      <th>pass_crossing</th>\n",
              "      <th>pass_free_kick</th>\n",
              "      <th>pass_short</th>\n",
              "      <th>pass_long</th>\n",
              "      <th>pass_curve</th>\n",
              "      <th>defending</th>\n",
              "      <th>def_interceptions</th>\n",
              "      <th>def_heading</th>\n",
              "      <th>def_marking</th>\n",
              "      <th>def_stand_tackle</th>\n",
              "      <th>def_slid_tackle</th>\n",
              "      <th>physicality</th>\n",
              "      <th>phys_jumping</th>\n",
              "      <th>phys_stamina</th>\n",
              "      <th>phys_strength</th>\n",
              "      <th>phys_aggression</th>\n",
              "      <th>gk_diving</th>\n",
              "      <th>gk_reflexes</th>\n",
              "      <th>gk_handling</th>\n",
              "      <th>gk_speed</th>\n",
              "      <th>gk_kicking</th>\n",
              "      <th>gk_positoning</th>\n",
              "      <th>weak_foot</th>\n",
              "      <th>skill_moves</th>\n",
              "      <th>cb</th>\n",
              "      <th>rb</th>\n",
              "      <th>lb</th>\n",
              "      <th>rwb</th>\n",
              "      <th>lwb</th>\n",
              "      <th>cdm</th>\n",
              "      <th>cm</th>\n",
              "      <th>rm</th>\n",
              "      <th>lm</th>\n",
              "      <th>cam</th>\n",
              "      <th>cf</th>\n",
              "      <th>rf</th>\n",
              "      <th>lf</th>\n",
              "      <th>rw</th>\n",
              "      <th>lw</th>\n",
              "      <th>st</th>\n",
              "      <th>base_id</th>\n",
              "    </tr>\n",
              "  </thead>\n",
              "  <tbody>\n",
              "    <tr>\n",
              "      <th>count</th>\n",
              "      <td>18831.000000</td>\n",
              "      <td>18831.000000</td>\n",
              "      <td>18831.000000</td>\n",
              "      <td>18831.000000</td>\n",
              "      <td>18831.000000</td>\n",
              "      <td>18831.000000</td>\n",
              "      <td>16882.000000</td>\n",
              "      <td>18831.000000</td>\n",
              "      <td>18831.000000</td>\n",
              "      <td>16882.000000</td>\n",
              "      <td>18831.000000</td>\n",
              "      <td>18831.000000</td>\n",
              "      <td>18831.000000</td>\n",
              "      <td>18831.000000</td>\n",
              "      <td>18831.000000</td>\n",
              "      <td>18831.000000</td>\n",
              "      <td>16882.000000</td>\n",
              "      <td>18831.000000</td>\n",
              "      <td>18831.000000</td>\n",
              "      <td>18831.000000</td>\n",
              "      <td>18831.000000</td>\n",
              "      <td>18831.000000</td>\n",
              "      <td>18831.000000</td>\n",
              "      <td>16882.000000</td>\n",
              "      <td>18831.000000</td>\n",
              "      <td>18831.000000</td>\n",
              "      <td>18831.000000</td>\n",
              "      <td>18831.000000</td>\n",
              "      <td>18831.000000</td>\n",
              "      <td>18831.000000</td>\n",
              "      <td>16882.000000</td>\n",
              "      <td>18831.000000</td>\n",
              "      <td>18831.000000</td>\n",
              "      <td>18831.000000</td>\n",
              "      <td>18831.000000</td>\n",
              "      <td>18831.000000</td>\n",
              "      <td>16882.000000</td>\n",
              "      <td>18831.000000</td>\n",
              "      <td>18831.000000</td>\n",
              "      <td>18831.000000</td>\n",
              "      <td>18831.000000</td>\n",
              "      <td>1949.000000</td>\n",
              "      <td>1949.000000</td>\n",
              "      <td>1949.000000</td>\n",
              "      <td>1949.000000</td>\n",
              "      <td>1949.000000</td>\n",
              "      <td>1949.000000</td>\n",
              "      <td>18831.000000</td>\n",
              "      <td>18831.000000</td>\n",
              "      <td>16882.000000</td>\n",
              "      <td>16882.000000</td>\n",
              "      <td>16882.000000</td>\n",
              "      <td>16882.000000</td>\n",
              "      <td>16882.000000</td>\n",
              "      <td>16882.000000</td>\n",
              "      <td>16882.000000</td>\n",
              "      <td>16882.000000</td>\n",
              "      <td>16882.000000</td>\n",
              "      <td>16882.000000</td>\n",
              "      <td>16882.000000</td>\n",
              "      <td>16882.000000</td>\n",
              "      <td>16882.000000</td>\n",
              "      <td>16882.000000</td>\n",
              "      <td>16882.000000</td>\n",
              "      <td>16882.000000</td>\n",
              "      <td>18831.000000</td>\n",
              "    </tr>\n",
              "    <tr>\n",
              "      <th>mean</th>\n",
              "      <td>9724.997663</td>\n",
              "      <td>68.200839</td>\n",
              "      <td>26.364027</td>\n",
              "      <td>181.413202</td>\n",
              "      <td>75.565929</td>\n",
              "      <td>1.172269</td>\n",
              "      <td>69.072859</td>\n",
              "      <td>65.947427</td>\n",
              "      <td>66.106580</td>\n",
              "      <td>64.323540</td>\n",
              "      <td>65.209389</td>\n",
              "      <td>64.701078</td>\n",
              "      <td>63.948861</td>\n",
              "      <td>60.706973</td>\n",
              "      <td>57.606659</td>\n",
              "      <td>61.007700</td>\n",
              "      <td>54.609762</td>\n",
              "      <td>52.403537</td>\n",
              "      <td>47.947480</td>\n",
              "      <td>57.820668</td>\n",
              "      <td>49.634804</td>\n",
              "      <td>45.260846</td>\n",
              "      <td>50.268971</td>\n",
              "      <td>59.218398</td>\n",
              "      <td>55.651320</td>\n",
              "      <td>51.859912</td>\n",
              "      <td>44.868940</td>\n",
              "      <td>60.836068</td>\n",
              "      <td>54.697095</td>\n",
              "      <td>49.541872</td>\n",
              "      <td>52.701339</td>\n",
              "      <td>48.017099</td>\n",
              "      <td>53.905156</td>\n",
              "      <td>48.456800</td>\n",
              "      <td>48.680792</td>\n",
              "      <td>46.355106</td>\n",
              "      <td>66.620187</td>\n",
              "      <td>66.398545</td>\n",
              "      <td>65.121502</td>\n",
              "      <td>66.888853</td>\n",
              "      <td>57.548032</td>\n",
              "      <td>67.143150</td>\n",
              "      <td>67.963571</td>\n",
              "      <td>64.546434</td>\n",
              "      <td>39.866598</td>\n",
              "      <td>62.835813</td>\n",
              "      <td>64.866085</td>\n",
              "      <td>3.000850</td>\n",
              "      <td>2.443205</td>\n",
              "      <td>57.291553</td>\n",
              "      <td>58.607392</td>\n",
              "      <td>58.607392</td>\n",
              "      <td>59.446511</td>\n",
              "      <td>59.446511</td>\n",
              "      <td>58.805355</td>\n",
              "      <td>60.659519</td>\n",
              "      <td>62.166746</td>\n",
              "      <td>62.166746</td>\n",
              "      <td>61.509774</td>\n",
              "      <td>61.252517</td>\n",
              "      <td>61.252517</td>\n",
              "      <td>61.252517</td>\n",
              "      <td>61.511314</td>\n",
              "      <td>61.511314</td>\n",
              "      <td>60.297832</td>\n",
              "      <td>209831.137114</td>\n",
              "    </tr>\n",
              "    <tr>\n",
              "      <th>std</th>\n",
              "      <td>5592.051018</td>\n",
              "      <td>8.143145</td>\n",
              "      <td>5.223632</td>\n",
              "      <td>6.778249</td>\n",
              "      <td>7.096437</td>\n",
              "      <td>0.587855</td>\n",
              "      <td>11.909037</td>\n",
              "      <td>15.120939</td>\n",
              "      <td>14.851889</td>\n",
              "      <td>10.906452</td>\n",
              "      <td>14.997386</td>\n",
              "      <td>14.413848</td>\n",
              "      <td>10.083633</td>\n",
              "      <td>17.202343</td>\n",
              "      <td>19.396738</td>\n",
              "      <td>12.149795</td>\n",
              "      <td>15.107605</td>\n",
              "      <td>20.409736</td>\n",
              "      <td>20.521042</td>\n",
              "      <td>17.939622</td>\n",
              "      <td>20.132526</td>\n",
              "      <td>18.924257</td>\n",
              "      <td>16.530383</td>\n",
              "      <td>11.419965</td>\n",
              "      <td>14.975552</td>\n",
              "      <td>19.014996</td>\n",
              "      <td>18.509768</td>\n",
              "      <td>15.185920</td>\n",
              "      <td>15.711925</td>\n",
              "      <td>19.351717</td>\n",
              "      <td>16.722049</td>\n",
              "      <td>21.057464</td>\n",
              "      <td>17.893621</td>\n",
              "      <td>20.033335</td>\n",
              "      <td>22.061622</td>\n",
              "      <td>21.769919</td>\n",
              "      <td>9.684565</td>\n",
              "      <td>12.212297</td>\n",
              "      <td>15.978211</td>\n",
              "      <td>12.436567</td>\n",
              "      <td>17.536713</td>\n",
              "      <td>8.661708</td>\n",
              "      <td>9.105203</td>\n",
              "      <td>8.618454</td>\n",
              "      <td>10.924167</td>\n",
              "      <td>8.381051</td>\n",
              "      <td>9.493704</td>\n",
              "      <td>0.680429</td>\n",
              "      <td>0.803174</td>\n",
              "      <td>12.034789</td>\n",
              "      <td>9.969701</td>\n",
              "      <td>9.969701</td>\n",
              "      <td>9.452841</td>\n",
              "      <td>9.452841</td>\n",
              "      <td>10.517244</td>\n",
              "      <td>9.682493</td>\n",
              "      <td>10.206237</td>\n",
              "      <td>10.206237</td>\n",
              "      <td>10.760257</td>\n",
              "      <td>10.901557</td>\n",
              "      <td>10.901557</td>\n",
              "      <td>10.901557</td>\n",
              "      <td>10.866396</td>\n",
              "      <td>10.866396</td>\n",
              "      <td>10.213289</td>\n",
              "      <td>31943.691550</td>\n",
              "    </tr>\n",
              "    <tr>\n",
              "      <th>min</th>\n",
              "      <td>1.000000</td>\n",
              "      <td>47.000000</td>\n",
              "      <td>17.000000</td>\n",
              "      <td>155.000000</td>\n",
              "      <td>50.000000</td>\n",
              "      <td>0.000000</td>\n",
              "      <td>24.000000</td>\n",
              "      <td>13.000000</td>\n",
              "      <td>12.000000</td>\n",
              "      <td>24.000000</td>\n",
              "      <td>14.000000</td>\n",
              "      <td>16.000000</td>\n",
              "      <td>30.000000</td>\n",
              "      <td>5.000000</td>\n",
              "      <td>4.000000</td>\n",
              "      <td>3.000000</td>\n",
              "      <td>15.000000</td>\n",
              "      <td>2.000000</td>\n",
              "      <td>2.000000</td>\n",
              "      <td>2.000000</td>\n",
              "      <td>3.000000</td>\n",
              "      <td>4.000000</td>\n",
              "      <td>5.000000</td>\n",
              "      <td>24.000000</td>\n",
              "      <td>10.000000</td>\n",
              "      <td>5.000000</td>\n",
              "      <td>4.000000</td>\n",
              "      <td>7.000000</td>\n",
              "      <td>9.000000</td>\n",
              "      <td>6.000000</td>\n",
              "      <td>15.000000</td>\n",
              "      <td>5.000000</td>\n",
              "      <td>4.000000</td>\n",
              "      <td>3.000000</td>\n",
              "      <td>2.000000</td>\n",
              "      <td>3.000000</td>\n",
              "      <td>30.000000</td>\n",
              "      <td>15.000000</td>\n",
              "      <td>12.000000</td>\n",
              "      <td>24.000000</td>\n",
              "      <td>10.000000</td>\n",
              "      <td>45.000000</td>\n",
              "      <td>45.000000</td>\n",
              "      <td>44.000000</td>\n",
              "      <td>13.000000</td>\n",
              "      <td>34.000000</td>\n",
              "      <td>38.000000</td>\n",
              "      <td>1.000000</td>\n",
              "      <td>1.000000</td>\n",
              "      <td>26.000000</td>\n",
              "      <td>29.000000</td>\n",
              "      <td>29.000000</td>\n",
              "      <td>30.000000</td>\n",
              "      <td>30.000000</td>\n",
              "      <td>29.000000</td>\n",
              "      <td>31.000000</td>\n",
              "      <td>28.000000</td>\n",
              "      <td>28.000000</td>\n",
              "      <td>27.000000</td>\n",
              "      <td>27.000000</td>\n",
              "      <td>27.000000</td>\n",
              "      <td>27.000000</td>\n",
              "      <td>26.000000</td>\n",
              "      <td>26.000000</td>\n",
              "      <td>31.000000</td>\n",
              "      <td>16.000000</td>\n",
              "    </tr>\n",
              "    <tr>\n",
              "      <th>25%</th>\n",
              "      <td>4846.500000</td>\n",
              "      <td>63.000000</td>\n",
              "      <td>23.000000</td>\n",
              "      <td>177.000000</td>\n",
              "      <td>70.000000</td>\n",
              "      <td>1.000000</td>\n",
              "      <td>62.000000</td>\n",
              "      <td>58.000000</td>\n",
              "      <td>58.000000</td>\n",
              "      <td>58.000000</td>\n",
              "      <td>57.000000</td>\n",
              "      <td>56.000000</td>\n",
              "      <td>57.000000</td>\n",
              "      <td>56.000000</td>\n",
              "      <td>51.000000</td>\n",
              "      <td>53.000000</td>\n",
              "      <td>44.000000</td>\n",
              "      <td>41.000000</td>\n",
              "      <td>32.000000</td>\n",
              "      <td>48.000000</td>\n",
              "      <td>35.000000</td>\n",
              "      <td>31.000000</td>\n",
              "      <td>40.000000</td>\n",
              "      <td>52.000000</td>\n",
              "      <td>46.000000</td>\n",
              "      <td>40.000000</td>\n",
              "      <td>31.000000</td>\n",
              "      <td>55.000000</td>\n",
              "      <td>45.000000</td>\n",
              "      <td>36.000000</td>\n",
              "      <td>38.000000</td>\n",
              "      <td>27.000000</td>\n",
              "      <td>45.500000</td>\n",
              "      <td>31.000000</td>\n",
              "      <td>28.000000</td>\n",
              "      <td>25.000000</td>\n",
              "      <td>61.000000</td>\n",
              "      <td>59.000000</td>\n",
              "      <td>59.000000</td>\n",
              "      <td>60.000000</td>\n",
              "      <td>46.000000</td>\n",
              "      <td>61.000000</td>\n",
              "      <td>62.000000</td>\n",
              "      <td>59.000000</td>\n",
              "      <td>32.000000</td>\n",
              "      <td>57.000000</td>\n",
              "      <td>59.000000</td>\n",
              "      <td>3.000000</td>\n",
              "      <td>2.000000</td>\n",
              "      <td>47.000000</td>\n",
              "      <td>52.000000</td>\n",
              "      <td>52.000000</td>\n",
              "      <td>53.000000</td>\n",
              "      <td>53.000000</td>\n",
              "      <td>51.000000</td>\n",
              "      <td>54.000000</td>\n",
              "      <td>56.000000</td>\n",
              "      <td>56.000000</td>\n",
              "      <td>55.000000</td>\n",
              "      <td>54.000000</td>\n",
              "      <td>54.000000</td>\n",
              "      <td>54.000000</td>\n",
              "      <td>55.000000</td>\n",
              "      <td>55.000000</td>\n",
              "      <td>53.000000</td>\n",
              "      <td>194928.500000</td>\n",
              "    </tr>\n",
              "    <tr>\n",
              "      <th>50%</th>\n",
              "      <td>9805.000000</td>\n",
              "      <td>67.000000</td>\n",
              "      <td>26.000000</td>\n",
              "      <td>182.000000</td>\n",
              "      <td>75.000000</td>\n",
              "      <td>1.000000</td>\n",
              "      <td>70.000000</td>\n",
              "      <td>68.000000</td>\n",
              "      <td>68.000000</td>\n",
              "      <td>65.000000</td>\n",
              "      <td>67.000000</td>\n",
              "      <td>67.000000</td>\n",
              "      <td>64.000000</td>\n",
              "      <td>64.000000</td>\n",
              "      <td>62.000000</td>\n",
              "      <td>61.000000</td>\n",
              "      <td>56.000000</td>\n",
              "      <td>57.000000</td>\n",
              "      <td>51.000000</td>\n",
              "      <td>61.000000</td>\n",
              "      <td>54.000000</td>\n",
              "      <td>46.000000</td>\n",
              "      <td>51.000000</td>\n",
              "      <td>59.000000</td>\n",
              "      <td>57.000000</td>\n",
              "      <td>56.000000</td>\n",
              "      <td>43.000000</td>\n",
              "      <td>64.000000</td>\n",
              "      <td>58.000000</td>\n",
              "      <td>51.000000</td>\n",
              "      <td>57.000000</td>\n",
              "      <td>53.000000</td>\n",
              "      <td>57.000000</td>\n",
              "      <td>53.000000</td>\n",
              "      <td>55.000000</td>\n",
              "      <td>52.000000</td>\n",
              "      <td>68.000000</td>\n",
              "      <td>67.000000</td>\n",
              "      <td>68.000000</td>\n",
              "      <td>68.000000</td>\n",
              "      <td>60.000000</td>\n",
              "      <td>66.000000</td>\n",
              "      <td>67.000000</td>\n",
              "      <td>64.000000</td>\n",
              "      <td>41.000000</td>\n",
              "      <td>62.000000</td>\n",
              "      <td>65.000000</td>\n",
              "      <td>3.000000</td>\n",
              "      <td>2.000000</td>\n",
              "      <td>59.000000</td>\n",
              "      <td>59.000000</td>\n",
              "      <td>59.000000</td>\n",
              "      <td>60.000000</td>\n",
              "      <td>60.000000</td>\n",
              "      <td>59.000000</td>\n",
              "      <td>60.000000</td>\n",
              "      <td>63.000000</td>\n",
              "      <td>63.000000</td>\n",
              "      <td>62.000000</td>\n",
              "      <td>62.000000</td>\n",
              "      <td>62.000000</td>\n",
              "      <td>62.000000</td>\n",
              "      <td>62.000000</td>\n",
              "      <td>62.000000</td>\n",
              "      <td>60.000000</td>\n",
              "      <td>214860.000000</td>\n",
              "    </tr>\n",
              "    <tr>\n",
              "      <th>75%</th>\n",
              "      <td>14581.500000</td>\n",
              "      <td>73.000000</td>\n",
              "      <td>29.000000</td>\n",
              "      <td>186.000000</td>\n",
              "      <td>80.000000</td>\n",
              "      <td>1.000000</td>\n",
              "      <td>77.000000</td>\n",
              "      <td>76.000000</td>\n",
              "      <td>76.000000</td>\n",
              "      <td>71.000000</td>\n",
              "      <td>76.000000</td>\n",
              "      <td>75.000000</td>\n",
              "      <td>70.000000</td>\n",
              "      <td>71.000000</td>\n",
              "      <td>70.000000</td>\n",
              "      <td>69.000000</td>\n",
              "      <td>65.000000</td>\n",
              "      <td>67.000000</td>\n",
              "      <td>64.000000</td>\n",
              "      <td>70.000000</td>\n",
              "      <td>65.000000</td>\n",
              "      <td>59.000000</td>\n",
              "      <td>62.000000</td>\n",
              "      <td>67.000000</td>\n",
              "      <td>66.000000</td>\n",
              "      <td>66.000000</td>\n",
              "      <td>59.000000</td>\n",
              "      <td>70.000000</td>\n",
              "      <td>66.000000</td>\n",
              "      <td>64.000000</td>\n",
              "      <td>65.000000</td>\n",
              "      <td>65.000000</td>\n",
              "      <td>66.000000</td>\n",
              "      <td>65.000000</td>\n",
              "      <td>67.000000</td>\n",
              "      <td>64.000000</td>\n",
              "      <td>73.000000</td>\n",
              "      <td>75.000000</td>\n",
              "      <td>76.000000</td>\n",
              "      <td>75.000000</td>\n",
              "      <td>71.000000</td>\n",
              "      <td>72.000000</td>\n",
              "      <td>74.000000</td>\n",
              "      <td>69.000000</td>\n",
              "      <td>48.000000</td>\n",
              "      <td>68.000000</td>\n",
              "      <td>70.000000</td>\n",
              "      <td>3.000000</td>\n",
              "      <td>3.000000</td>\n",
              "      <td>66.000000</td>\n",
              "      <td>65.000000</td>\n",
              "      <td>65.000000</td>\n",
              "      <td>66.000000</td>\n",
              "      <td>66.000000</td>\n",
              "      <td>66.000000</td>\n",
              "      <td>67.000000</td>\n",
              "      <td>68.000000</td>\n",
              "      <td>68.000000</td>\n",
              "      <td>68.000000</td>\n",
              "      <td>68.000000</td>\n",
              "      <td>68.000000</td>\n",
              "      <td>68.000000</td>\n",
              "      <td>68.000000</td>\n",
              "      <td>68.000000</td>\n",
              "      <td>67.000000</td>\n",
              "      <td>232590.500000</td>\n",
              "    </tr>\n",
              "    <tr>\n",
              "      <th>max</th>\n",
              "      <td>19307.000000</td>\n",
              "      <td>99.000000</td>\n",
              "      <td>89.000000</td>\n",
              "      <td>205.000000</td>\n",
              "      <td>110.000000</td>\n",
              "      <td>5.000000</td>\n",
              "      <td>99.000000</td>\n",
              "      <td>99.000000</td>\n",
              "      <td>99.000000</td>\n",
              "      <td>99.000000</td>\n",
              "      <td>99.000000</td>\n",
              "      <td>99.000000</td>\n",
              "      <td>99.000000</td>\n",
              "      <td>99.000000</td>\n",
              "      <td>99.000000</td>\n",
              "      <td>99.000000</td>\n",
              "      <td>99.000000</td>\n",
              "      <td>99.000000</td>\n",
              "      <td>99.000000</td>\n",
              "      <td>99.000000</td>\n",
              "      <td>99.000000</td>\n",
              "      <td>99.000000</td>\n",
              "      <td>99.000000</td>\n",
              "      <td>99.000000</td>\n",
              "      <td>99.000000</td>\n",
              "      <td>99.000000</td>\n",
              "      <td>99.000000</td>\n",
              "      <td>99.000000</td>\n",
              "      <td>99.000000</td>\n",
              "      <td>99.000000</td>\n",
              "      <td>98.000000</td>\n",
              "      <td>99.000000</td>\n",
              "      <td>99.000000</td>\n",
              "      <td>99.000000</td>\n",
              "      <td>99.000000</td>\n",
              "      <td>98.000000</td>\n",
              "      <td>97.000000</td>\n",
              "      <td>99.000000</td>\n",
              "      <td>99.000000</td>\n",
              "      <td>99.000000</td>\n",
              "      <td>99.000000</td>\n",
              "      <td>97.000000</td>\n",
              "      <td>98.000000</td>\n",
              "      <td>93.000000</td>\n",
              "      <td>75.000000</td>\n",
              "      <td>95.000000</td>\n",
              "      <td>95.000000</td>\n",
              "      <td>5.000000</td>\n",
              "      <td>5.000000</td>\n",
              "      <td>97.000000</td>\n",
              "      <td>95.000000</td>\n",
              "      <td>95.000000</td>\n",
              "      <td>96.000000</td>\n",
              "      <td>96.000000</td>\n",
              "      <td>97.000000</td>\n",
              "      <td>98.000000</td>\n",
              "      <td>97.000000</td>\n",
              "      <td>97.000000</td>\n",
              "      <td>98.000000</td>\n",
              "      <td>98.000000</td>\n",
              "      <td>98.000000</td>\n",
              "      <td>98.000000</td>\n",
              "      <td>97.000000</td>\n",
              "      <td>97.000000</td>\n",
              "      <td>98.000000</td>\n",
              "      <td>245714.000000</td>\n",
              "    </tr>\n",
              "  </tbody>\n",
              "</table>\n",
              "</div>"
            ],
            "text/plain": [
              "          player_id       overall  ...            st        base_id\n",
              "count  18831.000000  18831.000000  ...  16882.000000   18831.000000\n",
              "mean    9724.997663     68.200839  ...     60.297832  209831.137114\n",
              "std     5592.051018      8.143145  ...     10.213289   31943.691550\n",
              "min        1.000000     47.000000  ...     31.000000      16.000000\n",
              "25%     4846.500000     63.000000  ...     53.000000  194928.500000\n",
              "50%     9805.000000     67.000000  ...     60.000000  214860.000000\n",
              "75%    14581.500000     73.000000  ...     67.000000  232590.500000\n",
              "max    19307.000000     99.000000  ...     98.000000  245714.000000\n",
              "\n",
              "[8 rows x 66 columns]"
            ]
          },
          "metadata": {
            "tags": []
          },
          "execution_count": 16
        }
      ]
    },
    {
      "cell_type": "markdown",
      "metadata": {
        "id": "2QTzo2U5I7WB"
      },
      "source": [
        "### 3.4 Filtrando (*Filtering*) e fatiando (*slicing*) os dados\n",
        "\n",
        "*Filtering* e *slicing* são técnicas utilizadas para isolar partes específicas do *DataFrame*, sejam linhas, colunas ou células. Isso é muito útil pois diversas vezes queremos analisar alguns dados ao invés da base inteira. O Pandas tem ferramentas próprias para isso. <br>\n",
        "\n",
        "#### 3.4.1 *Slicing*\n",
        "\n",
        "No Pandas existem duas principais formas de fatiar os dados, isto é, selecionar apenas uma parte de acordo com as linhas e colunas do *DataFrame*: utilizando o nome das partes ou com os métodos *.loc()* e *.iloc()*. Vamos começar pelo primeiro. Para fazer isso, imagine que queremos apenas os nomes e o poder de ataque dos Pokémons e veja o exemplo:"
      ]
    },
    {
      "cell_type": "code",
      "metadata": {
        "id": "46uivHZcI7WC",
        "colab": {
          "base_uri": "https://localhost:8080/",
          "height": 266
        },
        "outputId": "9fb80594-7038-4da8-d805-c883c5e43312"
      },
      "source": [
        "pkmn[['Name','Attack']].head(7)"
      ],
      "execution_count": null,
      "outputs": [
        {
          "output_type": "execute_result",
          "data": {
            "text/html": [
              "<div>\n",
              "<style scoped>\n",
              "    .dataframe tbody tr th:only-of-type {\n",
              "        vertical-align: middle;\n",
              "    }\n",
              "\n",
              "    .dataframe tbody tr th {\n",
              "        vertical-align: top;\n",
              "    }\n",
              "\n",
              "    .dataframe thead th {\n",
              "        text-align: right;\n",
              "    }\n",
              "</style>\n",
              "<table border=\"1\" class=\"dataframe\">\n",
              "  <thead>\n",
              "    <tr style=\"text-align: right;\">\n",
              "      <th></th>\n",
              "      <th>Name</th>\n",
              "      <th>Attack</th>\n",
              "    </tr>\n",
              "  </thead>\n",
              "  <tbody>\n",
              "    <tr>\n",
              "      <th>0</th>\n",
              "      <td>Bulbasaur</td>\n",
              "      <td>49</td>\n",
              "    </tr>\n",
              "    <tr>\n",
              "      <th>1</th>\n",
              "      <td>Ivysaur</td>\n",
              "      <td>62</td>\n",
              "    </tr>\n",
              "    <tr>\n",
              "      <th>2</th>\n",
              "      <td>Venusaur</td>\n",
              "      <td>82</td>\n",
              "    </tr>\n",
              "    <tr>\n",
              "      <th>3</th>\n",
              "      <td>VenusaurMega Venusaur</td>\n",
              "      <td>100</td>\n",
              "    </tr>\n",
              "    <tr>\n",
              "      <th>4</th>\n",
              "      <td>Charmander</td>\n",
              "      <td>52</td>\n",
              "    </tr>\n",
              "    <tr>\n",
              "      <th>5</th>\n",
              "      <td>Charmeleon</td>\n",
              "      <td>64</td>\n",
              "    </tr>\n",
              "    <tr>\n",
              "      <th>6</th>\n",
              "      <td>Charizard</td>\n",
              "      <td>84</td>\n",
              "    </tr>\n",
              "  </tbody>\n",
              "</table>\n",
              "</div>"
            ],
            "text/plain": [
              "                    Name  Attack\n",
              "0              Bulbasaur      49\n",
              "1                Ivysaur      62\n",
              "2               Venusaur      82\n",
              "3  VenusaurMega Venusaur     100\n",
              "4             Charmander      52\n",
              "5             Charmeleon      64\n",
              "6              Charizard      84"
            ]
          },
          "metadata": {
            "tags": []
          },
          "execution_count": 17
        }
      ]
    },
    {
      "cell_type": "markdown",
      "metadata": {
        "id": "a2t9ZGA9I7WF"
      },
      "source": [
        "Duas coisas importantes aqui:\n",
        " - Juntamos o *slicing* com o método *.head()* na mesma linha, para que fosse possível ver o resultado do fatiamento. Ao usar o Pandas é possível e comum fazer esse tipo de agrupamento de operações.\n",
        " - Foram utilizadas chaves duplas [[]] no fatiamento. Ao fazer isso, estou explicitando que quero um objeto do tipo *DataFrame*. Se eu quisesse objetos do tipo *Series* usaria chaves simples. Podemos ver um exemplo disso abaixo:"
      ]
    },
    {
      "cell_type": "code",
      "metadata": {
        "id": "4Ml4LWZJI7WF",
        "colab": {
          "base_uri": "https://localhost:8080/"
        },
        "outputId": "d721d578-e534-4c6f-c8f0-1a87ef42744b"
      },
      "source": [
        "type(pkmn[['Name']])"
      ],
      "execution_count": null,
      "outputs": [
        {
          "output_type": "execute_result",
          "data": {
            "text/plain": [
              "pandas.core.frame.DataFrame"
            ]
          },
          "metadata": {
            "tags": []
          },
          "execution_count": 18
        }
      ]
    },
    {
      "cell_type": "code",
      "metadata": {
        "id": "NVLgmH7lI7WI",
        "colab": {
          "base_uri": "https://localhost:8080/"
        },
        "outputId": "f511ddf6-ee98-4645-9b52-14916036362e"
      },
      "source": [
        "type(pkmn['Name'])"
      ],
      "execution_count": null,
      "outputs": [
        {
          "output_type": "execute_result",
          "data": {
            "text/plain": [
              "pandas.core.series.Series"
            ]
          },
          "metadata": {
            "tags": []
          },
          "execution_count": 19
        }
      ]
    },
    {
      "cell_type": "markdown",
      "metadata": {
        "id": "PqRmLi4HI7WL"
      },
      "source": [
        "Outra forma de se obter um objeto do tipo *Series* é passando a coluna como se fosse um atributo do *DataFrame*:"
      ]
    },
    {
      "cell_type": "code",
      "metadata": {
        "id": "_GYbEpLNI7WM",
        "colab": {
          "base_uri": "https://localhost:8080/"
        },
        "outputId": "98deac70-3aa1-4f09-c2da-6525d8c8e8bb"
      },
      "source": [
        "pkmn.Name"
      ],
      "execution_count": null,
      "outputs": [
        {
          "output_type": "execute_result",
          "data": {
            "text/plain": [
              "0                  Bulbasaur\n",
              "1                    Ivysaur\n",
              "2                   Venusaur\n",
              "3      VenusaurMega Venusaur\n",
              "4                 Charmander\n",
              "               ...          \n",
              "795                  Diancie\n",
              "796      DiancieMega Diancie\n",
              "797      HoopaHoopa Confined\n",
              "798       HoopaHoopa Unbound\n",
              "799                Volcanion\n",
              "Name: Name, Length: 800, dtype: object"
            ]
          },
          "metadata": {
            "tags": []
          },
          "execution_count": 20
        }
      ]
    },
    {
      "cell_type": "markdown",
      "metadata": {
        "id": "vWKI_99GI7WN"
      },
      "source": [
        "O único problema desse formato é que colunas cujo nome contém espaços não funcionarão, como é o caso das colunas *Type 1*, *Type 2*, *Sp. Atk* e *Sp. Def*. Para resolver isso, vamos renomeá-las com o método *.rename()*."
      ]
    },
    {
      "cell_type": "code",
      "metadata": {
        "id": "Qnf5uL5wI7WO"
      },
      "source": [
        "pkmn.rename(\n",
        "    columns={'Type 1':'Type_1', 'Type 2':'Type_2', 'Sp. Atk':'Sp_Atk','Sp. Def':'Sp_Def'}, #passando o nome antigo e novo como um dicionário\n",
        "    inplace = True #algumas operações com Pandas criam uma cópia do DataFrame e não alteram o objeto em si, alteramos isso mudando o parâmetro inplace para verdadeiro\n",
        ")"
      ],
      "execution_count": null,
      "outputs": []
    },
    {
      "cell_type": "code",
      "metadata": {
        "id": "lnAsbq4xI7WQ",
        "colab": {
          "base_uri": "https://localhost:8080/"
        },
        "outputId": "6de87183-b821-4ed4-cd6f-887f298f4a03"
      },
      "source": [
        "pkmn.info()"
      ],
      "execution_count": null,
      "outputs": [
        {
          "output_type": "stream",
          "text": [
            "<class 'pandas.core.frame.DataFrame'>\n",
            "RangeIndex: 800 entries, 0 to 799\n",
            "Data columns (total 13 columns):\n",
            " #   Column      Non-Null Count  Dtype \n",
            "---  ------      --------------  ----- \n",
            " 0   #           800 non-null    int64 \n",
            " 1   Name        800 non-null    object\n",
            " 2   Type_1      800 non-null    object\n",
            " 3   Type_2      414 non-null    object\n",
            " 4   Total       800 non-null    int64 \n",
            " 5   HP          800 non-null    int64 \n",
            " 6   Attack      800 non-null    int64 \n",
            " 7   Defense     800 non-null    int64 \n",
            " 8   Sp_Atk      800 non-null    int64 \n",
            " 9   Sp_Def      800 non-null    int64 \n",
            " 10  Speed       800 non-null    int64 \n",
            " 11  Generation  800 non-null    int64 \n",
            " 12  Legendary   800 non-null    bool  \n",
            "dtypes: bool(1), int64(9), object(3)\n",
            "memory usage: 75.9+ KB\n"
          ],
          "name": "stdout"
        }
      ]
    },
    {
      "cell_type": "markdown",
      "metadata": {
        "id": "hjYNYK1aI7WT"
      },
      "source": [
        "Agora que os nomes foram trocados, podemos obter um objeto *Series* do tipo do Pokémon como a seguir:"
      ]
    },
    {
      "cell_type": "code",
      "metadata": {
        "id": "s5IjJpwNI7WT",
        "colab": {
          "base_uri": "https://localhost:8080/"
        },
        "outputId": "fee9be4f-2cd6-4c0a-c7b4-424d74375131"
      },
      "source": [
        "pkmn.Type_1"
      ],
      "execution_count": null,
      "outputs": [
        {
          "output_type": "execute_result",
          "data": {
            "text/plain": [
              "0        Grass\n",
              "1        Grass\n",
              "2        Grass\n",
              "3        Grass\n",
              "4         Fire\n",
              "        ...   \n",
              "795       Rock\n",
              "796       Rock\n",
              "797    Psychic\n",
              "798    Psychic\n",
              "799       Fire\n",
              "Name: Type_1, Length: 800, dtype: object"
            ]
          },
          "metadata": {
            "tags": []
          },
          "execution_count": 23
        }
      ]
    },
    {
      "cell_type": "markdown",
      "metadata": {
        "id": "R281vnHrI7WV"
      },
      "source": [
        "Outra forma de selecionar partes dos dados é usando os métodos *.loc()* e *.iloc()*.<br>\n",
        "Para usar a localização númerica utilizamos o *iloc*. Como você pode imaginar, a linhas e colunas são ordenadas por números inteiros sequenciais, começando do 0, como nas listas. Dessa forma, se você sabe o número da linha e da coluna, você pode usar o *iloc*. Por exemplo, se quisermos a coluna HP, que é a 6ª, poderíamos fazer o seguinte:"
      ]
    },
    {
      "cell_type": "code",
      "metadata": {
        "id": "OU3QcQiZI7WV",
        "colab": {
          "base_uri": "https://localhost:8080/"
        },
        "outputId": "42073fc8-f73b-4f26-d9bf-12ef36e0ad21"
      },
      "source": [
        "pkmn.iloc[:,5].head()"
      ],
      "execution_count": null,
      "outputs": [
        {
          "output_type": "execute_result",
          "data": {
            "text/plain": [
              "0    45\n",
              "1    60\n",
              "2    80\n",
              "3    80\n",
              "4    39\n",
              "Name: HP, dtype: int64"
            ]
          },
          "metadata": {
            "tags": []
          },
          "execution_count": 24
        }
      ]
    },
    {
      "cell_type": "markdown",
      "metadata": {
        "id": "76glpCfwI7WX"
      },
      "source": [
        "A sintaxe do *iloc* é como [x,y], que significa que queremos a (x+1)ª linha e (y+1)ª coluna. Se utilizarmos ':' no lugar de x ou y significa que queremos a coluna ou linha completa, respectivamente. Vamos pegar o HP do Bulbasaur, o primeiro Pokémon do nosso *DataFrame*:"
      ]
    },
    {
      "cell_type": "code",
      "metadata": {
        "id": "Xsk3EutuI7WX",
        "colab": {
          "base_uri": "https://localhost:8080/"
        },
        "outputId": "3eb84a8b-dc21-4452-8457-b9554ba51389"
      },
      "source": [
        "print(\"O HP do Bulbasaur é \"+str(pkmn.iloc[0,5]))"
      ],
      "execution_count": null,
      "outputs": [
        {
          "output_type": "stream",
          "text": [
            "O HP do Bulbasaur é 45\n"
          ],
          "name": "stdout"
        }
      ]
    },
    {
      "cell_type": "markdown",
      "metadata": {
        "id": "IGy5jCcgI7Wa"
      },
      "source": [
        "O método *.loc()* usa o rótulo para acessar os valores. Dessa forma, ao invés de passarmos as coordenadas numéricas, passamos o nome da linha e da coluna, como a seguir:"
      ]
    },
    {
      "cell_type": "code",
      "metadata": {
        "id": "JcQV_oi3I7Wb",
        "colab": {
          "base_uri": "https://localhost:8080/"
        },
        "outputId": "f775d3a9-69c4-4e00-eb71-7eecf5d2841c"
      },
      "source": [
        "pkmn.loc[0, :]"
      ],
      "execution_count": null,
      "outputs": [
        {
          "output_type": "execute_result",
          "data": {
            "text/plain": [
              "#                     1\n",
              "Name          Bulbasaur\n",
              "Type_1            Grass\n",
              "Type_2           Poison\n",
              "Total               318\n",
              "HP                   45\n",
              "Attack               49\n",
              "Defense              49\n",
              "Sp_Atk               65\n",
              "Sp_Def               65\n",
              "Speed                45\n",
              "Generation            1\n",
              "Legendary         False\n",
              "Name: 0, dtype: object"
            ]
          },
          "metadata": {
            "tags": []
          },
          "execution_count": 27
        }
      ]
    },
    {
      "cell_type": "markdown",
      "metadata": {
        "id": "nu5OJQgOI7Wc"
      },
      "source": [
        "No caso, os rótulos das linhas são iguais às suas coordenadas, por isso ficou parecido com o *iloc*. Vamos fazer o teste com as colunas também para ver a diferença. Abaixo pegaremos novamente o HP do Bulbasaur:"
      ]
    },
    {
      "cell_type": "code",
      "metadata": {
        "id": "4jMGO5ACI7Wc",
        "colab": {
          "base_uri": "https://localhost:8080/"
        },
        "outputId": "d6dbbb82-8e02-4184-fad7-ef27ff165606"
      },
      "source": [
        "print(\"O HP do Bulbasaur é \"+str(pkmn.loc[0,'HP']))"
      ],
      "execution_count": null,
      "outputs": [
        {
          "output_type": "stream",
          "text": [
            "O HP do Bulbasaur é 45\n"
          ],
          "name": "stdout"
        }
      ]
    },
    {
      "cell_type": "markdown",
      "metadata": {
        "id": "wzRDpdWNI7We"
      },
      "source": [
        "#### 3.4.2 Filtros (*Filtering*)\n",
        "\n",
        "Uma vez sabendo isolar partes do *DataFrame* de acordo com a localização dos dados, podemos partir para isolar de acordo com condições, ou seja, filtrar os dados.\n",
        "Para conseguir fazer isso no Pandas, fazemos o seguinte: passamos uma expressão condicional e o Pandas retorna apenas as partes que teriam a condição como verdade. Para testar isso, vamos ver a defesa média de todas os Pokémons e depois ver se os tipos 'Rock' e 'Steel' tem defesas maiores:"
      ]
    },
    {
      "cell_type": "code",
      "metadata": {
        "id": "t9BIt7O7I7We",
        "colab": {
          "base_uri": "https://localhost:8080/"
        },
        "outputId": "61a79938-23eb-4593-d5ae-9546c6cca9d8"
      },
      "source": [
        "pkmn.Defense.mean() #note que operações comuns como média (mean), mediana (median) e soma (sum) são métodos do Pandas"
      ],
      "execution_count": null,
      "outputs": [
        {
          "output_type": "execute_result",
          "data": {
            "text/plain": [
              "73.8425"
            ]
          },
          "metadata": {
            "tags": []
          },
          "execution_count": 29
        }
      ]
    },
    {
      "cell_type": "code",
      "metadata": {
        "id": "hyQ1od9FI7Wg",
        "colab": {
          "base_uri": "https://localhost:8080/"
        },
        "outputId": "09995759-106f-48e7-c3e9-7566210cc202"
      },
      "source": [
        "pkmn.loc[pkmn.Type_1=='Rock'].Defense.mean()"
      ],
      "execution_count": null,
      "outputs": [
        {
          "output_type": "execute_result",
          "data": {
            "text/plain": [
              "100.79545454545455"
            ]
          },
          "metadata": {
            "tags": []
          },
          "execution_count": 30
        }
      ]
    },
    {
      "cell_type": "code",
      "metadata": {
        "id": "v3HYd44rI7Wh",
        "colab": {
          "base_uri": "https://localhost:8080/"
        },
        "outputId": "095d1997-15b4-4b0d-a6d4-3946f5cb78fc"
      },
      "source": [
        "pkmn[pkmn.Type_1=='Steel'].Defense.mean()"
      ],
      "execution_count": null,
      "outputs": [
        {
          "output_type": "execute_result",
          "data": {
            "text/plain": [
              "126.37037037037037"
            ]
          },
          "metadata": {
            "tags": []
          },
          "execution_count": 31
        }
      ]
    },
    {
      "cell_type": "markdown",
      "metadata": {
        "id": "DQ3SSloPI7Wj"
      },
      "source": [
        "De fato, parece que os tipos selecionados tem média acima dos demais Pokémons. Para verificar isso, passamos a condição pkmn.Type_1=='Steel' entre chaves, o que retorna apenas as linhas de tal tipo. Com isso, selecionamos apenas a coluna de defesa e calculamos a média. <br>\n",
        "Vamos ver agora os Pokémons com defesa maior que 150, cujo tipo principal não é 'Rock' nem 'Steel':"
      ]
    },
    {
      "cell_type": "code",
      "metadata": {
        "id": "gZssFNJSI7Wj",
        "colab": {
          "base_uri": "https://localhost:8080/",
          "height": 235
        },
        "outputId": "eecde10a-5709-444c-b7ef-e65d6eec5d00"
      },
      "source": [
        "pkmn[(pkmn.Defense > 150)&(pkmn.Type_1!='Rock')&(pkmn.Type_1!='Steel')]"
      ],
      "execution_count": null,
      "outputs": [
        {
          "output_type": "execute_result",
          "data": {
            "text/html": [
              "<div>\n",
              "<style scoped>\n",
              "    .dataframe tbody tr th:only-of-type {\n",
              "        vertical-align: middle;\n",
              "    }\n",
              "\n",
              "    .dataframe tbody tr th {\n",
              "        vertical-align: top;\n",
              "    }\n",
              "\n",
              "    .dataframe thead th {\n",
              "        text-align: right;\n",
              "    }\n",
              "</style>\n",
              "<table border=\"1\" class=\"dataframe\">\n",
              "  <thead>\n",
              "    <tr style=\"text-align: right;\">\n",
              "      <th></th>\n",
              "      <th>#</th>\n",
              "      <th>Name</th>\n",
              "      <th>Type_1</th>\n",
              "      <th>Type_2</th>\n",
              "      <th>Total</th>\n",
              "      <th>HP</th>\n",
              "      <th>Attack</th>\n",
              "      <th>Defense</th>\n",
              "      <th>Sp_Atk</th>\n",
              "      <th>Sp_Def</th>\n",
              "      <th>Speed</th>\n",
              "      <th>Generation</th>\n",
              "      <th>Legendary</th>\n",
              "    </tr>\n",
              "  </thead>\n",
              "  <tbody>\n",
              "    <tr>\n",
              "      <th>87</th>\n",
              "      <td>80</td>\n",
              "      <td>SlowbroMega Slowbro</td>\n",
              "      <td>Water</td>\n",
              "      <td>Psychic</td>\n",
              "      <td>590</td>\n",
              "      <td>95</td>\n",
              "      <td>75</td>\n",
              "      <td>180</td>\n",
              "      <td>130</td>\n",
              "      <td>80</td>\n",
              "      <td>30</td>\n",
              "      <td>1</td>\n",
              "      <td>False</td>\n",
              "    </tr>\n",
              "    <tr>\n",
              "      <th>98</th>\n",
              "      <td>91</td>\n",
              "      <td>Cloyster</td>\n",
              "      <td>Water</td>\n",
              "      <td>Ice</td>\n",
              "      <td>525</td>\n",
              "      <td>50</td>\n",
              "      <td>95</td>\n",
              "      <td>180</td>\n",
              "      <td>85</td>\n",
              "      <td>45</td>\n",
              "      <td>70</td>\n",
              "      <td>1</td>\n",
              "      <td>False</td>\n",
              "    </tr>\n",
              "    <tr>\n",
              "      <th>230</th>\n",
              "      <td>213</td>\n",
              "      <td>Shuckle</td>\n",
              "      <td>Bug</td>\n",
              "      <td>Rock</td>\n",
              "      <td>505</td>\n",
              "      <td>20</td>\n",
              "      <td>10</td>\n",
              "      <td>230</td>\n",
              "      <td>10</td>\n",
              "      <td>230</td>\n",
              "      <td>5</td>\n",
              "      <td>2</td>\n",
              "      <td>False</td>\n",
              "    </tr>\n",
              "    <tr>\n",
              "      <th>424</th>\n",
              "      <td>383</td>\n",
              "      <td>GroudonPrimal Groudon</td>\n",
              "      <td>Ground</td>\n",
              "      <td>Fire</td>\n",
              "      <td>770</td>\n",
              "      <td>100</td>\n",
              "      <td>180</td>\n",
              "      <td>160</td>\n",
              "      <td>150</td>\n",
              "      <td>90</td>\n",
              "      <td>90</td>\n",
              "      <td>3</td>\n",
              "      <td>True</td>\n",
              "    </tr>\n",
              "    <tr>\n",
              "      <th>430</th>\n",
              "      <td>386</td>\n",
              "      <td>DeoxysDefense Forme</td>\n",
              "      <td>Psychic</td>\n",
              "      <td>NaN</td>\n",
              "      <td>600</td>\n",
              "      <td>50</td>\n",
              "      <td>70</td>\n",
              "      <td>160</td>\n",
              "      <td>70</td>\n",
              "      <td>160</td>\n",
              "      <td>90</td>\n",
              "      <td>3</td>\n",
              "      <td>True</td>\n",
              "    </tr>\n",
              "    <tr>\n",
              "      <th>789</th>\n",
              "      <td>713</td>\n",
              "      <td>Avalugg</td>\n",
              "      <td>Ice</td>\n",
              "      <td>NaN</td>\n",
              "      <td>514</td>\n",
              "      <td>95</td>\n",
              "      <td>117</td>\n",
              "      <td>184</td>\n",
              "      <td>44</td>\n",
              "      <td>46</td>\n",
              "      <td>28</td>\n",
              "      <td>6</td>\n",
              "      <td>False</td>\n",
              "    </tr>\n",
              "  </tbody>\n",
              "</table>\n",
              "</div>"
            ],
            "text/plain": [
              "       #                   Name   Type_1  ... Speed  Generation  Legendary\n",
              "87    80    SlowbroMega Slowbro    Water  ...    30           1      False\n",
              "98    91               Cloyster    Water  ...    70           1      False\n",
              "230  213                Shuckle      Bug  ...     5           2      False\n",
              "424  383  GroudonPrimal Groudon   Ground  ...    90           3       True\n",
              "430  386    DeoxysDefense Forme  Psychic  ...    90           3       True\n",
              "789  713                Avalugg      Ice  ...    28           6      False\n",
              "\n",
              "[6 rows x 13 columns]"
            ]
          },
          "metadata": {
            "tags": []
          },
          "execution_count": 32
        }
      ]
    },
    {
      "cell_type": "markdown",
      "metadata": {
        "id": "U0yWxF1MI7Wl"
      },
      "source": [
        "Podemos ver acima que é possível juntar condições com os operadores E (&) e OU (|), como vimos no inicio da aula.<br>\n",
        "Vamos dizer agora que você quer apenas alguns Pokémons em específico, por exemplo Venusaur, Charizard e Blastoise. Criar uma condição para cada e uní-las com o operador & pode ser difícil, ainda mais se for uma quantidade grande de opções. Podemos facilitar isso passando uma tupla ao método *.isin()*, como abaixo:"
      ]
    },
    {
      "cell_type": "code",
      "metadata": {
        "id": "1hZmFFpNI7Wl",
        "colab": {
          "base_uri": "https://localhost:8080/",
          "height": 142
        },
        "outputId": "a365c5fe-2639-4edf-ef32-f1c6adaaeced"
      },
      "source": [
        "aux = ('Venusaur', 'Charizard', 'Blastoise')\n",
        "pkmn[pkmn.Name.isin(aux)]"
      ],
      "execution_count": null,
      "outputs": [
        {
          "output_type": "execute_result",
          "data": {
            "text/html": [
              "<div>\n",
              "<style scoped>\n",
              "    .dataframe tbody tr th:only-of-type {\n",
              "        vertical-align: middle;\n",
              "    }\n",
              "\n",
              "    .dataframe tbody tr th {\n",
              "        vertical-align: top;\n",
              "    }\n",
              "\n",
              "    .dataframe thead th {\n",
              "        text-align: right;\n",
              "    }\n",
              "</style>\n",
              "<table border=\"1\" class=\"dataframe\">\n",
              "  <thead>\n",
              "    <tr style=\"text-align: right;\">\n",
              "      <th></th>\n",
              "      <th>#</th>\n",
              "      <th>Name</th>\n",
              "      <th>Type_1</th>\n",
              "      <th>Type_2</th>\n",
              "      <th>Total</th>\n",
              "      <th>HP</th>\n",
              "      <th>Attack</th>\n",
              "      <th>Defense</th>\n",
              "      <th>Sp_Atk</th>\n",
              "      <th>Sp_Def</th>\n",
              "      <th>Speed</th>\n",
              "      <th>Generation</th>\n",
              "      <th>Legendary</th>\n",
              "    </tr>\n",
              "  </thead>\n",
              "  <tbody>\n",
              "    <tr>\n",
              "      <th>2</th>\n",
              "      <td>3</td>\n",
              "      <td>Venusaur</td>\n",
              "      <td>Grass</td>\n",
              "      <td>Poison</td>\n",
              "      <td>525</td>\n",
              "      <td>80</td>\n",
              "      <td>82</td>\n",
              "      <td>83</td>\n",
              "      <td>100</td>\n",
              "      <td>100</td>\n",
              "      <td>80</td>\n",
              "      <td>1</td>\n",
              "      <td>False</td>\n",
              "    </tr>\n",
              "    <tr>\n",
              "      <th>6</th>\n",
              "      <td>6</td>\n",
              "      <td>Charizard</td>\n",
              "      <td>Fire</td>\n",
              "      <td>Flying</td>\n",
              "      <td>534</td>\n",
              "      <td>78</td>\n",
              "      <td>84</td>\n",
              "      <td>78</td>\n",
              "      <td>109</td>\n",
              "      <td>85</td>\n",
              "      <td>100</td>\n",
              "      <td>1</td>\n",
              "      <td>False</td>\n",
              "    </tr>\n",
              "    <tr>\n",
              "      <th>11</th>\n",
              "      <td>9</td>\n",
              "      <td>Blastoise</td>\n",
              "      <td>Water</td>\n",
              "      <td>NaN</td>\n",
              "      <td>530</td>\n",
              "      <td>79</td>\n",
              "      <td>83</td>\n",
              "      <td>100</td>\n",
              "      <td>85</td>\n",
              "      <td>105</td>\n",
              "      <td>78</td>\n",
              "      <td>1</td>\n",
              "      <td>False</td>\n",
              "    </tr>\n",
              "  </tbody>\n",
              "</table>\n",
              "</div>"
            ],
            "text/plain": [
              "    #       Name Type_1  Type_2  ...  Sp_Def  Speed  Generation  Legendary\n",
              "2   3   Venusaur  Grass  Poison  ...     100     80           1      False\n",
              "6   6  Charizard   Fire  Flying  ...      85    100           1      False\n",
              "11  9  Blastoise  Water     NaN  ...     105     78           1      False\n",
              "\n",
              "[3 rows x 13 columns]"
            ]
          },
          "metadata": {
            "tags": []
          },
          "execution_count": 33
        }
      ]
    },
    {
      "cell_type": "markdown",
      "metadata": {
        "id": "9xqpu5WPI7Wm"
      },
      "source": [
        "Finalmente, podemos criar novos *DataFrames* de um já existente selecionando apenas algumas linhas ou colunas dele:"
      ]
    },
    {
      "cell_type": "code",
      "metadata": {
        "id": "gTkyAPJ3I7Wn"
      },
      "source": [
        "offensive_stats = pkmn[['#','Name','Attack','Sp_Atk','Speed']] #selecionando apenas estatísticas ofensivas\n",
        "defensive_stats = pkmn[['#','Name', 'HP','Defense','Sp_Def']] #selecionando apenas estatísticas defensivas"
      ],
      "execution_count": null,
      "outputs": []
    },
    {
      "cell_type": "code",
      "metadata": {
        "id": "Eya67aYTI7Wo",
        "colab": {
          "base_uri": "https://localhost:8080/",
          "height": 204
        },
        "outputId": "88020d4b-054a-4f0e-ef30-ef60e20f747f"
      },
      "source": [
        "offensive_stats.head()"
      ],
      "execution_count": null,
      "outputs": [
        {
          "output_type": "execute_result",
          "data": {
            "text/html": [
              "<div>\n",
              "<style scoped>\n",
              "    .dataframe tbody tr th:only-of-type {\n",
              "        vertical-align: middle;\n",
              "    }\n",
              "\n",
              "    .dataframe tbody tr th {\n",
              "        vertical-align: top;\n",
              "    }\n",
              "\n",
              "    .dataframe thead th {\n",
              "        text-align: right;\n",
              "    }\n",
              "</style>\n",
              "<table border=\"1\" class=\"dataframe\">\n",
              "  <thead>\n",
              "    <tr style=\"text-align: right;\">\n",
              "      <th></th>\n",
              "      <th>#</th>\n",
              "      <th>Name</th>\n",
              "      <th>Attack</th>\n",
              "      <th>Sp_Atk</th>\n",
              "      <th>Speed</th>\n",
              "    </tr>\n",
              "  </thead>\n",
              "  <tbody>\n",
              "    <tr>\n",
              "      <th>0</th>\n",
              "      <td>1</td>\n",
              "      <td>Bulbasaur</td>\n",
              "      <td>49</td>\n",
              "      <td>65</td>\n",
              "      <td>45</td>\n",
              "    </tr>\n",
              "    <tr>\n",
              "      <th>1</th>\n",
              "      <td>2</td>\n",
              "      <td>Ivysaur</td>\n",
              "      <td>62</td>\n",
              "      <td>80</td>\n",
              "      <td>60</td>\n",
              "    </tr>\n",
              "    <tr>\n",
              "      <th>2</th>\n",
              "      <td>3</td>\n",
              "      <td>Venusaur</td>\n",
              "      <td>82</td>\n",
              "      <td>100</td>\n",
              "      <td>80</td>\n",
              "    </tr>\n",
              "    <tr>\n",
              "      <th>3</th>\n",
              "      <td>3</td>\n",
              "      <td>VenusaurMega Venusaur</td>\n",
              "      <td>100</td>\n",
              "      <td>122</td>\n",
              "      <td>80</td>\n",
              "    </tr>\n",
              "    <tr>\n",
              "      <th>4</th>\n",
              "      <td>4</td>\n",
              "      <td>Charmander</td>\n",
              "      <td>52</td>\n",
              "      <td>60</td>\n",
              "      <td>65</td>\n",
              "    </tr>\n",
              "  </tbody>\n",
              "</table>\n",
              "</div>"
            ],
            "text/plain": [
              "   #                   Name  Attack  Sp_Atk  Speed\n",
              "0  1              Bulbasaur      49      65     45\n",
              "1  2                Ivysaur      62      80     60\n",
              "2  3               Venusaur      82     100     80\n",
              "3  3  VenusaurMega Venusaur     100     122     80\n",
              "4  4             Charmander      52      60     65"
            ]
          },
          "metadata": {
            "tags": []
          },
          "execution_count": 35
        }
      ]
    },
    {
      "cell_type": "code",
      "metadata": {
        "id": "S9VDvgW8I7Wp",
        "colab": {
          "base_uri": "https://localhost:8080/",
          "height": 204
        },
        "outputId": "fee059d5-dc5c-4fdc-c88e-6cd07b5fa9eb"
      },
      "source": [
        "defensive_stats.head()"
      ],
      "execution_count": null,
      "outputs": [
        {
          "output_type": "execute_result",
          "data": {
            "text/html": [
              "<div>\n",
              "<style scoped>\n",
              "    .dataframe tbody tr th:only-of-type {\n",
              "        vertical-align: middle;\n",
              "    }\n",
              "\n",
              "    .dataframe tbody tr th {\n",
              "        vertical-align: top;\n",
              "    }\n",
              "\n",
              "    .dataframe thead th {\n",
              "        text-align: right;\n",
              "    }\n",
              "</style>\n",
              "<table border=\"1\" class=\"dataframe\">\n",
              "  <thead>\n",
              "    <tr style=\"text-align: right;\">\n",
              "      <th></th>\n",
              "      <th>#</th>\n",
              "      <th>Name</th>\n",
              "      <th>HP</th>\n",
              "      <th>Defense</th>\n",
              "      <th>Sp_Def</th>\n",
              "    </tr>\n",
              "  </thead>\n",
              "  <tbody>\n",
              "    <tr>\n",
              "      <th>0</th>\n",
              "      <td>1</td>\n",
              "      <td>Bulbasaur</td>\n",
              "      <td>45</td>\n",
              "      <td>49</td>\n",
              "      <td>65</td>\n",
              "    </tr>\n",
              "    <tr>\n",
              "      <th>1</th>\n",
              "      <td>2</td>\n",
              "      <td>Ivysaur</td>\n",
              "      <td>60</td>\n",
              "      <td>63</td>\n",
              "      <td>80</td>\n",
              "    </tr>\n",
              "    <tr>\n",
              "      <th>2</th>\n",
              "      <td>3</td>\n",
              "      <td>Venusaur</td>\n",
              "      <td>80</td>\n",
              "      <td>83</td>\n",
              "      <td>100</td>\n",
              "    </tr>\n",
              "    <tr>\n",
              "      <th>3</th>\n",
              "      <td>3</td>\n",
              "      <td>VenusaurMega Venusaur</td>\n",
              "      <td>80</td>\n",
              "      <td>123</td>\n",
              "      <td>120</td>\n",
              "    </tr>\n",
              "    <tr>\n",
              "      <th>4</th>\n",
              "      <td>4</td>\n",
              "      <td>Charmander</td>\n",
              "      <td>39</td>\n",
              "      <td>43</td>\n",
              "      <td>50</td>\n",
              "    </tr>\n",
              "  </tbody>\n",
              "</table>\n",
              "</div>"
            ],
            "text/plain": [
              "   #                   Name  HP  Defense  Sp_Def\n",
              "0  1              Bulbasaur  45       49      65\n",
              "1  2                Ivysaur  60       63      80\n",
              "2  3               Venusaur  80       83     100\n",
              "3  3  VenusaurMega Venusaur  80      123     120\n",
              "4  4             Charmander  39       43      50"
            ]
          },
          "metadata": {
            "tags": []
          },
          "execution_count": 36
        }
      ]
    },
    {
      "cell_type": "code",
      "metadata": {
        "id": "Bnidkhc7I7Wq",
        "colab": {
          "base_uri": "https://localhost:8080/",
          "height": 204
        },
        "outputId": "63122cba-3351-4708-bb79-2be4399e879f"
      },
      "source": [
        "fire_pkmn = pkmn[(pkmn.Type_1=='Fire')|(pkmn.Type_2=='Fire')] #filtrando apenas linhas com algumas condições\n",
        "fire_pkmn.head()"
      ],
      "execution_count": null,
      "outputs": [
        {
          "output_type": "execute_result",
          "data": {
            "text/html": [
              "<div>\n",
              "<style scoped>\n",
              "    .dataframe tbody tr th:only-of-type {\n",
              "        vertical-align: middle;\n",
              "    }\n",
              "\n",
              "    .dataframe tbody tr th {\n",
              "        vertical-align: top;\n",
              "    }\n",
              "\n",
              "    .dataframe thead th {\n",
              "        text-align: right;\n",
              "    }\n",
              "</style>\n",
              "<table border=\"1\" class=\"dataframe\">\n",
              "  <thead>\n",
              "    <tr style=\"text-align: right;\">\n",
              "      <th></th>\n",
              "      <th>#</th>\n",
              "      <th>Name</th>\n",
              "      <th>Type_1</th>\n",
              "      <th>Type_2</th>\n",
              "      <th>Total</th>\n",
              "      <th>HP</th>\n",
              "      <th>Attack</th>\n",
              "      <th>Defense</th>\n",
              "      <th>Sp_Atk</th>\n",
              "      <th>Sp_Def</th>\n",
              "      <th>Speed</th>\n",
              "      <th>Generation</th>\n",
              "      <th>Legendary</th>\n",
              "    </tr>\n",
              "  </thead>\n",
              "  <tbody>\n",
              "    <tr>\n",
              "      <th>4</th>\n",
              "      <td>4</td>\n",
              "      <td>Charmander</td>\n",
              "      <td>Fire</td>\n",
              "      <td>NaN</td>\n",
              "      <td>309</td>\n",
              "      <td>39</td>\n",
              "      <td>52</td>\n",
              "      <td>43</td>\n",
              "      <td>60</td>\n",
              "      <td>50</td>\n",
              "      <td>65</td>\n",
              "      <td>1</td>\n",
              "      <td>False</td>\n",
              "    </tr>\n",
              "    <tr>\n",
              "      <th>5</th>\n",
              "      <td>5</td>\n",
              "      <td>Charmeleon</td>\n",
              "      <td>Fire</td>\n",
              "      <td>NaN</td>\n",
              "      <td>405</td>\n",
              "      <td>58</td>\n",
              "      <td>64</td>\n",
              "      <td>58</td>\n",
              "      <td>80</td>\n",
              "      <td>65</td>\n",
              "      <td>80</td>\n",
              "      <td>1</td>\n",
              "      <td>False</td>\n",
              "    </tr>\n",
              "    <tr>\n",
              "      <th>6</th>\n",
              "      <td>6</td>\n",
              "      <td>Charizard</td>\n",
              "      <td>Fire</td>\n",
              "      <td>Flying</td>\n",
              "      <td>534</td>\n",
              "      <td>78</td>\n",
              "      <td>84</td>\n",
              "      <td>78</td>\n",
              "      <td>109</td>\n",
              "      <td>85</td>\n",
              "      <td>100</td>\n",
              "      <td>1</td>\n",
              "      <td>False</td>\n",
              "    </tr>\n",
              "    <tr>\n",
              "      <th>7</th>\n",
              "      <td>6</td>\n",
              "      <td>CharizardMega Charizard X</td>\n",
              "      <td>Fire</td>\n",
              "      <td>Dragon</td>\n",
              "      <td>634</td>\n",
              "      <td>78</td>\n",
              "      <td>130</td>\n",
              "      <td>111</td>\n",
              "      <td>130</td>\n",
              "      <td>85</td>\n",
              "      <td>100</td>\n",
              "      <td>1</td>\n",
              "      <td>False</td>\n",
              "    </tr>\n",
              "    <tr>\n",
              "      <th>8</th>\n",
              "      <td>6</td>\n",
              "      <td>CharizardMega Charizard Y</td>\n",
              "      <td>Fire</td>\n",
              "      <td>Flying</td>\n",
              "      <td>634</td>\n",
              "      <td>78</td>\n",
              "      <td>104</td>\n",
              "      <td>78</td>\n",
              "      <td>159</td>\n",
              "      <td>115</td>\n",
              "      <td>100</td>\n",
              "      <td>1</td>\n",
              "      <td>False</td>\n",
              "    </tr>\n",
              "  </tbody>\n",
              "</table>\n",
              "</div>"
            ],
            "text/plain": [
              "   #                       Name Type_1  ... Speed  Generation  Legendary\n",
              "4  4                 Charmander   Fire  ...    65           1      False\n",
              "5  5                 Charmeleon   Fire  ...    80           1      False\n",
              "6  6                  Charizard   Fire  ...   100           1      False\n",
              "7  6  CharizardMega Charizard X   Fire  ...   100           1      False\n",
              "8  6  CharizardMega Charizard Y   Fire  ...   100           1      False\n",
              "\n",
              "[5 rows x 13 columns]"
            ]
          },
          "metadata": {
            "tags": []
          },
          "execution_count": 37
        }
      ]
    },
    {
      "cell_type": "code",
      "metadata": {
        "id": "X5mYCPdtI7Ws",
        "colab": {
          "base_uri": "https://localhost:8080/",
          "height": 204
        },
        "outputId": "3763cd55-c4ad-47e3-df89-757e3dece7ea"
      },
      "source": [
        "water_pkmn = pkmn[(pkmn.Type_1=='Water')|(pkmn.Type_2=='Water')] #filtrando apenas linhas com algumas condições\n",
        "water_pkmn.head()"
      ],
      "execution_count": null,
      "outputs": [
        {
          "output_type": "execute_result",
          "data": {
            "text/html": [
              "<div>\n",
              "<style scoped>\n",
              "    .dataframe tbody tr th:only-of-type {\n",
              "        vertical-align: middle;\n",
              "    }\n",
              "\n",
              "    .dataframe tbody tr th {\n",
              "        vertical-align: top;\n",
              "    }\n",
              "\n",
              "    .dataframe thead th {\n",
              "        text-align: right;\n",
              "    }\n",
              "</style>\n",
              "<table border=\"1\" class=\"dataframe\">\n",
              "  <thead>\n",
              "    <tr style=\"text-align: right;\">\n",
              "      <th></th>\n",
              "      <th>#</th>\n",
              "      <th>Name</th>\n",
              "      <th>Type_1</th>\n",
              "      <th>Type_2</th>\n",
              "      <th>Total</th>\n",
              "      <th>HP</th>\n",
              "      <th>Attack</th>\n",
              "      <th>Defense</th>\n",
              "      <th>Sp_Atk</th>\n",
              "      <th>Sp_Def</th>\n",
              "      <th>Speed</th>\n",
              "      <th>Generation</th>\n",
              "      <th>Legendary</th>\n",
              "    </tr>\n",
              "  </thead>\n",
              "  <tbody>\n",
              "    <tr>\n",
              "      <th>9</th>\n",
              "      <td>7</td>\n",
              "      <td>Squirtle</td>\n",
              "      <td>Water</td>\n",
              "      <td>NaN</td>\n",
              "      <td>314</td>\n",
              "      <td>44</td>\n",
              "      <td>48</td>\n",
              "      <td>65</td>\n",
              "      <td>50</td>\n",
              "      <td>64</td>\n",
              "      <td>43</td>\n",
              "      <td>1</td>\n",
              "      <td>False</td>\n",
              "    </tr>\n",
              "    <tr>\n",
              "      <th>10</th>\n",
              "      <td>8</td>\n",
              "      <td>Wartortle</td>\n",
              "      <td>Water</td>\n",
              "      <td>NaN</td>\n",
              "      <td>405</td>\n",
              "      <td>59</td>\n",
              "      <td>63</td>\n",
              "      <td>80</td>\n",
              "      <td>65</td>\n",
              "      <td>80</td>\n",
              "      <td>58</td>\n",
              "      <td>1</td>\n",
              "      <td>False</td>\n",
              "    </tr>\n",
              "    <tr>\n",
              "      <th>11</th>\n",
              "      <td>9</td>\n",
              "      <td>Blastoise</td>\n",
              "      <td>Water</td>\n",
              "      <td>NaN</td>\n",
              "      <td>530</td>\n",
              "      <td>79</td>\n",
              "      <td>83</td>\n",
              "      <td>100</td>\n",
              "      <td>85</td>\n",
              "      <td>105</td>\n",
              "      <td>78</td>\n",
              "      <td>1</td>\n",
              "      <td>False</td>\n",
              "    </tr>\n",
              "    <tr>\n",
              "      <th>12</th>\n",
              "      <td>9</td>\n",
              "      <td>BlastoiseMega Blastoise</td>\n",
              "      <td>Water</td>\n",
              "      <td>NaN</td>\n",
              "      <td>630</td>\n",
              "      <td>79</td>\n",
              "      <td>103</td>\n",
              "      <td>120</td>\n",
              "      <td>135</td>\n",
              "      <td>115</td>\n",
              "      <td>78</td>\n",
              "      <td>1</td>\n",
              "      <td>False</td>\n",
              "    </tr>\n",
              "    <tr>\n",
              "      <th>59</th>\n",
              "      <td>54</td>\n",
              "      <td>Psyduck</td>\n",
              "      <td>Water</td>\n",
              "      <td>NaN</td>\n",
              "      <td>320</td>\n",
              "      <td>50</td>\n",
              "      <td>52</td>\n",
              "      <td>48</td>\n",
              "      <td>65</td>\n",
              "      <td>50</td>\n",
              "      <td>55</td>\n",
              "      <td>1</td>\n",
              "      <td>False</td>\n",
              "    </tr>\n",
              "  </tbody>\n",
              "</table>\n",
              "</div>"
            ],
            "text/plain": [
              "     #                     Name Type_1  ... Speed  Generation  Legendary\n",
              "9    7                 Squirtle  Water  ...    43           1      False\n",
              "10   8                Wartortle  Water  ...    58           1      False\n",
              "11   9                Blastoise  Water  ...    78           1      False\n",
              "12   9  BlastoiseMega Blastoise  Water  ...    78           1      False\n",
              "59  54                  Psyduck  Water  ...    55           1      False\n",
              "\n",
              "[5 rows x 13 columns]"
            ]
          },
          "metadata": {
            "tags": []
          },
          "execution_count": 38
        }
      ]
    },
    {
      "cell_type": "markdown",
      "metadata": {
        "id": "_vXlgfodI7Wu"
      },
      "source": [
        "#### Exercício 3.4\n",
        "Siga as instruções e substitua os \\____ para exercitar o que aprendemos."
      ]
    },
    {
      "cell_type": "code",
      "metadata": {
        "id": "QEfZ-5seI7Wu",
        "colab": {
          "base_uri": "https://localhost:8080/",
          "height": 204
        },
        "outputId": "d9c86aa2-c2b8-4a3b-a860-308707bd9fa5"
      },
      "source": [
        "# mostre as 5 primeiras linhas das colunas player_name, position and nationality\n",
        "fut_players[['player_name','position','nationality']].head()"
      ],
      "execution_count": null,
      "outputs": [
        {
          "output_type": "execute_result",
          "data": {
            "text/html": [
              "<div>\n",
              "<style scoped>\n",
              "    .dataframe tbody tr th:only-of-type {\n",
              "        vertical-align: middle;\n",
              "    }\n",
              "\n",
              "    .dataframe tbody tr th {\n",
              "        vertical-align: top;\n",
              "    }\n",
              "\n",
              "    .dataframe thead th {\n",
              "        text-align: right;\n",
              "    }\n",
              "</style>\n",
              "<table border=\"1\" class=\"dataframe\">\n",
              "  <thead>\n",
              "    <tr style=\"text-align: right;\">\n",
              "      <th></th>\n",
              "      <th>player_name</th>\n",
              "      <th>position</th>\n",
              "      <th>nationality</th>\n",
              "    </tr>\n",
              "  </thead>\n",
              "  <tbody>\n",
              "    <tr>\n",
              "      <th>0</th>\n",
              "      <td>Pelé</td>\n",
              "      <td>CAM</td>\n",
              "      <td>Brazil</td>\n",
              "    </tr>\n",
              "    <tr>\n",
              "      <th>1</th>\n",
              "      <td>Maradona</td>\n",
              "      <td>CAM</td>\n",
              "      <td>Argentina</td>\n",
              "    </tr>\n",
              "    <tr>\n",
              "      <th>2</th>\n",
              "      <td>Ronaldo</td>\n",
              "      <td>ST</td>\n",
              "      <td>Brazil</td>\n",
              "    </tr>\n",
              "    <tr>\n",
              "      <th>3</th>\n",
              "      <td>Pelé</td>\n",
              "      <td>CF</td>\n",
              "      <td>Brazil</td>\n",
              "    </tr>\n",
              "    <tr>\n",
              "      <th>4</th>\n",
              "      <td>Maradona</td>\n",
              "      <td>CAM</td>\n",
              "      <td>Argentina</td>\n",
              "    </tr>\n",
              "  </tbody>\n",
              "</table>\n",
              "</div>"
            ],
            "text/plain": [
              "  player_name position nationality\n",
              "0        Pelé      CAM      Brazil\n",
              "1    Maradona      CAM   Argentina\n",
              "2     Ronaldo       ST      Brazil\n",
              "3        Pelé       CF      Brazil\n",
              "4    Maradona      CAM   Argentina"
            ]
          },
          "metadata": {
            "tags": []
          },
          "execution_count": 39
        }
      ]
    },
    {
      "cell_type": "code",
      "metadata": {
        "id": "aukfkphDI7Wx",
        "colab": {
          "base_uri": "https://localhost:8080/"
        },
        "outputId": "ae3b12eb-bb07-42ba-8bae-828152ce04a3"
      },
      "source": [
        "#renomeie as colunas player_id, player_name and player_extended_name para id, name and extended_name, respectivamente\n",
        "fut_players.rename(\n",
        "    columns={'player_id':'id', 'player_name': 'name', 'player_extended_name': 'extended_name'},\n",
        "    inplace=True\n",
        ")\n",
        "\n",
        "fut_players.info()"
      ],
      "execution_count": null,
      "outputs": [
        {
          "output_type": "stream",
          "text": [
            "<class 'pandas.core.frame.DataFrame'>\n",
            "RangeIndex: 18831 entries, 0 to 18830\n",
            "Data columns (total 82 columns):\n",
            " #   Column             Non-Null Count  Dtype  \n",
            "---  ------             --------------  -----  \n",
            " 0   id                 18831 non-null  int64  \n",
            " 1   name               18831 non-null  object \n",
            " 2   extended_name      18831 non-null  object \n",
            " 3   quality            18831 non-null  object \n",
            " 4   revision           18826 non-null  object \n",
            " 5   origin             2478 non-null   object \n",
            " 6   overall            18831 non-null  int64  \n",
            " 7   club               18831 non-null  object \n",
            " 8   league             18831 non-null  object \n",
            " 9   nationality        18831 non-null  object \n",
            " 10  position           18831 non-null  object \n",
            " 11  age                18831 non-null  int64  \n",
            " 12  date_of_birth      18831 non-null  object \n",
            " 13  height             18831 non-null  int64  \n",
            " 14  weight             18831 non-null  int64  \n",
            " 15  intl_rep           18831 non-null  int64  \n",
            " 16  added_date         18831 non-null  object \n",
            " 17  pace               16882 non-null  float64\n",
            " 18  pace_acceleration  18831 non-null  int64  \n",
            " 19  pace_sprint_speed  18831 non-null  int64  \n",
            " 20  dribbling          16882 non-null  float64\n",
            " 21  drib_agility       18831 non-null  int64  \n",
            " 22  drib_balance       18831 non-null  int64  \n",
            " 23  drib_reactions     18831 non-null  int64  \n",
            " 24  drib_ball_control  18831 non-null  int64  \n",
            " 25  drib_dribbling     18831 non-null  int64  \n",
            " 26  drib_composure     18831 non-null  int64  \n",
            " 27  shooting           16882 non-null  float64\n",
            " 28  shoot_positioning  18831 non-null  int64  \n",
            " 29  shoot_finishing    18831 non-null  int64  \n",
            " 30  shoot_shot_power   18831 non-null  int64  \n",
            " 31  shoot_long_shots   18831 non-null  int64  \n",
            " 32  shoot_volleys      18831 non-null  int64  \n",
            " 33  shoot_penalties    18831 non-null  int64  \n",
            " 34  passing            16882 non-null  float64\n",
            " 35  pass_vision        18831 non-null  int64  \n",
            " 36  pass_crossing      18831 non-null  int64  \n",
            " 37  pass_free_kick     18831 non-null  int64  \n",
            " 38  pass_short         18831 non-null  int64  \n",
            " 39  pass_long          18831 non-null  int64  \n",
            " 40  pass_curve         18831 non-null  int64  \n",
            " 41  defending          16882 non-null  float64\n",
            " 42  def_interceptions  18831 non-null  int64  \n",
            " 43  def_heading        18831 non-null  int64  \n",
            " 44  def_marking        18831 non-null  int64  \n",
            " 45  def_stand_tackle   18831 non-null  int64  \n",
            " 46  def_slid_tackle    18831 non-null  int64  \n",
            " 47  physicality        16882 non-null  float64\n",
            " 48  phys_jumping       18831 non-null  int64  \n",
            " 49  phys_stamina       18831 non-null  int64  \n",
            " 50  phys_strength      18831 non-null  int64  \n",
            " 51  phys_aggression    18831 non-null  int64  \n",
            " 52  gk_diving          1949 non-null   float64\n",
            " 53  gk_reflexes        1949 non-null   float64\n",
            " 54  gk_handling        1949 non-null   float64\n",
            " 55  gk_speed           1949 non-null   float64\n",
            " 56  gk_kicking         1949 non-null   float64\n",
            " 57  gk_positoning      1949 non-null   float64\n",
            " 58  pref_foot          18831 non-null  object \n",
            " 59  att_workrate       18831 non-null  object \n",
            " 60  def_workrate       18831 non-null  object \n",
            " 61  weak_foot          18831 non-null  int64  \n",
            " 62  skill_moves        18831 non-null  int64  \n",
            " 63  cb                 16882 non-null  float64\n",
            " 64  rb                 16882 non-null  float64\n",
            " 65  lb                 16882 non-null  float64\n",
            " 66  rwb                16882 non-null  float64\n",
            " 67  lwb                16882 non-null  float64\n",
            " 68  cdm                16882 non-null  float64\n",
            " 69  cm                 16882 non-null  float64\n",
            " 70  rm                 16882 non-null  float64\n",
            " 71  lm                 16882 non-null  float64\n",
            " 72  cam                16882 non-null  float64\n",
            " 73  cf                 16882 non-null  float64\n",
            " 74  rf                 16882 non-null  float64\n",
            " 75  lf                 16882 non-null  float64\n",
            " 76  rw                 16882 non-null  float64\n",
            " 77  lw                 16882 non-null  float64\n",
            " 78  st                 16882 non-null  float64\n",
            " 79  traits             7151 non-null   object \n",
            " 80  specialities       2380 non-null   object \n",
            " 81  base_id            18831 non-null  int64  \n",
            "dtypes: float64(28), int64(38), object(16)\n",
            "memory usage: 11.8+ MB\n"
          ],
          "name": "stdout"
        }
      ]
    },
    {
      "cell_type": "code",
      "metadata": {
        "id": "ZMmFGoPmI7Wy",
        "colab": {
          "base_uri": "https://localhost:8080/"
        },
        "outputId": "e6f50a69-9b58-4184-f9c3-8709db4bab32"
      },
      "source": [
        "#imprima a coluna extended_name do 4534º jogador usando loc e iloc\n",
        "print(fut_players.iloc[4533,2])\n",
        "print(fut_players.loc[4533,'extended_name'])"
      ],
      "execution_count": null,
      "outputs": [
        {
          "output_type": "stream",
          "text": [
            "Sandro Sirigu\n",
            "Sandro Sirigu\n"
          ],
          "name": "stdout"
        }
      ]
    },
    {
      "cell_type": "code",
      "metadata": {
        "id": "vxQnswwwI7W0",
        "colab": {
          "base_uri": "https://localhost:8080/"
        },
        "outputId": "ed1a39fb-1e2b-4b91-b3c8-753684caf262"
      },
      "source": [
        "#nosso DataFrame tem muitas colunas\n",
        "#crie outro DataFrame (fut_players_2) apenas com as colunas na lista abaixo\n",
        "selected_columns = ['id', 'name', 'overall', 'nationality', 'position', 'pref_foot', 'base_id']\n",
        "\n",
        "fut_players_2 = fut_players[selected_columns]\n",
        "\n",
        "fut_players_2.info()"
      ],
      "execution_count": null,
      "outputs": [
        {
          "output_type": "stream",
          "text": [
            "<class 'pandas.core.frame.DataFrame'>\n",
            "RangeIndex: 18831 entries, 0 to 18830\n",
            "Data columns (total 7 columns):\n",
            " #   Column       Non-Null Count  Dtype \n",
            "---  ------       --------------  ----- \n",
            " 0   id           18831 non-null  int64 \n",
            " 1   name         18831 non-null  object\n",
            " 2   overall      18831 non-null  int64 \n",
            " 3   nationality  18831 non-null  object\n",
            " 4   position     18831 non-null  object\n",
            " 5   pref_foot    18831 non-null  object\n",
            " 6   base_id      18831 non-null  int64 \n",
            "dtypes: int64(3), object(4)\n",
            "memory usage: 1.0+ MB\n"
          ],
          "name": "stdout"
        }
      ]
    },
    {
      "cell_type": "code",
      "metadata": {
        "id": "P9qX4qAmI7W2",
        "colab": {
          "base_uri": "https://localhost:8080/",
          "height": 514
        },
        "outputId": "39200db2-1881-409f-d5e1-1963ffce578f"
      },
      "source": [
        "#queremos ver os melhores jogadores nascidos no Brasil (Brazil), isto é, aqueles com médio (overall) acima de 90\n",
        "#mostre os 15 primeiros\n",
        "aux_1 = fut_players_2[(fut_players.overall > 90)&(fut_players.nationality=='Brazil')] #.drop_duplicates(subset=['name']) Para retirar elementos repetidos\n",
        "aux_1.head(n=15)"
      ],
      "execution_count": null,
      "outputs": [
        {
          "output_type": "execute_result",
          "data": {
            "text/html": [
              "<div>\n",
              "<style scoped>\n",
              "    .dataframe tbody tr th:only-of-type {\n",
              "        vertical-align: middle;\n",
              "    }\n",
              "\n",
              "    .dataframe tbody tr th {\n",
              "        vertical-align: top;\n",
              "    }\n",
              "\n",
              "    .dataframe thead th {\n",
              "        text-align: right;\n",
              "    }\n",
              "</style>\n",
              "<table border=\"1\" class=\"dataframe\">\n",
              "  <thead>\n",
              "    <tr style=\"text-align: right;\">\n",
              "      <th></th>\n",
              "      <th>id</th>\n",
              "      <th>name</th>\n",
              "      <th>overall</th>\n",
              "      <th>nationality</th>\n",
              "      <th>position</th>\n",
              "      <th>pref_foot</th>\n",
              "      <th>base_id</th>\n",
              "    </tr>\n",
              "  </thead>\n",
              "  <tbody>\n",
              "    <tr>\n",
              "      <th>0</th>\n",
              "      <td>1</td>\n",
              "      <td>Pelé</td>\n",
              "      <td>98</td>\n",
              "      <td>Brazil</td>\n",
              "      <td>CAM</td>\n",
              "      <td>Right</td>\n",
              "      <td>237067</td>\n",
              "    </tr>\n",
              "    <tr>\n",
              "      <th>2</th>\n",
              "      <td>3</td>\n",
              "      <td>Ronaldo</td>\n",
              "      <td>96</td>\n",
              "      <td>Brazil</td>\n",
              "      <td>ST</td>\n",
              "      <td>Right</td>\n",
              "      <td>37576</td>\n",
              "    </tr>\n",
              "    <tr>\n",
              "      <th>3</th>\n",
              "      <td>4</td>\n",
              "      <td>Pelé</td>\n",
              "      <td>95</td>\n",
              "      <td>Brazil</td>\n",
              "      <td>CF</td>\n",
              "      <td>Right</td>\n",
              "      <td>237068</td>\n",
              "    </tr>\n",
              "    <tr>\n",
              "      <th>6</th>\n",
              "      <td>7</td>\n",
              "      <td>Ronaldo</td>\n",
              "      <td>94</td>\n",
              "      <td>Brazil</td>\n",
              "      <td>ST</td>\n",
              "      <td>Right</td>\n",
              "      <td>237064</td>\n",
              "    </tr>\n",
              "    <tr>\n",
              "      <th>8</th>\n",
              "      <td>9</td>\n",
              "      <td>Ronaldinho</td>\n",
              "      <td>94</td>\n",
              "      <td>Brazil</td>\n",
              "      <td>LW</td>\n",
              "      <td>Right</td>\n",
              "      <td>28130</td>\n",
              "    </tr>\n",
              "    <tr>\n",
              "      <th>37</th>\n",
              "      <td>38</td>\n",
              "      <td>Ronaldinho</td>\n",
              "      <td>91</td>\n",
              "      <td>Brazil</td>\n",
              "      <td>CAM</td>\n",
              "      <td>Right</td>\n",
              "      <td>238395</td>\n",
              "    </tr>\n",
              "    <tr>\n",
              "      <th>48</th>\n",
              "      <td>49</td>\n",
              "      <td>Pelé</td>\n",
              "      <td>91</td>\n",
              "      <td>Brazil</td>\n",
              "      <td>CF</td>\n",
              "      <td>Right</td>\n",
              "      <td>190043</td>\n",
              "    </tr>\n",
              "    <tr>\n",
              "      <th>51</th>\n",
              "      <td>52</td>\n",
              "      <td>Carlos</td>\n",
              "      <td>91</td>\n",
              "      <td>Brazil</td>\n",
              "      <td>LB</td>\n",
              "      <td>Left</td>\n",
              "      <td>238430</td>\n",
              "    </tr>\n",
              "    <tr>\n",
              "      <th>826</th>\n",
              "      <td>846</td>\n",
              "      <td>Neymar Jr</td>\n",
              "      <td>92</td>\n",
              "      <td>Brazil</td>\n",
              "      <td>LW</td>\n",
              "      <td>Right</td>\n",
              "      <td>190871</td>\n",
              "    </tr>\n",
              "    <tr>\n",
              "      <th>12632</th>\n",
              "      <td>13091</td>\n",
              "      <td>Rivaldo</td>\n",
              "      <td>92</td>\n",
              "      <td>Brazil</td>\n",
              "      <td>LW</td>\n",
              "      <td>Left</td>\n",
              "      <td>4231</td>\n",
              "    </tr>\n",
              "    <tr>\n",
              "      <th>12637</th>\n",
              "      <td>13096</td>\n",
              "      <td>Sócrates</td>\n",
              "      <td>91</td>\n",
              "      <td>Brazil</td>\n",
              "      <td>CAM</td>\n",
              "      <td>Right</td>\n",
              "      <td>190046</td>\n",
              "    </tr>\n",
              "    <tr>\n",
              "      <th>16491</th>\n",
              "      <td>16951</td>\n",
              "      <td>Neymar Jr</td>\n",
              "      <td>93</td>\n",
              "      <td>Brazil</td>\n",
              "      <td>LW</td>\n",
              "      <td>Right</td>\n",
              "      <td>190871</td>\n",
              "    </tr>\n",
              "    <tr>\n",
              "      <th>16551</th>\n",
              "      <td>17014</td>\n",
              "      <td>Neymar Jr</td>\n",
              "      <td>93</td>\n",
              "      <td>Brazil</td>\n",
              "      <td>LF</td>\n",
              "      <td>Right</td>\n",
              "      <td>190871</td>\n",
              "    </tr>\n",
              "    <tr>\n",
              "      <th>16923</th>\n",
              "      <td>17388</td>\n",
              "      <td>Neymar Jr</td>\n",
              "      <td>94</td>\n",
              "      <td>Brazil</td>\n",
              "      <td>CAM</td>\n",
              "      <td>Right</td>\n",
              "      <td>190871</td>\n",
              "    </tr>\n",
              "    <tr>\n",
              "      <th>17139</th>\n",
              "      <td>17604</td>\n",
              "      <td>Marcelo</td>\n",
              "      <td>94</td>\n",
              "      <td>Brazil</td>\n",
              "      <td>LB</td>\n",
              "      <td>Left</td>\n",
              "      <td>176676</td>\n",
              "    </tr>\n",
              "  </tbody>\n",
              "</table>\n",
              "</div>"
            ],
            "text/plain": [
              "          id        name  overall nationality position pref_foot  base_id\n",
              "0          1        Pelé       98      Brazil      CAM     Right   237067\n",
              "2          3     Ronaldo       96      Brazil       ST     Right    37576\n",
              "3          4        Pelé       95      Brazil       CF     Right   237068\n",
              "6          7     Ronaldo       94      Brazil       ST     Right   237064\n",
              "8          9  Ronaldinho       94      Brazil       LW     Right    28130\n",
              "37        38  Ronaldinho       91      Brazil      CAM     Right   238395\n",
              "48        49        Pelé       91      Brazil       CF     Right   190043\n",
              "51        52      Carlos       91      Brazil       LB      Left   238430\n",
              "826      846   Neymar Jr       92      Brazil       LW     Right   190871\n",
              "12632  13091     Rivaldo       92      Brazil       LW      Left     4231\n",
              "12637  13096    Sócrates       91      Brazil      CAM     Right   190046\n",
              "16491  16951   Neymar Jr       93      Brazil       LW     Right   190871\n",
              "16551  17014   Neymar Jr       93      Brazil       LF     Right   190871\n",
              "16923  17388   Neymar Jr       94      Brazil      CAM     Right   190871\n",
              "17139  17604     Marcelo       94      Brazil       LB      Left   176676"
            ]
          },
          "metadata": {
            "tags": []
          },
          "execution_count": 48
        }
      ]
    },
    {
      "cell_type": "code",
      "metadata": {
        "id": "mlSiit9ZI7W5",
        "colab": {
          "base_uri": "https://localhost:8080/",
          "height": 204
        },
        "outputId": "7d0cbd7a-881a-4c45-ab11-aa1e91895abb"
      },
      "source": [
        "#vários jogadores bons!\n",
        "#agora mostre os jogadores brasileiros que sejam canhotos (pref_foot é Left) ou que sejam goleiros (position é GK)\n",
        "aux_2 = fut_players_2[(fut_players.nationality=='Brazil')&(fut_players.pref_foot=='Left')&(fut_players.position=='GK')]\n",
        "aux_2.head(20)"
      ],
      "execution_count": null,
      "outputs": [
        {
          "output_type": "execute_result",
          "data": {
            "text/html": [
              "<div>\n",
              "<style scoped>\n",
              "    .dataframe tbody tr th:only-of-type {\n",
              "        vertical-align: middle;\n",
              "    }\n",
              "\n",
              "    .dataframe tbody tr th {\n",
              "        vertical-align: top;\n",
              "    }\n",
              "\n",
              "    .dataframe thead th {\n",
              "        text-align: right;\n",
              "    }\n",
              "</style>\n",
              "<table border=\"1\" class=\"dataframe\">\n",
              "  <thead>\n",
              "    <tr style=\"text-align: right;\">\n",
              "      <th></th>\n",
              "      <th>id</th>\n",
              "      <th>name</th>\n",
              "      <th>overall</th>\n",
              "      <th>nationality</th>\n",
              "      <th>position</th>\n",
              "      <th>pref_foot</th>\n",
              "      <th>base_id</th>\n",
              "    </tr>\n",
              "  </thead>\n",
              "  <tbody>\n",
              "    <tr>\n",
              "      <th>292</th>\n",
              "      <td>298</td>\n",
              "      <td>Ederson</td>\n",
              "      <td>87</td>\n",
              "      <td>Brazil</td>\n",
              "      <td>GK</td>\n",
              "      <td>Left</td>\n",
              "      <td>210257</td>\n",
              "    </tr>\n",
              "    <tr>\n",
              "      <th>296</th>\n",
              "      <td>302</td>\n",
              "      <td>Ederson</td>\n",
              "      <td>86</td>\n",
              "      <td>Brazil</td>\n",
              "      <td>GK</td>\n",
              "      <td>Left</td>\n",
              "      <td>210257</td>\n",
              "    </tr>\n",
              "    <tr>\n",
              "      <th>3278</th>\n",
              "      <td>3374</td>\n",
              "      <td>Rafael</td>\n",
              "      <td>75</td>\n",
              "      <td>Brazil</td>\n",
              "      <td>GK</td>\n",
              "      <td>Left</td>\n",
              "      <td>140082</td>\n",
              "    </tr>\n",
              "    <tr>\n",
              "      <th>14966</th>\n",
              "      <td>15425</td>\n",
              "      <td>Daniel Fuzato</td>\n",
              "      <td>66</td>\n",
              "      <td>Brazil</td>\n",
              "      <td>GK</td>\n",
              "      <td>Left</td>\n",
              "      <td>244363</td>\n",
              "    </tr>\n",
              "    <tr>\n",
              "      <th>16566</th>\n",
              "      <td>17030</td>\n",
              "      <td>Daniel Fuzato</td>\n",
              "      <td>66</td>\n",
              "      <td>Brazil</td>\n",
              "      <td>GK</td>\n",
              "      <td>Left</td>\n",
              "      <td>244363</td>\n",
              "    </tr>\n",
              "  </tbody>\n",
              "</table>\n",
              "</div>"
            ],
            "text/plain": [
              "          id           name  overall nationality position pref_foot  base_id\n",
              "292      298        Ederson       87      Brazil       GK      Left   210257\n",
              "296      302        Ederson       86      Brazil       GK      Left   210257\n",
              "3278    3374         Rafael       75      Brazil       GK      Left   140082\n",
              "14966  15425  Daniel Fuzato       66      Brazil       GK      Left   244363\n",
              "16566  17030  Daniel Fuzato       66      Brazil       GK      Left   244363"
            ]
          },
          "metadata": {
            "tags": []
          },
          "execution_count": 49
        }
      ]
    },
    {
      "cell_type": "markdown",
      "metadata": {
        "id": "MOgvn0beI7W7"
      },
      "source": [
        "### 3.4 Juntando DataFrames\n",
        "\n",
        "É muito comum ter a necessidade de juntar *DataFrames* diferentes. Se você já utilizou SQL ou qualquer outro banco de dados relacional, deve conhecer isso como *join*. O Pandas também tem a mesma função utilizando o método *.merge()*. Antes do exemplo, vamos relembrar os tipos de *joins* mais comuns:<br>\n",
        "![Joining Methods](https://arquivo.devmedia.com.br/artigos/Fernanda_sallai/sql_join/image001.jpg) <br>\n",
        "Agora, vamos testar os *merge* nos *DataFrames* filtrados que criamos anteriormente:"
      ]
    },
    {
      "cell_type": "code",
      "metadata": {
        "id": "WFNPyF1tI7W7",
        "colab": {
          "base_uri": "https://localhost:8080/"
        },
        "outputId": "74ee7dcc-afe5-41a4-9fe9-a0be6c08668c"
      },
      "source": [
        "all_stats = pd.merge(\n",
        "    offensive_stats, #o DataDrame da esquerda\n",
        "    defensive_stats, #o DataDrame da direita\n",
        "    how='inner', #o tipo de join que queremos fazer\n",
        "    on=['#','Name']) #baseado em quais valores em comum\n",
        "all_stats.info()"
      ],
      "execution_count": null,
      "outputs": [
        {
          "output_type": "stream",
          "text": [
            "<class 'pandas.core.frame.DataFrame'>\n",
            "Int64Index: 800 entries, 0 to 799\n",
            "Data columns (total 8 columns):\n",
            " #   Column   Non-Null Count  Dtype \n",
            "---  ------   --------------  ----- \n",
            " 0   #        800 non-null    int64 \n",
            " 1   Name     800 non-null    object\n",
            " 2   Attack   800 non-null    int64 \n",
            " 3   Sp_Atk   800 non-null    int64 \n",
            " 4   Speed    800 non-null    int64 \n",
            " 5   HP       800 non-null    int64 \n",
            " 6   Defense  800 non-null    int64 \n",
            " 7   Sp_Def   800 non-null    int64 \n",
            "dtypes: int64(7), object(1)\n",
            "memory usage: 56.2+ KB\n"
          ],
          "name": "stdout"
        }
      ]
    },
    {
      "cell_type": "markdown",
      "metadata": {
        "id": "UkN4R245I7W9"
      },
      "source": [
        "Ótimo! Conseguimos fazer o *merge* (termo mais utilizado no Pandas) de dois *DataDrames*. Lembre-se que *inner*, *left*, *right* e *outer* terão resultados diferentes:"
      ]
    },
    {
      "cell_type": "code",
      "metadata": {
        "id": "Ld4uXURbI7W9",
        "colab": {
          "base_uri": "https://localhost:8080/"
        },
        "outputId": "7486bc55-a11f-4873-dc48-9568da9288ff"
      },
      "source": [
        "fire_pkmn.info()"
      ],
      "execution_count": null,
      "outputs": [
        {
          "output_type": "stream",
          "text": [
            "<class 'pandas.core.frame.DataFrame'>\n",
            "Int64Index: 64 entries, 4 to 799\n",
            "Data columns (total 13 columns):\n",
            " #   Column      Non-Null Count  Dtype \n",
            "---  ------      --------------  ----- \n",
            " 0   #           64 non-null     int64 \n",
            " 1   Name        64 non-null     object\n",
            " 2   Type_1      64 non-null     object\n",
            " 3   Type_2      36 non-null     object\n",
            " 4   Total       64 non-null     int64 \n",
            " 5   HP          64 non-null     int64 \n",
            " 6   Attack      64 non-null     int64 \n",
            " 7   Defense     64 non-null     int64 \n",
            " 8   Sp_Atk      64 non-null     int64 \n",
            " 9   Sp_Def      64 non-null     int64 \n",
            " 10  Speed       64 non-null     int64 \n",
            " 11  Generation  64 non-null     int64 \n",
            " 12  Legendary   64 non-null     bool  \n",
            "dtypes: bool(1), int64(9), object(3)\n",
            "memory usage: 6.6+ KB\n"
          ],
          "name": "stdout"
        }
      ]
    },
    {
      "cell_type": "code",
      "metadata": {
        "id": "Muh-f8YSI7XA",
        "colab": {
          "base_uri": "https://localhost:8080/"
        },
        "outputId": "82c53eb2-1262-49a7-d104-beee26be2980"
      },
      "source": [
        "water_pkmn.info()"
      ],
      "execution_count": null,
      "outputs": [
        {
          "output_type": "stream",
          "text": [
            "<class 'pandas.core.frame.DataFrame'>\n",
            "Int64Index: 126 entries, 9 to 799\n",
            "Data columns (total 13 columns):\n",
            " #   Column      Non-Null Count  Dtype \n",
            "---  ------      --------------  ----- \n",
            " 0   #           126 non-null    int64 \n",
            " 1   Name        126 non-null    object\n",
            " 2   Type_1      126 non-null    object\n",
            " 3   Type_2      67 non-null     object\n",
            " 4   Total       126 non-null    int64 \n",
            " 5   HP          126 non-null    int64 \n",
            " 6   Attack      126 non-null    int64 \n",
            " 7   Defense     126 non-null    int64 \n",
            " 8   Sp_Atk      126 non-null    int64 \n",
            " 9   Sp_Def      126 non-null    int64 \n",
            " 10  Speed       126 non-null    int64 \n",
            " 11  Generation  126 non-null    int64 \n",
            " 12  Legendary   126 non-null    bool  \n",
            "dtypes: bool(1), int64(9), object(3)\n",
            "memory usage: 12.9+ KB\n"
          ],
          "name": "stdout"
        }
      ]
    },
    {
      "cell_type": "code",
      "metadata": {
        "id": "n6TsQX-9I7XC",
        "colab": {
          "base_uri": "https://localhost:8080/"
        },
        "outputId": "ca8849e5-941a-48c7-a7c1-4549421c8f43"
      },
      "source": [
        "left_fire_water = pd.merge(fire_pkmn, water_pkmn, how='left', on=['#','Name'])\n",
        "left_fire_water.info()"
      ],
      "execution_count": null,
      "outputs": [
        {
          "output_type": "stream",
          "text": [
            "<class 'pandas.core.frame.DataFrame'>\n",
            "Int64Index: 64 entries, 0 to 63\n",
            "Data columns (total 24 columns):\n",
            " #   Column        Non-Null Count  Dtype  \n",
            "---  ------        --------------  -----  \n",
            " 0   #             64 non-null     int64  \n",
            " 1   Name          64 non-null     object \n",
            " 2   Type_1_x      64 non-null     object \n",
            " 3   Type_2_x      36 non-null     object \n",
            " 4   Total_x       64 non-null     int64  \n",
            " 5   HP_x          64 non-null     int64  \n",
            " 6   Attack_x      64 non-null     int64  \n",
            " 7   Defense_x     64 non-null     int64  \n",
            " 8   Sp_Atk_x      64 non-null     int64  \n",
            " 9   Sp_Def_x      64 non-null     int64  \n",
            " 10  Speed_x       64 non-null     int64  \n",
            " 11  Generation_x  64 non-null     int64  \n",
            " 12  Legendary_x   64 non-null     bool   \n",
            " 13  Type_1_y      1 non-null      object \n",
            " 14  Type_2_y      1 non-null      object \n",
            " 15  Total_y       1 non-null      float64\n",
            " 16  HP_y          1 non-null      float64\n",
            " 17  Attack_y      1 non-null      float64\n",
            " 18  Defense_y     1 non-null      float64\n",
            " 19  Sp_Atk_y      1 non-null      float64\n",
            " 20  Sp_Def_y      1 non-null      float64\n",
            " 21  Speed_y       1 non-null      float64\n",
            " 22  Generation_y  1 non-null      float64\n",
            " 23  Legendary_y   1 non-null      object \n",
            "dtypes: bool(1), float64(8), int64(9), object(6)\n",
            "memory usage: 12.1+ KB\n"
          ],
          "name": "stdout"
        }
      ]
    },
    {
      "cell_type": "code",
      "metadata": {
        "id": "8s6GHNt9I7XD",
        "colab": {
          "base_uri": "https://localhost:8080/"
        },
        "outputId": "4d7e9eea-e104-4af8-e0cb-4389e55cde66"
      },
      "source": [
        "right_fire_water = pd.merge(fire_pkmn, water_pkmn, how='right', on=['#','Name'])\n",
        "right_fire_water.info()"
      ],
      "execution_count": null,
      "outputs": [
        {
          "output_type": "stream",
          "text": [
            "<class 'pandas.core.frame.DataFrame'>\n",
            "Int64Index: 126 entries, 0 to 125\n",
            "Data columns (total 24 columns):\n",
            " #   Column        Non-Null Count  Dtype  \n",
            "---  ------        --------------  -----  \n",
            " 0   #             126 non-null    int64  \n",
            " 1   Name          126 non-null    object \n",
            " 2   Type_1_x      1 non-null      object \n",
            " 3   Type_2_x      1 non-null      object \n",
            " 4   Total_x       1 non-null      float64\n",
            " 5   HP_x          1 non-null      float64\n",
            " 6   Attack_x      1 non-null      float64\n",
            " 7   Defense_x     1 non-null      float64\n",
            " 8   Sp_Atk_x      1 non-null      float64\n",
            " 9   Sp_Def_x      1 non-null      float64\n",
            " 10  Speed_x       1 non-null      float64\n",
            " 11  Generation_x  1 non-null      float64\n",
            " 12  Legendary_x   1 non-null      object \n",
            " 13  Type_1_y      126 non-null    object \n",
            " 14  Type_2_y      67 non-null     object \n",
            " 15  Total_y       126 non-null    int64  \n",
            " 16  HP_y          126 non-null    int64  \n",
            " 17  Attack_y      126 non-null    int64  \n",
            " 18  Defense_y     126 non-null    int64  \n",
            " 19  Sp_Atk_y      126 non-null    int64  \n",
            " 20  Sp_Def_y      126 non-null    int64  \n",
            " 21  Speed_y       126 non-null    int64  \n",
            " 22  Generation_y  126 non-null    int64  \n",
            " 23  Legendary_y   126 non-null    bool   \n",
            "dtypes: bool(1), float64(8), int64(9), object(6)\n",
            "memory usage: 23.7+ KB\n"
          ],
          "name": "stdout"
        }
      ]
    },
    {
      "cell_type": "code",
      "metadata": {
        "id": "ut5OGXwLI7XF",
        "colab": {
          "base_uri": "https://localhost:8080/"
        },
        "outputId": "1c984780-87d7-42ff-b9a1-6be900a36402"
      },
      "source": [
        "inner_fire_water = pd.merge(fire_pkmn, water_pkmn, how='inner', on=['#','Name'])\n",
        "inner_fire_water.info()"
      ],
      "execution_count": null,
      "outputs": [
        {
          "output_type": "stream",
          "text": [
            "<class 'pandas.core.frame.DataFrame'>\n",
            "Int64Index: 1 entries, 0 to 0\n",
            "Data columns (total 24 columns):\n",
            " #   Column        Non-Null Count  Dtype \n",
            "---  ------        --------------  ----- \n",
            " 0   #             1 non-null      int64 \n",
            " 1   Name          1 non-null      object\n",
            " 2   Type_1_x      1 non-null      object\n",
            " 3   Type_2_x      1 non-null      object\n",
            " 4   Total_x       1 non-null      int64 \n",
            " 5   HP_x          1 non-null      int64 \n",
            " 6   Attack_x      1 non-null      int64 \n",
            " 7   Defense_x     1 non-null      int64 \n",
            " 8   Sp_Atk_x      1 non-null      int64 \n",
            " 9   Sp_Def_x      1 non-null      int64 \n",
            " 10  Speed_x       1 non-null      int64 \n",
            " 11  Generation_x  1 non-null      int64 \n",
            " 12  Legendary_x   1 non-null      bool  \n",
            " 13  Type_1_y      1 non-null      object\n",
            " 14  Type_2_y      1 non-null      object\n",
            " 15  Total_y       1 non-null      int64 \n",
            " 16  HP_y          1 non-null      int64 \n",
            " 17  Attack_y      1 non-null      int64 \n",
            " 18  Defense_y     1 non-null      int64 \n",
            " 19  Sp_Atk_y      1 non-null      int64 \n",
            " 20  Sp_Def_y      1 non-null      int64 \n",
            " 21  Speed_y       1 non-null      int64 \n",
            " 22  Generation_y  1 non-null      int64 \n",
            " 23  Legendary_y   1 non-null      bool  \n",
            "dtypes: bool(2), int64(17), object(5)\n",
            "memory usage: 186.0+ bytes\n"
          ],
          "name": "stdout"
        }
      ]
    },
    {
      "cell_type": "markdown",
      "metadata": {
        "id": "E0MjzO2AI7XH"
      },
      "source": [
        "Como podemos ver, os resultados são de fato bem diferentes.<br>\n",
        "Podemos também querer apenas concatenar dois *DataDrames*, isto é, juntá-los colocando um abaixo ou ao lado do outro. Para isso, utilizamos o método *.concat()*:"
      ]
    },
    {
      "cell_type": "code",
      "metadata": {
        "id": "aju5mU6hI7XH",
        "colab": {
          "base_uri": "https://localhost:8080/"
        },
        "outputId": "b35bd477-9f18-4a9d-f1ea-aeaf757cf31e"
      },
      "source": [
        "fire_and_water = pd.concat([fire_pkmn, water_pkmn], ignore_index=True)\n",
        "fire_and_water.info()"
      ],
      "execution_count": null,
      "outputs": [
        {
          "output_type": "stream",
          "text": [
            "<class 'pandas.core.frame.DataFrame'>\n",
            "RangeIndex: 190 entries, 0 to 189\n",
            "Data columns (total 13 columns):\n",
            " #   Column      Non-Null Count  Dtype \n",
            "---  ------      --------------  ----- \n",
            " 0   #           190 non-null    int64 \n",
            " 1   Name        190 non-null    object\n",
            " 2   Type_1      190 non-null    object\n",
            " 3   Type_2      103 non-null    object\n",
            " 4   Total       190 non-null    int64 \n",
            " 5   HP          190 non-null    int64 \n",
            " 6   Attack      190 non-null    int64 \n",
            " 7   Defense     190 non-null    int64 \n",
            " 8   Sp_Atk      190 non-null    int64 \n",
            " 9   Sp_Def      190 non-null    int64 \n",
            " 10  Speed       190 non-null    int64 \n",
            " 11  Generation  190 non-null    int64 \n",
            " 12  Legendary   190 non-null    bool  \n",
            "dtypes: bool(1), int64(9), object(3)\n",
            "memory usage: 18.1+ KB\n"
          ],
          "name": "stdout"
        }
      ]
    },
    {
      "cell_type": "markdown",
      "metadata": {
        "id": "qIZ2uxCfI7XI"
      },
      "source": [
        "Acima fizemos a concatenação vertical. Vamos fazer a horizontal abaixo:"
      ]
    },
    {
      "cell_type": "code",
      "metadata": {
        "id": "i8rmU8ZBI7XJ",
        "colab": {
          "base_uri": "https://localhost:8080/",
          "height": 204
        },
        "outputId": "e6083750-2881-4778-dd90-16a8d2160484"
      },
      "source": [
        "atk_and_defense = pd.concat([offensive_stats, defensive_stats], axis=1)\n",
        "atk_and_defense.head()"
      ],
      "execution_count": null,
      "outputs": [
        {
          "output_type": "execute_result",
          "data": {
            "text/html": [
              "<div>\n",
              "<style scoped>\n",
              "    .dataframe tbody tr th:only-of-type {\n",
              "        vertical-align: middle;\n",
              "    }\n",
              "\n",
              "    .dataframe tbody tr th {\n",
              "        vertical-align: top;\n",
              "    }\n",
              "\n",
              "    .dataframe thead th {\n",
              "        text-align: right;\n",
              "    }\n",
              "</style>\n",
              "<table border=\"1\" class=\"dataframe\">\n",
              "  <thead>\n",
              "    <tr style=\"text-align: right;\">\n",
              "      <th></th>\n",
              "      <th>#</th>\n",
              "      <th>Name</th>\n",
              "      <th>Attack</th>\n",
              "      <th>Sp_Atk</th>\n",
              "      <th>Speed</th>\n",
              "      <th>#</th>\n",
              "      <th>Name</th>\n",
              "      <th>HP</th>\n",
              "      <th>Defense</th>\n",
              "      <th>Sp_Def</th>\n",
              "    </tr>\n",
              "  </thead>\n",
              "  <tbody>\n",
              "    <tr>\n",
              "      <th>0</th>\n",
              "      <td>1</td>\n",
              "      <td>Bulbasaur</td>\n",
              "      <td>49</td>\n",
              "      <td>65</td>\n",
              "      <td>45</td>\n",
              "      <td>1</td>\n",
              "      <td>Bulbasaur</td>\n",
              "      <td>45</td>\n",
              "      <td>49</td>\n",
              "      <td>65</td>\n",
              "    </tr>\n",
              "    <tr>\n",
              "      <th>1</th>\n",
              "      <td>2</td>\n",
              "      <td>Ivysaur</td>\n",
              "      <td>62</td>\n",
              "      <td>80</td>\n",
              "      <td>60</td>\n",
              "      <td>2</td>\n",
              "      <td>Ivysaur</td>\n",
              "      <td>60</td>\n",
              "      <td>63</td>\n",
              "      <td>80</td>\n",
              "    </tr>\n",
              "    <tr>\n",
              "      <th>2</th>\n",
              "      <td>3</td>\n",
              "      <td>Venusaur</td>\n",
              "      <td>82</td>\n",
              "      <td>100</td>\n",
              "      <td>80</td>\n",
              "      <td>3</td>\n",
              "      <td>Venusaur</td>\n",
              "      <td>80</td>\n",
              "      <td>83</td>\n",
              "      <td>100</td>\n",
              "    </tr>\n",
              "    <tr>\n",
              "      <th>3</th>\n",
              "      <td>3</td>\n",
              "      <td>VenusaurMega Venusaur</td>\n",
              "      <td>100</td>\n",
              "      <td>122</td>\n",
              "      <td>80</td>\n",
              "      <td>3</td>\n",
              "      <td>VenusaurMega Venusaur</td>\n",
              "      <td>80</td>\n",
              "      <td>123</td>\n",
              "      <td>120</td>\n",
              "    </tr>\n",
              "    <tr>\n",
              "      <th>4</th>\n",
              "      <td>4</td>\n",
              "      <td>Charmander</td>\n",
              "      <td>52</td>\n",
              "      <td>60</td>\n",
              "      <td>65</td>\n",
              "      <td>4</td>\n",
              "      <td>Charmander</td>\n",
              "      <td>39</td>\n",
              "      <td>43</td>\n",
              "      <td>50</td>\n",
              "    </tr>\n",
              "  </tbody>\n",
              "</table>\n",
              "</div>"
            ],
            "text/plain": [
              "   #                   Name  Attack  ...  HP  Defense  Sp_Def\n",
              "0  1              Bulbasaur      49  ...  45       49      65\n",
              "1  2                Ivysaur      62  ...  60       63      80\n",
              "2  3               Venusaur      82  ...  80       83     100\n",
              "3  3  VenusaurMega Venusaur     100  ...  80      123     120\n",
              "4  4             Charmander      52  ...  39       43      50\n",
              "\n",
              "[5 rows x 10 columns]"
            ]
          },
          "metadata": {
            "tags": []
          },
          "execution_count": 57
        }
      ]
    },
    {
      "cell_type": "markdown",
      "metadata": {
        "id": "tzPsK8TDI7XK"
      },
      "source": [
        "#### Exercício 3.5\n",
        "Mais uma vez, substitua os \\____ de acordo com as instruções"
      ]
    },
    {
      "cell_type": "code",
      "metadata": {
        "id": "R8HLaE17I7XK",
        "colab": {
          "base_uri": "https://localhost:8080/",
          "height": 204
        },
        "outputId": "0a4b40a9-e310-4047-e197-f3b5c6eda59c"
      },
      "source": [
        "#the_best é um DataDrame dos melhores jogadores em drible (dribbling) e chute (shooting)\n",
        "the_best = fut_players[(fut_players.dribbling > 90) & (fut_players.shooting > 90)][['id', 'name', 'position', 'dribbling', 'shooting', 'overall']]\n",
        "\n",
        "#nationalities é um DataDrame da nacionalidade dos jogadores\n",
        "nationalities = fut_players[['id', 'name', 'nationality']]\n",
        "\n",
        "#faça um merge dos dois DataDrames para obter a nacionalidade dos melhores jogadores (dica: chave é o id)\n",
        "the_best_nationality = pd.merge(\n",
        "                        the_best, \n",
        "                        nationalities, \n",
        "                        how='inner', \n",
        "                        on=['id']) \n",
        "\n",
        "the_best_nationality.head()"
      ],
      "execution_count": null,
      "outputs": [
        {
          "output_type": "execute_result",
          "data": {
            "text/html": [
              "<div>\n",
              "<style scoped>\n",
              "    .dataframe tbody tr th:only-of-type {\n",
              "        vertical-align: middle;\n",
              "    }\n",
              "\n",
              "    .dataframe tbody tr th {\n",
              "        vertical-align: top;\n",
              "    }\n",
              "\n",
              "    .dataframe thead th {\n",
              "        text-align: right;\n",
              "    }\n",
              "</style>\n",
              "<table border=\"1\" class=\"dataframe\">\n",
              "  <thead>\n",
              "    <tr style=\"text-align: right;\">\n",
              "      <th></th>\n",
              "      <th>id</th>\n",
              "      <th>name_x</th>\n",
              "      <th>position</th>\n",
              "      <th>dribbling</th>\n",
              "      <th>shooting</th>\n",
              "      <th>overall</th>\n",
              "      <th>name_y</th>\n",
              "      <th>nationality</th>\n",
              "    </tr>\n",
              "  </thead>\n",
              "  <tbody>\n",
              "    <tr>\n",
              "      <th>0</th>\n",
              "      <td>1</td>\n",
              "      <td>Pelé</td>\n",
              "      <td>CAM</td>\n",
              "      <td>96.0</td>\n",
              "      <td>96.0</td>\n",
              "      <td>98</td>\n",
              "      <td>Pelé</td>\n",
              "      <td>Brazil</td>\n",
              "    </tr>\n",
              "    <tr>\n",
              "      <th>1</th>\n",
              "      <td>2</td>\n",
              "      <td>Maradona</td>\n",
              "      <td>CAM</td>\n",
              "      <td>97.0</td>\n",
              "      <td>93.0</td>\n",
              "      <td>97</td>\n",
              "      <td>Maradona</td>\n",
              "      <td>Argentina</td>\n",
              "    </tr>\n",
              "    <tr>\n",
              "      <th>2</th>\n",
              "      <td>3</td>\n",
              "      <td>Ronaldo</td>\n",
              "      <td>ST</td>\n",
              "      <td>95.0</td>\n",
              "      <td>95.0</td>\n",
              "      <td>96</td>\n",
              "      <td>Ronaldo</td>\n",
              "      <td>Brazil</td>\n",
              "    </tr>\n",
              "    <tr>\n",
              "      <th>3</th>\n",
              "      <td>4</td>\n",
              "      <td>Pelé</td>\n",
              "      <td>CF</td>\n",
              "      <td>95.0</td>\n",
              "      <td>93.0</td>\n",
              "      <td>95</td>\n",
              "      <td>Pelé</td>\n",
              "      <td>Brazil</td>\n",
              "    </tr>\n",
              "    <tr>\n",
              "      <th>4</th>\n",
              "      <td>5</td>\n",
              "      <td>Maradona</td>\n",
              "      <td>CAM</td>\n",
              "      <td>95.0</td>\n",
              "      <td>91.0</td>\n",
              "      <td>95</td>\n",
              "      <td>Maradona</td>\n",
              "      <td>Argentina</td>\n",
              "    </tr>\n",
              "  </tbody>\n",
              "</table>\n",
              "</div>"
            ],
            "text/plain": [
              "   id    name_x position  dribbling  shooting  overall    name_y nationality\n",
              "0   1      Pelé      CAM       96.0      96.0       98      Pelé      Brazil\n",
              "1   2  Maradona      CAM       97.0      93.0       97  Maradona   Argentina\n",
              "2   3   Ronaldo       ST       95.0      95.0       96   Ronaldo      Brazil\n",
              "3   4      Pelé       CF       95.0      93.0       95      Pelé      Brazil\n",
              "4   5  Maradona      CAM       95.0      91.0       95  Maradona   Argentina"
            ]
          },
          "metadata": {
            "tags": []
          },
          "execution_count": 59
        }
      ]
    },
    {
      "cell_type": "markdown",
      "metadata": {
        "id": "c8AoBG2uI7XM"
      },
      "source": [
        "### 3.5 Operações em grupo\n",
        "\n",
        "Com Pandas nós podemos aplicar operações em grupos usando o método *.groupby()*. Ele é muito útil por ser uma forma bem simples de extrair informação de dados agregados. Para utilizá-lo, passamos as colunas nas quais queremos agrupar os dados e a operação que queremos fazer. Para exemplificar, vamos ver quantos Pokémons lendários cada geração tem:"
      ]
    },
    {
      "cell_type": "code",
      "metadata": {
        "id": "9LM1LUqfI7XM",
        "colab": {
          "base_uri": "https://localhost:8080/"
        },
        "outputId": "b2b3e539-d954-4db3-f9a7-54c947722539"
      },
      "source": [
        "pkmn.groupby('Generation').Legendary.sum() #fazendo uma soma pois a coluna Legendary é boolean"
      ],
      "execution_count": null,
      "outputs": [
        {
          "output_type": "execute_result",
          "data": {
            "text/plain": [
              "Generation\n",
              "1     6\n",
              "2     5\n",
              "3    18\n",
              "4    13\n",
              "5    15\n",
              "6     8\n",
              "Name: Legendary, dtype: int64"
            ]
          },
          "metadata": {
            "tags": []
          },
          "execution_count": 60
        }
      ]
    },
    {
      "cell_type": "markdown",
      "metadata": {
        "id": "f6-GqOx3I7XO"
      },
      "source": [
        "Podemos obter um relatório da média de diversas colunas para cada tipo de Pokémon:"
      ]
    },
    {
      "cell_type": "code",
      "metadata": {
        "id": "kCOLvEygI7XO",
        "colab": {
          "base_uri": "https://localhost:8080/",
          "height": 638
        },
        "outputId": "26a3b6fb-c123-4d88-8add-ec9b41e97c5b"
      },
      "source": [
        "pkmn.groupby('Type_1')[['HP','Attack','Defense','Sp_Atk','Sp_Def','Speed']].mean()"
      ],
      "execution_count": null,
      "outputs": [
        {
          "output_type": "execute_result",
          "data": {
            "text/html": [
              "<div>\n",
              "<style scoped>\n",
              "    .dataframe tbody tr th:only-of-type {\n",
              "        vertical-align: middle;\n",
              "    }\n",
              "\n",
              "    .dataframe tbody tr th {\n",
              "        vertical-align: top;\n",
              "    }\n",
              "\n",
              "    .dataframe thead th {\n",
              "        text-align: right;\n",
              "    }\n",
              "</style>\n",
              "<table border=\"1\" class=\"dataframe\">\n",
              "  <thead>\n",
              "    <tr style=\"text-align: right;\">\n",
              "      <th></th>\n",
              "      <th>HP</th>\n",
              "      <th>Attack</th>\n",
              "      <th>Defense</th>\n",
              "      <th>Sp_Atk</th>\n",
              "      <th>Sp_Def</th>\n",
              "      <th>Speed</th>\n",
              "    </tr>\n",
              "    <tr>\n",
              "      <th>Type_1</th>\n",
              "      <th></th>\n",
              "      <th></th>\n",
              "      <th></th>\n",
              "      <th></th>\n",
              "      <th></th>\n",
              "      <th></th>\n",
              "    </tr>\n",
              "  </thead>\n",
              "  <tbody>\n",
              "    <tr>\n",
              "      <th>Bug</th>\n",
              "      <td>56.884058</td>\n",
              "      <td>70.971014</td>\n",
              "      <td>70.724638</td>\n",
              "      <td>53.869565</td>\n",
              "      <td>64.797101</td>\n",
              "      <td>61.681159</td>\n",
              "    </tr>\n",
              "    <tr>\n",
              "      <th>Dark</th>\n",
              "      <td>66.806452</td>\n",
              "      <td>88.387097</td>\n",
              "      <td>70.225806</td>\n",
              "      <td>74.645161</td>\n",
              "      <td>69.516129</td>\n",
              "      <td>76.161290</td>\n",
              "    </tr>\n",
              "    <tr>\n",
              "      <th>Dragon</th>\n",
              "      <td>83.312500</td>\n",
              "      <td>112.125000</td>\n",
              "      <td>86.375000</td>\n",
              "      <td>96.843750</td>\n",
              "      <td>88.843750</td>\n",
              "      <td>83.031250</td>\n",
              "    </tr>\n",
              "    <tr>\n",
              "      <th>Electric</th>\n",
              "      <td>59.795455</td>\n",
              "      <td>69.090909</td>\n",
              "      <td>66.295455</td>\n",
              "      <td>90.022727</td>\n",
              "      <td>73.704545</td>\n",
              "      <td>84.500000</td>\n",
              "    </tr>\n",
              "    <tr>\n",
              "      <th>Fairy</th>\n",
              "      <td>74.117647</td>\n",
              "      <td>61.529412</td>\n",
              "      <td>65.705882</td>\n",
              "      <td>78.529412</td>\n",
              "      <td>84.705882</td>\n",
              "      <td>48.588235</td>\n",
              "    </tr>\n",
              "    <tr>\n",
              "      <th>Fighting</th>\n",
              "      <td>69.851852</td>\n",
              "      <td>96.777778</td>\n",
              "      <td>65.925926</td>\n",
              "      <td>53.111111</td>\n",
              "      <td>64.703704</td>\n",
              "      <td>66.074074</td>\n",
              "    </tr>\n",
              "    <tr>\n",
              "      <th>Fire</th>\n",
              "      <td>69.903846</td>\n",
              "      <td>84.769231</td>\n",
              "      <td>67.769231</td>\n",
              "      <td>88.980769</td>\n",
              "      <td>72.211538</td>\n",
              "      <td>74.442308</td>\n",
              "    </tr>\n",
              "    <tr>\n",
              "      <th>Flying</th>\n",
              "      <td>70.750000</td>\n",
              "      <td>78.750000</td>\n",
              "      <td>66.250000</td>\n",
              "      <td>94.250000</td>\n",
              "      <td>72.500000</td>\n",
              "      <td>102.500000</td>\n",
              "    </tr>\n",
              "    <tr>\n",
              "      <th>Ghost</th>\n",
              "      <td>64.437500</td>\n",
              "      <td>73.781250</td>\n",
              "      <td>81.187500</td>\n",
              "      <td>79.343750</td>\n",
              "      <td>76.468750</td>\n",
              "      <td>64.343750</td>\n",
              "    </tr>\n",
              "    <tr>\n",
              "      <th>Grass</th>\n",
              "      <td>67.271429</td>\n",
              "      <td>73.214286</td>\n",
              "      <td>70.800000</td>\n",
              "      <td>77.500000</td>\n",
              "      <td>70.428571</td>\n",
              "      <td>61.928571</td>\n",
              "    </tr>\n",
              "    <tr>\n",
              "      <th>Ground</th>\n",
              "      <td>73.781250</td>\n",
              "      <td>95.750000</td>\n",
              "      <td>84.843750</td>\n",
              "      <td>56.468750</td>\n",
              "      <td>62.750000</td>\n",
              "      <td>63.906250</td>\n",
              "    </tr>\n",
              "    <tr>\n",
              "      <th>Ice</th>\n",
              "      <td>72.000000</td>\n",
              "      <td>72.750000</td>\n",
              "      <td>71.416667</td>\n",
              "      <td>77.541667</td>\n",
              "      <td>76.291667</td>\n",
              "      <td>63.458333</td>\n",
              "    </tr>\n",
              "    <tr>\n",
              "      <th>Normal</th>\n",
              "      <td>77.275510</td>\n",
              "      <td>73.469388</td>\n",
              "      <td>59.846939</td>\n",
              "      <td>55.816327</td>\n",
              "      <td>63.724490</td>\n",
              "      <td>71.551020</td>\n",
              "    </tr>\n",
              "    <tr>\n",
              "      <th>Poison</th>\n",
              "      <td>67.250000</td>\n",
              "      <td>74.678571</td>\n",
              "      <td>68.821429</td>\n",
              "      <td>60.428571</td>\n",
              "      <td>64.392857</td>\n",
              "      <td>63.571429</td>\n",
              "    </tr>\n",
              "    <tr>\n",
              "      <th>Psychic</th>\n",
              "      <td>70.631579</td>\n",
              "      <td>71.456140</td>\n",
              "      <td>67.684211</td>\n",
              "      <td>98.403509</td>\n",
              "      <td>86.280702</td>\n",
              "      <td>81.491228</td>\n",
              "    </tr>\n",
              "    <tr>\n",
              "      <th>Rock</th>\n",
              "      <td>65.363636</td>\n",
              "      <td>92.863636</td>\n",
              "      <td>100.795455</td>\n",
              "      <td>63.340909</td>\n",
              "      <td>75.477273</td>\n",
              "      <td>55.909091</td>\n",
              "    </tr>\n",
              "    <tr>\n",
              "      <th>Steel</th>\n",
              "      <td>65.222222</td>\n",
              "      <td>92.703704</td>\n",
              "      <td>126.370370</td>\n",
              "      <td>67.518519</td>\n",
              "      <td>80.629630</td>\n",
              "      <td>55.259259</td>\n",
              "    </tr>\n",
              "    <tr>\n",
              "      <th>Water</th>\n",
              "      <td>72.062500</td>\n",
              "      <td>74.151786</td>\n",
              "      <td>72.946429</td>\n",
              "      <td>74.812500</td>\n",
              "      <td>70.517857</td>\n",
              "      <td>65.964286</td>\n",
              "    </tr>\n",
              "  </tbody>\n",
              "</table>\n",
              "</div>"
            ],
            "text/plain": [
              "                 HP      Attack     Defense     Sp_Atk     Sp_Def       Speed\n",
              "Type_1                                                                       \n",
              "Bug       56.884058   70.971014   70.724638  53.869565  64.797101   61.681159\n",
              "Dark      66.806452   88.387097   70.225806  74.645161  69.516129   76.161290\n",
              "Dragon    83.312500  112.125000   86.375000  96.843750  88.843750   83.031250\n",
              "Electric  59.795455   69.090909   66.295455  90.022727  73.704545   84.500000\n",
              "Fairy     74.117647   61.529412   65.705882  78.529412  84.705882   48.588235\n",
              "Fighting  69.851852   96.777778   65.925926  53.111111  64.703704   66.074074\n",
              "Fire      69.903846   84.769231   67.769231  88.980769  72.211538   74.442308\n",
              "Flying    70.750000   78.750000   66.250000  94.250000  72.500000  102.500000\n",
              "Ghost     64.437500   73.781250   81.187500  79.343750  76.468750   64.343750\n",
              "Grass     67.271429   73.214286   70.800000  77.500000  70.428571   61.928571\n",
              "Ground    73.781250   95.750000   84.843750  56.468750  62.750000   63.906250\n",
              "Ice       72.000000   72.750000   71.416667  77.541667  76.291667   63.458333\n",
              "Normal    77.275510   73.469388   59.846939  55.816327  63.724490   71.551020\n",
              "Poison    67.250000   74.678571   68.821429  60.428571  64.392857   63.571429\n",
              "Psychic   70.631579   71.456140   67.684211  98.403509  86.280702   81.491228\n",
              "Rock      65.363636   92.863636  100.795455  63.340909  75.477273   55.909091\n",
              "Steel     65.222222   92.703704  126.370370  67.518519  80.629630   55.259259\n",
              "Water     72.062500   74.151786   72.946429  74.812500  70.517857   65.964286"
            ]
          },
          "metadata": {
            "tags": []
          },
          "execution_count": 61
        }
      ]
    },
    {
      "cell_type": "markdown",
      "metadata": {
        "id": "oiyLWKjGI7XP"
      },
      "source": [
        "Isso é realmente muito importante e extremamente utilizado com pandas pois conseguimos fazer análises dos grupos com apenas uma linha de código. Podemos perceber, por exemplo, que Pokémons do tipo *Flying* são especialistas em velocidade enquanto *Dragon* e *Fighting* são especialistas em ataque.\n",
        "\n",
        "#### Exercício 3.6\n",
        "Use o método *.groupby()* para descobrir qual país tem o melhor *overall* médio."
      ]
    },
    {
      "cell_type": "code",
      "metadata": {
        "id": "y45dj9wlI7XP",
        "colab": {
          "base_uri": "https://localhost:8080/"
        },
        "outputId": "b229c2cb-d072-423f-f6c0-285901f1de74"
      },
      "source": [
        "#cria o DataDrame country_avg_overall, que tem o overall médio de cada país (nationality), usando groupby\n",
        "country_avg_overall = fut_players.groupby('nationality').overall.mean()\n",
        "\n",
        "#usamos o método idxmax() para encontrar o maior overall médio\n",
        "print(\"Melhor overall médio: \\n\", country_avg_overall.loc[country_avg_overall.idxmax()])\n",
        "print(\"Overall médio do Brasil: \", country_avg_overall.loc[\"Brazil\"])"
      ],
      "execution_count": null,
      "outputs": [
        {
          "output_type": "stream",
          "text": [
            "Melhor overall médio: \n",
            " 79.0\n",
            "Overall médio do Brasil:  75.21915584415585\n"
          ],
          "name": "stdout"
        }
      ]
    },
    {
      "cell_type": "markdown",
      "metadata": {
        "id": "UvdzWKOBI7XQ"
      },
      "source": [
        "### 3.6 Aplicando funções no Pandas\n",
        "\n",
        "Com Pandas, nós temos um grande nível de controle de nossos dados, e somos capazes de transformá-los conforme queiramos. Nós podemos, até mesmo, executar funções em DataFrames e manipulá-lo como quisermos. Vamos revisitar o método head():"
      ]
    },
    {
      "cell_type": "code",
      "metadata": {
        "id": "Gy91k6dQI7XQ",
        "colab": {
          "base_uri": "https://localhost:8080/",
          "height": 452
        },
        "outputId": "d3b28758-db24-4f62-d8da-60b2415c8783"
      },
      "source": [
        "pkmn.head(13)"
      ],
      "execution_count": null,
      "outputs": [
        {
          "output_type": "execute_result",
          "data": {
            "text/html": [
              "<div>\n",
              "<style scoped>\n",
              "    .dataframe tbody tr th:only-of-type {\n",
              "        vertical-align: middle;\n",
              "    }\n",
              "\n",
              "    .dataframe tbody tr th {\n",
              "        vertical-align: top;\n",
              "    }\n",
              "\n",
              "    .dataframe thead th {\n",
              "        text-align: right;\n",
              "    }\n",
              "</style>\n",
              "<table border=\"1\" class=\"dataframe\">\n",
              "  <thead>\n",
              "    <tr style=\"text-align: right;\">\n",
              "      <th></th>\n",
              "      <th>#</th>\n",
              "      <th>Name</th>\n",
              "      <th>Type_1</th>\n",
              "      <th>Type_2</th>\n",
              "      <th>Total</th>\n",
              "      <th>HP</th>\n",
              "      <th>Attack</th>\n",
              "      <th>Defense</th>\n",
              "      <th>Sp_Atk</th>\n",
              "      <th>Sp_Def</th>\n",
              "      <th>Speed</th>\n",
              "      <th>Generation</th>\n",
              "      <th>Legendary</th>\n",
              "    </tr>\n",
              "  </thead>\n",
              "  <tbody>\n",
              "    <tr>\n",
              "      <th>0</th>\n",
              "      <td>1</td>\n",
              "      <td>Bulbasaur</td>\n",
              "      <td>Grass</td>\n",
              "      <td>Poison</td>\n",
              "      <td>318</td>\n",
              "      <td>45</td>\n",
              "      <td>49</td>\n",
              "      <td>49</td>\n",
              "      <td>65</td>\n",
              "      <td>65</td>\n",
              "      <td>45</td>\n",
              "      <td>1</td>\n",
              "      <td>False</td>\n",
              "    </tr>\n",
              "    <tr>\n",
              "      <th>1</th>\n",
              "      <td>2</td>\n",
              "      <td>Ivysaur</td>\n",
              "      <td>Grass</td>\n",
              "      <td>Poison</td>\n",
              "      <td>405</td>\n",
              "      <td>60</td>\n",
              "      <td>62</td>\n",
              "      <td>63</td>\n",
              "      <td>80</td>\n",
              "      <td>80</td>\n",
              "      <td>60</td>\n",
              "      <td>1</td>\n",
              "      <td>False</td>\n",
              "    </tr>\n",
              "    <tr>\n",
              "      <th>2</th>\n",
              "      <td>3</td>\n",
              "      <td>Venusaur</td>\n",
              "      <td>Grass</td>\n",
              "      <td>Poison</td>\n",
              "      <td>525</td>\n",
              "      <td>80</td>\n",
              "      <td>82</td>\n",
              "      <td>83</td>\n",
              "      <td>100</td>\n",
              "      <td>100</td>\n",
              "      <td>80</td>\n",
              "      <td>1</td>\n",
              "      <td>False</td>\n",
              "    </tr>\n",
              "    <tr>\n",
              "      <th>3</th>\n",
              "      <td>3</td>\n",
              "      <td>VenusaurMega Venusaur</td>\n",
              "      <td>Grass</td>\n",
              "      <td>Poison</td>\n",
              "      <td>625</td>\n",
              "      <td>80</td>\n",
              "      <td>100</td>\n",
              "      <td>123</td>\n",
              "      <td>122</td>\n",
              "      <td>120</td>\n",
              "      <td>80</td>\n",
              "      <td>1</td>\n",
              "      <td>False</td>\n",
              "    </tr>\n",
              "    <tr>\n",
              "      <th>4</th>\n",
              "      <td>4</td>\n",
              "      <td>Charmander</td>\n",
              "      <td>Fire</td>\n",
              "      <td>NaN</td>\n",
              "      <td>309</td>\n",
              "      <td>39</td>\n",
              "      <td>52</td>\n",
              "      <td>43</td>\n",
              "      <td>60</td>\n",
              "      <td>50</td>\n",
              "      <td>65</td>\n",
              "      <td>1</td>\n",
              "      <td>False</td>\n",
              "    </tr>\n",
              "    <tr>\n",
              "      <th>5</th>\n",
              "      <td>5</td>\n",
              "      <td>Charmeleon</td>\n",
              "      <td>Fire</td>\n",
              "      <td>NaN</td>\n",
              "      <td>405</td>\n",
              "      <td>58</td>\n",
              "      <td>64</td>\n",
              "      <td>58</td>\n",
              "      <td>80</td>\n",
              "      <td>65</td>\n",
              "      <td>80</td>\n",
              "      <td>1</td>\n",
              "      <td>False</td>\n",
              "    </tr>\n",
              "    <tr>\n",
              "      <th>6</th>\n",
              "      <td>6</td>\n",
              "      <td>Charizard</td>\n",
              "      <td>Fire</td>\n",
              "      <td>Flying</td>\n",
              "      <td>534</td>\n",
              "      <td>78</td>\n",
              "      <td>84</td>\n",
              "      <td>78</td>\n",
              "      <td>109</td>\n",
              "      <td>85</td>\n",
              "      <td>100</td>\n",
              "      <td>1</td>\n",
              "      <td>False</td>\n",
              "    </tr>\n",
              "    <tr>\n",
              "      <th>7</th>\n",
              "      <td>6</td>\n",
              "      <td>CharizardMega Charizard X</td>\n",
              "      <td>Fire</td>\n",
              "      <td>Dragon</td>\n",
              "      <td>634</td>\n",
              "      <td>78</td>\n",
              "      <td>130</td>\n",
              "      <td>111</td>\n",
              "      <td>130</td>\n",
              "      <td>85</td>\n",
              "      <td>100</td>\n",
              "      <td>1</td>\n",
              "      <td>False</td>\n",
              "    </tr>\n",
              "    <tr>\n",
              "      <th>8</th>\n",
              "      <td>6</td>\n",
              "      <td>CharizardMega Charizard Y</td>\n",
              "      <td>Fire</td>\n",
              "      <td>Flying</td>\n",
              "      <td>634</td>\n",
              "      <td>78</td>\n",
              "      <td>104</td>\n",
              "      <td>78</td>\n",
              "      <td>159</td>\n",
              "      <td>115</td>\n",
              "      <td>100</td>\n",
              "      <td>1</td>\n",
              "      <td>False</td>\n",
              "    </tr>\n",
              "    <tr>\n",
              "      <th>9</th>\n",
              "      <td>7</td>\n",
              "      <td>Squirtle</td>\n",
              "      <td>Water</td>\n",
              "      <td>NaN</td>\n",
              "      <td>314</td>\n",
              "      <td>44</td>\n",
              "      <td>48</td>\n",
              "      <td>65</td>\n",
              "      <td>50</td>\n",
              "      <td>64</td>\n",
              "      <td>43</td>\n",
              "      <td>1</td>\n",
              "      <td>False</td>\n",
              "    </tr>\n",
              "    <tr>\n",
              "      <th>10</th>\n",
              "      <td>8</td>\n",
              "      <td>Wartortle</td>\n",
              "      <td>Water</td>\n",
              "      <td>NaN</td>\n",
              "      <td>405</td>\n",
              "      <td>59</td>\n",
              "      <td>63</td>\n",
              "      <td>80</td>\n",
              "      <td>65</td>\n",
              "      <td>80</td>\n",
              "      <td>58</td>\n",
              "      <td>1</td>\n",
              "      <td>False</td>\n",
              "    </tr>\n",
              "    <tr>\n",
              "      <th>11</th>\n",
              "      <td>9</td>\n",
              "      <td>Blastoise</td>\n",
              "      <td>Water</td>\n",
              "      <td>NaN</td>\n",
              "      <td>530</td>\n",
              "      <td>79</td>\n",
              "      <td>83</td>\n",
              "      <td>100</td>\n",
              "      <td>85</td>\n",
              "      <td>105</td>\n",
              "      <td>78</td>\n",
              "      <td>1</td>\n",
              "      <td>False</td>\n",
              "    </tr>\n",
              "    <tr>\n",
              "      <th>12</th>\n",
              "      <td>9</td>\n",
              "      <td>BlastoiseMega Blastoise</td>\n",
              "      <td>Water</td>\n",
              "      <td>NaN</td>\n",
              "      <td>630</td>\n",
              "      <td>79</td>\n",
              "      <td>103</td>\n",
              "      <td>120</td>\n",
              "      <td>135</td>\n",
              "      <td>115</td>\n",
              "      <td>78</td>\n",
              "      <td>1</td>\n",
              "      <td>False</td>\n",
              "    </tr>\n",
              "  </tbody>\n",
              "</table>\n",
              "</div>"
            ],
            "text/plain": [
              "    #                       Name Type_1  ... Speed  Generation  Legendary\n",
              "0   1                  Bulbasaur  Grass  ...    45           1      False\n",
              "1   2                    Ivysaur  Grass  ...    60           1      False\n",
              "2   3                   Venusaur  Grass  ...    80           1      False\n",
              "3   3      VenusaurMega Venusaur  Grass  ...    80           1      False\n",
              "4   4                 Charmander   Fire  ...    65           1      False\n",
              "5   5                 Charmeleon   Fire  ...    80           1      False\n",
              "6   6                  Charizard   Fire  ...   100           1      False\n",
              "7   6  CharizardMega Charizard X   Fire  ...   100           1      False\n",
              "8   6  CharizardMega Charizard Y   Fire  ...   100           1      False\n",
              "9   7                   Squirtle  Water  ...    43           1      False\n",
              "10  8                  Wartortle  Water  ...    58           1      False\n",
              "11  9                  Blastoise  Water  ...    78           1      False\n",
              "12  9    BlastoiseMega Blastoise  Water  ...    78           1      False\n",
              "\n",
              "[13 rows x 13 columns]"
            ]
          },
          "metadata": {
            "tags": []
          },
          "execution_count": 64
        }
      ]
    },
    {
      "cell_type": "markdown",
      "metadata": {
        "id": "LBZGxgGTI7XR"
      },
      "source": [
        "Existem algumas mega evoluções misturadas no dataset. Não seria legal se nós tivéssemos alguma flag que nos diria se um pokémon é mega ou não? E, por um acaso, será que os pokémons mega são mais poderosos?\n",
        "\n",
        "Você deve ter percebido que evoluções mega têm um padrão em nosso DataFrame, algo como 'PokemonMega Pokemon'. Se nós tivermos esse padrão, podemos construir uma função que retorna True is este padrão for detectado:"
      ]
    },
    {
      "cell_type": "code",
      "metadata": {
        "id": "D79vgBfSI7XS"
      },
      "source": [
        "def is_it_mega(pokemon_name):\n",
        "    \"\"\"\n",
        "    Recebe um nome de pokemon e diz se é uma mega evolução ou não\n",
        "    I: string pokemon_name\n",
        "    O: boolean para Mega evos\n",
        "    \"\"\"\n",
        "    if 'Mega ' in pokemon_name: #é importante usar 'Mega ' e não 'mega', pois há um pokemon chamado called Yanmega e outro chamado Meganium que não são uma mega evolução\n",
        "        return True\n",
        "    else:\n",
        "        return False"
      ],
      "execution_count": null,
      "outputs": []
    },
    {
      "cell_type": "markdown",
      "metadata": {
        "id": "y3uv8w5mI7XT"
      },
      "source": [
        "Vamos ver se funciona:"
      ]
    },
    {
      "cell_type": "code",
      "metadata": {
        "id": "Q5oy-V3fI7XT",
        "colab": {
          "base_uri": "https://localhost:8080/"
        },
        "outputId": "c387ca3c-e829-4075-fc2d-bff66d90214b"
      },
      "source": [
        "is_it_mega('VenusaurMega Venusaur')"
      ],
      "execution_count": null,
      "outputs": [
        {
          "output_type": "execute_result",
          "data": {
            "text/plain": [
              "True"
            ]
          },
          "metadata": {
            "tags": []
          },
          "execution_count": 66
        }
      ]
    },
    {
      "cell_type": "code",
      "metadata": {
        "id": "b2vIYa_9I7XV",
        "colab": {
          "base_uri": "https://localhost:8080/"
        },
        "outputId": "025da9d4-4372-4f81-f3f3-cacf8c948c5e"
      },
      "source": [
        "is_it_mega('Squirtle')"
      ],
      "execution_count": null,
      "outputs": [
        {
          "output_type": "execute_result",
          "data": {
            "text/plain": [
              "False"
            ]
          },
          "metadata": {
            "tags": []
          },
          "execution_count": 67
        }
      ]
    },
    {
      "cell_type": "markdown",
      "metadata": {
        "id": "4NjQh6saI7XW"
      },
      "source": [
        "Excelente! Seria ótimo se conseguíssemos aplicar essa função em todo nosso DataFrame. Para fazer isso, usaremos o método .apply(). Também criaremos uma coluna que é uma flag se o pokémon é mega:"
      ]
    },
    {
      "cell_type": "code",
      "metadata": {
        "id": "SM50UKunI7XW"
      },
      "source": [
        "pkmn['Mega'] = pkmn.apply(\n",
        "    lambda row: is_it_mega(row['Name']), #chamando uma função lambda que acabamos de construir\n",
        "    axis=1 #qual direção queremos executar a função. 0 para horizontal, 1 para vertical\n",
        ")"
      ],
      "execution_count": null,
      "outputs": []
    },
    {
      "cell_type": "code",
      "metadata": {
        "id": "HoAA7rmyI7XX",
        "colab": {
          "base_uri": "https://localhost:8080/",
          "height": 204
        },
        "outputId": "9829153a-3aaa-42fb-917c-f5fa4f167091"
      },
      "source": [
        "pkmn.head()"
      ],
      "execution_count": null,
      "outputs": [
        {
          "output_type": "execute_result",
          "data": {
            "text/html": [
              "<div>\n",
              "<style scoped>\n",
              "    .dataframe tbody tr th:only-of-type {\n",
              "        vertical-align: middle;\n",
              "    }\n",
              "\n",
              "    .dataframe tbody tr th {\n",
              "        vertical-align: top;\n",
              "    }\n",
              "\n",
              "    .dataframe thead th {\n",
              "        text-align: right;\n",
              "    }\n",
              "</style>\n",
              "<table border=\"1\" class=\"dataframe\">\n",
              "  <thead>\n",
              "    <tr style=\"text-align: right;\">\n",
              "      <th></th>\n",
              "      <th>#</th>\n",
              "      <th>Name</th>\n",
              "      <th>Type_1</th>\n",
              "      <th>Type_2</th>\n",
              "      <th>Total</th>\n",
              "      <th>HP</th>\n",
              "      <th>Attack</th>\n",
              "      <th>Defense</th>\n",
              "      <th>Sp_Atk</th>\n",
              "      <th>Sp_Def</th>\n",
              "      <th>Speed</th>\n",
              "      <th>Generation</th>\n",
              "      <th>Legendary</th>\n",
              "      <th>Mega</th>\n",
              "    </tr>\n",
              "  </thead>\n",
              "  <tbody>\n",
              "    <tr>\n",
              "      <th>0</th>\n",
              "      <td>1</td>\n",
              "      <td>Bulbasaur</td>\n",
              "      <td>Grass</td>\n",
              "      <td>Poison</td>\n",
              "      <td>318</td>\n",
              "      <td>45</td>\n",
              "      <td>49</td>\n",
              "      <td>49</td>\n",
              "      <td>65</td>\n",
              "      <td>65</td>\n",
              "      <td>45</td>\n",
              "      <td>1</td>\n",
              "      <td>False</td>\n",
              "      <td>False</td>\n",
              "    </tr>\n",
              "    <tr>\n",
              "      <th>1</th>\n",
              "      <td>2</td>\n",
              "      <td>Ivysaur</td>\n",
              "      <td>Grass</td>\n",
              "      <td>Poison</td>\n",
              "      <td>405</td>\n",
              "      <td>60</td>\n",
              "      <td>62</td>\n",
              "      <td>63</td>\n",
              "      <td>80</td>\n",
              "      <td>80</td>\n",
              "      <td>60</td>\n",
              "      <td>1</td>\n",
              "      <td>False</td>\n",
              "      <td>False</td>\n",
              "    </tr>\n",
              "    <tr>\n",
              "      <th>2</th>\n",
              "      <td>3</td>\n",
              "      <td>Venusaur</td>\n",
              "      <td>Grass</td>\n",
              "      <td>Poison</td>\n",
              "      <td>525</td>\n",
              "      <td>80</td>\n",
              "      <td>82</td>\n",
              "      <td>83</td>\n",
              "      <td>100</td>\n",
              "      <td>100</td>\n",
              "      <td>80</td>\n",
              "      <td>1</td>\n",
              "      <td>False</td>\n",
              "      <td>False</td>\n",
              "    </tr>\n",
              "    <tr>\n",
              "      <th>3</th>\n",
              "      <td>3</td>\n",
              "      <td>VenusaurMega Venusaur</td>\n",
              "      <td>Grass</td>\n",
              "      <td>Poison</td>\n",
              "      <td>625</td>\n",
              "      <td>80</td>\n",
              "      <td>100</td>\n",
              "      <td>123</td>\n",
              "      <td>122</td>\n",
              "      <td>120</td>\n",
              "      <td>80</td>\n",
              "      <td>1</td>\n",
              "      <td>False</td>\n",
              "      <td>True</td>\n",
              "    </tr>\n",
              "    <tr>\n",
              "      <th>4</th>\n",
              "      <td>4</td>\n",
              "      <td>Charmander</td>\n",
              "      <td>Fire</td>\n",
              "      <td>NaN</td>\n",
              "      <td>309</td>\n",
              "      <td>39</td>\n",
              "      <td>52</td>\n",
              "      <td>43</td>\n",
              "      <td>60</td>\n",
              "      <td>50</td>\n",
              "      <td>65</td>\n",
              "      <td>1</td>\n",
              "      <td>False</td>\n",
              "      <td>False</td>\n",
              "    </tr>\n",
              "  </tbody>\n",
              "</table>\n",
              "</div>"
            ],
            "text/plain": [
              "   #                   Name Type_1  Type_2  ...  Speed  Generation  Legendary   Mega\n",
              "0  1              Bulbasaur  Grass  Poison  ...     45           1      False  False\n",
              "1  2                Ivysaur  Grass  Poison  ...     60           1      False  False\n",
              "2  3               Venusaur  Grass  Poison  ...     80           1      False  False\n",
              "3  3  VenusaurMega Venusaur  Grass  Poison  ...     80           1      False   True\n",
              "4  4             Charmander   Fire     NaN  ...     65           1      False  False\n",
              "\n",
              "[5 rows x 14 columns]"
            ]
          },
          "metadata": {
            "tags": []
          },
          "execution_count": 69
        }
      ]
    },
    {
      "cell_type": "markdown",
      "metadata": {
        "id": "tOjBnx2SI7XZ"
      },
      "source": [
        "Agora, vamos verificar quão poderosos são os pokémons mega:"
      ]
    },
    {
      "cell_type": "code",
      "metadata": {
        "id": "1038lMSmI7XZ",
        "colab": {
          "base_uri": "https://localhost:8080/"
        },
        "outputId": "b121e523-f34a-4460-d693-5844557be95c"
      },
      "source": [
        "pkmn.groupby('Mega').Total.mean()"
      ],
      "execution_count": null,
      "outputs": [
        {
          "output_type": "execute_result",
          "data": {
            "text/plain": [
              "Mega\n",
              "False    423.457447\n",
              "True     617.541667\n",
              "Name: Total, dtype: float64"
            ]
          },
          "metadata": {
            "tags": []
          },
          "execution_count": 70
        }
      ]
    },
    {
      "cell_type": "markdown",
      "metadata": {
        "id": "Lodu0N3TI7Xb"
      },
      "source": [
        "Uau! Eles têm quase 200 stat points a mais que pokémons normais! Evoluções mega são, sim, muito poderosos! Uma boa prática é sempre tentar manter nosso DataFrame organizado. A forma como os pokémons mega estão nomeados não é muito ótima, e nós já temos uma coluna com a flag para pokémons Mega, então, vamos atacar isso! A estrutura do nome de um pokémon mega é da seguinte forma: 'NomeMega Nome'. Portanto, se nós pegarmos o que vem após o caractere ' ', teremos o nome original do pokémon!"
      ]
    },
    {
      "cell_type": "code",
      "metadata": {
        "id": "nsYCr9I_I7Xb",
        "colab": {
          "base_uri": "https://localhost:8080/"
        },
        "outputId": "030037d6-5bfa-4a86-931f-0dc50ea181fc"
      },
      "source": [
        "pkmn.Name.nunique() #numero de elementos unicos na coluna"
      ],
      "execution_count": null,
      "outputs": [
        {
          "output_type": "execute_result",
          "data": {
            "text/plain": [
              "800"
            ]
          },
          "metadata": {
            "tags": []
          },
          "execution_count": 71
        }
      ]
    },
    {
      "cell_type": "code",
      "metadata": {
        "id": "e-ieFrfFI7Xd",
        "colab": {
          "base_uri": "https://localhost:8080/"
        },
        "outputId": "2920e454-7c2b-415b-ef75-bde16c4cf213"
      },
      "source": [
        "def get_original_name(s):\n",
        "    \"\"\"\n",
        "    Recebe um nome de pokemon e retorna seu nome original\n",
        "    I: s string\n",
        "    O: string\n",
        "    \"\"\"\n",
        "    return s.split(' ')[-1]\n",
        "\n",
        "pkmn['Name'] = pkmn.Name.apply(lambda s: get_original_name(s)) #sobreescrevendo a coluna Name\n",
        "pkmn.Name.nunique()"
      ],
      "execution_count": null,
      "outputs": [
        {
          "output_type": "execute_result",
          "data": {
            "text/plain": [
              "715"
            ]
          },
          "metadata": {
            "tags": []
          },
          "execution_count": 72
        }
      ]
    },
    {
      "cell_type": "code",
      "metadata": {
        "id": "cMxEl2VvI7Xe",
        "colab": {
          "base_uri": "https://localhost:8080/",
          "height": 204
        },
        "outputId": "44c862c2-2243-4074-ccbc-e8007100d331"
      },
      "source": [
        "pkmn.head()"
      ],
      "execution_count": null,
      "outputs": [
        {
          "output_type": "execute_result",
          "data": {
            "text/html": [
              "<div>\n",
              "<style scoped>\n",
              "    .dataframe tbody tr th:only-of-type {\n",
              "        vertical-align: middle;\n",
              "    }\n",
              "\n",
              "    .dataframe tbody tr th {\n",
              "        vertical-align: top;\n",
              "    }\n",
              "\n",
              "    .dataframe thead th {\n",
              "        text-align: right;\n",
              "    }\n",
              "</style>\n",
              "<table border=\"1\" class=\"dataframe\">\n",
              "  <thead>\n",
              "    <tr style=\"text-align: right;\">\n",
              "      <th></th>\n",
              "      <th>#</th>\n",
              "      <th>Name</th>\n",
              "      <th>Type_1</th>\n",
              "      <th>Type_2</th>\n",
              "      <th>Total</th>\n",
              "      <th>HP</th>\n",
              "      <th>Attack</th>\n",
              "      <th>Defense</th>\n",
              "      <th>Sp_Atk</th>\n",
              "      <th>Sp_Def</th>\n",
              "      <th>Speed</th>\n",
              "      <th>Generation</th>\n",
              "      <th>Legendary</th>\n",
              "      <th>Mega</th>\n",
              "    </tr>\n",
              "  </thead>\n",
              "  <tbody>\n",
              "    <tr>\n",
              "      <th>0</th>\n",
              "      <td>1</td>\n",
              "      <td>Bulbasaur</td>\n",
              "      <td>Grass</td>\n",
              "      <td>Poison</td>\n",
              "      <td>318</td>\n",
              "      <td>45</td>\n",
              "      <td>49</td>\n",
              "      <td>49</td>\n",
              "      <td>65</td>\n",
              "      <td>65</td>\n",
              "      <td>45</td>\n",
              "      <td>1</td>\n",
              "      <td>False</td>\n",
              "      <td>False</td>\n",
              "    </tr>\n",
              "    <tr>\n",
              "      <th>1</th>\n",
              "      <td>2</td>\n",
              "      <td>Ivysaur</td>\n",
              "      <td>Grass</td>\n",
              "      <td>Poison</td>\n",
              "      <td>405</td>\n",
              "      <td>60</td>\n",
              "      <td>62</td>\n",
              "      <td>63</td>\n",
              "      <td>80</td>\n",
              "      <td>80</td>\n",
              "      <td>60</td>\n",
              "      <td>1</td>\n",
              "      <td>False</td>\n",
              "      <td>False</td>\n",
              "    </tr>\n",
              "    <tr>\n",
              "      <th>2</th>\n",
              "      <td>3</td>\n",
              "      <td>Venusaur</td>\n",
              "      <td>Grass</td>\n",
              "      <td>Poison</td>\n",
              "      <td>525</td>\n",
              "      <td>80</td>\n",
              "      <td>82</td>\n",
              "      <td>83</td>\n",
              "      <td>100</td>\n",
              "      <td>100</td>\n",
              "      <td>80</td>\n",
              "      <td>1</td>\n",
              "      <td>False</td>\n",
              "      <td>False</td>\n",
              "    </tr>\n",
              "    <tr>\n",
              "      <th>3</th>\n",
              "      <td>3</td>\n",
              "      <td>Venusaur</td>\n",
              "      <td>Grass</td>\n",
              "      <td>Poison</td>\n",
              "      <td>625</td>\n",
              "      <td>80</td>\n",
              "      <td>100</td>\n",
              "      <td>123</td>\n",
              "      <td>122</td>\n",
              "      <td>120</td>\n",
              "      <td>80</td>\n",
              "      <td>1</td>\n",
              "      <td>False</td>\n",
              "      <td>True</td>\n",
              "    </tr>\n",
              "    <tr>\n",
              "      <th>4</th>\n",
              "      <td>4</td>\n",
              "      <td>Charmander</td>\n",
              "      <td>Fire</td>\n",
              "      <td>NaN</td>\n",
              "      <td>309</td>\n",
              "      <td>39</td>\n",
              "      <td>52</td>\n",
              "      <td>43</td>\n",
              "      <td>60</td>\n",
              "      <td>50</td>\n",
              "      <td>65</td>\n",
              "      <td>1</td>\n",
              "      <td>False</td>\n",
              "      <td>False</td>\n",
              "    </tr>\n",
              "  </tbody>\n",
              "</table>\n",
              "</div>"
            ],
            "text/plain": [
              "   #        Name Type_1  Type_2  ...  Speed  Generation  Legendary   Mega\n",
              "0  1   Bulbasaur  Grass  Poison  ...     45           1      False  False\n",
              "1  2     Ivysaur  Grass  Poison  ...     60           1      False  False\n",
              "2  3    Venusaur  Grass  Poison  ...     80           1      False  False\n",
              "3  3    Venusaur  Grass  Poison  ...     80           1      False   True\n",
              "4  4  Charmander   Fire     NaN  ...     65           1      False  False\n",
              "\n",
              "[5 rows x 14 columns]"
            ]
          },
          "metadata": {
            "tags": []
          },
          "execution_count": 73
        }
      ]
    },
    {
      "cell_type": "markdown",
      "metadata": {
        "id": "ThDV5uypI7Xf"
      },
      "source": [
        "Parece que conseguimos limpar o nome deles! Agora nós cobrimos toda a parte básica de Pandas! Mas vamos a um exercício final.\n",
        "\n",
        "#### Exercício 3.7\n",
        "Crie uma função que retorna a classificação para o jogador de acordo com as instruções abaixo, então aplique isso para o dataframe fut_players."
      ]
    },
    {
      "cell_type": "code",
      "metadata": {
        "id": "zhsm8yTlI7Xg",
        "colab": {
          "base_uri": "https://localhost:8080/",
          "height": 661
        },
        "outputId": "761034b4-e0ae-4b77-cb6c-7fe5685c8731"
      },
      "source": [
        "def get_classification(overall):\n",
        "    \"\"\"\n",
        "    Recebe um overall de algum jogador e retorna a classificação conforme a seguir:\n",
        "    Overall -> classification\n",
        "    -50     -> \"Amador\"\n",
        "    50-60   -> \"Ruim\"\n",
        "    60-70   -> \"Ok\"\n",
        "    70-80   -> \"Bom\"\n",
        "    80-90   -> \"Ótimo\"\n",
        "    90+     -> \"Lenda\"\n",
        "    \n",
        "    I: int overall\n",
        "    O: string\n",
        "    \"\"\"\n",
        "    if overall < 50:\n",
        "      return \"Amador\"\n",
        "    elif (overall >= 50)&(overall < 60):\n",
        "      return \"Ruim\"\n",
        "    elif (overall >= 60)&(overall < 70):\n",
        "      return \"Ok\"\n",
        "    elif (overall >= 70)&(overall < 80):\n",
        "      return \"Bom\"\n",
        "    elif (overall >= 80)&(overall < 90):\n",
        "      return \"Ótimo\"\n",
        "    else:\n",
        "      return \"Lenda\"\n",
        "    \n",
        "fut_players[\"classification\"] = fut_players.apply(\n",
        "    lambda row: get_classification(int(row['overall'])), \n",
        "    axis=1)\n",
        "fut_players.head()"
      ],
      "execution_count": null,
      "outputs": [
        {
          "output_type": "execute_result",
          "data": {
            "text/html": [
              "<div>\n",
              "<style scoped>\n",
              "    .dataframe tbody tr th:only-of-type {\n",
              "        vertical-align: middle;\n",
              "    }\n",
              "\n",
              "    .dataframe tbody tr th {\n",
              "        vertical-align: top;\n",
              "    }\n",
              "\n",
              "    .dataframe thead th {\n",
              "        text-align: right;\n",
              "    }\n",
              "</style>\n",
              "<table border=\"1\" class=\"dataframe\">\n",
              "  <thead>\n",
              "    <tr style=\"text-align: right;\">\n",
              "      <th></th>\n",
              "      <th>id</th>\n",
              "      <th>name</th>\n",
              "      <th>extended_name</th>\n",
              "      <th>quality</th>\n",
              "      <th>revision</th>\n",
              "      <th>origin</th>\n",
              "      <th>overall</th>\n",
              "      <th>club</th>\n",
              "      <th>league</th>\n",
              "      <th>nationality</th>\n",
              "      <th>position</th>\n",
              "      <th>age</th>\n",
              "      <th>date_of_birth</th>\n",
              "      <th>height</th>\n",
              "      <th>weight</th>\n",
              "      <th>intl_rep</th>\n",
              "      <th>added_date</th>\n",
              "      <th>pace</th>\n",
              "      <th>pace_acceleration</th>\n",
              "      <th>pace_sprint_speed</th>\n",
              "      <th>dribbling</th>\n",
              "      <th>drib_agility</th>\n",
              "      <th>drib_balance</th>\n",
              "      <th>drib_reactions</th>\n",
              "      <th>drib_ball_control</th>\n",
              "      <th>drib_dribbling</th>\n",
              "      <th>drib_composure</th>\n",
              "      <th>shooting</th>\n",
              "      <th>shoot_positioning</th>\n",
              "      <th>shoot_finishing</th>\n",
              "      <th>shoot_shot_power</th>\n",
              "      <th>shoot_long_shots</th>\n",
              "      <th>shoot_volleys</th>\n",
              "      <th>shoot_penalties</th>\n",
              "      <th>passing</th>\n",
              "      <th>pass_vision</th>\n",
              "      <th>pass_crossing</th>\n",
              "      <th>pass_free_kick</th>\n",
              "      <th>pass_short</th>\n",
              "      <th>pass_long</th>\n",
              "      <th>...</th>\n",
              "      <th>def_heading</th>\n",
              "      <th>def_marking</th>\n",
              "      <th>def_stand_tackle</th>\n",
              "      <th>def_slid_tackle</th>\n",
              "      <th>physicality</th>\n",
              "      <th>phys_jumping</th>\n",
              "      <th>phys_stamina</th>\n",
              "      <th>phys_strength</th>\n",
              "      <th>phys_aggression</th>\n",
              "      <th>gk_diving</th>\n",
              "      <th>gk_reflexes</th>\n",
              "      <th>gk_handling</th>\n",
              "      <th>gk_speed</th>\n",
              "      <th>gk_kicking</th>\n",
              "      <th>gk_positoning</th>\n",
              "      <th>pref_foot</th>\n",
              "      <th>att_workrate</th>\n",
              "      <th>def_workrate</th>\n",
              "      <th>weak_foot</th>\n",
              "      <th>skill_moves</th>\n",
              "      <th>cb</th>\n",
              "      <th>rb</th>\n",
              "      <th>lb</th>\n",
              "      <th>rwb</th>\n",
              "      <th>lwb</th>\n",
              "      <th>cdm</th>\n",
              "      <th>cm</th>\n",
              "      <th>rm</th>\n",
              "      <th>lm</th>\n",
              "      <th>cam</th>\n",
              "      <th>cf</th>\n",
              "      <th>rf</th>\n",
              "      <th>lf</th>\n",
              "      <th>rw</th>\n",
              "      <th>lw</th>\n",
              "      <th>st</th>\n",
              "      <th>traits</th>\n",
              "      <th>specialities</th>\n",
              "      <th>base_id</th>\n",
              "      <th>classification</th>\n",
              "    </tr>\n",
              "  </thead>\n",
              "  <tbody>\n",
              "    <tr>\n",
              "      <th>0</th>\n",
              "      <td>1</td>\n",
              "      <td>Pelé</td>\n",
              "      <td>Arantes Nascimento Edson</td>\n",
              "      <td>Gold - Rare</td>\n",
              "      <td>Icon</td>\n",
              "      <td>Prime</td>\n",
              "      <td>98</td>\n",
              "      <td>Icons</td>\n",
              "      <td>Icons</td>\n",
              "      <td>Brazil</td>\n",
              "      <td>CAM</td>\n",
              "      <td>78</td>\n",
              "      <td>23/10/1940</td>\n",
              "      <td>173</td>\n",
              "      <td>70</td>\n",
              "      <td>0</td>\n",
              "      <td>2018-09-19</td>\n",
              "      <td>95.0</td>\n",
              "      <td>95</td>\n",
              "      <td>95</td>\n",
              "      <td>96.0</td>\n",
              "      <td>94</td>\n",
              "      <td>93</td>\n",
              "      <td>98</td>\n",
              "      <td>97</td>\n",
              "      <td>96</td>\n",
              "      <td>98</td>\n",
              "      <td>96.0</td>\n",
              "      <td>97</td>\n",
              "      <td>98</td>\n",
              "      <td>94</td>\n",
              "      <td>94</td>\n",
              "      <td>95</td>\n",
              "      <td>93</td>\n",
              "      <td>93.0</td>\n",
              "      <td>97</td>\n",
              "      <td>90</td>\n",
              "      <td>89</td>\n",
              "      <td>96</td>\n",
              "      <td>88</td>\n",
              "      <td>...</td>\n",
              "      <td>94</td>\n",
              "      <td>55</td>\n",
              "      <td>53</td>\n",
              "      <td>49</td>\n",
              "      <td>76.0</td>\n",
              "      <td>88</td>\n",
              "      <td>86</td>\n",
              "      <td>76</td>\n",
              "      <td>59</td>\n",
              "      <td>NaN</td>\n",
              "      <td>NaN</td>\n",
              "      <td>NaN</td>\n",
              "      <td>NaN</td>\n",
              "      <td>NaN</td>\n",
              "      <td>NaN</td>\n",
              "      <td>Right</td>\n",
              "      <td>High</td>\n",
              "      <td>Med</td>\n",
              "      <td>4</td>\n",
              "      <td>5</td>\n",
              "      <td>70.0</td>\n",
              "      <td>77.0</td>\n",
              "      <td>77.0</td>\n",
              "      <td>79.0</td>\n",
              "      <td>79.0</td>\n",
              "      <td>77.0</td>\n",
              "      <td>91.0</td>\n",
              "      <td>95.0</td>\n",
              "      <td>95.0</td>\n",
              "      <td>96.0</td>\n",
              "      <td>96.0</td>\n",
              "      <td>96.0</td>\n",
              "      <td>96.0</td>\n",
              "      <td>96.0</td>\n",
              "      <td>96.0</td>\n",
              "      <td>95.0</td>\n",
              "      <td>Finesse Shot</td>\n",
              "      <td>Speedster, Aerial Threat, Dribbler, Play Maker...</td>\n",
              "      <td>237067</td>\n",
              "      <td>Lenda</td>\n",
              "    </tr>\n",
              "    <tr>\n",
              "      <th>1</th>\n",
              "      <td>2</td>\n",
              "      <td>Maradona</td>\n",
              "      <td>Diego Maradona</td>\n",
              "      <td>Gold - Rare</td>\n",
              "      <td>Icon</td>\n",
              "      <td>Prime</td>\n",
              "      <td>97</td>\n",
              "      <td>Icons</td>\n",
              "      <td>Icons</td>\n",
              "      <td>Argentina</td>\n",
              "      <td>CAM</td>\n",
              "      <td>58</td>\n",
              "      <td>30/10/1960</td>\n",
              "      <td>165</td>\n",
              "      <td>70</td>\n",
              "      <td>0</td>\n",
              "      <td>2018-09-19</td>\n",
              "      <td>92.0</td>\n",
              "      <td>94</td>\n",
              "      <td>90</td>\n",
              "      <td>97.0</td>\n",
              "      <td>91</td>\n",
              "      <td>98</td>\n",
              "      <td>94</td>\n",
              "      <td>97</td>\n",
              "      <td>98</td>\n",
              "      <td>95</td>\n",
              "      <td>93.0</td>\n",
              "      <td>92</td>\n",
              "      <td>97</td>\n",
              "      <td>85</td>\n",
              "      <td>94</td>\n",
              "      <td>88</td>\n",
              "      <td>94</td>\n",
              "      <td>92.0</td>\n",
              "      <td>95</td>\n",
              "      <td>88</td>\n",
              "      <td>96</td>\n",
              "      <td>93</td>\n",
              "      <td>89</td>\n",
              "      <td>...</td>\n",
              "      <td>67</td>\n",
              "      <td>27</td>\n",
              "      <td>42</td>\n",
              "      <td>37</td>\n",
              "      <td>76.0</td>\n",
              "      <td>82</td>\n",
              "      <td>78</td>\n",
              "      <td>75</td>\n",
              "      <td>76</td>\n",
              "      <td>NaN</td>\n",
              "      <td>NaN</td>\n",
              "      <td>NaN</td>\n",
              "      <td>NaN</td>\n",
              "      <td>NaN</td>\n",
              "      <td>NaN</td>\n",
              "      <td>Left</td>\n",
              "      <td>High</td>\n",
              "      <td>Med</td>\n",
              "      <td>3</td>\n",
              "      <td>5</td>\n",
              "      <td>57.0</td>\n",
              "      <td>66.0</td>\n",
              "      <td>66.0</td>\n",
              "      <td>71.0</td>\n",
              "      <td>71.0</td>\n",
              "      <td>69.0</td>\n",
              "      <td>88.0</td>\n",
              "      <td>93.0</td>\n",
              "      <td>93.0</td>\n",
              "      <td>95.0</td>\n",
              "      <td>94.0</td>\n",
              "      <td>94.0</td>\n",
              "      <td>94.0</td>\n",
              "      <td>94.0</td>\n",
              "      <td>94.0</td>\n",
              "      <td>90.0</td>\n",
              "      <td>Avoids Using Weaker Foot, Finesse Shot, Flair,...</td>\n",
              "      <td>Speedster, Dribbler, Play Maker, Distance Shoo...</td>\n",
              "      <td>190042</td>\n",
              "      <td>Lenda</td>\n",
              "    </tr>\n",
              "    <tr>\n",
              "      <th>2</th>\n",
              "      <td>3</td>\n",
              "      <td>Ronaldo</td>\n",
              "      <td>Nazário de Lima Ronaldo Luís</td>\n",
              "      <td>Gold - Rare</td>\n",
              "      <td>Icon</td>\n",
              "      <td>Prime</td>\n",
              "      <td>96</td>\n",
              "      <td>Icons</td>\n",
              "      <td>Icons</td>\n",
              "      <td>Brazil</td>\n",
              "      <td>ST</td>\n",
              "      <td>42</td>\n",
              "      <td>22/09/1976</td>\n",
              "      <td>183</td>\n",
              "      <td>78</td>\n",
              "      <td>0</td>\n",
              "      <td>2018-09-19</td>\n",
              "      <td>97.0</td>\n",
              "      <td>97</td>\n",
              "      <td>97</td>\n",
              "      <td>95.0</td>\n",
              "      <td>91</td>\n",
              "      <td>85</td>\n",
              "      <td>95</td>\n",
              "      <td>96</td>\n",
              "      <td>97</td>\n",
              "      <td>89</td>\n",
              "      <td>95.0</td>\n",
              "      <td>95</td>\n",
              "      <td>98</td>\n",
              "      <td>93</td>\n",
              "      <td>90</td>\n",
              "      <td>96</td>\n",
              "      <td>89</td>\n",
              "      <td>81.0</td>\n",
              "      <td>81</td>\n",
              "      <td>75</td>\n",
              "      <td>90</td>\n",
              "      <td>86</td>\n",
              "      <td>73</td>\n",
              "      <td>...</td>\n",
              "      <td>84</td>\n",
              "      <td>39</td>\n",
              "      <td>44</td>\n",
              "      <td>38</td>\n",
              "      <td>76.0</td>\n",
              "      <td>82</td>\n",
              "      <td>81</td>\n",
              "      <td>85</td>\n",
              "      <td>47</td>\n",
              "      <td>NaN</td>\n",
              "      <td>NaN</td>\n",
              "      <td>NaN</td>\n",
              "      <td>NaN</td>\n",
              "      <td>NaN</td>\n",
              "      <td>NaN</td>\n",
              "      <td>Right</td>\n",
              "      <td>Med</td>\n",
              "      <td>Med</td>\n",
              "      <td>5</td>\n",
              "      <td>5</td>\n",
              "      <td>60.0</td>\n",
              "      <td>67.0</td>\n",
              "      <td>67.0</td>\n",
              "      <td>70.0</td>\n",
              "      <td>70.0</td>\n",
              "      <td>66.0</td>\n",
              "      <td>83.0</td>\n",
              "      <td>90.0</td>\n",
              "      <td>90.0</td>\n",
              "      <td>91.0</td>\n",
              "      <td>94.0</td>\n",
              "      <td>94.0</td>\n",
              "      <td>94.0</td>\n",
              "      <td>92.0</td>\n",
              "      <td>92.0</td>\n",
              "      <td>94.0</td>\n",
              "      <td>Tries To Beat Defensive Line, Finesse Shot</td>\n",
              "      <td>Speedster, Dribbler, Distance Shooter, FK Spec...</td>\n",
              "      <td>37576</td>\n",
              "      <td>Lenda</td>\n",
              "    </tr>\n",
              "    <tr>\n",
              "      <th>3</th>\n",
              "      <td>4</td>\n",
              "      <td>Pelé</td>\n",
              "      <td>Arantes Nascimento Edson</td>\n",
              "      <td>Gold - Rare</td>\n",
              "      <td>Icon</td>\n",
              "      <td>Medium</td>\n",
              "      <td>95</td>\n",
              "      <td>Icons</td>\n",
              "      <td>Icons</td>\n",
              "      <td>Brazil</td>\n",
              "      <td>CF</td>\n",
              "      <td>78</td>\n",
              "      <td>23/10/1940</td>\n",
              "      <td>173</td>\n",
              "      <td>69</td>\n",
              "      <td>0</td>\n",
              "      <td>2018-09-19</td>\n",
              "      <td>96.0</td>\n",
              "      <td>95</td>\n",
              "      <td>96</td>\n",
              "      <td>95.0</td>\n",
              "      <td>96</td>\n",
              "      <td>95</td>\n",
              "      <td>95</td>\n",
              "      <td>95</td>\n",
              "      <td>94</td>\n",
              "      <td>95</td>\n",
              "      <td>93.0</td>\n",
              "      <td>94</td>\n",
              "      <td>95</td>\n",
              "      <td>90</td>\n",
              "      <td>91</td>\n",
              "      <td>93</td>\n",
              "      <td>91</td>\n",
              "      <td>90.0</td>\n",
              "      <td>93</td>\n",
              "      <td>88</td>\n",
              "      <td>88</td>\n",
              "      <td>91</td>\n",
              "      <td>87</td>\n",
              "      <td>...</td>\n",
              "      <td>89</td>\n",
              "      <td>51</td>\n",
              "      <td>49</td>\n",
              "      <td>45</td>\n",
              "      <td>75.0</td>\n",
              "      <td>89</td>\n",
              "      <td>87</td>\n",
              "      <td>74</td>\n",
              "      <td>57</td>\n",
              "      <td>NaN</td>\n",
              "      <td>NaN</td>\n",
              "      <td>NaN</td>\n",
              "      <td>NaN</td>\n",
              "      <td>NaN</td>\n",
              "      <td>NaN</td>\n",
              "      <td>Right</td>\n",
              "      <td>High</td>\n",
              "      <td>Med</td>\n",
              "      <td>4</td>\n",
              "      <td>5</td>\n",
              "      <td>66.0</td>\n",
              "      <td>74.0</td>\n",
              "      <td>74.0</td>\n",
              "      <td>77.0</td>\n",
              "      <td>77.0</td>\n",
              "      <td>74.0</td>\n",
              "      <td>88.0</td>\n",
              "      <td>93.0</td>\n",
              "      <td>93.0</td>\n",
              "      <td>93.0</td>\n",
              "      <td>94.0</td>\n",
              "      <td>94.0</td>\n",
              "      <td>94.0</td>\n",
              "      <td>94.0</td>\n",
              "      <td>94.0</td>\n",
              "      <td>92.0</td>\n",
              "      <td>Finesse Shot</td>\n",
              "      <td>Speedster, Dribbler, Distance Shooter, Crosser...</td>\n",
              "      <td>237068</td>\n",
              "      <td>Lenda</td>\n",
              "    </tr>\n",
              "    <tr>\n",
              "      <th>4</th>\n",
              "      <td>5</td>\n",
              "      <td>Maradona</td>\n",
              "      <td>Diego Maradona</td>\n",
              "      <td>Gold - Rare</td>\n",
              "      <td>Icon</td>\n",
              "      <td>Medium</td>\n",
              "      <td>95</td>\n",
              "      <td>Icons</td>\n",
              "      <td>Icons</td>\n",
              "      <td>Argentina</td>\n",
              "      <td>CAM</td>\n",
              "      <td>58</td>\n",
              "      <td>30/10/1960</td>\n",
              "      <td>165</td>\n",
              "      <td>72</td>\n",
              "      <td>0</td>\n",
              "      <td>2018-09-19</td>\n",
              "      <td>88.0</td>\n",
              "      <td>91</td>\n",
              "      <td>85</td>\n",
              "      <td>95.0</td>\n",
              "      <td>89</td>\n",
              "      <td>98</td>\n",
              "      <td>93</td>\n",
              "      <td>95</td>\n",
              "      <td>96</td>\n",
              "      <td>95</td>\n",
              "      <td>91.0</td>\n",
              "      <td>92</td>\n",
              "      <td>94</td>\n",
              "      <td>83</td>\n",
              "      <td>91</td>\n",
              "      <td>86</td>\n",
              "      <td>92</td>\n",
              "      <td>90.0</td>\n",
              "      <td>95</td>\n",
              "      <td>87</td>\n",
              "      <td>93</td>\n",
              "      <td>90</td>\n",
              "      <td>87</td>\n",
              "      <td>...</td>\n",
              "      <td>67</td>\n",
              "      <td>30</td>\n",
              "      <td>44</td>\n",
              "      <td>39</td>\n",
              "      <td>75.0</td>\n",
              "      <td>80</td>\n",
              "      <td>75</td>\n",
              "      <td>74</td>\n",
              "      <td>76</td>\n",
              "      <td>NaN</td>\n",
              "      <td>NaN</td>\n",
              "      <td>NaN</td>\n",
              "      <td>NaN</td>\n",
              "      <td>NaN</td>\n",
              "      <td>NaN</td>\n",
              "      <td>Left</td>\n",
              "      <td>High</td>\n",
              "      <td>Med</td>\n",
              "      <td>3</td>\n",
              "      <td>5</td>\n",
              "      <td>58.0</td>\n",
              "      <td>66.0</td>\n",
              "      <td>66.0</td>\n",
              "      <td>70.0</td>\n",
              "      <td>70.0</td>\n",
              "      <td>69.0</td>\n",
              "      <td>86.0</td>\n",
              "      <td>91.0</td>\n",
              "      <td>91.0</td>\n",
              "      <td>93.0</td>\n",
              "      <td>92.0</td>\n",
              "      <td>92.0</td>\n",
              "      <td>92.0</td>\n",
              "      <td>92.0</td>\n",
              "      <td>92.0</td>\n",
              "      <td>88.0</td>\n",
              "      <td>Avoids Using Weaker Foot, Finesse Shot, Flair,...</td>\n",
              "      <td>Dribbler, Play Maker, Distance Shooter, Crosse...</td>\n",
              "      <td>237074</td>\n",
              "      <td>Lenda</td>\n",
              "    </tr>\n",
              "  </tbody>\n",
              "</table>\n",
              "<p>5 rows × 83 columns</p>\n",
              "</div>"
            ],
            "text/plain": [
              "   id      name  ... base_id classification\n",
              "0   1      Pelé  ...  237067          Lenda\n",
              "1   2  Maradona  ...  190042          Lenda\n",
              "2   3   Ronaldo  ...   37576          Lenda\n",
              "3   4      Pelé  ...  237068          Lenda\n",
              "4   5  Maradona  ...  237074          Lenda\n",
              "\n",
              "[5 rows x 83 columns]"
            ]
          },
          "metadata": {
            "tags": []
          },
          "execution_count": 79
        }
      ]
    },
    {
      "cell_type": "markdown",
      "metadata": {
        "id": "2vGlLn0hI7Xh"
      },
      "source": [
        "<a name=\"encerramento\"></a>\n",
        "# 4. Encerramento\n",
        "\n",
        "Obrigado por participar da trilha, você acaba de finalizar a primeira aula. Neste momento você já deve ser capaz de manipular seus dados no Python, utilizando as bibliotecas que acabamos de aprender! \n",
        "\n",
        "Lembre-se que sempre que surgir alguma dúvida, você pode olhar a documentação do [Numpy](https://numpy.org/doc/) e do [Pandas](https://pandas.pydata.org/docs/)."
      ]
    }
  ]
}